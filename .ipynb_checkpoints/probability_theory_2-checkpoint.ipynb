{
 "cells": [
  {
   "cell_type": "code",
   "execution_count": 5,
   "id": "ef02549d",
   "metadata": {},
   "outputs": [],
   "source": [
    "import pandas as pd\n",
    "from scipy import special"
   ]
  },
  {
   "cell_type": "code",
   "execution_count": 7,
   "id": "e3ea2925",
   "metadata": {},
   "outputs": [],
   "source": [
    "a = special.comb(3, 1)"
   ]
  },
  {
   "cell_type": "code",
   "execution_count": 8,
   "id": "e793d751",
   "metadata": {},
   "outputs": [
    {
     "data": {
      "text/plain": [
       "3.0"
      ]
     },
     "execution_count": 8,
     "metadata": {},
     "output_type": "execute_result"
    }
   ],
   "source": [
    "a"
   ]
  },
  {
   "cell_type": "code",
   "execution_count": 4,
   "id": "72e9afcd",
   "metadata": {},
   "outputs": [
    {
     "data": {
      "text/plain": [
       "0.0356"
      ]
     },
     "execution_count": 4,
     "metadata": {},
     "output_type": "execute_result"
    }
   ],
   "source": [
    "# Задание 1\n",
    "\n",
    "# Из 500 компьютеров  180 принадлежат к 1 партии, 170 – ко второй партии, остальные к третьей. \n",
    "# В первой партии 3% брака, во второй — 2%, в третьей – 6%. Случайно выбирается один компьютер. \n",
    "# Определить вероятность того, что выбранный компьютер – бракованный.  Округлите полученный ответ до десятитысячных. \n",
    "# В качестве разделителя используйте точку.\n",
    "\n",
    "round(180/500*0.03+170/500*0.02+150/500*0.06, 4)"
   ]
  },
  {
   "cell_type": "code",
   "execution_count": 7,
   "id": "1d81cae2",
   "metadata": {},
   "outputs": [
    {
     "data": {
      "text/plain": [
       "0.86"
      ]
     },
     "execution_count": 7,
     "metadata": {},
     "output_type": "execute_result"
    }
   ],
   "source": [
    "# Задание 2\n",
    "\n",
    "# Есть компания с программистами. В ней на языке Java пишут в 3 раза больше человек, чем на языке C++. \n",
    "# Программистов на языке C++ в 4 раза больше, чем на Python. Вероятность сделать работу за один день  \n",
    "# для Java-программиста — 0,85, для программиста на языке C++ 0,9, а для Python программиста 0,8. Найти вероятность того\n",
    "# , что программист,выбранный наугад, сделает работу за один день. Ответ округлите до сотых. В качестве десятичного\n",
    "# разделителя используйте точку.\n",
    "\n",
    "# Java - 12x, C++ 4x, Pyhon x, m = 17x. Сокращаем х и дальше решаем\n",
    "\n",
    "round(12/17*0.85+4/17*0.9+1/17*0.8, 2)"
   ]
  },
  {
   "cell_type": "code",
   "execution_count": 9,
   "id": "d76a907b",
   "metadata": {},
   "outputs": [],
   "source": [
    "# Задание 3\n",
    "\n",
    "# Из 40 снайперов 18 попадает в цель с вероятностью 0,9, 8 — с вероятностью 0,4 и 14 – с вероятностью 0,7. \n",
    "# Случайно выбранный снайпер произвел выстрел, поразив цель. Мы хотим вычислить, снайпер из какой группы наиболее \n",
    "# вероятно совершил этот выстрел. \n",
    "\n",
    "# В ответ запишите наибольшую вероятность, округленную до тысячных. В качестве разделителя используйте точку."
   ]
  },
  {
   "cell_type": "code",
   "execution_count": 1,
   "id": "76efa6eb",
   "metadata": {},
   "outputs": [
    {
     "data": {
      "text/plain": [
       "0.73"
      ]
     },
     "execution_count": 1,
     "metadata": {},
     "output_type": "execute_result"
    }
   ],
   "source": [
    "# Считаем вероятность того, что кто-то из снайперов попал в цель.\n",
    "\n",
    "p_a = 18/40*0.9+8/40*0.4+14/40*0.7\n",
    "p_a"
   ]
  },
  {
   "cell_type": "code",
   "execution_count": 8,
   "id": "d6c52c7c",
   "metadata": {},
   "outputs": [
    {
     "data": {
      "text/plain": [
       "0.555"
      ]
     },
     "execution_count": 8,
     "metadata": {},
     "output_type": "execute_result"
    }
   ],
   "source": [
    "# Считаем вероятность, что снайпер попал в цель и это снайпер из первой группы.\n",
    "p_h1_a = (18/40*0.9) / p_a\n",
    "round(p_h1_a, 3)"
   ]
  },
  {
   "cell_type": "code",
   "execution_count": 9,
   "id": "0ecb2e01",
   "metadata": {},
   "outputs": [
    {
     "data": {
      "text/plain": [
       "0.11"
      ]
     },
     "execution_count": 9,
     "metadata": {},
     "output_type": "execute_result"
    }
   ],
   "source": [
    "# Считаем вероятность, что снайпер попал в цель и это снайпер из второй группы.\n",
    "p_h2_a = (8/40*0.4) / p_a\n",
    "round(p_h2_a, 3)"
   ]
  },
  {
   "cell_type": "code",
   "execution_count": 10,
   "id": "c54d8967",
   "metadata": {},
   "outputs": [
    {
     "data": {
      "text/plain": [
       "0.336"
      ]
     },
     "execution_count": 10,
     "metadata": {},
     "output_type": "execute_result"
    }
   ],
   "source": [
    "# Считаем вероятность, что снайпер попал в цель и это снайпер из третьей группы.\n",
    "p_h3_a = (14/40*0.7) / p_a\n",
    "round(p_h3_a, 3)"
   ]
  },
  {
   "cell_type": "code",
   "execution_count": 1,
   "id": "940f8cb5",
   "metadata": {},
   "outputs": [
    {
     "data": {
      "text/plain": [
       "0.4166666666666667"
      ]
     },
     "execution_count": 1,
     "metadata": {},
     "output_type": "execute_result"
    }
   ],
   "source": [
    "# Задание 4\n",
    "\n",
    "# Есть 4 кубика. На трех из них окрашена белым половина граней, а на четвертом кубике всего одна грань из шести белая. \n",
    "\n",
    "# Наудачу выбранный кубик подбрасывается семь раз. Найти вероятность того, что был выбран четвертый кубик, если при семи \n",
    "# подбрасываниях белая грань выпала ровно один раз.  Ответ округлите до тысячных. Используйте точку в качестве десятичного \n",
    "# разделителя."
   ]
  },
  {
   "cell_type": "code",
   "execution_count": 7,
   "id": "ed84df4b",
   "metadata": {},
   "outputs": [
    {
     "data": {
      "text/plain": [
       "7.0"
      ]
     },
     "execution_count": 7,
     "metadata": {},
     "output_type": "execute_result"
    }
   ],
   "source": [
    "# Биноминальный коэффициент\n",
    "c = special.comb(7, 1)\n",
    "c"
   ]
  },
  {
   "cell_type": "code",
   "execution_count": 10,
   "id": "236a7ce5",
   "metadata": {},
   "outputs": [
    {
     "data": {
      "text/plain": [
       "0.0546875"
      ]
     },
     "execution_count": 10,
     "metadata": {},
     "output_type": "execute_result"
    }
   ],
   "source": [
    "# Вероятность, что при 7 бросках, 1 выпадет белый на первых 3х кубах\n",
    "p_w_1 = c * (3/6)**1 * (3/6)**6\n",
    "p_w_1"
   ]
  },
  {
   "cell_type": "code",
   "execution_count": 11,
   "id": "54335593",
   "metadata": {},
   "outputs": [
    {
     "data": {
      "text/plain": [
       "0.39071430612711483"
      ]
     },
     "execution_count": 11,
     "metadata": {},
     "output_type": "execute_result"
    }
   ],
   "source": [
    "# Вероятность, что при 7 бросках, 1 выпадет белый на четвертом кубе\n",
    "p_w_2 = c * (1/6)**1 * (5/6)**6\n",
    "p_w_2"
   ]
  },
  {
   "cell_type": "code",
   "execution_count": 13,
   "id": "52c754f1",
   "metadata": {},
   "outputs": [
    {
     "data": {
      "text/plain": [
       "0.704"
      ]
     },
     "execution_count": 13,
     "metadata": {},
     "output_type": "execute_result"
    }
   ],
   "source": [
    "# Найти вероятность того, что был выбран четвертый кубик\n",
    "p_a = (1/4)*p_w_1 + (1/4)*p_w_1 + (1/4)*p_w_1 + 1/4*(p_w_2)\n",
    "p_h_4 = (1/4*(p_w_2)) / p_a\n",
    "round(p_h_4, 3)"
   ]
  },
  {
   "cell_type": "code",
   "execution_count": 14,
   "id": "d261e927",
   "metadata": {},
   "outputs": [
    {
     "data": {
      "text/plain": [
       "0.78"
      ]
     },
     "execution_count": 14,
     "metadata": {},
     "output_type": "execute_result"
    }
   ],
   "source": [
    "# Задание 5\n",
    "\n",
    "# На гитхабе лежит 12 скриптов, написанных аналитиком №1, 20 скриптов — написанных аналитиком №2 и 18 скриптов — \n",
    "# написанных аналитиком №3. Вероятность того, что скрипт, написанный аналитиком №1, работает  без ошибок, равна 0,9; \n",
    "# для скриптов, написанных аналитиками  №2 и №3, эти вероятности соответственно равны 0,6 и 0,9.\n",
    "\n",
    "# Нужно найти вероятность того, что случайно взятый скрипт будет работать без ошибок. В ответ запишите число, \n",
    "# округленное до сотых. В качестве десятичного разделителя используйте точку.\n",
    "\n",
    "p_a = 12/50*0.9 + 20/50*0.6 + 18/50*0.9\n",
    "p_a"
   ]
  },
  {
   "cell_type": "code",
   "execution_count": 4,
   "id": "f28582e5",
   "metadata": {},
   "outputs": [],
   "source": [
    "# Задание 6\n",
    "\n",
    "# Известно, что около 60% всех людей в городе болеют заболеванием А. Для определения того, заболел человек или нет, \n",
    "# проводится тест, точность которого составляет 99%. Вы получили положительный тест, какова вероятность того, что \n",
    "# вы реально больны?\n",
    "\n",
    "# Округлите ответ до тысячных, в качестве десятичного раделителя используйте точку."
   ]
  },
  {
   "cell_type": "code",
   "execution_count": 10,
   "id": "437a3d9a",
   "metadata": {},
   "outputs": [
    {
     "data": {
      "text/plain": [
       "0.993"
      ]
     },
     "execution_count": 10,
     "metadata": {},
     "output_type": "execute_result"
    }
   ],
   "source": [
    "# Узнаем вероятности болеет и верный результат / не болеет и погрешность\n",
    "p_a = 60/100 * 0.99 + 40/100 * 0.01\n",
    "p_a_h1 = 60/100 * 0.99\n",
    "round(p_a_h1 / p_a, 3)"
   ]
  },
  {
   "cell_type": "code",
   "execution_count": null,
   "id": "1c9747c4",
   "metadata": {},
   "outputs": [],
   "source": []
  }
 ],
 "metadata": {
  "kernelspec": {
   "display_name": "Python 3 (ipykernel)",
   "language": "python",
   "name": "python3"
  },
  "language_info": {
   "codemirror_mode": {
    "name": "ipython",
    "version": 3
   },
   "file_extension": ".py",
   "mimetype": "text/x-python",
   "name": "python",
   "nbconvert_exporter": "python",
   "pygments_lexer": "ipython3",
   "version": "3.9.7"
  }
 },
 "nbformat": 4,
 "nbformat_minor": 5
}
