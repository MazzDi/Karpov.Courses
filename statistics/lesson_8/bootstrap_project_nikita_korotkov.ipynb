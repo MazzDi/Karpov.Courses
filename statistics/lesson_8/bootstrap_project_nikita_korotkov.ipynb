{
 "cells": [
  {
   "cell_type": "code",
   "execution_count": 32,
   "metadata": {},
   "outputs": [],
   "source": [
    "import pandas as pd\n",
    "import numpy as np\n",
    "\n",
    "import matplotlib.pyplot as plt\n",
    "import seaborn as sns\n",
    "from scipy.stats import norm, mannwhitneyu, levene, shapiro\n",
    "\n",
    "from tqdm.auto import tqdm\n",
    "import statsmodels.api as sm\n",
    "\n",
    "plt.style.use('ggplot')\n",
    "%matplotlib inline"
   ]
  },
  {
   "cell_type": "code",
   "execution_count": 2,
   "metadata": {},
   "outputs": [],
   "source": [
    "# Объявим функцию, которая позволит проверять гипотезы с помощью бутстрапа\n",
    "def get_bootstrap(\n",
    "    data_column_1, # числовые значения первой выборки\n",
    "    data_column_2, # числовые значения второй выборки\n",
    "    boot_it = 1000, # количество бутстрэп-подвыборок\n",
    "    statistic = np.mean, # интересующая нас статистика\n",
    "    bootstrap_conf_level = 0.95 # уровень значимости\n",
    "):\n",
    "    boot_len = max([len(data_column_1), len(data_column_2)])\n",
    "    boot_data = []\n",
    "    for i in tqdm(range(boot_it)): # извлекаем подвыборки\n",
    "        samples_1 = data_column_1.sample(\n",
    "            boot_len, \n",
    "            replace = True # параметр возвращения\n",
    "        ).values\n",
    "        \n",
    "        samples_2 = data_column_2.sample(\n",
    "            boot_len, \n",
    "            replace = True\n",
    "        ).values\n",
    "        \n",
    "        boot_data.append(statistic(samples_1-samples_2)) # mean() - применяем статистику\n",
    "        \n",
    "    pd_boot_data = pd.DataFrame(boot_data)\n",
    "        \n",
    "    left_quant = (1 - bootstrap_conf_level)/2\n",
    "    right_quant = 1 - (1 - bootstrap_conf_level) / 2\n",
    "    ci = pd_boot_data.quantile([left_quant, right_quant])\n",
    "        \n",
    "    p_1 = norm.cdf(\n",
    "        x = 0, \n",
    "        loc = np.mean(boot_data), \n",
    "        scale = np.std(boot_data)\n",
    "    )\n",
    "    p_2 = norm.cdf(\n",
    "        x = 0, \n",
    "        loc = -np.mean(boot_data), \n",
    "        scale = np.std(boot_data)\n",
    "    )\n",
    "    p_value = min(p_1, p_2) * 2\n",
    "        \n",
    "    # Визуализация\n",
    "    plt.hist(pd_boot_data[0], bins = 50)\n",
    "    \n",
    "    plt.style.use('ggplot')\n",
    "    plt.vlines(ci,ymin=0,ymax=50,linestyle='--')\n",
    "    plt.xlabel('boot_data')\n",
    "    plt.ylabel('frequency')\n",
    "    plt.title(\"Histogram of boot_data\")\n",
    "    plt.show()\n",
    "       \n",
    "    return {\"boot_data\": boot_data, \n",
    "            \"ci\": ci, \n",
    "            \"p_value\": p_value}"
   ]
  },
  {
   "cell_type": "markdown",
   "metadata": {},
   "source": [
    "# Задача:"
   ]
  },
  {
   "cell_type": "markdown",
   "metadata": {},
   "source": [
    "#### 1. Сравните результат между тестом и контролем по двум кейсам:\n",
    "    Примените бутстрап (с np.mean) и критерий mann-whitney, а потом сравните p-value.\n",
    "    Примените бутстрап (с np.median) и критерий mann-whitney, а потом сравните p-value.\n",
    "#### 2. Напишите выводы, которые можно сделать на основе анализа примененных критериев"
   ]
  },
  {
   "cell_type": "code",
   "execution_count": 3,
   "metadata": {},
   "outputs": [],
   "source": [
    "df = pd.read_csv('https://stepik.org/media/attachments/lesson/396008/hw_bootstrap.csv', sep=';')"
   ]
  },
  {
   "cell_type": "markdown",
   "metadata": {},
   "source": [
    "#### Описание колонок:\n",
    "    1. value – значения метрики\n",
    "    2. experimentVariant – Вариант теста (Control – контроль, Treatment – тест)"
   ]
  },
  {
   "cell_type": "code",
   "execution_count": 4,
   "metadata": {},
   "outputs": [
    {
     "data": {
      "text/html": [
       "<div>\n",
       "<style scoped>\n",
       "    .dataframe tbody tr th:only-of-type {\n",
       "        vertical-align: middle;\n",
       "    }\n",
       "\n",
       "    .dataframe tbody tr th {\n",
       "        vertical-align: top;\n",
       "    }\n",
       "\n",
       "    .dataframe thead th {\n",
       "        text-align: right;\n",
       "    }\n",
       "</style>\n",
       "<table border=\"1\" class=\"dataframe\">\n",
       "  <thead>\n",
       "    <tr style=\"text-align: right;\">\n",
       "      <th></th>\n",
       "      <th>Unnamed: 0</th>\n",
       "      <th>value</th>\n",
       "      <th>experimentVariant</th>\n",
       "    </tr>\n",
       "  </thead>\n",
       "  <tbody>\n",
       "    <tr>\n",
       "      <th>0</th>\n",
       "      <td>1</td>\n",
       "      <td>10,3804953740268</td>\n",
       "      <td>Control</td>\n",
       "    </tr>\n",
       "    <tr>\n",
       "      <th>1</th>\n",
       "      <td>2</td>\n",
       "      <td>9,54686666784264</td>\n",
       "      <td>Control</td>\n",
       "    </tr>\n",
       "    <tr>\n",
       "      <th>2</th>\n",
       "      <td>3</td>\n",
       "      <td>11,0882146509904</td>\n",
       "      <td>Control</td>\n",
       "    </tr>\n",
       "    <tr>\n",
       "      <th>3</th>\n",
       "      <td>4</td>\n",
       "      <td>10,1472740570122</td>\n",
       "      <td>Control</td>\n",
       "    </tr>\n",
       "    <tr>\n",
       "      <th>4</th>\n",
       "      <td>5</td>\n",
       "      <td>9,78980767524929</td>\n",
       "      <td>Control</td>\n",
       "    </tr>\n",
       "  </tbody>\n",
       "</table>\n",
       "</div>"
      ],
      "text/plain": [
       "   Unnamed: 0             value experimentVariant\n",
       "0           1  10,3804953740268           Control\n",
       "1           2  9,54686666784264           Control\n",
       "2           3  11,0882146509904           Control\n",
       "3           4  10,1472740570122           Control\n",
       "4           5  9,78980767524929           Control"
      ]
     },
     "execution_count": 4,
     "metadata": {},
     "output_type": "execute_result"
    }
   ],
   "source": [
    "df.head()"
   ]
  },
  {
   "cell_type": "code",
   "execution_count": 5,
   "metadata": {},
   "outputs": [
    {
     "data": {
      "text/html": [
       "<div>\n",
       "<style scoped>\n",
       "    .dataframe tbody tr th:only-of-type {\n",
       "        vertical-align: middle;\n",
       "    }\n",
       "\n",
       "    .dataframe tbody tr th {\n",
       "        vertical-align: top;\n",
       "    }\n",
       "\n",
       "    .dataframe thead th {\n",
       "        text-align: right;\n",
       "    }\n",
       "</style>\n",
       "<table border=\"1\" class=\"dataframe\">\n",
       "  <thead>\n",
       "    <tr style=\"text-align: right;\">\n",
       "      <th></th>\n",
       "      <th>Unnamed: 0</th>\n",
       "      <th>value</th>\n",
       "      <th>experimentVariant</th>\n",
       "    </tr>\n",
       "  </thead>\n",
       "  <tbody>\n",
       "    <tr>\n",
       "      <th>995</th>\n",
       "      <td>996</td>\n",
       "      <td>1000</td>\n",
       "      <td>Treatment</td>\n",
       "    </tr>\n",
       "    <tr>\n",
       "      <th>996</th>\n",
       "      <td>997</td>\n",
       "      <td>1200</td>\n",
       "      <td>Treatment</td>\n",
       "    </tr>\n",
       "    <tr>\n",
       "      <th>997</th>\n",
       "      <td>998</td>\n",
       "      <td>1500</td>\n",
       "      <td>Treatment</td>\n",
       "    </tr>\n",
       "    <tr>\n",
       "      <th>998</th>\n",
       "      <td>999</td>\n",
       "      <td>2000</td>\n",
       "      <td>Treatment</td>\n",
       "    </tr>\n",
       "    <tr>\n",
       "      <th>999</th>\n",
       "      <td>1000</td>\n",
       "      <td>3000</td>\n",
       "      <td>Treatment</td>\n",
       "    </tr>\n",
       "  </tbody>\n",
       "</table>\n",
       "</div>"
      ],
      "text/plain": [
       "     Unnamed: 0 value experimentVariant\n",
       "995         996  1000         Treatment\n",
       "996         997  1200         Treatment\n",
       "997         998  1500         Treatment\n",
       "998         999  2000         Treatment\n",
       "999        1000  3000         Treatment"
      ]
     },
     "execution_count": 5,
     "metadata": {},
     "output_type": "execute_result"
    }
   ],
   "source": [
    "df.tail()"
   ]
  },
  {
   "cell_type": "code",
   "execution_count": 6,
   "metadata": {},
   "outputs": [
    {
     "name": "stdout",
     "output_type": "stream",
     "text": [
      "Количесвто строк: 1000, количество колонок: 3\n"
     ]
    }
   ],
   "source": [
    "print(f'Количесвто строк: {df.shape[0]}, количество колонок: {df.shape[1]}')"
   ]
  },
  {
   "cell_type": "code",
   "execution_count": 7,
   "metadata": {},
   "outputs": [],
   "source": [
    "df = df \\\n",
    "    .drop(columns=('Unnamed: 0')) \\\n",
    "    .rename(columns=({'experimentVariant':'experiment_variant'}))"
   ]
  },
  {
   "cell_type": "code",
   "execution_count": 8,
   "metadata": {},
   "outputs": [
    {
     "data": {
      "text/html": [
       "<div>\n",
       "<style scoped>\n",
       "    .dataframe tbody tr th:only-of-type {\n",
       "        vertical-align: middle;\n",
       "    }\n",
       "\n",
       "    .dataframe tbody tr th {\n",
       "        vertical-align: top;\n",
       "    }\n",
       "\n",
       "    .dataframe thead th {\n",
       "        text-align: right;\n",
       "    }\n",
       "</style>\n",
       "<table border=\"1\" class=\"dataframe\">\n",
       "  <thead>\n",
       "    <tr style=\"text-align: right;\">\n",
       "      <th></th>\n",
       "      <th>value</th>\n",
       "      <th>experiment_variant</th>\n",
       "    </tr>\n",
       "  </thead>\n",
       "  <tbody>\n",
       "    <tr>\n",
       "      <th>0</th>\n",
       "      <td>10,3804953740268</td>\n",
       "      <td>Control</td>\n",
       "    </tr>\n",
       "    <tr>\n",
       "      <th>1</th>\n",
       "      <td>9,54686666784264</td>\n",
       "      <td>Control</td>\n",
       "    </tr>\n",
       "    <tr>\n",
       "      <th>2</th>\n",
       "      <td>11,0882146509904</td>\n",
       "      <td>Control</td>\n",
       "    </tr>\n",
       "    <tr>\n",
       "      <th>3</th>\n",
       "      <td>10,1472740570122</td>\n",
       "      <td>Control</td>\n",
       "    </tr>\n",
       "    <tr>\n",
       "      <th>4</th>\n",
       "      <td>9,78980767524929</td>\n",
       "      <td>Control</td>\n",
       "    </tr>\n",
       "  </tbody>\n",
       "</table>\n",
       "</div>"
      ],
      "text/plain": [
       "              value experiment_variant\n",
       "0  10,3804953740268            Control\n",
       "1  9,54686666784264            Control\n",
       "2  11,0882146509904            Control\n",
       "3  10,1472740570122            Control\n",
       "4  9,78980767524929            Control"
      ]
     },
     "execution_count": 8,
     "metadata": {},
     "output_type": "execute_result"
    }
   ],
   "source": [
    "df.head()"
   ]
  },
  {
   "cell_type": "code",
   "execution_count": 9,
   "metadata": {},
   "outputs": [],
   "source": [
    "# Узнаем количество наблюдений в каждой из выборок для бутстрапа."
   ]
  },
  {
   "cell_type": "code",
   "execution_count": 10,
   "metadata": {
    "scrolled": true
   },
   "outputs": [
    {
     "data": {
      "text/plain": [
       "Treatment    500\n",
       "Control      500\n",
       "Name: experiment_variant, dtype: int64"
      ]
     },
     "execution_count": 10,
     "metadata": {},
     "output_type": "execute_result"
    }
   ],
   "source": [
    "df.experiment_variant.value_counts()"
   ]
  },
  {
   "cell_type": "code",
   "execution_count": 11,
   "metadata": {},
   "outputs": [
    {
     "data": {
      "text/plain": [
       "9,56231578613995    2\n",
       "11,9238041547632    2\n",
       "9,42460667083465    2\n",
       "9,41405109398747    2\n",
       "10,8703330830034    2\n",
       "                   ..\n",
       "11,4995664874117    1\n",
       "1200                1\n",
       "1500                1\n",
       "3000                1\n",
       "8,78009049875068    1\n",
       "Name: value, Length: 505, dtype: int64"
      ]
     },
     "execution_count": 11,
     "metadata": {},
     "output_type": "execute_result"
    }
   ],
   "source": [
    "df.value.value_counts()"
   ]
  },
  {
   "cell_type": "code",
   "execution_count": 12,
   "metadata": {},
   "outputs": [
    {
     "data": {
      "text/plain": [
       "value                 object\n",
       "experiment_variant    object\n",
       "dtype: object"
      ]
     },
     "execution_count": 12,
     "metadata": {},
     "output_type": "execute_result"
    }
   ],
   "source": [
    "# Видим, что колонка value представлена в виде строки, хотя внутри значения численные.\n",
    "# Также, целая и дроьная часть разделены запятой, а не точкой, что не позволит нам изменить формат на float.\n",
    "df.dtypes"
   ]
  },
  {
   "cell_type": "code",
   "execution_count": 13,
   "metadata": {},
   "outputs": [],
   "source": [
    "df.value = df.value.str.replace(',', '.').astype(float)"
   ]
  },
  {
   "cell_type": "code",
   "execution_count": 14,
   "metadata": {},
   "outputs": [
    {
     "data": {
      "text/plain": [
       "0    10.380495\n",
       "1     9.546867\n",
       "2    11.088215\n",
       "3    10.147274\n",
       "4     9.789808\n",
       "Name: value, dtype: float64"
      ]
     },
     "execution_count": 14,
     "metadata": {},
     "output_type": "execute_result"
    }
   ],
   "source": [
    "# создаем отфлильтрованный дата фрейм только со значениями Treatment\n",
    "\n",
    "treatment_df = df.query('experiment_variant == \"Treatment\"').reset_index(drop='yes').value\n",
    "treatment_df.head()"
   ]
  },
  {
   "cell_type": "code",
   "execution_count": 15,
   "metadata": {},
   "outputs": [
    {
     "data": {
      "text/plain": [
       "0    10.380495\n",
       "1     9.546867\n",
       "2    11.088215\n",
       "3    10.147274\n",
       "4     9.789808\n",
       "Name: value, dtype: float64"
      ]
     },
     "execution_count": 15,
     "metadata": {},
     "output_type": "execute_result"
    }
   ],
   "source": [
    "# создаем отфлильтрованный дата фрейм только со значениями Control\n",
    "\n",
    "control_df = df.query('experiment_variant == \"Control\"').value\n",
    "control_df.head()"
   ]
  },
  {
   "cell_type": "code",
   "execution_count": 16,
   "metadata": {},
   "outputs": [],
   "source": [
    "# Мы видим, что среднее тестового распределения увеличилось, а медиана практически не изменились по сравнению с\n",
    "# контролькной группой."
   ]
  },
  {
   "cell_type": "code",
   "execution_count": 17,
   "metadata": {
    "scrolled": true
   },
   "outputs": [
    {
     "name": "stdout",
     "output_type": "stream",
     "text": [
      "Среднее (Контрольная:10.026866533804297 / Тестовая:27.321499056661573)\n"
     ]
    }
   ],
   "source": [
    "print(f'Среднее (Контрольная:{control_df.mean()} / Тестовая:{treatment_df.mean()})')"
   ]
  },
  {
   "cell_type": "code",
   "execution_count": 18,
   "metadata": {},
   "outputs": [
    {
     "name": "stdout",
     "output_type": "stream",
     "text": [
      "Медиана (Контрольная:10.0184651909296 / Тестовая:10.02584684253515)\n"
     ]
    }
   ],
   "source": [
    "print(f'Медиана (Контрольная:{control_df.median()} / Тестовая:{treatment_df.median()})')"
   ]
  },
  {
   "cell_type": "code",
   "execution_count": 19,
   "metadata": {},
   "outputs": [
    {
     "data": {
      "text/plain": [
       "LeveneResult(statistic=4.297836608151554, pvalue=0.03841703888538016)"
      ]
     },
     "execution_count": 19,
     "metadata": {},
     "output_type": "execute_result"
    }
   ],
   "source": [
    "# Делаем разведывательный анализ распределений. Судя по тесту Левена, дисперсии распределений не гомогенны.\n",
    "# Также мы видим ненормальность распределения тестовой выборки дальше на боксплоте и qq плоте.\n",
    "\n",
    "# Для нашего задания это не критично, т.к. мы используем непараметрический u-критерий и bootstrap, однако это \n",
    "# не позволяет нам использовать параметрические методы.\n",
    "\n",
    "levene(treatment_df, control_df)"
   ]
  },
  {
   "cell_type": "code",
   "execution_count": 35,
   "metadata": {
    "scrolled": false
   },
   "outputs": [],
   "source": [
    "# Судя по графикам ниже, распределение контрольной группы очень близко к нормальному, когда в тестовой группе \n",
    "# наблюдается сильная ассисметрия в левую сторону и наличие сильных выбросов. Поэтому распределние очень \n",
    "# далеко от нормального.\n",
    "\n",
    "# Также тест Шапиро-Уилка показал нам что распределение контрольной группы близко к нормальному (p-value > 0.05, \n",
    "# при нулевой гипотезе - распределение нормально распределено), а у тестовой группы - наоборот."
   ]
  },
  {
   "cell_type": "code",
   "execution_count": 21,
   "metadata": {},
   "outputs": [
    {
     "name": "stderr",
     "output_type": "stream",
     "text": [
      "/opt/tljh/user/lib/python3.7/site-packages/seaborn/_decorators.py:43: FutureWarning: Pass the following variable as a keyword arg: x. From version 0.12, the only valid positional argument will be `data`, and passing other arguments without an explicit keyword will result in an error or misinterpretation.\n",
      "  FutureWarning\n"
     ]
    },
    {
     "data": {
      "text/plain": [
       "<matplotlib.axes._subplots.AxesSubplot at 0x7f3855953320>"
      ]
     },
     "execution_count": 21,
     "metadata": {},
     "output_type": "execute_result"
    },
    {
     "data": {
      "image/png": "[encoded data removed]",
      "text/plain": [
       "<Figure size 432x288 with 1 Axes>"
      ]
     },
     "metadata": {
      "needs_background": "light"
     },
     "output_type": "display_data"
    }
   ],
   "source": [
    "# Контрольная группа \n",
    "\n",
    "sns.boxplot(control_df)"
   ]
  },
  {
   "cell_type": "code",
   "execution_count": 34,
   "metadata": {},
   "outputs": [
    {
     "data": {
      "text/plain": [
       "ShapiroResult(statistic=0.9959248900413513, pvalue=0.22416365146636963)"
      ]
     },
     "execution_count": 34,
     "metadata": {},
     "output_type": "execute_result"
    }
   ],
   "source": [
    "shapiro(control_df)"
   ]
  },
  {
   "cell_type": "code",
   "execution_count": 22,
   "metadata": {
    "scrolled": false
   },
   "outputs": [
    {
     "name": "stderr",
     "output_type": "stream",
     "text": [
      "/opt/tljh/user/lib/python3.7/site-packages/seaborn/_decorators.py:43: FutureWarning: Pass the following variable as a keyword arg: x. From version 0.12, the only valid positional argument will be `data`, and passing other arguments without an explicit keyword will result in an error or misinterpretation.\n",
      "  FutureWarning\n"
     ]
    },
    {
     "data": {
      "text/plain": [
       "<matplotlib.axes._subplots.AxesSubplot at 0x7f38534496a0>"
      ]
     },
     "execution_count": 22,
     "metadata": {},
     "output_type": "execute_result"
    },
    {
     "data": {
      "image/png": "[encoded data removed]",
      "text/plain": [
       "<Figure size 432x288 with 1 Axes>"
      ]
     },
     "metadata": {
      "needs_background": "light"
     },
     "output_type": "display_data"
    }
   ],
   "source": [
    "# Тестовая группа\n",
    "\n",
    "sns.boxplot(treatment_df)"
   ]
  },
  {
   "cell_type": "code",
   "execution_count": 33,
   "metadata": {},
   "outputs": [
    {
     "data": {
      "text/plain": [
       "ShapiroResult(statistic=0.07038933038711548, pvalue=1.0930128021733573e-43)"
      ]
     },
     "execution_count": 33,
     "metadata": {},
     "output_type": "execute_result"
    }
   ],
   "source": [
    "shapiro(treatment_df)"
   ]
  },
  {
   "cell_type": "code",
   "execution_count": 23,
   "metadata": {},
   "outputs": [
    {
     "data": {
      "image/png": "[encoded data removed]",
      "text/plain": [
       "<Figure size 432x288 with 1 Axes>"
      ]
     },
     "metadata": {
      "needs_background": "light"
     },
     "output_type": "display_data"
    }
   ],
   "source": [
    "# Контрольная группа \n",
    "\n",
    "fig = sm.qqplot(control_df, fit=True, line=\"45\")\n",
    "plt.show()"
   ]
  },
  {
   "cell_type": "code",
   "execution_count": 24,
   "metadata": {},
   "outputs": [
    {
     "data": {
      "image/png": "[encoded data removed]",
      "text/plain": [
       "<Figure size 432x288 with 1 Axes>"
      ]
     },
     "metadata": {
      "needs_background": "light"
     },
     "output_type": "display_data"
    }
   ],
   "source": [
    "# Тестовая группа\n",
    "\n",
    "fig = sm.qqplot(treatment_df, fit=True, line=\"45\")\n",
    "plt.show()"
   ]
  },
  {
   "cell_type": "code",
   "execution_count": 25,
   "metadata": {},
   "outputs": [],
   "source": [
    "# Гипотезы:\n",
    "\n",
    "# H0 - средние / медианы / средние рангов двух распределений не отличаются.\n",
    "# H1 - средние / медианы / средние рангов распределений отличаются статистически значимо."
   ]
  },
  {
   "cell_type": "code",
   "execution_count": 26,
   "metadata": {},
   "outputs": [],
   "source": [
    "# P-value теста Манна-Уитни показывает значение выше 0.05 и не позволяет нам отклонить нулевую гипотезу, \n",
    "# что средние рангов двух распределений равны между собой. Результаты этого теста дейстительно можно считать \n",
    "# достоверными, но его результаты сложно интерпретировать, т.к. мы сравниваем ранги. "
   ]
  },
  {
   "cell_type": "code",
   "execution_count": 27,
   "metadata": {
    "scrolled": true
   },
   "outputs": [
    {
     "data": {
      "text/plain": [
       "MannwhitneyuResult(statistic=125810.5, pvalue=0.8592148582485579)"
      ]
     },
     "execution_count": 27,
     "metadata": {},
     "output_type": "execute_result"
    }
   ],
   "source": [
    "mannwhitneyu(treatment_df, control_df)"
   ]
  },
  {
   "cell_type": "code",
   "execution_count": 28,
   "metadata": {},
   "outputs": [],
   "source": [
    "# Используя bootstrap по среднему мы видим, что доверительный интервал бут-страпированного распределения не \n",
    "# пересекает 0, при p-value < 0.05. Это значит, что в тесте мы получили статистически значимые отличия среднего и \n",
    "# теоретически можем отклонить нулевую гипотезу.\n",
    "\n",
    "# Однако, т.к. распределение тестовой группы отлично от нормального и имеет выбросы, то использовать среднее для \n",
    "# оценки будет некорректным. В данном случае для оценки лучше подойдет медиана."
   ]
  },
  {
   "cell_type": "code",
   "execution_count": 29,
   "metadata": {
    "scrolled": true
   },
   "outputs": [
    {
     "data": {
      "application/vnd.jupyter.widget-view+json": {
       "model_id": "d6d4008e0c914dbead07cfcabe156229",
       "version_major": 2,
       "version_minor": 0
      },
      "text/plain": [
       "HBox(children=(FloatProgress(value=0.0, max=500.0), HTML(value='')))"
      ]
     },
     "metadata": {},
     "output_type": "display_data"
    },
    {
     "name": "stdout",
     "output_type": "stream",
     "text": [
      "\n"
     ]
    },
    {
     "data": {
      "image/png": "[encoded data removed]",
      "text/plain": [
       "<Figure size 432x288 with 1 Axes>"
      ]
     },
     "metadata": {
      "needs_background": "light"
     },
     "output_type": "display_data"
    },
    {
     "data": {
      "text/plain": [
       "{'boot_data': [30.315230169486373,\n",
       "  21.22231796863908,\n",
       "  20.258276141171542,\n",
       "  14.768221877547166,\n",
       "  12.859492179806864,\n",
       "  14.750340426217155,\n",
       "  8.913170465092346,\n",
       "  15.005277089903156,\n",
       "  25.810021081084138,\n",
       "  12.831824162112524,\n",
       "  27.088176175847867,\n",
       "  12.39709887147741,\n",
       "  20.91162705082883,\n",
       "  28.608614723964838,\n",
       "  30.11802129084329,\n",
       "  19.695406358388468,\n",
       "  5.033061237677727,\n",
       "  13.95395145934519,\n",
       "  15.321637362689463,\n",
       "  8.344787711981477,\n",
       "  22.692271098089115,\n",
       "  13.934203056486664,\n",
       "  29.22381797802711,\n",
       "  9.97564795938315,\n",
       "  10.912009378152904,\n",
       "  17.688051665974417,\n",
       "  11.237557213088666,\n",
       "  6.008909257110747,\n",
       "  10.36196608874546,\n",
       "  32.64447835392241,\n",
       "  14.310358508239759,\n",
       "  4.780807234867204,\n",
       "  33.97466401932857,\n",
       "  21.32836269209809,\n",
       "  13.214465153920958,\n",
       "  21.87418086804797,\n",
       "  35.59238772936227,\n",
       "  7.391541596584782,\n",
       "  18.7289036497077,\n",
       "  -0.01566627451457136,\n",
       "  9.902375946233278,\n",
       "  8.588131052662083,\n",
       "  26.24395185289767,\n",
       "  14.193109279116296,\n",
       "  12.43378285234936,\n",
       "  11.021400371468138,\n",
       "  18.854144267245925,\n",
       "  10.675024106201244,\n",
       "  6.88213349091889,\n",
       "  15.780131202289656,\n",
       "  16.185771451189417,\n",
       "  34.83340375733192,\n",
       "  3.8750555314303408,\n",
       "  25.233836261526005,\n",
       "  10.444968210742875,\n",
       "  41.81217958729554,\n",
       "  10.876423840050412,\n",
       "  23.73389866286464,\n",
       "  19.98901910292225,\n",
       "  15.835146583871705,\n",
       "  16.59206882823227,\n",
       "  22.28717418002571,\n",
       "  23.077658154641423,\n",
       "  2.02868167015525,\n",
       "  13.959446826976247,\n",
       "  3.977648765133806,\n",
       "  17.26738112169021,\n",
       "  12.637488912140595,\n",
       "  41.923013656828346,\n",
       "  4.815672452157356,\n",
       "  16.94171777953404,\n",
       "  28.214424541556312,\n",
       "  25.231837435561356,\n",
       "  28.615884786572547,\n",
       "  20.584899821773405,\n",
       "  21.70587101544504,\n",
       "  28.64926372447129,\n",
       "  21.843403991037132,\n",
       "  13.351477770565689,\n",
       "  15.882921351592877,\n",
       "  23.540861114427067,\n",
       "  10.335556068447712,\n",
       "  15.891053860187665,\n",
       "  17.216121876769883,\n",
       "  23.325958396386607,\n",
       "  11.346158046006954,\n",
       "  13.851864897842253,\n",
       "  18.71390825905817,\n",
       "  9.263806387158048,\n",
       "  12.899978107909767,\n",
       "  -0.023102960967309804,\n",
       "  21.19615030380172,\n",
       "  12.291181955927485,\n",
       "  19.543612642627018,\n",
       "  21.285983032723003,\n",
       "  12.989893344385592,\n",
       "  18.903105425166753,\n",
       "  5.295965917046593,\n",
       "  8.303943930615226,\n",
       "  17.21058730469881,\n",
       "  8.682843219081912,\n",
       "  31.18833142860108,\n",
       "  6.724225915903693,\n",
       "  17.904743866486825,\n",
       "  26.62700618607449,\n",
       "  19.935444891482767,\n",
       "  51.10562661431503,\n",
       "  7.948718225581414,\n",
       "  12.978263788544727,\n",
       "  1.974414078051571,\n",
       "  17.308791142015497,\n",
       "  24.90058584850875,\n",
       "  12.899179678460973,\n",
       "  16.883195679591296,\n",
       "  17.31613573990892,\n",
       "  20.467798632213213,\n",
       "  22.966490336247823,\n",
       "  18.968935480928327,\n",
       "  23.923064397418926,\n",
       "  22.89564775734344,\n",
       "  13.31744942579794,\n",
       "  14.32152824638119,\n",
       "  4.923638598128593,\n",
       "  19.281801332420304,\n",
       "  8.239594759986424,\n",
       "  16.345504902581055,\n",
       "  7.34737121141167,\n",
       "  13.832741717721216,\n",
       "  14.216307104800519,\n",
       "  33.125709053336095,\n",
       "  28.192341191575366,\n",
       "  19.964954639871063,\n",
       "  5.281516343986618,\n",
       "  19.022296078110454,\n",
       "  10.270373399011511,\n",
       "  20.279644771004627,\n",
       "  12.715965124787395,\n",
       "  30.31865709592913,\n",
       "  6.979672818876172,\n",
       "  13.962482446531238,\n",
       "  25.301300870501052,\n",
       "  36.709762775889544,\n",
       "  17.381352660191062,\n",
       "  24.322418690354016,\n",
       "  16.674045847376036,\n",
       "  9.980675501981073,\n",
       "  14.634127389127855,\n",
       "  12.909109237332821,\n",
       "  21.87601792739837,\n",
       "  16.261418442345974,\n",
       "  16.70613337192148,\n",
       "  24.605628421241928,\n",
       "  12.871870640381758,\n",
       "  12.854974107855917,\n",
       "  28.263022758053065,\n",
       "  12.29303935421788,\n",
       "  3.8848863741192434,\n",
       "  27.921826383291677,\n",
       "  23.849887889083984,\n",
       "  18.862651542010177,\n",
       "  27.253083828747982,\n",
       "  33.20034188366281,\n",
       "  14.757858800045172,\n",
       "  31.82066773299546,\n",
       "  9.97147768562573,\n",
       "  21.10654902629667,\n",
       "  20.245565488454393,\n",
       "  37.87961699187042,\n",
       "  11.912653816597308,\n",
       "  18.223707156896147,\n",
       "  33.54058406154422,\n",
       "  25.77636871085438,\n",
       "  12.64149512137248,\n",
       "  4.440179516984351,\n",
       "  34.7039564290728,\n",
       "  7.9635204305617675,\n",
       "  23.299116359214914,\n",
       "  17.69446306456114,\n",
       "  19.88520779855832,\n",
       "  31.326914903325235,\n",
       "  23.180465963778293,\n",
       "  7.706855745536099,\n",
       "  11.32003913177722,\n",
       "  16.795383944896027,\n",
       "  12.359160118462016,\n",
       "  13.695639364299433,\n",
       "  20.139667220921808,\n",
       "  22.9616558487116,\n",
       "  21.332936388684885,\n",
       "  2.2601854383079845,\n",
       "  26.698922849085193,\n",
       "  22.322252510799867,\n",
       "  13.288768215170874,\n",
       "  13.341675362384205,\n",
       "  14.636338996892336,\n",
       "  17.22086355385698,\n",
       "  12.951946264818456,\n",
       "  18.75096220969259,\n",
       "  14.966322148417728,\n",
       "  7.966902666377902,\n",
       "  4.4555406900361385,\n",
       "  25.322920592923218,\n",
       "  21.954023161928948,\n",
       "  12.299548774340646,\n",
       "  11.389499115970748,\n",
       "  32.27674879670132,\n",
       "  18.66257448998897,\n",
       "  8.344339343911658,\n",
       "  11.999498662284276,\n",
       "  15.245047370841503,\n",
       "  12.905054512866432,\n",
       "  22.179131801638505,\n",
       "  7.922146543588419,\n",
       "  15.65078534835317,\n",
       "  28.890966679501602,\n",
       "  41.96553410860299,\n",
       "  37.266869148938085,\n",
       "  16.232993691675834,\n",
       "  5.928994099892281,\n",
       "  12.259677657274766,\n",
       "  15.331184134187605,\n",
       "  21.24270817118598,\n",
       "  22.390681927614057,\n",
       "  20.958392438314366,\n",
       "  25.854010990909213,\n",
       "  12.02602125375582,\n",
       "  19.571588929474068,\n",
       "  21.230956440122444,\n",
       "  9.99359313264896,\n",
       "  16.384691636660726,\n",
       "  31.251593737499242,\n",
       "  16.75116145256984,\n",
       "  2.2732667956858497,\n",
       "  24.952724908581537,\n",
       "  14.952789394095067,\n",
       "  15.99029133914578,\n",
       "  8.981129528816007,\n",
       "  5.926539906199217,\n",
       "  18.883525757587766,\n",
       "  26.148154884761833,\n",
       "  21.89263805012772,\n",
       "  22.2982111563262,\n",
       "  27.66005343419379,\n",
       "  20.29171897383509,\n",
       "  10.399220080833768,\n",
       "  11.287598039063484,\n",
       "  18.713982438717835,\n",
       "  12.798169382256058,\n",
       "  18.280123721001765,\n",
       "  7.989592784449937,\n",
       "  23.735576751252243,\n",
       "  25.01652643684016,\n",
       "  18.79894548796173,\n",
       "  23.127313404074375,\n",
       "  11.703937131026322,\n",
       "  26.87286507945045,\n",
       "  17.67467606320767,\n",
       "  19.805912952315463,\n",
       "  25.54649145555129,\n",
       "  19.79970247407407,\n",
       "  9.199525967379993,\n",
       "  12.936753368666146,\n",
       "  26.203821557025844,\n",
       "  32.90558582580466,\n",
       "  3.0351245384731596,\n",
       "  7.136248179892605,\n",
       "  19.34881138891284,\n",
       "  7.987124295478962,\n",
       "  11.998178092517042,\n",
       "  9.88882704222797,\n",
       "  30.19337946405351,\n",
       "  27.663076749883817,\n",
       "  16.28399312863962,\n",
       "  8.317980609615313,\n",
       "  32.798940861026196,\n",
       "  8.333946188402889,\n",
       "  18.92958572578492,\n",
       "  23.297527493144976,\n",
       "  19.08244183836326,\n",
       "  19.62154996737383,\n",
       "  26.242379187656745,\n",
       "  22.79154323978345,\n",
       "  16.038580467221337,\n",
       "  29.2217041359824,\n",
       "  6.9359538090864765,\n",
       "  6.958369425128136,\n",
       "  15.974411239479831,\n",
       "  12.732644286574498,\n",
       "  30.32707383222813,\n",
       "  12.827420262091517,\n",
       "  23.742715677862048,\n",
       "  10.804629834771092,\n",
       "  5.959734208887658,\n",
       "  4.78908769245714,\n",
       "  27.223818069495014,\n",
       "  15.901908379036161,\n",
       "  30.70251259594903,\n",
       "  20.843342769902957,\n",
       "  7.317709818824625,\n",
       "  30.106172764063572,\n",
       "  10.29808262584469,\n",
       "  0.0004392885779147875,\n",
       "  14.697920497967164,\n",
       "  30.120644942764308,\n",
       "  9.432588120854408,\n",
       "  10.920903849586793,\n",
       "  18.03184306438103,\n",
       "  12.291431875188382,\n",
       "  5.358194667851942,\n",
       "  26.401621744804455,\n",
       "  5.281405056068243,\n",
       "  11.994253853568217,\n",
       "  33.29119091182284,\n",
       "  16.734255919629327,\n",
       "  34.54827314520997,\n",
       "  19.915188645918946,\n",
       "  14.959520374518645,\n",
       "  23.55368231767677,\n",
       "  35.8369447598748,\n",
       "  23.659116905055228,\n",
       "  15.762047435424233,\n",
       "  15.12401008934628,\n",
       "  16.861260559462952,\n",
       "  23.898588771782954,\n",
       "  13.680403044389163,\n",
       "  21.686876814994527,\n",
       "  16.68025055423301,\n",
       "  16.882258975791483,\n",
       "  26.877250913847565,\n",
       "  22.862432083558108,\n",
       "  9.012722360596722,\n",
       "  16.141020705635835,\n",
       "  20.261776721662084,\n",
       "  20.29409972342258,\n",
       "  2.9506556424921153,\n",
       "  4.025492007125468,\n",
       "  23.359437158329953,\n",
       "  26.66555797484312,\n",
       "  11.50996065877748,\n",
       "  21.605279511565765,\n",
       "  5.813282104910062,\n",
       "  16.915221674127636,\n",
       "  11.354998795498789,\n",
       "  14.276574952915926,\n",
       "  9.882953835880462,\n",
       "  20.80050974057463,\n",
       "  29.78022737599421,\n",
       "  8.911079735051784,\n",
       "  23.798607673788524,\n",
       "  14.042387089465564,\n",
       "  20.89681330369122,\n",
       "  25.454046432713767,\n",
       "  17.963199920438374,\n",
       "  33.79436085477003,\n",
       "  30.579456921999924,\n",
       "  16.309101590222486,\n",
       "  6.259718951826499,\n",
       "  16.320622767340225,\n",
       "  26.605891526077897,\n",
       "  13.988101168947443,\n",
       "  13.78383087855763,\n",
       "  15.898717094939686,\n",
       "  42.223516808036145,\n",
       "  24.76671380509257,\n",
       "  19.681249609078076,\n",
       "  37.88664128924231,\n",
       "  8.012981597593726,\n",
       "  21.63675176471095,\n",
       "  7.173782827785965,\n",
       "  5.866431003178601,\n",
       "  9.416228986408145,\n",
       "  10.92050090866262,\n",
       "  26.644350847315103,\n",
       "  20.20681090614792,\n",
       "  8.296315803484804,\n",
       "  6.014029380489378,\n",
       "  11.892041091576688,\n",
       "  11.297496425996162,\n",
       "  18.20718962361504,\n",
       "  27.33591935447981,\n",
       "  16.679602043335557,\n",
       "  21.198919665609225,\n",
       "  12.310125009635946,\n",
       "  23.44706625278158,\n",
       "  26.893507380729808,\n",
       "  18.3222870469353,\n",
       "  6.34131900482045,\n",
       "  12.28330087344578,\n",
       "  15.911296984703798,\n",
       "  15.823863938049776,\n",
       "  7.093854060852523,\n",
       "  2.248144888375676,\n",
       "  18.34773588770577,\n",
       "  8.296746653002948,\n",
       "  9.025791001767077,\n",
       "  13.885376020058311,\n",
       "  8.80193525921297,\n",
       "  22.206330760280487,\n",
       "  6.953159039659581,\n",
       "  6.294305964452519,\n",
       "  12.865854342476235,\n",
       "  20.66775454683858,\n",
       "  1.986713005772103,\n",
       "  17.868017791695312,\n",
       "  8.036310004450339,\n",
       "  14.271083651839868,\n",
       "  15.873306711094575,\n",
       "  2.3878270248701967,\n",
       "  14.885449757648988,\n",
       "  6.312859042828517,\n",
       "  21.26406252427398,\n",
       "  19.724249728743132,\n",
       "  18.209309515760168,\n",
       "  8.966495942137696,\n",
       "  15.707293219199379,\n",
       "  38.75735125402759,\n",
       "  18.938245638382202,\n",
       "  45.156523719267106,\n",
       "  17.627498404606808,\n",
       "  30.872831634742905,\n",
       "  27.90832204006697,\n",
       "  27.646939556497063,\n",
       "  19.603319360295554,\n",
       "  15.735535654414464,\n",
       "  16.77116639589845,\n",
       "  1.8333872905483388,\n",
       "  26.35771007643012,\n",
       "  11.933087811011978,\n",
       "  19.327960033958743,\n",
       "  27.558833549008707,\n",
       "  14.724620208846277,\n",
       "  10.309201758632557,\n",
       "  12.396791786438058,\n",
       "  17.21098108249668,\n",
       "  21.71336760758455,\n",
       "  22.082754508743044,\n",
       "  18.228392525907505,\n",
       "  16.857657587173097,\n",
       "  14.308921942958085,\n",
       "  24.201807801556782,\n",
       "  18.974004474022177,\n",
       "  13.97095733964432,\n",
       "  12.922907886919115,\n",
       "  6.054848157545156,\n",
       "  29.99548163754327,\n",
       "  20.690136010530995,\n",
       "  28.270591149544423,\n",
       "  9.93847214319878,\n",
       "  27.22806418314677,\n",
       "  22.737834531519585,\n",
       "  14.974378736499512,\n",
       "  4.327599699524522,\n",
       "  14.338161599987203,\n",
       "  12.896618428230054,\n",
       "  13.02122192609853,\n",
       "  7.15210855345645,\n",
       "  34.18350944349706,\n",
       "  23.336811476009576,\n",
       "  18.948921398369784,\n",
       "  10.029201591000712,\n",
       "  11.88148730422686,\n",
       "  28.633765060121288,\n",
       "  20.32884714563668,\n",
       "  29.953761956553556,\n",
       "  19.851214765349614,\n",
       "  14.00420632673223,\n",
       "  9.32812258678876,\n",
       "  26.24782802674669,\n",
       "  17.407870731825547,\n",
       "  19.08501624006613,\n",
       "  2.0128224347238377,\n",
       "  28.66649582312265,\n",
       "  23.862529379307315,\n",
       "  16.879018094230954,\n",
       "  26.320934836593487,\n",
       "  20.371785028462693,\n",
       "  0.011069601475937817,\n",
       "  26.30002306098862,\n",
       "  9.980398090876555,\n",
       "  17.92752126355656,\n",
       "  14.5935209617174,\n",
       "  15.93972927062815,\n",
       "  29.229880222964802,\n",
       "  16.723261349902437,\n",
       "  15.203954295041948,\n",
       "  34.24076047850707,\n",
       "  25.883432080852604,\n",
       "  36.27808781100459,\n",
       "  47.04097081767248,\n",
       "  13.90210436731194,\n",
       "  25.80417166006913,\n",
       "  17.29271580034479,\n",
       "  23.960353898141957,\n",
       "  18.692825043717253,\n",
       "  17.04310109199374,\n",
       "  8.027319122188144,\n",
       "  13.087054456793634,\n",
       "  10.257349640713848,\n",
       "  16.932054276861784,\n",
       "  17.915531245262937],\n",
       " 'ci':                0\n",
       " 0.025   2.655171\n",
       " 0.975  36.068545,\n",
       " 'p_value': 0.0396400898601469}"
      ]
     },
     "execution_count": 29,
     "metadata": {},
     "output_type": "execute_result"
    }
   ],
   "source": [
    "get_bootstrap(treatment_df, control_df, boot_it = 500, statistic=np.mean)"
   ]
  },
  {
   "cell_type": "code",
   "execution_count": 30,
   "metadata": {},
   "outputs": [],
   "source": [
    "# В случае с медианой картина противоположная, мы не видим статистически значимых различий, что говорит о том,\n",
    "# что медианы в тестовой и контрольной группах примерно равны. Также доверительный интервал находится на пересечении 0.\n",
    "# Все это нам говорит о том, что мы не можем отклонить Н0, хотя мы и видели увеличение средних значений."
   ]
  },
  {
   "cell_type": "code",
   "execution_count": 31,
   "metadata": {
    "scrolled": true
   },
   "outputs": [
    {
     "data": {
      "application/vnd.jupyter.widget-view+json": {
       "model_id": "9b6433be8f0e4c0aacf421d3234bd344",
       "version_major": 2,
       "version_minor": 0
      },
      "text/plain": [
       "HBox(children=(FloatProgress(value=0.0, max=500.0), HTML(value='')))"
      ]
     },
     "metadata": {},
     "output_type": "display_data"
    },
    {
     "name": "stdout",
     "output_type": "stream",
     "text": [
      "\n"
     ]
    },
    {
     "data": {
      "image/png": "[encoded data removed]",
      "text/plain": [
       "<Figure size 432x288 with 1 Axes>"
      ]
     },
     "metadata": {},
     "output_type": "display_data"
    },
    {
     "data": {
      "text/plain": [
       "{'boot_data': [-0.06196229855684976,\n",
       "  -0.025318246562820335,\n",
       "  0.025804452558129576,\n",
       "  -0.09881891811109966,\n",
       "  -0.06734556266524994,\n",
       "  -0.13562283270632491,\n",
       "  0.10205374914556042,\n",
       "  0.011235150676930594,\n",
       "  0.03934767418308471,\n",
       "  -0.03788334809039462,\n",
       "  0.06647979843480023,\n",
       "  -0.0026678276264160417,\n",
       "  0.12422770016584916,\n",
       "  -0.1255542846005051,\n",
       "  -0.01293003068905918,\n",
       "  -0.04042343404573945,\n",
       "  -0.0754861436876153,\n",
       "  0.08954165181633478,\n",
       "  -0.0776323901139504,\n",
       "  0.06300065462757942,\n",
       "  0.08775471994959982,\n",
       "  -0.00699213983619984,\n",
       "  -0.04829467652002872,\n",
       "  -0.11701235151519462,\n",
       "  -0.007204662563546016,\n",
       "  0.06623152464129589,\n",
       "  -0.10774047551359,\n",
       "  0.024113554649829894,\n",
       "  0.04542494333660496,\n",
       "  -0.015687963461799903,\n",
       "  0.10532103031874929,\n",
       "  0.04122310762814951,\n",
       "  0.06256686280344947,\n",
       "  0.09869637696320055,\n",
       "  0.03313363822832471,\n",
       "  -0.018826748304800134,\n",
       "  0.045249162278524935,\n",
       "  -0.05390726013270086,\n",
       "  0.04967958422741514,\n",
       "  0.03002191473179927,\n",
       "  -0.028383501970400182,\n",
       "  0.05793669802008061,\n",
       "  -0.005780489392624766,\n",
       "  0.019321273358929858,\n",
       "  -0.0167917457096447,\n",
       "  0.1904055694834046,\n",
       "  0.18210407389923056,\n",
       "  0.006298377912049347,\n",
       "  0.11220863165989581,\n",
       "  -0.018765056775725597,\n",
       "  0.06648018812949008,\n",
       "  0.05730783470478418,\n",
       "  -0.04020585663616494,\n",
       "  0.012562056616450157,\n",
       "  0.07133520287145512,\n",
       "  0.059833975074795376,\n",
       "  -0.0004987679837000769,\n",
       "  -0.037528077235394974,\n",
       "  0.031181155602140187,\n",
       "  0.055830340387349686,\n",
       "  0.01645875361796989,\n",
       "  -0.09193315473850028,\n",
       "  -0.025054935716355864,\n",
       "  0.07554669852950013,\n",
       "  0.007076853103720637,\n",
       "  0.10732807582685489,\n",
       "  0.08020265695480511,\n",
       "  0.0074178365771500054,\n",
       "  0.019962556630850337,\n",
       "  0.0380295352699207,\n",
       "  -0.0438778584114905,\n",
       "  0.007603241817744966,\n",
       "  -0.015700722626465158,\n",
       "  0.12760257633949035,\n",
       "  -0.07793460466547497,\n",
       "  -0.032916804835764424,\n",
       "  -0.0026508205368003246,\n",
       "  0.01231011109325042,\n",
       "  -0.23357610621839964,\n",
       "  0.10105630284796518,\n",
       "  0.010947220769164545,\n",
       "  0.054070162389250775,\n",
       "  -0.15662397394016558,\n",
       "  0.018616352313530093,\n",
       "  0.1826067698739946,\n",
       "  0.0008273488832495346,\n",
       "  -0.017014908974250176,\n",
       "  0.026976555141485115,\n",
       "  0.05045499725128977,\n",
       "  0.11489481358997544,\n",
       "  0.035658593718929765,\n",
       "  0.016112992474824672,\n",
       "  -0.0074460912378500055,\n",
       "  0.14667090764300106,\n",
       "  -0.06465103249817439,\n",
       "  -0.010761375935010697,\n",
       "  0.01949204656096537,\n",
       "  0.06223294865436024,\n",
       "  0.030780139403408846,\n",
       "  0.0550479057198503,\n",
       "  0.07944069518870034,\n",
       "  -0.03227599673114501,\n",
       "  0.1388903488489195,\n",
       "  -0.0845090516235647,\n",
       "  0.09698358317114941,\n",
       "  -0.04693630755729039,\n",
       "  0.033195286366510146,\n",
       "  0.07203422095956924,\n",
       "  -0.025339385259250058,\n",
       "  -0.05803406846564929,\n",
       "  -0.09763293895842562,\n",
       "  0.07265150398231501,\n",
       "  -0.06930755608740036,\n",
       "  -0.03636068681995486,\n",
       "  0.036954482110055586,\n",
       "  -0.046266206208850136,\n",
       "  0.053045879955334385,\n",
       "  -0.017354937924485725,\n",
       "  0.00330914932382953,\n",
       "  0.006193059154869118,\n",
       "  0.017112727375849346,\n",
       "  0.004268885028024805,\n",
       "  -0.05467454961340934,\n",
       "  -0.032924403095584864,\n",
       "  -0.008869391980530494,\n",
       "  0.005862536803591389,\n",
       "  -0.059672215793185046,\n",
       "  -0.006696177090769417,\n",
       "  -0.1006642813517109,\n",
       "  0.07120016411954477,\n",
       "  -0.007407822625990157,\n",
       "  -0.03795198492695473,\n",
       "  0.02781238041724965,\n",
       "  0.09358023070545052,\n",
       "  0.004722623599149323,\n",
       "  0.03321959035548527,\n",
       "  0.0508123951126942,\n",
       "  0.08181017118285006,\n",
       "  -0.10363316129825062,\n",
       "  0.13240850170439522,\n",
       "  -0.05011182211810006,\n",
       "  0.03143842641600081,\n",
       "  -0.19514473779521957,\n",
       "  0.02837387541107983,\n",
       "  0.06688335853676008,\n",
       "  0.0,\n",
       "  0.006842447968249843,\n",
       "  0.0,\n",
       "  0.024915144974074543,\n",
       "  -0.15325774579315077,\n",
       "  -0.0403073042558999,\n",
       "  -0.05891230613651466,\n",
       "  -0.07105418107952488,\n",
       "  0.028957962203445042,\n",
       "  -0.08256309403254924,\n",
       "  0.07700610235389949,\n",
       "  0.018499103224120184,\n",
       "  0.007843045319500419,\n",
       "  0.08799291687805066,\n",
       "  -0.027061018762775113,\n",
       "  0.12163903358288053,\n",
       "  -0.01808921513149997,\n",
       "  -0.014860394310090008,\n",
       "  -0.05816416808387981,\n",
       "  0.06868563910525971,\n",
       "  0.04457197843365979,\n",
       "  0.09557212862934517,\n",
       "  -0.09619663998965056,\n",
       "  -0.05602527960280046,\n",
       "  -0.05474380229486453,\n",
       "  0.008100966757299766,\n",
       "  -0.0912271822353059,\n",
       "  -0.054307000305300335,\n",
       "  -0.046985590294829294,\n",
       "  -0.05391698771309983,\n",
       "  -0.0484471173446801,\n",
       "  -0.013072068955600535,\n",
       "  0.017497616664544857,\n",
       "  0.015105277184599863,\n",
       "  -0.05168256456579989,\n",
       "  0.05532927290655021,\n",
       "  0.032673242042250195,\n",
       "  0.04046023443474045,\n",
       "  0.13277171536249543,\n",
       "  0.06905669042799989,\n",
       "  0.027543499624460566,\n",
       "  0.09095244540089986,\n",
       "  -0.042748885820230065,\n",
       "  0.03191514704057408,\n",
       "  0.0009807634514507058,\n",
       "  0.041599233070705566,\n",
       "  0.03184812510005042,\n",
       "  0.05040028733097035,\n",
       "  0.09330659588651002,\n",
       "  0.13019424515811906,\n",
       "  0.018407355358000643,\n",
       "  -0.05551348523976429,\n",
       "  -0.09740250344084878,\n",
       "  0.0940798843583508,\n",
       "  -0.016923679883595,\n",
       "  0.010188329574210009,\n",
       "  -0.007411068961700629,\n",
       "  0.0,\n",
       "  -0.10270600599634072,\n",
       "  -0.10714613514573035,\n",
       "  -0.13968572924508038,\n",
       "  -0.008821219767400024,\n",
       "  -0.031217994023710283,\n",
       "  0.05292045448929983,\n",
       "  -0.03825016649621027,\n",
       "  0.045309074786735515,\n",
       "  -0.07270879480156012,\n",
       "  0.028027060155384476,\n",
       "  0.08054572267846005,\n",
       "  0.04214525296680005,\n",
       "  -0.0016357246204004028,\n",
       "  0.04997494971062455,\n",
       "  -0.037403156992149356,\n",
       "  -0.043463831132025454,\n",
       "  0.012715128039425316,\n",
       "  -0.08932297061100058,\n",
       "  0.1539319854153698,\n",
       "  -0.05100536729275085,\n",
       "  0.12811001157573987,\n",
       "  -0.0974159179813956,\n",
       "  0.17086714756639498,\n",
       "  -0.046599723039134844,\n",
       "  -0.0874208459054504,\n",
       "  -0.0012052707055998368,\n",
       "  -0.08445272005886029,\n",
       "  0.07366335885730457,\n",
       "  -0.040761405162165865,\n",
       "  0.0327017494551507,\n",
       "  -0.11172404379616552,\n",
       "  -0.05963285992087464,\n",
       "  0.12345817970717476,\n",
       "  0.005753205712810683,\n",
       "  -0.07218070032413593,\n",
       "  0.11917789732515072,\n",
       "  0.011313442527580264,\n",
       "  0.0929242134341095,\n",
       "  0.07453013865739955,\n",
       "  -0.14326072583825056,\n",
       "  -0.01718394293119463,\n",
       "  0.03396645289403022,\n",
       "  -0.013279752497849628,\n",
       "  0.04803056023877961,\n",
       "  -0.029774761926930182,\n",
       "  0.03486862961926551,\n",
       "  0.04794530678890929,\n",
       "  0.11292592927489409,\n",
       "  -0.02733371355956038,\n",
       "  -0.01166450248168971,\n",
       "  -0.1245151473053756,\n",
       "  -0.019431795728359624,\n",
       "  -0.009921640554200195,\n",
       "  -0.04102578251139999,\n",
       "  0.04087923267751048,\n",
       "  0.07331831697279512,\n",
       "  0.021287010573349363,\n",
       "  -0.08537289566267603,\n",
       "  0.02044492926559549,\n",
       "  0.12612367329343943,\n",
       "  -0.03216977732030024,\n",
       "  -0.09510549718818595,\n",
       "  -0.04581585356095541,\n",
       "  -0.05364535684817984,\n",
       "  -0.06570629759279445,\n",
       "  0.025661162001474835,\n",
       "  0.006011884858930117,\n",
       "  0.04387272798658959,\n",
       "  0.0029109784966747654,\n",
       "  -0.08435302448259918,\n",
       "  -0.013852953849799121,\n",
       "  -0.01161396220289479,\n",
       "  0.039363882059834765,\n",
       "  0.006478935916245376,\n",
       "  -0.1286952699519004,\n",
       "  -0.08456919366930471,\n",
       "  0.047020081582890505,\n",
       "  0.11241960658335026,\n",
       "  0.07121444839733027,\n",
       "  0.06122378240779991,\n",
       "  -0.04316089546883983,\n",
       "  0.2676068209654696,\n",
       "  0.002701007161650004,\n",
       "  0.09629473505720032,\n",
       "  0.08959136298215942,\n",
       "  -0.07972259621775457,\n",
       "  -0.13437021448729958,\n",
       "  0.11869970785024453,\n",
       "  0.010382342687669244,\n",
       "  0.09702060460118034,\n",
       "  0.05128597581920502,\n",
       "  -0.06529571897700936,\n",
       "  0.19127473001283057,\n",
       "  -0.022003773238930435,\n",
       "  -0.08158865662008985,\n",
       "  -0.13783146481437036,\n",
       "  0.07427856086304896,\n",
       "  0.04193117805059998,\n",
       "  -0.05885910080609946,\n",
       "  0.07981353455080065,\n",
       "  0.0027989218581003783,\n",
       "  0.07086149853106427,\n",
       "  0.012410616870414337,\n",
       "  0.013465125318449012,\n",
       "  -0.04144346445969038,\n",
       "  -0.0126185431099195,\n",
       "  -0.18362925740227531,\n",
       "  0.07662292592394948,\n",
       "  0.0,\n",
       "  0.01282417068413988,\n",
       "  0.019641850979795095,\n",
       "  0.08748872825455933,\n",
       "  0.13696649424551488,\n",
       "  0.04434964705969513,\n",
       "  0.11283053674064991,\n",
       "  -0.08940629734085004,\n",
       "  -0.04318464220439999,\n",
       "  -0.06451180761796049,\n",
       "  0.061624913149141314,\n",
       "  0.0627842654337547,\n",
       "  0.0,\n",
       "  0.08783137939108965,\n",
       "  -0.009574318815195326,\n",
       "  0.0,\n",
       "  0.14781408819951025,\n",
       "  0.1671024366464895,\n",
       "  -0.06775417898764502,\n",
       "  -0.0622096113628503,\n",
       "  0.028724168408949424,\n",
       "  0.02109200615169904,\n",
       "  -0.01663005006363516,\n",
       "  0.009587475360750553,\n",
       "  0.02404992440528897,\n",
       "  -0.11604646193416546,\n",
       "  0.017109813481524405,\n",
       "  -0.12812219422274929,\n",
       "  0.09918169294607004,\n",
       "  -0.08736208720177441,\n",
       "  -0.1048719033659804,\n",
       "  0.02622807596006016,\n",
       "  -0.1271036392242504,\n",
       "  0.1488379512668896,\n",
       "  -0.004864225653090415,\n",
       "  0.058691853574655006,\n",
       "  0.04196143286142018,\n",
       "  -0.005113134523349494,\n",
       "  0.14927975698998974,\n",
       "  -0.1606893173563506,\n",
       "  0.09908662072794971,\n",
       "  -0.1437270476790502,\n",
       "  -0.2513934230209447,\n",
       "  -0.10658038678869897,\n",
       "  -0.051248623823894945,\n",
       "  0.07445488365341912,\n",
       "  0.000718029671359588,\n",
       "  0.0673079599031956,\n",
       "  0.12284753196172904,\n",
       "  -0.008592430626290337,\n",
       "  0.015597000537749928,\n",
       "  0.01201421216939913,\n",
       "  0.018068629614200304,\n",
       "  0.10692738084745557,\n",
       "  0.002499265075000423,\n",
       "  -0.12193214336540059,\n",
       "  -0.012643088448049511,\n",
       "  -0.02252019259007909,\n",
       "  -0.033849885487000186,\n",
       "  -0.08389306066654978,\n",
       "  0.011563092361354776,\n",
       "  0.09822139001071051,\n",
       "  -0.04985631058793061,\n",
       "  0.09730752487674987,\n",
       "  0.11170357008039034,\n",
       "  -0.0451728164281997,\n",
       "  -0.06843567890866531,\n",
       "  -0.021314323007759484,\n",
       "  -0.027359049591595408,\n",
       "  0.035059430286555227,\n",
       "  0.056915801080854145,\n",
       "  -0.019833362895580464,\n",
       "  -0.10677848869626505,\n",
       "  -0.038663481864103844,\n",
       "  0.013920408974649412,\n",
       "  -0.035606776120499894,\n",
       "  0.08686599535650075,\n",
       "  0.12151639312246054,\n",
       "  -0.03266816245481419,\n",
       "  -0.016751405786240348,\n",
       "  -0.024643803790805663,\n",
       "  -0.006732362664389591,\n",
       "  -0.036401446408610205,\n",
       "  -0.051445107552349434,\n",
       "  -0.11548180836145061,\n",
       "  0.09413902035014932,\n",
       "  -0.13324238700182978,\n",
       "  0.0,\n",
       "  -0.04622185979197546,\n",
       "  0.001402012798729757,\n",
       "  -0.04818890061106007,\n",
       "  -0.0626798459678497,\n",
       "  0.09450493056977471,\n",
       "  -0.028579825847145024,\n",
       "  0.07802910835811527,\n",
       "  -0.1262210695655508,\n",
       "  0.11020514216090493,\n",
       "  -0.0990661561320696,\n",
       "  0.08833799021409927,\n",
       "  0.006924656153199926,\n",
       "  0.16578968982026954,\n",
       "  0.043510016388774275,\n",
       "  -0.15017314401705484,\n",
       "  -0.07794349486831376,\n",
       "  0.11306858589180102,\n",
       "  0.1298522086945857,\n",
       "  0.07849487876243533,\n",
       "  -0.07291567010615019,\n",
       "  0.06514789679422073,\n",
       "  0.015537514276799946,\n",
       "  -0.0008308960582503744,\n",
       "  -0.1440361040706506,\n",
       "  -0.15285252958529494,\n",
       "  0.1023075081396243,\n",
       "  0.028150956587385423,\n",
       "  0.16943817047793974,\n",
       "  -0.08478326599950048,\n",
       "  -0.010419490981459667,\n",
       "  0.12532130796695018,\n",
       "  -0.17295943574300043,\n",
       "  0.15701866011349885,\n",
       "  0.025460983977520613,\n",
       "  0.012080658666819843,\n",
       "  0.0021865334732646957,\n",
       "  -0.10039915461478977,\n",
       "  0.006489967152759846,\n",
       "  -0.014351898515095662,\n",
       "  -0.10058992657512089,\n",
       "  0.0709654000889195,\n",
       "  0.10241784145513488,\n",
       "  0.12170665362914956,\n",
       "  0.0964897888193601,\n",
       "  -0.02651971192901481,\n",
       "  0.013655073269514872,\n",
       "  0.03841948548676033,\n",
       "  -0.13544484266815493,\n",
       "  -0.02833054813364999,\n",
       "  0.06087911263258938,\n",
       "  -0.052639465776799454,\n",
       "  0.03279146186435078,\n",
       "  -0.038032573296949757,\n",
       "  -0.0010338456631995285,\n",
       "  0.056145256459794624,\n",
       "  0.04328495966556023,\n",
       "  -0.07658497028366451,\n",
       "  0.12166477405312559,\n",
       "  0.10824038655085033,\n",
       "  -0.10051991913432534,\n",
       "  0.053481531740599664,\n",
       "  0.0,\n",
       "  -0.0033343707066091355,\n",
       "  -0.03587850385687563,\n",
       "  0.14849813151517388,\n",
       "  -0.013463867689869957,\n",
       "  -0.06484465892384517,\n",
       "  0.003461491300549291,\n",
       "  0.11709677178313438,\n",
       "  -0.03291343432194438,\n",
       "  0.06827201017041595,\n",
       "  -0.13646755634689,\n",
       "  -0.029971638675078793,\n",
       "  -0.025297401729760693,\n",
       "  0.09990624055402453,\n",
       "  -0.09047928005252981,\n",
       "  0.05804801369850132,\n",
       "  0.010421253641710315,\n",
       "  -0.025778974706755164,\n",
       "  -0.0706382268387653,\n",
       "  -0.09638809350424982,\n",
       "  0.09513956429193016,\n",
       "  -0.02529958116270059,\n",
       "  0.08063514780868442,\n",
       "  0.051148277558699995,\n",
       "  0.08906449676436967,\n",
       "  -0.0130108516547498,\n",
       "  -0.060438929758950266,\n",
       "  0.16227260963645485,\n",
       "  -0.02340739436565009,\n",
       "  0.032697048739814605,\n",
       "  0.02162857892624981,\n",
       "  0.06561853399814499,\n",
       "  0.08904472503605998,\n",
       "  0.022769670270644582,\n",
       "  -0.027864528731805116,\n",
       "  0.0037843749621497835,\n",
       "  0.04543158067681041,\n",
       "  0.03191209646453963,\n",
       "  -0.07123575786333891,\n",
       "  -0.022810513845950453],\n",
       " 'ci':               0\n",
       " 0.025 -0.141563\n",
       " 0.975  0.149070,\n",
       " 'p_value': 0.9338666068615725}"
      ]
     },
     "execution_count": 31,
     "metadata": {},
     "output_type": "execute_result"
    }
   ],
   "source": [
    "get_bootstrap(treatment_df, control_df, boot_it = 500, statistic=np.median)"
   ]
  },
  {
   "cell_type": "markdown",
   "metadata": {},
   "source": [
    "# Вывод:"
   ]
  },
  {
   "cell_type": "markdown",
   "metadata": {},
   "source": [
    "В данном случае, в тестовой группе мы наблюдаем сильные выбросы, что делает наше распеределение не нормальным, не позволяют нам использовать параметрические методы и сильно смещает среднее значение в бОльшую сторону. Это негативно влияет на результаты bootstrap по среднему значению. Однако при переводе значений в ранги, используя u-Мана Уитни, или используя bootstrap по медиане, мы сгладили эффект сильных выбросов и также получим близкий к реальности статистически значимый результат.\n",
    "\n",
    "Поэтому в данном случае более правильно делать оценку на основе bootstrap по медиане. На второе место я бы поставил непараметрический тест Манна-Уитни, как более консервативный способ.\n",
    "\n",
    "Проведенный bootstrap тест показал нам, что медианы в тестовой и контрольной группах статистически значимо равны (p-value > 0.05). Также доверительный интервал находится на пересечении 0. Прэтому мы не станем отклонять нулевую гипотезу.\n",
    "\n",
    "Похожий результат дал тест Манна-Уитни, и мы такж не можем отклонить нулевую гипотезу."
   ]
  },
  {
   "cell_type": "code",
   "execution_count": null,
   "metadata": {},
   "outputs": [],
   "source": []
  }
 ],
 "metadata": {
  "kernelspec": {
   "display_name": "Python 3",
   "language": "python",
   "name": "python3"
  },
  "language_info": {
   "codemirror_mode": {
    "name": "ipython",
    "version": 3
   },
   "file_extension": ".py",
   "mimetype": "text/x-python",
   "name": "python",
   "nbconvert_exporter": "python",
   "pygments_lexer": "ipython3",
   "version": "3.7.3"
  }
 },
 "nbformat": 4,
 "nbformat_minor": 4
}
