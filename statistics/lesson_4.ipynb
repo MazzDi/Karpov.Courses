{
 "cells": [
  {
   "cell_type": "markdown",
   "metadata": {},
   "source": [
    "# Lecture"
   ]
  },
  {
   "cell_type": "code",
   "execution_count": 1,
   "metadata": {},
   "outputs": [],
   "source": [
    "#загузка используемых библиотек\n",
    "import pandas as pd\n",
    "import numpy as np\n",
    "import seaborn as sns\n",
    "%matplotlib inline"
   ]
  },
  {
   "cell_type": "code",
   "execution_count": 2,
   "metadata": {},
   "outputs": [],
   "source": [
    "#сгененируем распределение\n",
    "mu = 100\n",
    "sigma = 10\n",
    "population = np.round(np.random.normal(mu, sigma, 1000), 2)"
   ]
  },
  {
   "cell_type": "code",
   "execution_count": 3,
   "metadata": {},
   "outputs": [
    {
     "data": {
      "text/plain": [
       "<matplotlib.axes._subplots.AxesSubplot at 0x7f7225314ac8>"
      ]
     },
     "execution_count": 3,
     "metadata": {},
     "output_type": "execute_result"
    },
    {
     "data": {
      "image/png": "[encoded data removed]",
      "text/plain": [
       "<Figure size 432x288 with 1 Axes>"
      ]
     },
     "metadata": {
      "needs_background": "light"
     },
     "output_type": "display_data"
    }
   ],
   "source": [
    "#Визуализируем график\n",
    "sns.histplot(population, kde = False)"
   ]
  },
  {
   "cell_type": "code",
   "execution_count": 4,
   "metadata": {},
   "outputs": [
    {
     "data": {
      "text/plain": [
       "10.13631538960287"
      ]
     },
     "execution_count": 4,
     "metadata": {},
     "output_type": "execute_result"
    }
   ],
   "source": [
    "#Средене значние и стандартное отклонение\n",
    "population.mean()\n",
    "population.std()"
   ]
  },
  {
   "cell_type": "code",
   "execution_count": 5,
   "metadata": {},
   "outputs": [
    {
     "data": {
      "text/plain": [
       "98.42000000000002"
      ]
     },
     "execution_count": 5,
     "metadata": {},
     "output_type": "execute_result"
    }
   ],
   "source": [
    "#Получение выборочного среднего\n",
    "sample_size = 30 #можно менять размер выбороки  и из-за этого будет меняться стандартная ошибка среднего\n",
    "sample = np.random.choice(population, sample_size, False)\n",
    "sample.mean()"
   ]
  },
  {
   "cell_type": "code",
   "execution_count": 6,
   "metadata": {},
   "outputs": [],
   "source": [
    "n = 10000\n",
    "sample_means = []\n",
    "for i in range(n):\n",
    "    sample = np.random.choice(population, sample_size, False)\n",
    "    sample_means.append(sample.mean())"
   ]
  },
  {
   "cell_type": "code",
   "execution_count": 7,
   "metadata": {},
   "outputs": [
    {
     "data": {
      "text/plain": [
       "<matplotlib.axes._subplots.AxesSubplot at 0x7f7222d38a20>"
      ]
     },
     "execution_count": 7,
     "metadata": {},
     "output_type": "execute_result"
    },
    {
     "data": {
      "image/png": "[encoded data removed]",
      "text/plain": [
       "<Figure size 432x288 with 1 Axes>"
      ]
     },
     "metadata": {
      "needs_background": "light"
     },
     "output_type": "display_data"
    }
   ],
   "source": [
    "sns.histplot(sample_means, kde = False)"
   ]
  },
  {
   "cell_type": "code",
   "execution_count": 8,
   "metadata": {},
   "outputs": [],
   "source": [
    "# правило трех сигм - 100% в этом диапазоне\n",
    "\n",
    "# правило 1.96 сигм ~ 95% в этом диапазоне\n",
    "\n",
    "# se = sigma / корень(n)"
   ]
  },
  {
   "cell_type": "code",
   "execution_count": 9,
   "metadata": {},
   "outputs": [
    {
     "data": {
      "text/plain": [
       "1.8506295296240862"
      ]
     },
     "execution_count": 9,
     "metadata": {},
     "output_type": "execute_result"
    }
   ],
   "source": [
    "#Стандартная ошибка\n",
    "se = population.std() / sample_size ** 0.5\n",
    "se"
   ]
  },
  {
   "cell_type": "code",
   "execution_count": 10,
   "metadata": {},
   "outputs": [
    {
     "data": {
      "text/plain": [
       "1.8015723996296222"
      ]
     },
     "execution_count": 10,
     "metadata": {},
     "output_type": "execute_result"
    }
   ],
   "source": [
    "np.std(sample_means)"
   ]
  },
  {
   "cell_type": "code",
   "execution_count": 11,
   "metadata": {},
   "outputs": [
    {
     "data": {
      "text/plain": [
       "96.1581161219368"
      ]
     },
     "execution_count": 11,
     "metadata": {},
     "output_type": "execute_result"
    }
   ],
   "source": [
    "# Диапазон, в котором лежит 95% наблюдений\n",
    "population.mean() + 1.96 * se\n",
    "population.mean() - 1.96 * se"
   ]
  },
  {
   "cell_type": "code",
   "execution_count": 12,
   "metadata": {},
   "outputs": [
    {
     "data": {
      "text/plain": [
       "array([ 87.21,  99.2 ,  93.01,  92.36, 107.03, 121.71,  78.89,  86.14,\n",
       "        98.94, 121.57, 113.29,  99.1 , 103.77,  91.4 , 113.09, 105.69,\n",
       "       106.65,  96.67, 118.08,  84.03, 109.07,  92.07,  90.94,  98.08,\n",
       "       106.08, 112.96,  92.22, 128.25,  98.53,  86.53])"
      ]
     },
     "execution_count": 12,
     "metadata": {},
     "output_type": "execute_result"
    }
   ],
   "source": [
    "sample_real = np.random.choice(population, sample_size, False)\n",
    "sample_real"
   ]
  },
  {
   "cell_type": "code",
   "execution_count": 13,
   "metadata": {},
   "outputs": [
    {
     "data": {
      "text/plain": [
       "2.2225088292954642"
      ]
     },
     "execution_count": 13,
     "metadata": {},
     "output_type": "execute_result"
    }
   ],
   "source": [
    "sample_real.mean()\n",
    "sample_real.std()\n",
    "se = sample_real.std() / sample_size ** 0.5\n",
    "se"
   ]
  },
  {
   "cell_type": "code",
   "execution_count": 14,
   "metadata": {},
   "outputs": [
    {
     "data": {
      "text/plain": [
       "1.7997678782081603"
      ]
     },
     "execution_count": 14,
     "metadata": {},
     "output_type": "execute_result"
    }
   ],
   "source": [
    "#как вычислить z значение\n",
    "(104 - 100)/se # значение лежит правее на более чем 2 сигмы"
   ]
  },
  {
   "cell_type": "code",
   "execution_count": 15,
   "metadata": {},
   "outputs": [],
   "source": [
    "z_scores = []\n",
    "n = 10000\n",
    "\n",
    "mu = population.mean()\n",
    "sigma = population.std()\n",
    "\n",
    "se = sigma / sample_size ** 0.5\n",
    "\n",
    "for i in range(n):\n",
    "    sample = np.random.choice(population, sample_size, False)\n",
    "    sample_mean = sample.mean()\n",
    "    \n",
    "    z_score = (sample_mean - mu) / se\n",
    "    z_scores.append(z_score)"
   ]
  },
  {
   "cell_type": "code",
   "execution_count": 16,
   "metadata": {},
   "outputs": [
    {
     "data": {
      "text/plain": [
       "<matplotlib.axes._subplots.AxesSubplot at 0x7f7222c169e8>"
      ]
     },
     "execution_count": 16,
     "metadata": {},
     "output_type": "execute_result"
    },
    {
     "data": {
      "image/png": "[encoded data removed]",
      "text/plain": [
       "<Figure size 432x288 with 1 Axes>"
      ]
     },
     "metadata": {
      "needs_background": "light"
     },
     "output_type": "display_data"
    }
   ],
   "source": [
    "sns.histplot(z_scores, kde=False) # Z-распределение"
   ]
  },
  {
   "cell_type": "code",
   "execution_count": 17,
   "metadata": {},
   "outputs": [],
   "source": [
    "#Рассчет z-значения для конкретной выборки\n",
    "\n",
    "t_scores = []\n",
    "\n",
    "n = 10000\n",
    "for i in range(n):\n",
    "    sample = np.random.choice(population, sample_size, False)\n",
    "    sample_mean = sample.mean()\n",
    "    sample_std = sample.std()\n",
    "    \n",
    "    se = sample_std / sample_size ** 0.5\n",
    "    t_score = (sample_mean - mu) / se\n",
    "    t_scores.append(t_score)"
   ]
  },
  {
   "cell_type": "code",
   "execution_count": 18,
   "metadata": {},
   "outputs": [
    {
     "data": {
      "text/plain": [
       "<matplotlib.axes._subplots.AxesSubplot at 0x7f7222c06160>"
      ]
     },
     "execution_count": 18,
     "metadata": {},
     "output_type": "execute_result"
    },
    {
     "data": {
      "image/png": "[encoded data removed]",
      "text/plain": [
       "<Figure size 432x288 with 1 Axes>"
      ]
     },
     "metadata": {
      "needs_background": "light"
     },
     "output_type": "display_data"
    }
   ],
   "source": [
    "sns.histplot(t_scores, kde=False)"
   ]
  },
  {
   "cell_type": "code",
   "execution_count": 19,
   "metadata": {},
   "outputs": [
    {
     "data": {
      "text/plain": [
       "<matplotlib.axes._subplots.AxesSubplot at 0x7f72229443c8>"
      ]
     },
     "execution_count": 19,
     "metadata": {},
     "output_type": "execute_result"
    },
    {
     "data": {
      "image/png": "[encoded data removed]",
      "text/plain": [
       "<Figure size 432x288 with 1 Axes>"
      ]
     },
     "metadata": {
      "needs_background": "light"
     },
     "output_type": "display_data"
    }
   ],
   "source": [
    "#Что будет если сделать sample size поменьше - для Z-score ничего не изменилось\n",
    "sample_size_1 = 10\n",
    "z_scores_1 = []\n",
    "n = 10000\n",
    "\n",
    "for i in range(n):\n",
    "    sample_1 = np.random.choice(population, sample_size_1, False)\n",
    "    sample_mean_1 = sample_1.mean()\n",
    "    \n",
    "    \n",
    "    z_score_1 = (sample_mean_1 - mu) / se\n",
    "    z_scores_1.append(z_score_1)\n",
    "    \n",
    "sns.histplot(z_scores_1, kde=False)"
   ]
  },
  {
   "cell_type": "code",
   "execution_count": 20,
   "metadata": {},
   "outputs": [
    {
     "data": {
      "text/plain": [
       "<matplotlib.axes._subplots.AxesSubplot at 0x7f722286e0f0>"
      ]
     },
     "execution_count": 20,
     "metadata": {},
     "output_type": "execute_result"
    },
    {
     "data": {
      "image/png": "[encoded data removed]",
      "text/plain": [
       "<Figure size 432x288 with 1 Axes>"
      ]
     },
     "metadata": {
      "needs_background": "light"
     },
     "output_type": "display_data"
    }
   ],
   "source": [
    "#Что будет если сделать sample size поменьше - а вот для t-scores\n",
    "t_scores_1 = []\n",
    "sample_size_1 = 10 #можно менять размер выборки, что бы посмотреть как изменяется распределение\n",
    "n = 10000\n",
    "for i in range(n):\n",
    "    sample_12 = np.random.choice(population, sample_size_1, False)\n",
    "    sample_mean_12 = sample_12.mean()\n",
    "    sample_std_12 = sample_12.std()\n",
    "    \n",
    "    se_ = sample_std_12 / sample_size_1 ** 0.5\n",
    "    t_score_1 = (sample_mean_12 - mu) / se_\n",
    "    t_scores_1.append(t_score_1)\n",
    "\n",
    "sns.histplot(t_scores_1, kde=False)"
   ]
  },
  {
   "cell_type": "code",
   "execution_count": 21,
   "metadata": {},
   "outputs": [
    {
     "data": {
      "text/plain": [
       "104.38768868581649"
      ]
     },
     "execution_count": 21,
     "metadata": {},
     "output_type": "execute_result"
    }
   ],
   "source": [
    "sample_real.mean() + 2 * se"
   ]
  },
  {
   "cell_type": "code",
   "execution_count": 22,
   "metadata": {},
   "outputs": [
    {
     "data": {
      "text/plain": [
       "97.78297798085019"
      ]
     },
     "execution_count": 22,
     "metadata": {},
     "output_type": "execute_result"
    }
   ],
   "source": [
    "sample_real.mean() - 2 * se"
   ]
  },
  {
   "cell_type": "code",
   "execution_count": 23,
   "metadata": {},
   "outputs": [],
   "source": [
    "df = sample_size - 1 #число степеней свободы"
   ]
  },
  {
   "cell_type": "code",
   "execution_count": 24,
   "metadata": {},
   "outputs": [
    {
     "data": {
      "text/plain": [
       "96.24738274194553"
      ]
     },
     "execution_count": 24,
     "metadata": {},
     "output_type": "execute_result"
    }
   ],
   "source": [
    "sample_real.mean() + 2.93 * se\n",
    "sample_real.mean() - 2.93 * se"
   ]
  },
  {
   "cell_type": "markdown",
   "metadata": {},
   "source": [
    "# Homework"
   ]
  },
  {
   "cell_type": "code",
   "execution_count": 25,
   "metadata": {},
   "outputs": [],
   "source": [
    "# Рассчитайте доверительный интервал основываясь на знании t - распределения для среднего значения температуры \n",
    "# плавления ДНК у первого вида: \n",
    "\n",
    "X = 89.9\n",
    "sd = 11.3\n",
    "n = 20"
   ]
  },
  {
   "cell_type": "code",
   "execution_count": 26,
   "metadata": {
    "scrolled": true
   },
   "outputs": [
    {
     "data": {
      "text/plain": [
       "19"
      ]
     },
     "execution_count": 26,
     "metadata": {},
     "output_type": "execute_result"
    }
   ],
   "source": [
    "df = n - 1\n",
    "df"
   ]
  },
  {
   "cell_type": "code",
   "execution_count": 35,
   "metadata": {},
   "outputs": [],
   "source": [
    "# В таблице на пересечении нужных значений https://www.medcalc.org/manual/t-distribution-table.php значение = 2.093"
   ]
  },
  {
   "cell_type": "code",
   "execution_count": 36,
   "metadata": {},
   "outputs": [
    {
     "data": {
      "text/plain": [
       "84.61"
      ]
     },
     "execution_count": 36,
     "metadata": {},
     "output_type": "execute_result"
    }
   ],
   "source": [
    "# Нижний порог доверительного интервала\n",
    "round(X - 2.093 * (sd / np.sqrt(n)), 2)"
   ]
  },
  {
   "cell_type": "code",
   "execution_count": 37,
   "metadata": {},
   "outputs": [
    {
     "data": {
      "text/plain": [
       "95.19"
      ]
     },
     "execution_count": 37,
     "metadata": {},
     "output_type": "execute_result"
    }
   ],
   "source": [
    "# Верхний порог доверительного интервала\n",
    "round(X + 2.093 * (sd / np.sqrt(n)), 2)"
   ]
  },
  {
   "cell_type": "code",
   "execution_count": null,
   "metadata": {},
   "outputs": [],
   "source": []
  }
 ],
 "metadata": {
  "kernelspec": {
   "display_name": "Python 3",
   "language": "python",
   "name": "python3"
  },
  "language_info": {
   "codemirror_mode": {
    "name": "ipython",
    "version": 3
   },
   "file_extension": ".py",
   "mimetype": "text/x-python",
   "name": "python",
   "nbconvert_exporter": "python",
   "pygments_lexer": "ipython3",
   "version": "3.7.3"
  }
 },
 "nbformat": 4,
 "nbformat_minor": 2
}
