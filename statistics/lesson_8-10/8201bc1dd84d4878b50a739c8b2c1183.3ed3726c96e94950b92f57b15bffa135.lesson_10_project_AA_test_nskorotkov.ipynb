{
 "cells": [
  {
   "cell_type": "code",
   "execution_count": 4,
   "metadata": {},
   "outputs": [],
   "source": [
    "# Импортируе нужные библиоткеи.\n",
    "\n",
    "import pandas as pd\n",
    "import numpy as np\n",
    "\n",
    "from scipy import stats\n",
    "import statsmodels.api as sm\n",
    "from tqdm.auto import tqdm\n",
    "\n",
    "import matplotlib.pyplot as plt\n",
    "import seaborn as sns\n",
    "\n",
    "plt.style.use('ggplot')\n",
    "%matplotlib inline"
   ]
  },
  {
   "cell_type": "code",
   "execution_count": 13,
   "metadata": {},
   "outputs": [],
   "source": [
    "# Создаем функцию, которая делает А/А тесты, используя т-критерий:\n",
    "\n",
    "# s1 - sample1\n",
    "# s2 - sample 2\n",
    "# simulations - number of tests\n",
    "# n_s - sub-sample size\n",
    "# a - alpha or p-value\n",
    "# FPR - False Postitive Rate.\n",
    "\n",
    "def aa_test(sample1, sample2, simulations = 1000, n_s=1000, a=0.05):\n",
    "\n",
    "    res = []\n",
    "    for i in tqdm(range(simulations)):\n",
    "        s1 = sample1.sample(n_s, replace = False).values\n",
    "        s2 = sample2.sample(n_s, replace = False).values\n",
    "        res.append(stats.ttest_ind(s1, s2, equal_var = False)[1]) # сохраняем pvalue\n",
    "\n",
    "    plt.hist(res, bins = 50)\n",
    "    plt.style.use('ggplot')\n",
    "    plt.xlabel('pvalues')\n",
    "    plt.ylabel('frequency')\n",
    "    plt.title(\"Histogram of ttest A/A simulations \")\n",
    "    plt.show()\n",
    "    \n",
    "    return {'Number od simulations': simulations,\n",
    "            'Sub sample size': n_s,\n",
    "            'Alpha': a, \n",
    "            'FPR': sum(np.array(res) < a) / simulations}"
   ]
  },
  {
   "cell_type": "markdown",
   "metadata": {},
   "source": [
    "### Задача:\n",
    "\n",
    "Запустите A/A-тест\n",
    "Посчитайте FPR на уровне альфа = 0.05 (ставьте подвыборки без возвращения объемом 1000). Вы увидите, что FPR > альфа! Нам нужно наоборот – чтобы было меньше.\n",
    "\n",
    "Найдите причины поломки сплит-системы, ориентируясь на результаты эксперимента (подсказка: найдите аномалию в версии приложения)\n",
    "\n",
    "Напишите выводы, которые можно сделать на основе анализа результатов A/A-теста\n",
    " \n",
    "### Как найти причины поломки?\n",
    "\n",
    "Вам доступна версия мобильного приложения (МП) каждого пользователя. Эту полезную информацию можно использовать для исследования проблемы:\n",
    "\n",
    "1. Посчитайте конверсию (коэффициент покупок), группируя по варианту и версии МП. Возможно уже станет ясно где именно причины поломки.\n",
    "2. Посчитайте pvalue для каждой версии МП.\n",
    "3. Найдите версии, где pvalue < 0.05\n",
    "4. Исключите версию с pvalue < 0.05 из основного датафрейма\n",
    "5. Повторно запустите расчет FPR через A/A. Теперь FPR < альфа\n",
    "6. Вы нашли поломку"
   ]
  },
  {
   "cell_type": "markdown",
   "metadata": {},
   "source": [
    "### Описание колонок:\n",
    "\n",
    "1. experimentVariant – вариант эксперимента\n",
    "2. version – версия приложения\n",
    "3. purchase – факт покупки"
   ]
  },
  {
   "cell_type": "code",
   "execution_count": 6,
   "metadata": {},
   "outputs": [],
   "source": [
    "# Считываем датафрейм, одновременно убирая колонку, которая дублирует индексы.\n",
    "\n",
    "df = pd.read_csv('https://stepik.org/media/attachments/lesson/396012/hw_aa.csv', sep=';', \n",
    "                 usecols=['experimentVariant', \n",
    "                          'version', \n",
    "                          'purchase'])"
   ]
  },
  {
   "cell_type": "code",
   "execution_count": 7,
   "metadata": {
    "scrolled": false
   },
   "outputs": [
    {
     "data": {
      "text/html": [
       "<div>\n",
       "<style scoped>\n",
       "    .dataframe tbody tr th:only-of-type {\n",
       "        vertical-align: middle;\n",
       "    }\n",
       "\n",
       "    .dataframe tbody tr th {\n",
       "        vertical-align: top;\n",
       "    }\n",
       "\n",
       "    .dataframe thead th {\n",
       "        text-align: right;\n",
       "    }\n",
       "</style>\n",
       "<table border=\"1\" class=\"dataframe\">\n",
       "  <thead>\n",
       "    <tr style=\"text-align: right;\">\n",
       "      <th></th>\n",
       "      <th>experimentVariant</th>\n",
       "      <th>version</th>\n",
       "      <th>purchase</th>\n",
       "    </tr>\n",
       "  </thead>\n",
       "  <tbody>\n",
       "    <tr>\n",
       "      <th>0</th>\n",
       "      <td>1</td>\n",
       "      <td>v2.8.0</td>\n",
       "      <td>0</td>\n",
       "    </tr>\n",
       "    <tr>\n",
       "      <th>1</th>\n",
       "      <td>0</td>\n",
       "      <td>v2.9.0</td>\n",
       "      <td>0</td>\n",
       "    </tr>\n",
       "    <tr>\n",
       "      <th>2</th>\n",
       "      <td>1</td>\n",
       "      <td>v2.9.0</td>\n",
       "      <td>0</td>\n",
       "    </tr>\n",
       "    <tr>\n",
       "      <th>3</th>\n",
       "      <td>1</td>\n",
       "      <td>v2.8.0</td>\n",
       "      <td>0</td>\n",
       "    </tr>\n",
       "    <tr>\n",
       "      <th>4</th>\n",
       "      <td>1</td>\n",
       "      <td>v2.8.0</td>\n",
       "      <td>0</td>\n",
       "    </tr>\n",
       "  </tbody>\n",
       "</table>\n",
       "</div>"
      ],
      "text/plain": [
       "   experimentVariant version  purchase\n",
       "0                  1  v2.8.0         0\n",
       "1                  0  v2.9.0         0\n",
       "2                  1  v2.9.0         0\n",
       "3                  1  v2.8.0         0\n",
       "4                  1  v2.8.0         0"
      ]
     },
     "execution_count": 7,
     "metadata": {},
     "output_type": "execute_result"
    }
   ],
   "source": [
    "df.head()"
   ]
  },
  {
   "cell_type": "code",
   "execution_count": null,
   "metadata": {},
   "outputs": [],
   "source": []
  },
  {
   "cell_type": "code",
   "execution_count": 10,
   "metadata": {},
   "outputs": [],
   "source": [
    "# Для удобства переименовывем колонку, чтобы все символы были в нижнем регистре.\n",
    "\n",
    "df.rename(columns={'experimentVariant':'experiment_variant'}, inplace=True)"
   ]
  },
  {
   "cell_type": "code",
   "execution_count": 28,
   "metadata": {},
   "outputs": [
    {
     "data": {
      "text/html": [
       "<div>\n",
       "<style scoped>\n",
       "    .dataframe tbody tr th:only-of-type {\n",
       "        vertical-align: middle;\n",
       "    }\n",
       "\n",
       "    .dataframe tbody tr th {\n",
       "        vertical-align: top;\n",
       "    }\n",
       "\n",
       "    .dataframe thead th {\n",
       "        text-align: right;\n",
       "    }\n",
       "</style>\n",
       "<table border=\"1\" class=\"dataframe\">\n",
       "  <thead>\n",
       "    <tr style=\"text-align: right;\">\n",
       "      <th></th>\n",
       "      <th>experiment_variant</th>\n",
       "      <th>version</th>\n",
       "      <th>purchase</th>\n",
       "    </tr>\n",
       "  </thead>\n",
       "  <tbody>\n",
       "    <tr>\n",
       "      <th>0</th>\n",
       "      <td>1</td>\n",
       "      <td>v2.8.0</td>\n",
       "      <td>0</td>\n",
       "    </tr>\n",
       "    <tr>\n",
       "      <th>1</th>\n",
       "      <td>0</td>\n",
       "      <td>v2.9.0</td>\n",
       "      <td>0</td>\n",
       "    </tr>\n",
       "    <tr>\n",
       "      <th>2</th>\n",
       "      <td>1</td>\n",
       "      <td>v2.9.0</td>\n",
       "      <td>0</td>\n",
       "    </tr>\n",
       "    <tr>\n",
       "      <th>3</th>\n",
       "      <td>1</td>\n",
       "      <td>v2.8.0</td>\n",
       "      <td>0</td>\n",
       "    </tr>\n",
       "    <tr>\n",
       "      <th>4</th>\n",
       "      <td>1</td>\n",
       "      <td>v2.8.0</td>\n",
       "      <td>0</td>\n",
       "    </tr>\n",
       "  </tbody>\n",
       "</table>\n",
       "</div>"
      ],
      "text/plain": [
       "   experiment_variant version  purchase\n",
       "0                   1  v2.8.0         0\n",
       "1                   0  v2.9.0         0\n",
       "2                   1  v2.9.0         0\n",
       "3                   1  v2.8.0         0\n",
       "4                   1  v2.8.0         0"
      ]
     },
     "execution_count": 28,
     "metadata": {},
     "output_type": "execute_result"
    }
   ],
   "source": [
    "df.head()"
   ]
  },
  {
   "cell_type": "code",
   "execution_count": 29,
   "metadata": {},
   "outputs": [
    {
     "data": {
      "text/plain": [
       "experiment_variant     int64\n",
       "version               object\n",
       "purchase               int64\n",
       "dtype: object"
      ]
     },
     "execution_count": 29,
     "metadata": {},
     "output_type": "execute_result"
    }
   ],
   "source": [
    "# Типы переменных адекватные.\n",
    "\n",
    "df.dtypes"
   ]
  },
  {
   "cell_type": "code",
   "execution_count": 30,
   "metadata": {},
   "outputs": [
    {
     "data": {
      "text/plain": [
       "(127018, 3)"
      ]
     },
     "execution_count": 30,
     "metadata": {},
     "output_type": "execute_result"
    }
   ],
   "source": [
    "df.shape"
   ]
  },
  {
   "cell_type": "code",
   "execution_count": 11,
   "metadata": {},
   "outputs": [
    {
     "data": {
      "text/html": [
       "<div>\n",
       "<style scoped>\n",
       "    .dataframe tbody tr th:only-of-type {\n",
       "        vertical-align: middle;\n",
       "    }\n",
       "\n",
       "    .dataframe tbody tr th {\n",
       "        vertical-align: top;\n",
       "    }\n",
       "\n",
       "    .dataframe thead th {\n",
       "        text-align: right;\n",
       "    }\n",
       "</style>\n",
       "<table border=\"1\" class=\"dataframe\">\n",
       "  <thead>\n",
       "    <tr style=\"text-align: right;\">\n",
       "      <th></th>\n",
       "      <th>purchase</th>\n",
       "      <th>version</th>\n",
       "    </tr>\n",
       "    <tr>\n",
       "      <th>experiment_variant</th>\n",
       "      <th></th>\n",
       "      <th></th>\n",
       "    </tr>\n",
       "  </thead>\n",
       "  <tbody>\n",
       "    <tr>\n",
       "      <th>0</th>\n",
       "      <td>0.023945</td>\n",
       "      <td>63102</td>\n",
       "    </tr>\n",
       "    <tr>\n",
       "      <th>1</th>\n",
       "      <td>0.053242</td>\n",
       "      <td>63916</td>\n",
       "    </tr>\n",
       "  </tbody>\n",
       "</table>\n",
       "</div>"
      ],
      "text/plain": [
       "                    purchase  version\n",
       "experiment_variant                   \n",
       "0                   0.023945    63102\n",
       "1                   0.053242    63916"
      ]
     },
     "execution_count": 11,
     "metadata": {},
     "output_type": "execute_result"
    }
   ],
   "source": [
    "# Исследуем наши группы на предмет конверсии и количества пользователей.\n",
    "# Видим, что сплитовалка между вариантами групп работает корректно, оджнако конверсия сильно отличается.\n",
    "# Ниже выясняем более точно, в чем причина.\n",
    "\n",
    "df.groupby(['experiment_variant']) \\\n",
    "    .agg({'purchase': 'mean', 'version':'count'})"
   ]
  },
  {
   "cell_type": "code",
   "execution_count": 14,
   "metadata": {},
   "outputs": [
    {
     "data": {
      "application/vnd.jupyter.widget-view+json": {
       "model_id": "e9ceef6d9721424ba77f84a3d549ab3e",
       "version_major": 2,
       "version_minor": 0
      },
      "text/plain": [
       "HBox(children=(FloatProgress(value=0.0, max=1000.0), HTML(value='')))"
      ]
     },
     "metadata": {},
     "output_type": "display_data"
    },
    {
     "name": "stdout",
     "output_type": "stream",
     "text": [
      "\n"
     ]
    },
    {
     "data": {
      "image/png": "[encoded data removed]",
      "text/plain": [
       "<Figure size 432x288 with 1 Axes>"
      ]
     },
     "metadata": {
      "needs_background": "light"
     },
     "output_type": "display_data"
    },
    {
     "data": {
      "text/plain": [
       "{'Number od simulations': 1000,\n",
       " 'Sub sample size': 1000,\n",
       " 'Alpha': 0.05,\n",
       " 'FPR': 0.938}"
      ]
     },
     "execution_count": 14,
     "metadata": {},
     "output_type": "execute_result"
    }
   ],
   "source": [
    "# Запускаем А/А тест и видим, что действительно FPR у нас очень высокий, а значит, что количество значений p-value\n",
    "# в нашем тесте очень часто опускается ниже 0.05.\n",
    "\n",
    "sample1 = df[df.experiment_variant == 1].purchase\n",
    "sample2 = df[df.experiment_variant == 0].purchase\n",
    "aa_test(sample1, sample2)"
   ]
  },
  {
   "cell_type": "code",
   "execution_count": 15,
   "metadata": {},
   "outputs": [
    {
     "data": {
      "text/html": [
       "<div>\n",
       "<style scoped>\n",
       "    .dataframe tbody tr th:only-of-type {\n",
       "        vertical-align: middle;\n",
       "    }\n",
       "\n",
       "    .dataframe tbody tr th {\n",
       "        vertical-align: top;\n",
       "    }\n",
       "\n",
       "    .dataframe thead th {\n",
       "        text-align: right;\n",
       "    }\n",
       "</style>\n",
       "<table border=\"1\" class=\"dataframe\">\n",
       "  <thead>\n",
       "    <tr style=\"text-align: right;\">\n",
       "      <th></th>\n",
       "      <th></th>\n",
       "      <th>conversion</th>\n",
       "      <th>num_of_users</th>\n",
       "    </tr>\n",
       "    <tr>\n",
       "      <th>experiment_variant</th>\n",
       "      <th>version</th>\n",
       "      <th></th>\n",
       "      <th></th>\n",
       "    </tr>\n",
       "  </thead>\n",
       "  <tbody>\n",
       "    <tr>\n",
       "      <th rowspan=\"4\" valign=\"top\">0</th>\n",
       "      <th>v2.8.0</th>\n",
       "      <td>0.000993</td>\n",
       "      <td>41283</td>\n",
       "    </tr>\n",
       "    <tr>\n",
       "      <th>v2.9.0</th>\n",
       "      <td>0.074658</td>\n",
       "      <td>11921</td>\n",
       "    </tr>\n",
       "    <tr>\n",
       "      <th>v3.7.4.0</th>\n",
       "      <td>0.059943</td>\n",
       "      <td>4204</td>\n",
       "    </tr>\n",
       "    <tr>\n",
       "      <th>v3.8.0.0</th>\n",
       "      <td>0.057604</td>\n",
       "      <td>5694</td>\n",
       "    </tr>\n",
       "    <tr>\n",
       "      <th rowspan=\"4\" valign=\"top\">1</th>\n",
       "      <th>v2.8.0</th>\n",
       "      <td>0.045606</td>\n",
       "      <td>41552</td>\n",
       "    </tr>\n",
       "    <tr>\n",
       "      <th>v2.9.0</th>\n",
       "      <td>0.071304</td>\n",
       "      <td>12033</td>\n",
       "    </tr>\n",
       "    <tr>\n",
       "      <th>v3.7.4.0</th>\n",
       "      <td>0.063018</td>\n",
       "      <td>4221</td>\n",
       "    </tr>\n",
       "    <tr>\n",
       "      <th>v3.8.0.0</th>\n",
       "      <td>0.062848</td>\n",
       "      <td>6110</td>\n",
       "    </tr>\n",
       "  </tbody>\n",
       "</table>\n",
       "</div>"
      ],
      "text/plain": [
       "                             conversion  num_of_users\n",
       "experiment_variant version                           \n",
       "0                  v2.8.0      0.000993         41283\n",
       "                   v2.9.0      0.074658         11921\n",
       "                   v3.7.4.0    0.059943          4204\n",
       "                   v3.8.0.0    0.057604          5694\n",
       "1                  v2.8.0      0.045606         41552\n",
       "                   v2.9.0      0.071304         12033\n",
       "                   v3.7.4.0    0.063018          4221\n",
       "                   v3.8.0.0    0.062848          6110"
      ]
     },
     "execution_count": 15,
     "metadata": {},
     "output_type": "execute_result"
    }
   ],
   "source": [
    "# Т.к. у нас есть данные только по версии приложения, варианту группы и факту покупки, анализируем именно эти\n",
    "# показатели. Видим по количеству пользователей, что сплитовалка по всем вариантам группы и версии приложения\n",
    "# работает корректно в рамках количества людей.\n",
    "\n",
    "# Однако также мы видим, что конверсия немного отличается в каждой из версий приложения, но разительное отличие\n",
    "# набюлюдается в v2.8.0 (а именно - почти в 46 раз!).\n",
    "\n",
    "df.groupby(['experiment_variant', 'version']) \\\n",
    "    .agg({'purchase': 'mean', 'version':'count'}) \\\n",
    "    .rename(columns={'purchase':'conversion', 'version':'num_of_users'})"
   ]
  },
  {
   "cell_type": "code",
   "execution_count": 16,
   "metadata": {},
   "outputs": [
    {
     "data": {
      "text/html": [
       "<div>\n",
       "<style scoped>\n",
       "    .dataframe tbody tr th:only-of-type {\n",
       "        vertical-align: middle;\n",
       "    }\n",
       "\n",
       "    .dataframe tbody tr th {\n",
       "        vertical-align: top;\n",
       "    }\n",
       "\n",
       "    .dataframe thead th {\n",
       "        text-align: right;\n",
       "    }\n",
       "</style>\n",
       "<table border=\"1\" class=\"dataframe\">\n",
       "  <thead>\n",
       "    <tr style=\"text-align: right;\">\n",
       "      <th></th>\n",
       "      <th></th>\n",
       "      <th>conversion_rate</th>\n",
       "    </tr>\n",
       "    <tr>\n",
       "      <th>experiment_variant</th>\n",
       "      <th>version</th>\n",
       "      <th></th>\n",
       "    </tr>\n",
       "  </thead>\n",
       "  <tbody>\n",
       "    <tr>\n",
       "      <th rowspan=\"4\" valign=\"top\">0</th>\n",
       "      <th>v2.8.0</th>\n",
       "      <td>0.10</td>\n",
       "    </tr>\n",
       "    <tr>\n",
       "      <th>v2.9.0</th>\n",
       "      <td>7.47</td>\n",
       "    </tr>\n",
       "    <tr>\n",
       "      <th>v3.7.4.0</th>\n",
       "      <td>5.99</td>\n",
       "    </tr>\n",
       "    <tr>\n",
       "      <th>v3.8.0.0</th>\n",
       "      <td>5.76</td>\n",
       "    </tr>\n",
       "    <tr>\n",
       "      <th rowspan=\"4\" valign=\"top\">1</th>\n",
       "      <th>v2.8.0</th>\n",
       "      <td>4.56</td>\n",
       "    </tr>\n",
       "    <tr>\n",
       "      <th>v2.9.0</th>\n",
       "      <td>7.13</td>\n",
       "    </tr>\n",
       "    <tr>\n",
       "      <th>v3.7.4.0</th>\n",
       "      <td>6.30</td>\n",
       "    </tr>\n",
       "    <tr>\n",
       "      <th>v3.8.0.0</th>\n",
       "      <td>6.28</td>\n",
       "    </tr>\n",
       "  </tbody>\n",
       "</table>\n",
       "</div>"
      ],
      "text/plain": [
       "                             conversion_rate\n",
       "experiment_variant version                  \n",
       "0                  v2.8.0               0.10\n",
       "                   v2.9.0               7.47\n",
       "                   v3.7.4.0             5.99\n",
       "                   v3.8.0.0             5.76\n",
       "1                  v2.8.0               4.56\n",
       "                   v2.9.0               7.13\n",
       "                   v3.7.4.0             6.30\n",
       "                   v3.8.0.0             6.28"
      ]
     },
     "execution_count": 16,
     "metadata": {},
     "output_type": "execute_result"
    }
   ],
   "source": [
    "# Подсчет конверсии. Видим, что конверсия упала при перехроде с v2.9.0 на v3.7.4.0 и далее еще раз упала при \n",
    "# переходе на v3.8.0.0. Пичем это случилось в обоих вариантах эксперимента.\n",
    "\n",
    "df.groupby(['experiment_variant', 'version']) \\\n",
    "    .agg({'purchase': 'mean'}).mul(100).round(2) \\\n",
    "    .rename(columns={'purchase': 'conversion_rate'})"
   ]
  },
  {
   "cell_type": "code",
   "execution_count": 22,
   "metadata": {},
   "outputs": [],
   "source": [
    "# Делаем последовательно А/А тесты по всем группам, в результате которых мы также видим невероятно высокий \n",
    "# FPR по v2.8.0. По другим версиям есть значения тоже на грани, но они не сильно выбиваются из общей картины."
   ]
  },
  {
   "cell_type": "code",
   "execution_count": 18,
   "metadata": {},
   "outputs": [
    {
     "data": {
      "application/vnd.jupyter.widget-view+json": {
       "model_id": "45509035b430435485562941baa90828",
       "version_major": 2,
       "version_minor": 0
      },
      "text/plain": [
       "HBox(children=(FloatProgress(value=0.0, max=1000.0), HTML(value='')))"
      ]
     },
     "metadata": {},
     "output_type": "display_data"
    },
    {
     "name": "stdout",
     "output_type": "stream",
     "text": [
      "\n"
     ]
    },
    {
     "data": {
      "image/png": "[encoded data removed]",
      "text/plain": [
       "<Figure size 432x288 with 1 Axes>"
      ]
     },
     "metadata": {},
     "output_type": "display_data"
    },
    {
     "data": {
      "text/plain": [
       "{'Number od simulations': 1000,\n",
       " 'Sub sample size': 1000,\n",
       " 'Alpha': 0.05,\n",
       " 'FPR': 1.0}"
      ]
     },
     "execution_count": 18,
     "metadata": {},
     "output_type": "execute_result"
    }
   ],
   "source": [
    "s1 = df[df.experiment_variant == 0].query('version == \"v2.8.0\"').purchase\n",
    "s2 = df[df.experiment_variant == 1].query('version == \"v2.8.0\"').purchase\n",
    "aa_test(s1, s2)"
   ]
  },
  {
   "cell_type": "code",
   "execution_count": 19,
   "metadata": {},
   "outputs": [
    {
     "data": {
      "application/vnd.jupyter.widget-view+json": {
       "model_id": "6954282e3ade4ad89840488e9d8b51f6",
       "version_major": 2,
       "version_minor": 0
      },
      "text/plain": [
       "HBox(children=(FloatProgress(value=0.0, max=1000.0), HTML(value='')))"
      ]
     },
     "metadata": {},
     "output_type": "display_data"
    },
    {
     "name": "stdout",
     "output_type": "stream",
     "text": [
      "\n"
     ]
    },
    {
     "data": {
      "image/png": "[encoded data removed]",
      "text/plain": [
       "<Figure size 432x288 with 1 Axes>"
      ]
     },
     "metadata": {},
     "output_type": "display_data"
    },
    {
     "data": {
      "text/plain": [
       "{'Number od simulations': 1000,\n",
       " 'Sub sample size': 1000,\n",
       " 'Alpha': 0.05,\n",
       " 'FPR': 0.047}"
      ]
     },
     "execution_count": 19,
     "metadata": {},
     "output_type": "execute_result"
    }
   ],
   "source": [
    "s1 = df[df.experiment_variant == 0].query('version == \"v2.9.0\"').purchase\n",
    "s2 = df[df.experiment_variant == 1].query('version == \"v2.9.0\"').purchase\n",
    "aa_test(s1, s2)"
   ]
  },
  {
   "cell_type": "code",
   "execution_count": 20,
   "metadata": {},
   "outputs": [
    {
     "data": {
      "application/vnd.jupyter.widget-view+json": {
       "model_id": "f53fcf27d7694e30b0b5cf5011d7429d",
       "version_major": 2,
       "version_minor": 0
      },
      "text/plain": [
       "HBox(children=(FloatProgress(value=0.0, max=1000.0), HTML(value='')))"
      ]
     },
     "metadata": {},
     "output_type": "display_data"
    },
    {
     "name": "stdout",
     "output_type": "stream",
     "text": [
      "\n"
     ]
    },
    {
     "data": {
      "image/png": "[encoded data removed]",
      "text/plain": [
       "<Figure size 432x288 with 1 Axes>"
      ]
     },
     "metadata": {},
     "output_type": "display_data"
    },
    {
     "data": {
      "text/plain": [
       "{'Number od simulations': 1000,\n",
       " 'Sub sample size': 1000,\n",
       " 'Alpha': 0.05,\n",
       " 'FPR': 0.045}"
      ]
     },
     "execution_count": 20,
     "metadata": {},
     "output_type": "execute_result"
    }
   ],
   "source": [
    "s1 = df[df.experiment_variant == 0].query('version == \"v3.7.4.0\"').purchase\n",
    "s2 = df[df.experiment_variant == 1].query('version == \"v3.7.4.0\"').purchase\n",
    "aa_test(s1, s2)"
   ]
  },
  {
   "cell_type": "code",
   "execution_count": 21,
   "metadata": {},
   "outputs": [
    {
     "data": {
      "application/vnd.jupyter.widget-view+json": {
       "model_id": "033ced11e66246eba0ccb6c467042eb9",
       "version_major": 2,
       "version_minor": 0
      },
      "text/plain": [
       "HBox(children=(FloatProgress(value=0.0, max=1000.0), HTML(value='')))"
      ]
     },
     "metadata": {},
     "output_type": "display_data"
    },
    {
     "name": "stdout",
     "output_type": "stream",
     "text": [
      "\n"
     ]
    },
    {
     "data": {
      "image/png": "[encoded data removed]",
      "text/plain": [
       "<Figure size 432x288 with 1 Axes>"
      ]
     },
     "metadata": {},
     "output_type": "display_data"
    },
    {
     "data": {
      "text/plain": [
       "{'Number od simulations': 1000,\n",
       " 'Sub sample size': 1000,\n",
       " 'Alpha': 0.05,\n",
       " 'FPR': 0.054}"
      ]
     },
     "execution_count": 21,
     "metadata": {},
     "output_type": "execute_result"
    }
   ],
   "source": [
    "s1 = df[df.experiment_variant == 0].query('version == \"v3.8.0.0\"').purchase\n",
    "s2 = df[df.experiment_variant == 1].query('version == \"v3.8.0.0\"').purchase\n",
    "aa_test(s1, s2)"
   ]
  },
  {
   "cell_type": "code",
   "execution_count": 23,
   "metadata": {},
   "outputs": [],
   "source": [
    "# Делаем А/А тест, исключая версию v2.8.0. И видим, что по сравнению с первым тестом, который мы делали, в этом\n",
    "# FPR ниже Alpha, который мы обозначили в рамках эксперимента."
   ]
  },
  {
   "cell_type": "code",
   "execution_count": 24,
   "metadata": {},
   "outputs": [
    {
     "data": {
      "application/vnd.jupyter.widget-view+json": {
       "model_id": "05257fe904d64d72a77dbfb0064de361",
       "version_major": 2,
       "version_minor": 0
      },
      "text/plain": [
       "HBox(children=(FloatProgress(value=0.0, max=1000.0), HTML(value='')))"
      ]
     },
     "metadata": {},
     "output_type": "display_data"
    },
    {
     "name": "stdout",
     "output_type": "stream",
     "text": [
      "\n"
     ]
    },
    {
     "data": {
      "image/png": "[encoded data removed]",
      "text/plain": [
       "<Figure size 432x288 with 1 Axes>"
      ]
     },
     "metadata": {},
     "output_type": "display_data"
    },
    {
     "data": {
      "text/plain": [
       "{'Number od simulations': 1000,\n",
       " 'Sub sample size': 1000,\n",
       " 'Alpha': 0.05,\n",
       " 'FPR': 0.038}"
      ]
     },
     "execution_count": 24,
     "metadata": {},
     "output_type": "execute_result"
    }
   ],
   "source": [
    "s1 = df[(df.experiment_variant == 0) & (df.version != 'v2.8.0')].purchase\n",
    "s2 = df[(df.experiment_variant == 1) & (df.version != 'v2.8.0')].purchase\n",
    "aa_test(s1, s2)"
   ]
  },
  {
   "cell_type": "markdown",
   "metadata": {},
   "source": [
    "### Ответ:"
   ]
  },
  {
   "cell_type": "markdown",
   "metadata": {},
   "source": [
    "Основная поломка в данном задании заключается в версии приложения. В рамках самой старой версии v2.8.0 что-то сломалось, из за чего в разные группы А/А теста у нас попадают покупатели с невероятно сильно отличающейся конверсией.\n",
    "\n",
    "Для более детального анализа причины нам не достает данных, но пока мы не разберемся и не починим систему так, чтобы в две группы, в рамках А/А теста, у нас попадали люди с одинаковой конверсией, эту группу стоит исключить из дальнейших А/Б тестов, чтобы они не смещали общую картину."
   ]
  },
  {
   "cell_type": "markdown",
   "metadata": {},
   "source": [
    "# ответ преподавателя: вы верно решили задание!\n",
    "\n",
    "Логика решения задачи была верной: вы последовательно сравнивали градации в измерениях по целевой переменной. \n"
   ]
  },
  {
   "cell_type": "markdown",
   "metadata": {},
   "source": [
    "В качестве бонуса, ниже показано альтернативное решение задачи"
   ]
  },
  {
   "cell_type": "code",
   "execution_count": 6,
   "metadata": {
    "scrolled": true
   },
   "outputs": [
    {
     "data": {
      "text/html": [
       "<div>\n",
       "<style scoped>\n",
       "    .dataframe tbody tr th:only-of-type {\n",
       "        vertical-align: middle;\n",
       "    }\n",
       "\n",
       "    .dataframe tbody tr th {\n",
       "        vertical-align: top;\n",
       "    }\n",
       "\n",
       "    .dataframe thead th {\n",
       "        text-align: right;\n",
       "    }\n",
       "</style>\n",
       "<table border=\"1\" class=\"dataframe\">\n",
       "  <thead>\n",
       "    <tr style=\"text-align: right;\">\n",
       "      <th></th>\n",
       "      <th>uid</th>\n",
       "      <th>experimentVariant</th>\n",
       "      <th>version</th>\n",
       "      <th>purchase</th>\n",
       "    </tr>\n",
       "  </thead>\n",
       "  <tbody>\n",
       "    <tr>\n",
       "      <th>1</th>\n",
       "      <td>c4ca4238a0b923820dcc509a6f75849b</td>\n",
       "      <td>1</td>\n",
       "      <td>v2.8.0</td>\n",
       "      <td>0</td>\n",
       "    </tr>\n",
       "    <tr>\n",
       "      <th>2</th>\n",
       "      <td>c81e728d9d4c2f636f067f89cc14862c</td>\n",
       "      <td>0</td>\n",
       "      <td>v2.9.0</td>\n",
       "      <td>0</td>\n",
       "    </tr>\n",
       "    <tr>\n",
       "      <th>3</th>\n",
       "      <td>eccbc87e4b5ce2fe28308fd9f2a7baf3</td>\n",
       "      <td>1</td>\n",
       "      <td>v2.9.0</td>\n",
       "      <td>0</td>\n",
       "    </tr>\n",
       "    <tr>\n",
       "      <th>4</th>\n",
       "      <td>a87ff679a2f3e71d9181a67b7542122c</td>\n",
       "      <td>1</td>\n",
       "      <td>v2.8.0</td>\n",
       "      <td>0</td>\n",
       "    </tr>\n",
       "    <tr>\n",
       "      <th>5</th>\n",
       "      <td>e4da3b7fbbce2345d7772b0674a318d5</td>\n",
       "      <td>1</td>\n",
       "      <td>v2.8.0</td>\n",
       "      <td>0</td>\n",
       "    </tr>\n",
       "  </tbody>\n",
       "</table>\n",
       "</div>"
      ],
      "text/plain": [
       "                                uid  experimentVariant version  purchase\n",
       "1  c4ca4238a0b923820dcc509a6f75849b                  1  v2.8.0         0\n",
       "2  c81e728d9d4c2f636f067f89cc14862c                  0  v2.9.0         0\n",
       "3  eccbc87e4b5ce2fe28308fd9f2a7baf3                  1  v2.9.0         0\n",
       "4  a87ff679a2f3e71d9181a67b7542122c                  1  v2.8.0         0\n",
       "5  e4da3b7fbbce2345d7772b0674a318d5                  1  v2.8.0         0"
      ]
     },
     "execution_count": 6,
     "metadata": {},
     "output_type": "execute_result"
    }
   ],
   "source": [
    "\n",
    "from statsmodels.stats.proportion import proportions_ztest\n",
    "df = pd.read_csv('hw_aa.csv', sep=';',index_col=0, decimal=',')\n",
    "df.head()"
   ]
  },
  {
   "cell_type": "code",
   "execution_count": 9,
   "metadata": {},
   "outputs": [
    {
     "name": "stderr",
     "output_type": "stream",
     "text": [
      "/Users/iskander/opt/anaconda3/lib/python3.7/site-packages/statsmodels/stats/weightstats.py:671: RuntimeWarning: invalid value encountered in double_scalars\n",
      "  zstat = value / std_diff\n",
      "/Users/iskander/opt/anaconda3/lib/python3.7/site-packages/ipykernel_launcher.py:33: RuntimeWarning: invalid value encountered in less_equal\n"
     ]
    },
    {
     "data": {
      "text/html": [
       "<div>\n",
       "<style scoped>\n",
       "    .dataframe tbody tr th:only-of-type {\n",
       "        vertical-align: middle;\n",
       "    }\n",
       "\n",
       "    .dataframe tbody tr th {\n",
       "        vertical-align: top;\n",
       "    }\n",
       "\n",
       "    .dataframe thead th {\n",
       "        text-align: right;\n",
       "    }\n",
       "</style>\n",
       "<table border=\"1\" class=\"dataframe\">\n",
       "  <thead>\n",
       "    <tr style=\"text-align: right;\">\n",
       "      <th></th>\n",
       "      <th>group</th>\n",
       "      <th>cr_x</th>\n",
       "      <th>cr_y</th>\n",
       "      <th>fpr_95</th>\n",
       "      <th>is_fpr</th>\n",
       "    </tr>\n",
       "  </thead>\n",
       "  <tbody>\n",
       "    <tr>\n",
       "      <th>0</th>\n",
       "      <td>3.8.2.0</td>\n",
       "      <td>0.066557</td>\n",
       "      <td>0.067081</td>\n",
       "      <td>0.044</td>\n",
       "      <td>True</td>\n",
       "    </tr>\n",
       "    <tr>\n",
       "      <th>1</th>\n",
       "      <td>2.8.0</td>\n",
       "      <td>0.000000</td>\n",
       "      <td>0.045606</td>\n",
       "      <td>1.000</td>\n",
       "      <td>False</td>\n",
       "    </tr>\n",
       "    <tr>\n",
       "      <th>2</th>\n",
       "      <td>2.9.0</td>\n",
       "      <td>0.074658</td>\n",
       "      <td>0.071304</td>\n",
       "      <td>0.044</td>\n",
       "      <td>True</td>\n",
       "    </tr>\n",
       "    <tr>\n",
       "      <th>3</th>\n",
       "      <td>3.7.4.0</td>\n",
       "      <td>0.059943</td>\n",
       "      <td>0.063018</td>\n",
       "      <td>0.038</td>\n",
       "      <td>True</td>\n",
       "    </tr>\n",
       "    <tr>\n",
       "      <th>4</th>\n",
       "      <td>3.8.0.0</td>\n",
       "      <td>0.057604</td>\n",
       "      <td>0.062848</td>\n",
       "      <td>0.046</td>\n",
       "      <td>True</td>\n",
       "    </tr>\n",
       "    <tr>\n",
       "      <th>5</th>\n",
       "      <td>3.8.3.0</td>\n",
       "      <td>0.060475</td>\n",
       "      <td>0.052519</td>\n",
       "      <td>0.000</td>\n",
       "      <td>True</td>\n",
       "    </tr>\n",
       "    <tr>\n",
       "      <th>6</th>\n",
       "      <td>3.8.1.0</td>\n",
       "      <td>0.000000</td>\n",
       "      <td>0.000000</td>\n",
       "      <td>0.000</td>\n",
       "      <td>True</td>\n",
       "    </tr>\n",
       "    <tr>\n",
       "      <th>7</th>\n",
       "      <td>3.7.2.0</td>\n",
       "      <td>0.000000</td>\n",
       "      <td>0.000000</td>\n",
       "      <td>0.000</td>\n",
       "      <td>True</td>\n",
       "    </tr>\n",
       "  </tbody>\n",
       "</table>\n",
       "</div>"
      ],
      "text/plain": [
       "     group      cr_x      cr_y  fpr_95  is_fpr\n",
       "0  3.8.2.0  0.066557  0.067081   0.044    True\n",
       "1    2.8.0  0.000000  0.045606   1.000   False\n",
       "2    2.9.0  0.074658  0.071304   0.044    True\n",
       "3  3.7.4.0  0.059943  0.063018   0.038    True\n",
       "4  3.8.0.0  0.057604  0.062848   0.046    True\n",
       "5  3.8.3.0  0.060475  0.052519   0.000    True\n",
       "6  3.8.1.0  0.000000  0.000000   0.000    True\n",
       "7  3.7.2.0  0.000000  0.000000   0.000    True"
      ]
     },
     "execution_count": 9,
     "metadata": {},
     "output_type": "execute_result"
    }
   ],
   "source": [
    "\n",
    "# основная функция для расчета АА с синтетическими тестами\n",
    "def metric_fpr(df_x, df_y, metric_col, n_sim, n_s_perc, n_s_min, estimator, *args, **kwargs):\n",
    "    stat_res = {\n",
    "        'aa' : {\n",
    "            'pvalue': [], \n",
    "            'mu_x': [], \n",
    "            'mu_y': []\n",
    "        },\n",
    "        'fpr': {\n",
    "            'fpr_95': 0\n",
    "        }\n",
    "    }\n",
    "    \n",
    "    for sim in range(n_sim):\n",
    "        \n",
    "        # по-умолчанию берем %(n_s_perc) наблюдений от исходной, но не более n_s_min\n",
    "        x = df_x[metric_col].sample(int(min(n_s_min, len(df_x) * n_s_perc)), replace = False).values \n",
    "        y = df_y[metric_col].sample(int(min(n_s_min, len(df_y) * n_s_perc)), replace = False).values\n",
    "\n",
    "        if estimator == 'prop':\n",
    "            counts = np.array([sum(x),sum(y)])\n",
    "            nobs = np.array([len(x),len(y)])\n",
    "            stat, pvalue = proportions_ztest(counts, nobs, *args, **kwargs)\n",
    "        \n",
    "        if estimator == 'ttest':\n",
    "            stat, pvalue = stats.ttest_ind(x, y, *args, **kwargs)\n",
    "            \n",
    "        stat_res['aa']['pvalue'].append(pvalue)\n",
    "        stat_res['aa']['mu_x'].append(np.mean(x))\n",
    "        stat_res['aa']['mu_y'].append(np.mean(y))\n",
    "        \n",
    "    \n",
    "    stat_res['fpr']['fpr_95'] =  float(sum(np.array(stat_res['aa']['pvalue']) <= 0.05) / n_sim)\n",
    "    \n",
    "    return stat_res\n",
    "\n",
    "# считаем АА по градациям внутри измерений (группировок)\n",
    "def fpr_report(df, metric_col, variant_col, group_col, n_sim, n_s_perc, n_s_min, estimator, *args, **kwargs):\n",
    "    list_fpr = []\n",
    "    list_group = list(pd.unique(df[group_col]))\n",
    "    \n",
    "    for v in range(len(list_group)):\n",
    "        df_x = df[(df[variant_col] == 0) & (df[group_col] == list_group[v])]\n",
    "        df_y = df[(df[variant_col] == 1) & (df[group_col] == list_group[v])]\n",
    "        \n",
    "        if (len(df_x) == 0) | (len(df_y) == 0):\n",
    "            continue\n",
    "        else:\n",
    "            cr_x = sum(df_x[metric]) / len(df_x)\n",
    "            cr_y = sum(df_y[metric]) / len(df_y)\n",
    "\n",
    "            fpr = {}\n",
    "            fpr = metric_fpr(\n",
    "                df_x = df_x, \n",
    "                df_y = df_y, \n",
    "                metric_col = metric, \n",
    "                n_sim = n_sim,\n",
    "                n_s_perc = n_s_perc,\n",
    "                n_s_min = n_s_min,\n",
    "                estimator = estimator, *args, **kwargs\n",
    "            )\n",
    "            is_fpr = (fpr['fpr']['fpr_95']<=0.05)\n",
    "            list_fpr.append([list_group[v],cr_x,cr_y,fpr['fpr']['fpr_95'],is_fpr])\n",
    "\n",
    "    report = pd.DataFrame.from_records(list_fpr, columns=['group','cr_x','cr_y','fpr_95','is_fpr'])\n",
    "    \n",
    "    return report\n",
    "\n",
    "# параметры\n",
    "n_sim = 500 # количество симуляций\n",
    "n_s_perc = 0.9 # % наблюдений в подвыборках\n",
    "n_s_min = 1000 # но не более константы\n",
    "metric = 'purchase'\n",
    "variant = 'experimentVariant'\n",
    "group = 'version'\n",
    "\n",
    "res = fpr_report(\n",
    "    df = df,\n",
    "    metric_col = metric,\n",
    "    variant_col = variant,\n",
    "    group_col = group,\n",
    "    n_sim = n_sim,\n",
    "    n_s_perc = n_s_perc,\n",
    "    n_s_min = n_s_min,\n",
    "    estimator = 'prop'\n",
    ")\n",
    "\n",
    "res"
   ]
  },
  {
   "cell_type": "markdown",
   "metadata": {},
   "source": [
    "Видим, что проблемы в 2.8.0 версии. По сути мы могли бы итерироваться по другим измерениям и в конце концов нашли бы причину на самом низком уровне"
   ]
  },
  {
   "cell_type": "code",
   "execution_count": 8,
   "metadata": {
    "scrolled": true
   },
   "outputs": [
    {
     "data": {
      "text/html": [
       "<div>\n",
       "<style scoped>\n",
       "    .dataframe tbody tr th:only-of-type {\n",
       "        vertical-align: middle;\n",
       "    }\n",
       "\n",
       "    .dataframe tbody tr th {\n",
       "        vertical-align: top;\n",
       "    }\n",
       "\n",
       "    .dataframe thead th {\n",
       "        text-align: right;\n",
       "    }\n",
       "</style>\n",
       "<table border=\"1\" class=\"dataframe\">\n",
       "  <thead>\n",
       "    <tr style=\"text-align: right;\">\n",
       "      <th></th>\n",
       "      <th>group</th>\n",
       "      <th>cr_x</th>\n",
       "      <th>cr_y</th>\n",
       "      <th>fpr_95</th>\n",
       "      <th>is_fpr</th>\n",
       "    </tr>\n",
       "  </thead>\n",
       "  <tbody>\n",
       "    <tr>\n",
       "      <th>0</th>\n",
       "      <td>ANDROID</td>\n",
       "      <td>0.065903</td>\n",
       "      <td>0.066633</td>\n",
       "      <td>0.038</td>\n",
       "      <td>True</td>\n",
       "    </tr>\n",
       "    <tr>\n",
       "      <th>1</th>\n",
       "      <td>IOS</td>\n",
       "      <td>0.074658</td>\n",
       "      <td>0.071292</td>\n",
       "      <td>0.044</td>\n",
       "      <td>True</td>\n",
       "    </tr>\n",
       "  </tbody>\n",
       "</table>\n",
       "</div>"
      ],
      "text/plain": [
       "     group      cr_x      cr_y  fpr_95  is_fpr\n",
       "0  ANDROID  0.065903  0.066633   0.038    True\n",
       "1      IOS  0.074658  0.071292   0.044    True"
      ]
     },
     "execution_count": 8,
     "metadata": {},
     "output_type": "execute_result"
    }
   ],
   "source": [
    "np.random.seed(1)\n",
    "group = 'operatingSystem'\n",
    "df_fltrd = df[(df['version']!='2.8.0')]\n",
    "\n",
    "res = fpr_report(\n",
    "    df = df_fltrd,\n",
    "    metric_col = metric,\n",
    "    variant_col = variant,\n",
    "    group_col = group,\n",
    "    n_sim = n_sim,\n",
    "    n_s_perc = n_s_perc,\n",
    "    n_s_min = n_s_min,\n",
    "    estimator = 'prop'\n",
    ")\n",
    "\n",
    "res\n"
   ]
  },
  {
   "cell_type": "code",
   "execution_count": null,
   "metadata": {},
   "outputs": [],
   "source": []
  }
 ],
 "metadata": {
  "kernelspec": {
   "display_name": "Python 3 (ipykernel)",
   "language": "python",
   "name": "python3"
  },
  "language_info": {
   "codemirror_mode": {
    "name": "ipython",
    "version": 3
   },
   "file_extension": ".py",
   "mimetype": "text/x-python",
   "name": "python",
   "nbconvert_exporter": "python",
   "pygments_lexer": "ipython3",
   "version": "3.9.7"
  }
 },
 "nbformat": 4,
 "nbformat_minor": 4
}
