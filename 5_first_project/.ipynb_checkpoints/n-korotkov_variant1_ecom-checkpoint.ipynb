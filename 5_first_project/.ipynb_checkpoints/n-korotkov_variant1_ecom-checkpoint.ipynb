{
 "cells": [
  {
   "cell_type": "markdown",
   "metadata": {},
   "source": [
    "# First Project (e-commerce)"
   ]
  },
  {
   "cell_type": "markdown",
   "metadata": {},
   "source": [
    "Здравствуйте дорогие кураторы! \n",
    "\n",
    "Ниже выполнеенное мной задание в рамках промежуточного проекта по анализу данных.\n",
    "Это моя первая подобная работа, поэтому выполнял ее читая статьи, гугля наиболее верные варинаты решения и т.д. \n",
    "Сделал по максимуму и очень надеюсь, что получился качественный анализ.\n",
    "\n",
    "Очень буду рад, если сможете подсветить ошибки, неточности, более эффективные способы решения (а такие, уверен, что есть). Это очень поможет мне вырасти над собой и научиться новому, т.к. очень хочу сменить сферу деятельности.\n",
    "\n",
    "Заранее спасибо!\n",
    "\n",
    "С уважением,\n",
    "Никита Коротков\n",
    "ns.korotkov@yandex.ru"
   ]
  },
  {
   "cell_type": "code",
   "execution_count": 87,
   "metadata": {},
   "outputs": [],
   "source": [
    "# Импортируем необходимые библиотеки.\n",
    "\n",
    "import pandas as pd\n",
    "import numpy as np\n",
    "\n",
    "import matplotlib.pyplot as plt\n",
    "import seaborn as sns\n",
    "import plotly.express as px\n",
    "\n",
    "import requests as rq\n",
    "from urllib.parse import urlencode\n",
    "import warnings\n",
    "\n",
    "import calendar\n",
    "from datetime import timedelta\n",
    "\n",
    "%matplotlib inline"
   ]
  },
  {
   "cell_type": "code",
   "execution_count": 82,
   "metadata": {},
   "outputs": [],
   "source": [
    "# Объявляем полезные функции."
   ]
  },
  {
   "cell_type": "code",
   "execution_count": 97,
   "metadata": {},
   "outputs": [],
   "source": [
    "def eda(data_frame, describe='yes'):\n",
    "    values = {'NaNs':[], 'dups':[], 'nunique':[]}\n",
    "    for column in data_frame.columns:\n",
    "        values['NaNs'].append(data_frame[str(column)].isna().sum())\n",
    "        values['dups'].append(data_frame[str(column)].duplicated().sum())\n",
    "        values['nunique'].append(data_frame[str(column)].nunique())\n",
    "\n",
    "    print('Exploratory Data Analysis: \\n')\n",
    "    print(f'Number of Rows: {data_frame.shape[0]}, and Columns: {data_frame.shape[1]} \\n')\n",
    "    print(pd.DataFrame(values, index=data_frame.columns))\n",
    "    print('\\n---------------------------------------------------------\\n')\n",
    "    print(data_frame.dtypes)\n",
    "    print('\\n---------------------------------------------------------\\n')\n",
    "    if describe == 'yes':\n",
    "        print(data_frame.describe())        "
   ]
  },
  {
   "cell_type": "code",
   "execution_count": 88,
   "metadata": {},
   "outputs": [],
   "source": [
    "# turn-off warnings (add only after writing the code)\n",
    "pd.options.mode.chained_assignment = None\n",
    "warnings.simplefilter(action='ignore', category=FutureWarning)"
   ]
  },
  {
   "cell_type": "code",
   "execution_count": 5,
   "metadata": {},
   "outputs": [],
   "source": [
    "base_url = 'https://cloud-api.yandex.net/v1/disk/public/resources/download?'\n",
    "customers = 'https://disk.yandex.ru/d/FUi5uSd6BfG_ig'  # Таблица с уникальными идентификаторами пользователей\n",
    "olist_orders = 'https://disk.yandex.ru/d/t9Li4JOfgxuUrg' # Таблица заказов\n",
    "olist_items = 'https://disk.yandex.ru/d/Gbt-yAcQrOe3Pw' # Товарные позиции, входящие в заказы\n",
    "\n",
    "# Получаем загрузочные ссылки\n",
    "download_url_customers = rq.get(base_url + urlencode(dict(public_key=customers))).json()['href']\n",
    "download_url_olist_items = rq.get(base_url + urlencode(dict(public_key=olist_items))).json()['href']\n",
    "download_url_olist_orders = rq.get(base_url + urlencode(dict(public_key=olist_orders))).json()['href']"
   ]
  },
  {
   "cell_type": "code",
   "execution_count": 6,
   "metadata": {},
   "outputs": [],
   "source": [
    "# Загружаем файлы и сохраняем их.\n",
    "download_response = rq.get(download_url_customers)\n",
    "customers_df = pd.read_csv(download_url_customers)\n",
    "\n",
    "download_response = rq.get(download_url_olist_items)\n",
    "olist_items_df = pd.read_csv(download_url_olist_items,\n",
    "                            parse_dates=['shipping_limit_date'])\n",
    "\n",
    "\n",
    "download_response = rq.get(download_url_olist_orders)\n",
    "olist_orders_df = pd.read_csv(download_url_olist_orders, \n",
    "                              parse_dates=['order_purchase_timestamp', \n",
    "                                          'order_approved_at', \n",
    "                                          'order_delivered_carrier_date', \n",
    "                                          'order_delivered_customer_date', \n",
    "                                          'order_estimated_delivery_date'])"
   ]
  },
  {
   "cell_type": "markdown",
   "metadata": {},
   "source": [
    " "
   ]
  },
  {
   "cell_type": "markdown",
   "metadata": {},
   "source": [
    " "
   ]
  },
  {
   "cell_type": "markdown",
   "metadata": {},
   "source": [
    "### Customers Data Frame / Таблица с уникальными идентификаторами пользователей"
   ]
  },
  {
   "cell_type": "markdown",
   "metadata": {},
   "source": [
    "#### Описание данных:\n",
    "- `customer_id` — позаказный идентификатор пользователя (аналог номера паспорта)\n",
    "- `customer_unique_id` —  уникальный идентификатор пользователя\n",
    "- `customer_zip_code_prefix` —  почтовый индекс пользователя\n",
    "- `customer_city` —  город доставки пользователя\n",
    "- `customer_state` —  штат доставки пользователя"
   ]
  },
  {
   "cell_type": "code",
   "execution_count": 7,
   "metadata": {},
   "outputs": [
    {
     "data": {
      "text/html": [
       "<div>\n",
       "<style scoped>\n",
       "    .dataframe tbody tr th:only-of-type {\n",
       "        vertical-align: middle;\n",
       "    }\n",
       "\n",
       "    .dataframe tbody tr th {\n",
       "        vertical-align: top;\n",
       "    }\n",
       "\n",
       "    .dataframe thead th {\n",
       "        text-align: right;\n",
       "    }\n",
       "</style>\n",
       "<table border=\"1\" class=\"dataframe\">\n",
       "  <thead>\n",
       "    <tr style=\"text-align: right;\">\n",
       "      <th></th>\n",
       "      <th>customer_id</th>\n",
       "      <th>customer_unique_id</th>\n",
       "      <th>customer_zip_code_prefix</th>\n",
       "      <th>customer_city</th>\n",
       "      <th>customer_state</th>\n",
       "    </tr>\n",
       "  </thead>\n",
       "  <tbody>\n",
       "    <tr>\n",
       "      <th>0</th>\n",
       "      <td>06b8999e2fba1a1fbc88172c00ba8bc7</td>\n",
       "      <td>861eff4711a542e4b93843c6dd7febb0</td>\n",
       "      <td>14409</td>\n",
       "      <td>franca</td>\n",
       "      <td>SP</td>\n",
       "    </tr>\n",
       "    <tr>\n",
       "      <th>1</th>\n",
       "      <td>18955e83d337fd6b2def6b18a428ac77</td>\n",
       "      <td>290c77bc529b7ac935b93aa66c333dc3</td>\n",
       "      <td>9790</td>\n",
       "      <td>sao bernardo do campo</td>\n",
       "      <td>SP</td>\n",
       "    </tr>\n",
       "    <tr>\n",
       "      <th>2</th>\n",
       "      <td>4e7b3e00288586ebd08712fdd0374a03</td>\n",
       "      <td>060e732b5b29e8181a18229c7b0b2b5e</td>\n",
       "      <td>1151</td>\n",
       "      <td>sao paulo</td>\n",
       "      <td>SP</td>\n",
       "    </tr>\n",
       "    <tr>\n",
       "      <th>3</th>\n",
       "      <td>b2b6027bc5c5109e529d4dc6358b12c3</td>\n",
       "      <td>259dac757896d24d7702b9acbbff3f3c</td>\n",
       "      <td>8775</td>\n",
       "      <td>mogi das cruzes</td>\n",
       "      <td>SP</td>\n",
       "    </tr>\n",
       "    <tr>\n",
       "      <th>4</th>\n",
       "      <td>4f2d8ab171c80ec8364f7c12e35b23ad</td>\n",
       "      <td>345ecd01c38d18a9036ed96c73b8d066</td>\n",
       "      <td>13056</td>\n",
       "      <td>campinas</td>\n",
       "      <td>SP</td>\n",
       "    </tr>\n",
       "  </tbody>\n",
       "</table>\n",
       "</div>"
      ],
      "text/plain": [
       "                        customer_id                customer_unique_id  \\\n",
       "0  06b8999e2fba1a1fbc88172c00ba8bc7  861eff4711a542e4b93843c6dd7febb0   \n",
       "1  18955e83d337fd6b2def6b18a428ac77  290c77bc529b7ac935b93aa66c333dc3   \n",
       "2  4e7b3e00288586ebd08712fdd0374a03  060e732b5b29e8181a18229c7b0b2b5e   \n",
       "3  b2b6027bc5c5109e529d4dc6358b12c3  259dac757896d24d7702b9acbbff3f3c   \n",
       "4  4f2d8ab171c80ec8364f7c12e35b23ad  345ecd01c38d18a9036ed96c73b8d066   \n",
       "\n",
       "   customer_zip_code_prefix          customer_city customer_state  \n",
       "0                     14409                 franca             SP  \n",
       "1                      9790  sao bernardo do campo             SP  \n",
       "2                      1151              sao paulo             SP  \n",
       "3                      8775        mogi das cruzes             SP  \n",
       "4                     13056               campinas             SP  "
      ]
     },
     "execution_count": 7,
     "metadata": {},
     "output_type": "execute_result"
    }
   ],
   "source": [
    "customers_df.head()"
   ]
  },
  {
   "cell_type": "code",
   "execution_count": 98,
   "metadata": {},
   "outputs": [
    {
     "name": "stdout",
     "output_type": "stream",
     "text": [
      "Exploratory Data Analysis: \n",
      "\n",
      "Number of Rows: 99441, and Columns: 5 \n",
      "\n",
      "                          NaNs   dups  nunique\n",
      "customer_id                  0      0    99441\n",
      "customer_unique_id           0   3345    96096\n",
      "customer_zip_code_prefix     0  84447    14994\n",
      "customer_city                0  95322     4119\n",
      "customer_state               0  99414       27\n",
      "\n",
      "---------------------------------------------------------\n",
      "\n",
      "customer_id                 object\n",
      "customer_unique_id          object\n",
      "customer_zip_code_prefix     int64\n",
      "customer_city               object\n",
      "customer_state              object\n",
      "dtype: object\n",
      "\n",
      "---------------------------------------------------------\n",
      "\n"
     ]
    }
   ],
   "source": [
    "eda(customers_df, describe='no')"
   ]
  },
  {
   "cell_type": "markdown",
   "metadata": {},
   "source": [
    " "
   ]
  },
  {
   "cell_type": "markdown",
   "metadata": {},
   "source": [
    " "
   ]
  },
  {
   "cell_type": "markdown",
   "metadata": {},
   "source": [
    "### Orders Data Frame / Таблица заказов"
   ]
  },
  {
   "cell_type": "markdown",
   "metadata": {},
   "source": [
    "#### Описание данных:\n",
    "- `order_id` —  уникальный идентификатор заказа (номер чека)\n",
    "- `customer_id` —  позаказный идентификатор пользователя (аналог номера паспорта)\n",
    "- `order_status` —  статус заказа\n",
    "- `order_purchase_timestamp` —  время создания заказа\n",
    "- `order_approved_at` —  время подтверждения оплаты заказа\n",
    "- `order_delivered_carrier_date` —  время передачи заказа в логистическую службу\n",
    "- `order_delivered_customer_date` —  время доставки заказа\n",
    "- `order_estimated_delivery_date` —  обещанная дата доставки"
   ]
  },
  {
   "cell_type": "code",
   "execution_count": 10,
   "metadata": {},
   "outputs": [
    {
     "data": {
      "text/html": [
       "<div>\n",
       "<style scoped>\n",
       "    .dataframe tbody tr th:only-of-type {\n",
       "        vertical-align: middle;\n",
       "    }\n",
       "\n",
       "    .dataframe tbody tr th {\n",
       "        vertical-align: top;\n",
       "    }\n",
       "\n",
       "    .dataframe thead th {\n",
       "        text-align: right;\n",
       "    }\n",
       "</style>\n",
       "<table border=\"1\" class=\"dataframe\">\n",
       "  <thead>\n",
       "    <tr style=\"text-align: right;\">\n",
       "      <th></th>\n",
       "      <th>order_id</th>\n",
       "      <th>customer_id</th>\n",
       "      <th>order_status</th>\n",
       "      <th>order_purchase_timestamp</th>\n",
       "      <th>order_approved_at</th>\n",
       "      <th>order_delivered_carrier_date</th>\n",
       "      <th>order_delivered_customer_date</th>\n",
       "      <th>order_estimated_delivery_date</th>\n",
       "    </tr>\n",
       "  </thead>\n",
       "  <tbody>\n",
       "    <tr>\n",
       "      <th>0</th>\n",
       "      <td>e481f51cbdc54678b7cc49136f2d6af7</td>\n",
       "      <td>9ef432eb6251297304e76186b10a928d</td>\n",
       "      <td>delivered</td>\n",
       "      <td>2017-10-02 10:56:33</td>\n",
       "      <td>2017-10-02 11:07:15</td>\n",
       "      <td>2017-10-04 19:55:00</td>\n",
       "      <td>2017-10-10 21:25:13</td>\n",
       "      <td>2017-10-18</td>\n",
       "    </tr>\n",
       "    <tr>\n",
       "      <th>1</th>\n",
       "      <td>53cdb2fc8bc7dce0b6741e2150273451</td>\n",
       "      <td>b0830fb4747a6c6d20dea0b8c802d7ef</td>\n",
       "      <td>delivered</td>\n",
       "      <td>2018-07-24 20:41:37</td>\n",
       "      <td>2018-07-26 03:24:27</td>\n",
       "      <td>2018-07-26 14:31:00</td>\n",
       "      <td>2018-08-07 15:27:45</td>\n",
       "      <td>2018-08-13</td>\n",
       "    </tr>\n",
       "    <tr>\n",
       "      <th>2</th>\n",
       "      <td>47770eb9100c2d0c44946d9cf07ec65d</td>\n",
       "      <td>41ce2a54c0b03bf3443c3d931a367089</td>\n",
       "      <td>delivered</td>\n",
       "      <td>2018-08-08 08:38:49</td>\n",
       "      <td>2018-08-08 08:55:23</td>\n",
       "      <td>2018-08-08 13:50:00</td>\n",
       "      <td>2018-08-17 18:06:29</td>\n",
       "      <td>2018-09-04</td>\n",
       "    </tr>\n",
       "    <tr>\n",
       "      <th>3</th>\n",
       "      <td>949d5b44dbf5de918fe9c16f97b45f8a</td>\n",
       "      <td>f88197465ea7920adcdbec7375364d82</td>\n",
       "      <td>delivered</td>\n",
       "      <td>2017-11-18 19:28:06</td>\n",
       "      <td>2017-11-18 19:45:59</td>\n",
       "      <td>2017-11-22 13:39:59</td>\n",
       "      <td>2017-12-02 00:28:42</td>\n",
       "      <td>2017-12-15</td>\n",
       "    </tr>\n",
       "    <tr>\n",
       "      <th>4</th>\n",
       "      <td>ad21c59c0840e6cb83a9ceb5573f8159</td>\n",
       "      <td>8ab97904e6daea8866dbdbc4fb7aad2c</td>\n",
       "      <td>delivered</td>\n",
       "      <td>2018-02-13 21:18:39</td>\n",
       "      <td>2018-02-13 22:20:29</td>\n",
       "      <td>2018-02-14 19:46:34</td>\n",
       "      <td>2018-02-16 18:17:02</td>\n",
       "      <td>2018-02-26</td>\n",
       "    </tr>\n",
       "  </tbody>\n",
       "</table>\n",
       "</div>"
      ],
      "text/plain": [
       "                           order_id                       customer_id  \\\n",
       "0  e481f51cbdc54678b7cc49136f2d6af7  9ef432eb6251297304e76186b10a928d   \n",
       "1  53cdb2fc8bc7dce0b6741e2150273451  b0830fb4747a6c6d20dea0b8c802d7ef   \n",
       "2  47770eb9100c2d0c44946d9cf07ec65d  41ce2a54c0b03bf3443c3d931a367089   \n",
       "3  949d5b44dbf5de918fe9c16f97b45f8a  f88197465ea7920adcdbec7375364d82   \n",
       "4  ad21c59c0840e6cb83a9ceb5573f8159  8ab97904e6daea8866dbdbc4fb7aad2c   \n",
       "\n",
       "  order_status order_purchase_timestamp   order_approved_at  \\\n",
       "0    delivered      2017-10-02 10:56:33 2017-10-02 11:07:15   \n",
       "1    delivered      2018-07-24 20:41:37 2018-07-26 03:24:27   \n",
       "2    delivered      2018-08-08 08:38:49 2018-08-08 08:55:23   \n",
       "3    delivered      2017-11-18 19:28:06 2017-11-18 19:45:59   \n",
       "4    delivered      2018-02-13 21:18:39 2018-02-13 22:20:29   \n",
       "\n",
       "  order_delivered_carrier_date order_delivered_customer_date  \\\n",
       "0          2017-10-04 19:55:00           2017-10-10 21:25:13   \n",
       "1          2018-07-26 14:31:00           2018-08-07 15:27:45   \n",
       "2          2018-08-08 13:50:00           2018-08-17 18:06:29   \n",
       "3          2017-11-22 13:39:59           2017-12-02 00:28:42   \n",
       "4          2018-02-14 19:46:34           2018-02-16 18:17:02   \n",
       "\n",
       "  order_estimated_delivery_date  \n",
       "0                    2017-10-18  \n",
       "1                    2018-08-13  \n",
       "2                    2018-09-04  \n",
       "3                    2017-12-15  \n",
       "4                    2018-02-26  "
      ]
     },
     "execution_count": 10,
     "metadata": {},
     "output_type": "execute_result"
    }
   ],
   "source": [
    "olist_orders_df.head()"
   ]
  },
  {
   "cell_type": "code",
   "execution_count": 96,
   "metadata": {},
   "outputs": [
    {
     "name": "stdout",
     "output_type": "stream",
     "text": [
      "Exploratory Data Analysis: \n",
      "\n",
      "Number of Rows: 99441, and Columns: 8 \n",
      "\n",
      "                               NaNs   dups  nunique\n",
      "order_id                          0      0    99441\n",
      "customer_id                       0      0    99441\n",
      "order_status                      0  99433        8\n",
      "order_purchase_timestamp          0    566    98875\n",
      "order_approved_at               160   8707    90733\n",
      "order_delivered_carrier_date   1783  18422    81018\n",
      "order_delivered_customer_date  2965   3776    95664\n",
      "order_estimated_delivery_date     0  98982      459\n",
      "\n",
      "---------------------------------------------------------\n",
      "\n",
      "order_id                                 object\n",
      "customer_id                              object\n",
      "order_status                             object\n",
      "order_purchase_timestamp         datetime64[ns]\n",
      "order_approved_at                datetime64[ns]\n",
      "order_delivered_carrier_date     datetime64[ns]\n",
      "order_delivered_customer_date    datetime64[ns]\n",
      "order_estimated_delivery_date    datetime64[ns]\n",
      "dtype: object\n",
      "\n",
      "---------------------------------------------------------\n",
      "\n",
      "\n"
     ]
    }
   ],
   "source": [
    "eda(olist_orders_df, describe='no')"
   ]
  },
  {
   "cell_type": "code",
   "execution_count": 90,
   "metadata": {},
   "outputs": [
    {
     "data": {
      "text/html": [
       "<div>\n",
       "<style scoped>\n",
       "    .dataframe tbody tr th:only-of-type {\n",
       "        vertical-align: middle;\n",
       "    }\n",
       "\n",
       "    .dataframe tbody tr th {\n",
       "        vertical-align: top;\n",
       "    }\n",
       "\n",
       "    .dataframe thead th {\n",
       "        text-align: right;\n",
       "    }\n",
       "</style>\n",
       "<table border=\"1\" class=\"dataframe\">\n",
       "  <thead>\n",
       "    <tr style=\"text-align: right;\">\n",
       "      <th></th>\n",
       "      <th>order_id</th>\n",
       "      <th>customer_id</th>\n",
       "      <th>order_status</th>\n",
       "      <th>order_purchase_timestamp</th>\n",
       "      <th>order_approved_at</th>\n",
       "      <th>order_delivered_carrier_date</th>\n",
       "      <th>order_delivered_customer_date</th>\n",
       "      <th>order_estimated_delivery_date</th>\n",
       "    </tr>\n",
       "  </thead>\n",
       "  <tbody>\n",
       "    <tr>\n",
       "      <th>count</th>\n",
       "      <td>99441</td>\n",
       "      <td>99441</td>\n",
       "      <td>99441</td>\n",
       "      <td>99441</td>\n",
       "      <td>99281</td>\n",
       "      <td>97658</td>\n",
       "      <td>96476</td>\n",
       "      <td>99441</td>\n",
       "    </tr>\n",
       "    <tr>\n",
       "      <th>unique</th>\n",
       "      <td>99441</td>\n",
       "      <td>99441</td>\n",
       "      <td>8</td>\n",
       "      <td>98875</td>\n",
       "      <td>90733</td>\n",
       "      <td>81018</td>\n",
       "      <td>95664</td>\n",
       "      <td>459</td>\n",
       "    </tr>\n",
       "    <tr>\n",
       "      <th>top</th>\n",
       "      <td>1e30d770b3285a068012ff979103c827</td>\n",
       "      <td>5cf4d5881fdfbc98e93eb6087d217528</td>\n",
       "      <td>delivered</td>\n",
       "      <td>2018-03-31 15:08:21</td>\n",
       "      <td>2018-02-27 04:31:10</td>\n",
       "      <td>2018-05-09 15:48:00</td>\n",
       "      <td>2018-05-14 20:02:44</td>\n",
       "      <td>2017-12-20 00:00:00</td>\n",
       "    </tr>\n",
       "    <tr>\n",
       "      <th>freq</th>\n",
       "      <td>1</td>\n",
       "      <td>1</td>\n",
       "      <td>96478</td>\n",
       "      <td>3</td>\n",
       "      <td>9</td>\n",
       "      <td>47</td>\n",
       "      <td>3</td>\n",
       "      <td>522</td>\n",
       "    </tr>\n",
       "    <tr>\n",
       "      <th>first</th>\n",
       "      <td>NaN</td>\n",
       "      <td>NaN</td>\n",
       "      <td>NaN</td>\n",
       "      <td>2016-09-04 21:15:19</td>\n",
       "      <td>2016-09-15 12:16:38</td>\n",
       "      <td>2016-10-08 10:34:01</td>\n",
       "      <td>2016-10-11 13:46:32</td>\n",
       "      <td>2016-09-30 00:00:00</td>\n",
       "    </tr>\n",
       "    <tr>\n",
       "      <th>last</th>\n",
       "      <td>NaN</td>\n",
       "      <td>NaN</td>\n",
       "      <td>NaN</td>\n",
       "      <td>2018-10-17 17:30:18</td>\n",
       "      <td>2018-09-03 17:40:06</td>\n",
       "      <td>2018-09-11 19:48:28</td>\n",
       "      <td>2018-10-17 13:22:46</td>\n",
       "      <td>2018-11-12 00:00:00</td>\n",
       "    </tr>\n",
       "  </tbody>\n",
       "</table>\n",
       "</div>"
      ],
      "text/plain": [
       "                                order_id                       customer_id  \\\n",
       "count                              99441                             99441   \n",
       "unique                             99441                             99441   \n",
       "top     1e30d770b3285a068012ff979103c827  5cf4d5881fdfbc98e93eb6087d217528   \n",
       "freq                                   1                                 1   \n",
       "first                                NaN                               NaN   \n",
       "last                                 NaN                               NaN   \n",
       "\n",
       "       order_status order_purchase_timestamp    order_approved_at  \\\n",
       "count         99441                    99441                99281   \n",
       "unique            8                    98875                90733   \n",
       "top       delivered      2018-03-31 15:08:21  2018-02-27 04:31:10   \n",
       "freq          96478                        3                    9   \n",
       "first           NaN      2016-09-04 21:15:19  2016-09-15 12:16:38   \n",
       "last            NaN      2018-10-17 17:30:18  2018-09-03 17:40:06   \n",
       "\n",
       "       order_delivered_carrier_date order_delivered_customer_date  \\\n",
       "count                         97658                         96476   \n",
       "unique                        81018                         95664   \n",
       "top             2018-05-09 15:48:00           2018-05-14 20:02:44   \n",
       "freq                             47                             3   \n",
       "first           2016-10-08 10:34:01           2016-10-11 13:46:32   \n",
       "last            2018-09-11 19:48:28           2018-10-17 13:22:46   \n",
       "\n",
       "       order_estimated_delivery_date  \n",
       "count                          99441  \n",
       "unique                           459  \n",
       "top              2017-12-20 00:00:00  \n",
       "freq                             522  \n",
       "first            2016-09-30 00:00:00  \n",
       "last             2018-11-12 00:00:00  "
      ]
     },
     "execution_count": 90,
     "metadata": {},
     "output_type": "execute_result"
    }
   ],
   "source": [
    "olist_orders_df.describe()"
   ]
  },
  {
   "cell_type": "markdown",
   "metadata": {},
   "source": [
    " "
   ]
  },
  {
   "cell_type": "markdown",
   "metadata": {},
   "source": [
    " "
   ]
  },
  {
   "cell_type": "markdown",
   "metadata": {},
   "source": [
    "### Order Items Data Frame / Товарные позиции, входящие в заказы"
   ]
  },
  {
   "cell_type": "markdown",
   "metadata": {},
   "source": [
    "#### Описание данных:\n",
    "- `order_id` —  уникальный идентификатор заказа (номер чека)\n",
    "- `order_item_id` —  идентификатор товара внутри одного заказа\n",
    "- `product_id` —  ид товара (аналог штрихкода)\n",
    "- `seller_id` — ид производителя товара\n",
    "- `shipping_limit_date` —  максимальная дата доставки продавцом для передачи заказа партнеру по логистике\n",
    "- `price` —  цена за единицу товара\n",
    "- `freight_value` —  вес товара"
   ]
  },
  {
   "cell_type": "code",
   "execution_count": 13,
   "metadata": {
    "scrolled": true
   },
   "outputs": [
    {
     "data": {
      "text/html": [
       "<div>\n",
       "<style scoped>\n",
       "    .dataframe tbody tr th:only-of-type {\n",
       "        vertical-align: middle;\n",
       "    }\n",
       "\n",
       "    .dataframe tbody tr th {\n",
       "        vertical-align: top;\n",
       "    }\n",
       "\n",
       "    .dataframe thead th {\n",
       "        text-align: right;\n",
       "    }\n",
       "</style>\n",
       "<table border=\"1\" class=\"dataframe\">\n",
       "  <thead>\n",
       "    <tr style=\"text-align: right;\">\n",
       "      <th></th>\n",
       "      <th>order_id</th>\n",
       "      <th>order_item_id</th>\n",
       "      <th>product_id</th>\n",
       "      <th>seller_id</th>\n",
       "      <th>shipping_limit_date</th>\n",
       "      <th>price</th>\n",
       "      <th>freight_value</th>\n",
       "    </tr>\n",
       "  </thead>\n",
       "  <tbody>\n",
       "    <tr>\n",
       "      <th>0</th>\n",
       "      <td>00010242fe8c5a6d1ba2dd792cb16214</td>\n",
       "      <td>1</td>\n",
       "      <td>4244733e06e7ecb4970a6e2683c13e61</td>\n",
       "      <td>48436dade18ac8b2bce089ec2a041202</td>\n",
       "      <td>2017-09-19 09:45:35</td>\n",
       "      <td>58.90</td>\n",
       "      <td>13.29</td>\n",
       "    </tr>\n",
       "    <tr>\n",
       "      <th>1</th>\n",
       "      <td>00018f77f2f0320c557190d7a144bdd3</td>\n",
       "      <td>1</td>\n",
       "      <td>e5f2d52b802189ee658865ca93d83a8f</td>\n",
       "      <td>dd7ddc04e1b6c2c614352b383efe2d36</td>\n",
       "      <td>2017-05-03 11:05:13</td>\n",
       "      <td>239.90</td>\n",
       "      <td>19.93</td>\n",
       "    </tr>\n",
       "    <tr>\n",
       "      <th>2</th>\n",
       "      <td>000229ec398224ef6ca0657da4fc703e</td>\n",
       "      <td>1</td>\n",
       "      <td>c777355d18b72b67abbeef9df44fd0fd</td>\n",
       "      <td>5b51032eddd242adc84c38acab88f23d</td>\n",
       "      <td>2018-01-18 14:48:30</td>\n",
       "      <td>199.00</td>\n",
       "      <td>17.87</td>\n",
       "    </tr>\n",
       "    <tr>\n",
       "      <th>3</th>\n",
       "      <td>00024acbcdf0a6daa1e931b038114c75</td>\n",
       "      <td>1</td>\n",
       "      <td>7634da152a4610f1595efa32f14722fc</td>\n",
       "      <td>9d7a1d34a5052409006425275ba1c2b4</td>\n",
       "      <td>2018-08-15 10:10:18</td>\n",
       "      <td>12.99</td>\n",
       "      <td>12.79</td>\n",
       "    </tr>\n",
       "    <tr>\n",
       "      <th>4</th>\n",
       "      <td>00042b26cf59d7ce69dfabb4e55b4fd9</td>\n",
       "      <td>1</td>\n",
       "      <td>ac6c3623068f30de03045865e4e10089</td>\n",
       "      <td>df560393f3a51e74553ab94004ba5c87</td>\n",
       "      <td>2017-02-13 13:57:51</td>\n",
       "      <td>199.90</td>\n",
       "      <td>18.14</td>\n",
       "    </tr>\n",
       "  </tbody>\n",
       "</table>\n",
       "</div>"
      ],
      "text/plain": [
       "                           order_id  order_item_id  \\\n",
       "0  00010242fe8c5a6d1ba2dd792cb16214              1   \n",
       "1  00018f77f2f0320c557190d7a144bdd3              1   \n",
       "2  000229ec398224ef6ca0657da4fc703e              1   \n",
       "3  00024acbcdf0a6daa1e931b038114c75              1   \n",
       "4  00042b26cf59d7ce69dfabb4e55b4fd9              1   \n",
       "\n",
       "                         product_id                         seller_id  \\\n",
       "0  4244733e06e7ecb4970a6e2683c13e61  48436dade18ac8b2bce089ec2a041202   \n",
       "1  e5f2d52b802189ee658865ca93d83a8f  dd7ddc04e1b6c2c614352b383efe2d36   \n",
       "2  c777355d18b72b67abbeef9df44fd0fd  5b51032eddd242adc84c38acab88f23d   \n",
       "3  7634da152a4610f1595efa32f14722fc  9d7a1d34a5052409006425275ba1c2b4   \n",
       "4  ac6c3623068f30de03045865e4e10089  df560393f3a51e74553ab94004ba5c87   \n",
       "\n",
       "  shipping_limit_date   price  freight_value  \n",
       "0 2017-09-19 09:45:35   58.90          13.29  \n",
       "1 2017-05-03 11:05:13  239.90          19.93  \n",
       "2 2018-01-18 14:48:30  199.00          17.87  \n",
       "3 2018-08-15 10:10:18   12.99          12.79  \n",
       "4 2017-02-13 13:57:51  199.90          18.14  "
      ]
     },
     "execution_count": 13,
     "metadata": {},
     "output_type": "execute_result"
    }
   ],
   "source": [
    "olist_items_df.head()"
   ]
  },
  {
   "cell_type": "code",
   "execution_count": 99,
   "metadata": {},
   "outputs": [
    {
     "name": "stdout",
     "output_type": "stream",
     "text": [
      "Exploratory Data Analysis: \n",
      "\n",
      "Number of Rows: 112650, and Columns: 7 \n",
      "\n",
      "                     NaNs    dups  nunique\n",
      "order_id                0   13984    98666\n",
      "order_item_id           0  112629       21\n",
      "product_id              0   79699    32951\n",
      "seller_id               0  109555     3095\n",
      "shipping_limit_date     0   19332    93318\n",
      "price                   0  106682     5968\n",
      "freight_value           0  105651     6999\n",
      "\n",
      "---------------------------------------------------------\n",
      "\n",
      "order_id                       object\n",
      "order_item_id                   int64\n",
      "product_id                     object\n",
      "seller_id                      object\n",
      "shipping_limit_date    datetime64[ns]\n",
      "price                         float64\n",
      "freight_value                 float64\n",
      "dtype: object\n",
      "\n",
      "---------------------------------------------------------\n",
      "\n",
      "       order_item_id          price  freight_value\n",
      "count  112650.000000  112650.000000  112650.000000\n",
      "mean        1.197834     120.653739      19.990320\n",
      "std         0.705124     183.633928      15.806405\n",
      "min         1.000000       0.850000       0.000000\n",
      "25%         1.000000      39.900000      13.080000\n",
      "50%         1.000000      74.990000      16.260000\n",
      "75%         1.000000     134.900000      21.150000\n",
      "max        21.000000    6735.000000     409.680000\n"
     ]
    }
   ],
   "source": [
    "eda(olist_items_df)"
   ]
  },
  {
   "cell_type": "code",
   "execution_count": null,
   "metadata": {},
   "outputs": [],
   "source": [
    "# Видим, что распределения цены и веса товара сильно скошены в левую сторону"
   ]
  },
  {
   "cell_type": "code",
   "execution_count": 105,
   "metadata": {},
   "outputs": [
    {
     "data": {
      "text/plain": [
       "<matplotlib.axes._subplots.AxesSubplot at 0x7f3624c59320>"
      ]
     },
     "execution_count": 105,
     "metadata": {},
     "output_type": "execute_result"
    },
    {
     "data": {
      "image/png": "[encoded data removed]",
      "text/plain": [
       "<Figure size 432x288 with 1 Axes>"
      ]
     },
     "metadata": {
      "needs_background": "light"
     },
     "output_type": "display_data"
    }
   ],
   "source": [
    "sns.boxplot(olist_items_df['price'])"
   ]
  },
  {
   "cell_type": "code",
   "execution_count": 106,
   "metadata": {},
   "outputs": [
    {
     "data": {
      "text/plain": [
       "<matplotlib.axes._subplots.AxesSubplot at 0x7f3624c29278>"
      ]
     },
     "execution_count": 106,
     "metadata": {},
     "output_type": "execute_result"
    },
    {
     "data": {
      "image/png": "[encoded data removed]",
      "text/plain": [
       "<Figure size 432x288 with 1 Axes>"
      ]
     },
     "metadata": {
      "needs_background": "light"
     },
     "output_type": "display_data"
    }
   ],
   "source": [
    "sns.boxplot(olist_items_df['freight_value'])"
   ]
  },
  {
   "cell_type": "markdown",
   "metadata": {},
   "source": [
    " "
   ]
  },
  {
   "cell_type": "markdown",
   "metadata": {},
   "source": [
    " "
   ]
  },
  {
   "cell_type": "markdown",
   "metadata": {},
   "source": [
    "### Создаем дата сеты для решения последующих задач.\n",
    "Для решения последующих задач нам необходимо объединить датафреймы выше и создать 2 варианта:\n",
    "1. со всеми заказами, где просто будут смердженые датафреймы.\n",
    "2. со всеми успешными покупками, где мы отфильтруем данные и оставим только те, которые можно назвать успешными покупками."
   ]
  },
  {
   "cell_type": "code",
   "execution_count": 16,
   "metadata": {},
   "outputs": [],
   "source": [
    "# Мерджим первые 2 датафрейма left join-ом\n",
    "\n",
    "df = olist_orders_df.merge(customers_df, on='customer_id', how='left')"
   ]
  },
  {
   "cell_type": "code",
   "execution_count": 17,
   "metadata": {
    "scrolled": true
   },
   "outputs": [
    {
     "data": {
      "text/plain": [
       "False    99441\n",
       "Name: customer_unique_id, dtype: int64"
      ]
     },
     "execution_count": 17,
     "metadata": {},
     "output_type": "execute_result"
    }
   ],
   "source": [
    "# Убедимся, что нет заказов без unique_id пользователя после мерджа.\n",
    "\n",
    "df.customer_unique_id.isna().value_counts()"
   ]
  },
  {
   "cell_type": "code",
   "execution_count": 18,
   "metadata": {},
   "outputs": [],
   "source": [
    "# Делаем финальный merged data frame со всеми сделанными заказами для последующего выполнения заданий.\n",
    "\n",
    "orders_df = df.merge(olist_items_df, on='order_id', how='left')"
   ]
  },
  {
   "cell_type": "markdown",
   "metadata": {},
   "source": [
    "Узнаем, какие есть статусы заказа. Видим, что некоторые заказы были отмененены или недоступны для заказа, \n",
    "поэтому их стоит убрать из списка успешных покупок.\n",
    "\n",
    "- `created` —  создан\n",
    "- `approved` —  подтверждён\n",
    "- `invoiced` —  выставлен счёт\n",
    "- `processing` —  в процессе сборки заказа\n",
    "- `shipped` —  отгружен со склада\n",
    "- `delivered` —  доставлен пользователю\n",
    "- `unavailable` —  недоступен\n",
    "- `canceled` —  отменён\n",
    "\n",
    "Убираем из списка успешных покупок **отмененные** и **недоступные заказы**, а так же те, по которым **нет факта оплаты**. Остаются только те покупки, которые мы с определенной долей уверености можем назвать успешными."
   ]
  },
  {
   "cell_type": "code",
   "execution_count": 19,
   "metadata": {},
   "outputs": [
    {
     "data": {
      "text/plain": [
       "delivered      110197\n",
       "shipped          1186\n",
       "canceled          706\n",
       "unavailable       610\n",
       "invoiced          361\n",
       "processing        357\n",
       "created             5\n",
       "approved            3\n",
       "Name: order_status, dtype: int64"
      ]
     },
     "execution_count": 19,
     "metadata": {},
     "output_type": "execute_result"
    }
   ],
   "source": [
    "orders_df.order_status.value_counts()"
   ]
  },
  {
   "cell_type": "code",
   "execution_count": 20,
   "metadata": {},
   "outputs": [],
   "source": [
    "purchases_df = orders_df \\\n",
    "    .query('order_status != \"unavailable\" & order_status != \"canceled\" & order_approved_at != \"NaT\"')"
   ]
  },
  {
   "cell_type": "markdown",
   "metadata": {},
   "source": [
    "Видим, что есть 3 заказа, которые не были доставлены до покупателя, нет информации по цене и кол-ву проданных товаров. Учитывая все это, и то, что это 3 заказа из более чем 120к заказов, считаю правильным их также убрать из финального датасета для чистоты данных."
   ]
  },
  {
   "cell_type": "code",
   "execution_count": 21,
   "metadata": {
    "scrolled": true
   },
   "outputs": [
    {
     "data": {
      "text/html": [
       "<div>\n",
       "<style scoped>\n",
       "    .dataframe tbody tr th:only-of-type {\n",
       "        vertical-align: middle;\n",
       "    }\n",
       "\n",
       "    .dataframe tbody tr th {\n",
       "        vertical-align: top;\n",
       "    }\n",
       "\n",
       "    .dataframe thead th {\n",
       "        text-align: right;\n",
       "    }\n",
       "</style>\n",
       "<table border=\"1\" class=\"dataframe\">\n",
       "  <thead>\n",
       "    <tr style=\"text-align: right;\">\n",
       "      <th></th>\n",
       "      <th>order_id</th>\n",
       "      <th>customer_id</th>\n",
       "      <th>order_status</th>\n",
       "      <th>order_purchase_timestamp</th>\n",
       "      <th>order_approved_at</th>\n",
       "      <th>order_delivered_carrier_date</th>\n",
       "      <th>order_delivered_customer_date</th>\n",
       "      <th>order_estimated_delivery_date</th>\n",
       "      <th>customer_unique_id</th>\n",
       "      <th>customer_zip_code_prefix</th>\n",
       "      <th>customer_city</th>\n",
       "      <th>customer_state</th>\n",
       "      <th>order_item_id</th>\n",
       "      <th>product_id</th>\n",
       "      <th>seller_id</th>\n",
       "      <th>shipping_limit_date</th>\n",
       "      <th>price</th>\n",
       "      <th>freight_value</th>\n",
       "    </tr>\n",
       "  </thead>\n",
       "  <tbody>\n",
       "    <tr>\n",
       "      <th>26478</th>\n",
       "      <td>a68ce1686d536ca72bd2dadc4b8671e5</td>\n",
       "      <td>d7bed5fac093a4136216072abaf599d5</td>\n",
       "      <td>shipped</td>\n",
       "      <td>2016-10-05 01:47:40</td>\n",
       "      <td>2016-10-07 03:11:22</td>\n",
       "      <td>2016-11-07 16:37:37</td>\n",
       "      <td>NaT</td>\n",
       "      <td>2016-12-01</td>\n",
       "      <td>f15a952dfc52308d0361288fbf42c7b3</td>\n",
       "      <td>91250</td>\n",
       "      <td>porto alegre</td>\n",
       "      <td>RS</td>\n",
       "      <td>NaN</td>\n",
       "      <td>NaN</td>\n",
       "      <td>NaN</td>\n",
       "      <td>NaT</td>\n",
       "      <td>NaN</td>\n",
       "      <td>NaN</td>\n",
       "    </tr>\n",
       "    <tr>\n",
       "      <th>65606</th>\n",
       "      <td>2ce9683175cdab7d1c95bcbb3e36f478</td>\n",
       "      <td>b2d7ae0415dbbca535b5f7b38056dd1f</td>\n",
       "      <td>invoiced</td>\n",
       "      <td>2016-10-05 21:03:33</td>\n",
       "      <td>2016-10-06 07:46:39</td>\n",
       "      <td>NaT</td>\n",
       "      <td>NaT</td>\n",
       "      <td>2016-11-25</td>\n",
       "      <td>6a2da481aa7827b951175772a0fe8bb8</td>\n",
       "      <td>16012</td>\n",
       "      <td>aracatuba</td>\n",
       "      <td>SP</td>\n",
       "      <td>NaN</td>\n",
       "      <td>NaN</td>\n",
       "      <td>NaN</td>\n",
       "      <td>NaT</td>\n",
       "      <td>NaN</td>\n",
       "      <td>NaN</td>\n",
       "    </tr>\n",
       "    <tr>\n",
       "      <th>79688</th>\n",
       "      <td>e04f1da1f48bf2bbffcf57b9824f76e1</td>\n",
       "      <td>0d00d77134cae4c58695086ad8d85100</td>\n",
       "      <td>invoiced</td>\n",
       "      <td>2016-10-05 13:22:20</td>\n",
       "      <td>2016-10-06 15:51:38</td>\n",
       "      <td>NaT</td>\n",
       "      <td>NaT</td>\n",
       "      <td>2016-11-29</td>\n",
       "      <td>8886115442775dd8a20c2dcc921c7cc8</td>\n",
       "      <td>88070</td>\n",
       "      <td>florianopolis</td>\n",
       "      <td>SC</td>\n",
       "      <td>NaN</td>\n",
       "      <td>NaN</td>\n",
       "      <td>NaN</td>\n",
       "      <td>NaT</td>\n",
       "      <td>NaN</td>\n",
       "      <td>NaN</td>\n",
       "    </tr>\n",
       "  </tbody>\n",
       "</table>\n",
       "</div>"
      ],
      "text/plain": [
       "                               order_id                       customer_id  \\\n",
       "26478  a68ce1686d536ca72bd2dadc4b8671e5  d7bed5fac093a4136216072abaf599d5   \n",
       "65606  2ce9683175cdab7d1c95bcbb3e36f478  b2d7ae0415dbbca535b5f7b38056dd1f   \n",
       "79688  e04f1da1f48bf2bbffcf57b9824f76e1  0d00d77134cae4c58695086ad8d85100   \n",
       "\n",
       "      order_status order_purchase_timestamp   order_approved_at  \\\n",
       "26478      shipped      2016-10-05 01:47:40 2016-10-07 03:11:22   \n",
       "65606     invoiced      2016-10-05 21:03:33 2016-10-06 07:46:39   \n",
       "79688     invoiced      2016-10-05 13:22:20 2016-10-06 15:51:38   \n",
       "\n",
       "      order_delivered_carrier_date order_delivered_customer_date  \\\n",
       "26478          2016-11-07 16:37:37                           NaT   \n",
       "65606                          NaT                           NaT   \n",
       "79688                          NaT                           NaT   \n",
       "\n",
       "      order_estimated_delivery_date                customer_unique_id  \\\n",
       "26478                    2016-12-01  f15a952dfc52308d0361288fbf42c7b3   \n",
       "65606                    2016-11-25  6a2da481aa7827b951175772a0fe8bb8   \n",
       "79688                    2016-11-29  8886115442775dd8a20c2dcc921c7cc8   \n",
       "\n",
       "       customer_zip_code_prefix  customer_city customer_state  order_item_id  \\\n",
       "26478                     91250   porto alegre             RS            NaN   \n",
       "65606                     16012      aracatuba             SP            NaN   \n",
       "79688                     88070  florianopolis             SC            NaN   \n",
       "\n",
       "      product_id seller_id shipping_limit_date  price  freight_value  \n",
       "26478        NaN       NaN                 NaT    NaN            NaN  \n",
       "65606        NaN       NaN                 NaT    NaN            NaN  \n",
       "79688        NaN       NaN                 NaT    NaN            NaN  "
      ]
     },
     "execution_count": 21,
     "metadata": {},
     "output_type": "execute_result"
    }
   ],
   "source": [
    "purchases_df.loc[purchases_df.seller_id.isna()]"
   ]
  },
  {
   "cell_type": "code",
   "execution_count": 22,
   "metadata": {},
   "outputs": [
    {
     "data": {
      "text/html": [
       "<div>\n",
       "<style scoped>\n",
       "    .dataframe tbody tr th:only-of-type {\n",
       "        vertical-align: middle;\n",
       "    }\n",
       "\n",
       "    .dataframe tbody tr th {\n",
       "        vertical-align: top;\n",
       "    }\n",
       "\n",
       "    .dataframe thead th {\n",
       "        text-align: right;\n",
       "    }\n",
       "</style>\n",
       "<table border=\"1\" class=\"dataframe\">\n",
       "  <thead>\n",
       "    <tr style=\"text-align: right;\">\n",
       "      <th></th>\n",
       "      <th>order_id</th>\n",
       "      <th>customer_id</th>\n",
       "      <th>order_status</th>\n",
       "      <th>order_purchase_timestamp</th>\n",
       "      <th>order_approved_at</th>\n",
       "      <th>order_delivered_carrier_date</th>\n",
       "      <th>order_delivered_customer_date</th>\n",
       "      <th>order_estimated_delivery_date</th>\n",
       "      <th>customer_unique_id</th>\n",
       "      <th>customer_zip_code_prefix</th>\n",
       "      <th>customer_city</th>\n",
       "      <th>customer_state</th>\n",
       "      <th>order_item_id</th>\n",
       "      <th>product_id</th>\n",
       "      <th>seller_id</th>\n",
       "      <th>shipping_limit_date</th>\n",
       "      <th>price</th>\n",
       "      <th>freight_value</th>\n",
       "    </tr>\n",
       "  </thead>\n",
       "  <tbody>\n",
       "    <tr>\n",
       "      <th>0</th>\n",
       "      <td>e481f51cbdc54678b7cc49136f2d6af7</td>\n",
       "      <td>9ef432eb6251297304e76186b10a928d</td>\n",
       "      <td>delivered</td>\n",
       "      <td>2017-10-02 10:56:33</td>\n",
       "      <td>2017-10-02 11:07:15</td>\n",
       "      <td>2017-10-04 19:55:00</td>\n",
       "      <td>2017-10-10 21:25:13</td>\n",
       "      <td>2017-10-18</td>\n",
       "      <td>7c396fd4830fd04220f754e42b4e5bff</td>\n",
       "      <td>3149</td>\n",
       "      <td>sao paulo</td>\n",
       "      <td>SP</td>\n",
       "      <td>1.0</td>\n",
       "      <td>87285b34884572647811a353c7ac498a</td>\n",
       "      <td>3504c0cb71d7fa48d967e0e4c94d59d9</td>\n",
       "      <td>2017-10-06 11:07:15</td>\n",
       "      <td>29.99</td>\n",
       "      <td>8.72</td>\n",
       "    </tr>\n",
       "    <tr>\n",
       "      <th>1</th>\n",
       "      <td>53cdb2fc8bc7dce0b6741e2150273451</td>\n",
       "      <td>b0830fb4747a6c6d20dea0b8c802d7ef</td>\n",
       "      <td>delivered</td>\n",
       "      <td>2018-07-24 20:41:37</td>\n",
       "      <td>2018-07-26 03:24:27</td>\n",
       "      <td>2018-07-26 14:31:00</td>\n",
       "      <td>2018-08-07 15:27:45</td>\n",
       "      <td>2018-08-13</td>\n",
       "      <td>af07308b275d755c9edb36a90c618231</td>\n",
       "      <td>47813</td>\n",
       "      <td>barreiras</td>\n",
       "      <td>BA</td>\n",
       "      <td>1.0</td>\n",
       "      <td>595fac2a385ac33a80bd5114aec74eb8</td>\n",
       "      <td>289cdb325fb7e7f891c38608bf9e0962</td>\n",
       "      <td>2018-07-30 03:24:27</td>\n",
       "      <td>118.70</td>\n",
       "      <td>22.76</td>\n",
       "    </tr>\n",
       "    <tr>\n",
       "      <th>2</th>\n",
       "      <td>47770eb9100c2d0c44946d9cf07ec65d</td>\n",
       "      <td>41ce2a54c0b03bf3443c3d931a367089</td>\n",
       "      <td>delivered</td>\n",
       "      <td>2018-08-08 08:38:49</td>\n",
       "      <td>2018-08-08 08:55:23</td>\n",
       "      <td>2018-08-08 13:50:00</td>\n",
       "      <td>2018-08-17 18:06:29</td>\n",
       "      <td>2018-09-04</td>\n",
       "      <td>3a653a41f6f9fc3d2a113cf8398680e8</td>\n",
       "      <td>75265</td>\n",
       "      <td>vianopolis</td>\n",
       "      <td>GO</td>\n",
       "      <td>1.0</td>\n",
       "      <td>aa4383b373c6aca5d8797843e5594415</td>\n",
       "      <td>4869f7a5dfa277a7dca6462dcf3b52b2</td>\n",
       "      <td>2018-08-13 08:55:23</td>\n",
       "      <td>159.90</td>\n",
       "      <td>19.22</td>\n",
       "    </tr>\n",
       "    <tr>\n",
       "      <th>3</th>\n",
       "      <td>949d5b44dbf5de918fe9c16f97b45f8a</td>\n",
       "      <td>f88197465ea7920adcdbec7375364d82</td>\n",
       "      <td>delivered</td>\n",
       "      <td>2017-11-18 19:28:06</td>\n",
       "      <td>2017-11-18 19:45:59</td>\n",
       "      <td>2017-11-22 13:39:59</td>\n",
       "      <td>2017-12-02 00:28:42</td>\n",
       "      <td>2017-12-15</td>\n",
       "      <td>7c142cf63193a1473d2e66489a9ae977</td>\n",
       "      <td>59296</td>\n",
       "      <td>sao goncalo do amarante</td>\n",
       "      <td>RN</td>\n",
       "      <td>1.0</td>\n",
       "      <td>d0b61bfb1de832b15ba9d266ca96e5b0</td>\n",
       "      <td>66922902710d126a0e7d26b0e3805106</td>\n",
       "      <td>2017-11-23 19:45:59</td>\n",
       "      <td>45.00</td>\n",
       "      <td>27.20</td>\n",
       "    </tr>\n",
       "    <tr>\n",
       "      <th>4</th>\n",
       "      <td>ad21c59c0840e6cb83a9ceb5573f8159</td>\n",
       "      <td>8ab97904e6daea8866dbdbc4fb7aad2c</td>\n",
       "      <td>delivered</td>\n",
       "      <td>2018-02-13 21:18:39</td>\n",
       "      <td>2018-02-13 22:20:29</td>\n",
       "      <td>2018-02-14 19:46:34</td>\n",
       "      <td>2018-02-16 18:17:02</td>\n",
       "      <td>2018-02-26</td>\n",
       "      <td>72632f0f9dd73dfee390c9b22eb56dd6</td>\n",
       "      <td>9195</td>\n",
       "      <td>santo andre</td>\n",
       "      <td>SP</td>\n",
       "      <td>1.0</td>\n",
       "      <td>65266b2da20d04dbe00c5c2d3bb7859e</td>\n",
       "      <td>2c9e548be18521d1c43cde1c582c6de8</td>\n",
       "      <td>2018-02-19 20:31:37</td>\n",
       "      <td>19.90</td>\n",
       "      <td>8.72</td>\n",
       "    </tr>\n",
       "  </tbody>\n",
       "</table>\n",
       "</div>"
      ],
      "text/plain": [
       "                           order_id                       customer_id  \\\n",
       "0  e481f51cbdc54678b7cc49136f2d6af7  9ef432eb6251297304e76186b10a928d   \n",
       "1  53cdb2fc8bc7dce0b6741e2150273451  b0830fb4747a6c6d20dea0b8c802d7ef   \n",
       "2  47770eb9100c2d0c44946d9cf07ec65d  41ce2a54c0b03bf3443c3d931a367089   \n",
       "3  949d5b44dbf5de918fe9c16f97b45f8a  f88197465ea7920adcdbec7375364d82   \n",
       "4  ad21c59c0840e6cb83a9ceb5573f8159  8ab97904e6daea8866dbdbc4fb7aad2c   \n",
       "\n",
       "  order_status order_purchase_timestamp   order_approved_at  \\\n",
       "0    delivered      2017-10-02 10:56:33 2017-10-02 11:07:15   \n",
       "1    delivered      2018-07-24 20:41:37 2018-07-26 03:24:27   \n",
       "2    delivered      2018-08-08 08:38:49 2018-08-08 08:55:23   \n",
       "3    delivered      2017-11-18 19:28:06 2017-11-18 19:45:59   \n",
       "4    delivered      2018-02-13 21:18:39 2018-02-13 22:20:29   \n",
       "\n",
       "  order_delivered_carrier_date order_delivered_customer_date  \\\n",
       "0          2017-10-04 19:55:00           2017-10-10 21:25:13   \n",
       "1          2018-07-26 14:31:00           2018-08-07 15:27:45   \n",
       "2          2018-08-08 13:50:00           2018-08-17 18:06:29   \n",
       "3          2017-11-22 13:39:59           2017-12-02 00:28:42   \n",
       "4          2018-02-14 19:46:34           2018-02-16 18:17:02   \n",
       "\n",
       "  order_estimated_delivery_date                customer_unique_id  \\\n",
       "0                    2017-10-18  7c396fd4830fd04220f754e42b4e5bff   \n",
       "1                    2018-08-13  af07308b275d755c9edb36a90c618231   \n",
       "2                    2018-09-04  3a653a41f6f9fc3d2a113cf8398680e8   \n",
       "3                    2017-12-15  7c142cf63193a1473d2e66489a9ae977   \n",
       "4                    2018-02-26  72632f0f9dd73dfee390c9b22eb56dd6   \n",
       "\n",
       "   customer_zip_code_prefix            customer_city customer_state  \\\n",
       "0                      3149                sao paulo             SP   \n",
       "1                     47813                barreiras             BA   \n",
       "2                     75265               vianopolis             GO   \n",
       "3                     59296  sao goncalo do amarante             RN   \n",
       "4                      9195              santo andre             SP   \n",
       "\n",
       "   order_item_id                        product_id  \\\n",
       "0            1.0  87285b34884572647811a353c7ac498a   \n",
       "1            1.0  595fac2a385ac33a80bd5114aec74eb8   \n",
       "2            1.0  aa4383b373c6aca5d8797843e5594415   \n",
       "3            1.0  d0b61bfb1de832b15ba9d266ca96e5b0   \n",
       "4            1.0  65266b2da20d04dbe00c5c2d3bb7859e   \n",
       "\n",
       "                          seller_id shipping_limit_date   price  freight_value  \n",
       "0  3504c0cb71d7fa48d967e0e4c94d59d9 2017-10-06 11:07:15   29.99           8.72  \n",
       "1  289cdb325fb7e7f891c38608bf9e0962 2018-07-30 03:24:27  118.70          22.76  \n",
       "2  4869f7a5dfa277a7dca6462dcf3b52b2 2018-08-13 08:55:23  159.90          19.22  \n",
       "3  66922902710d126a0e7d26b0e3805106 2017-11-23 19:45:59   45.00          27.20  \n",
       "4  2c9e548be18521d1c43cde1c582c6de8 2018-02-19 20:31:37   19.90           8.72  "
      ]
     },
     "execution_count": 22,
     "metadata": {},
     "output_type": "execute_result"
    }
   ],
   "source": [
    "# Делаем финальный data frame только с успешными покупками, убрав данные о трех покупках, о которых писл выше.\n",
    "\n",
    "final_purchases_df = purchases_df.loc[purchases_df.seller_id.notna()]\n",
    "final_purchases_df.head()"
   ]
  },
  {
   "cell_type": "code",
   "execution_count": null,
   "metadata": {},
   "outputs": [],
   "source": []
  },
  {
   "cell_type": "markdown",
   "metadata": {},
   "source": [
    " "
   ]
  },
  {
   "cell_type": "markdown",
   "metadata": {},
   "source": [
    " "
   ]
  },
  {
   "cell_type": "markdown",
   "metadata": {},
   "source": [
    "# Задание 1."
   ]
  },
  {
   "cell_type": "markdown",
   "metadata": {},
   "source": [
    "Сколько у нас пользователей, которые совершили покупку только один раз? (7 баллов)\n",
    "\n",
    "Как выяснилось, у каждгого unique_id было несколько customer_id (т.е. несколько заказов), поэтому в дальнейшим используем эту колонку для группировки по уникальным юзерам. Для группировки по уникальным заказам (а не по покупкам внутри заказа) импользуем колонку order_id. Фильтруем тех, у кого при группировке оказалось по 1 заказу."
   ]
  },
  {
   "cell_type": "code",
   "execution_count": 23,
   "metadata": {},
   "outputs": [
    {
     "data": {
      "text/plain": [
       "83168"
      ]
     },
     "execution_count": 23,
     "metadata": {},
     "output_type": "execute_result"
    }
   ],
   "source": [
    "final_purchases_df \\\n",
    "    .groupby(['customer_unique_id'], as_index=False) \\\n",
    "    .agg({'order_id': 'count'}) \\\n",
    "    .rename(columns={'order_id': 'orders_number'}) \\\n",
    "    .query('orders_number == 1') \\\n",
    "    .shape[0]"
   ]
  },
  {
   "cell_type": "markdown",
   "metadata": {},
   "source": [
    "### Ответ: \n",
    "Один раз покупку совершило 83168 человек."
   ]
  },
  {
   "cell_type": "markdown",
   "metadata": {},
   "source": [
    "  "
   ]
  },
  {
   "cell_type": "markdown",
   "metadata": {},
   "source": [
    " "
   ]
  },
  {
   "cell_type": "markdown",
   "metadata": {},
   "source": [
    "# Задание 2."
   ]
  },
  {
   "cell_type": "markdown",
   "metadata": {},
   "source": [
    "Сколько заказов в месяц в среднем не доставляется по разным причинам (вывести детализацию по причинам)? (5 баллов)\n",
    "\n",
    "В данных мы снова видим раcхождения, заказы со статусом delivered, но без даты доставки до пользователя.\n",
    "Есть предположение, что это может быть самовывоз, поэтому их мы также будем учитывать как доставленные."
   ]
  },
  {
   "cell_type": "code",
   "execution_count": 24,
   "metadata": {
    "scrolled": false
   },
   "outputs": [
    {
     "data": {
      "text/html": [
       "<div>\n",
       "<style scoped>\n",
       "    .dataframe tbody tr th:only-of-type {\n",
       "        vertical-align: middle;\n",
       "    }\n",
       "\n",
       "    .dataframe tbody tr th {\n",
       "        vertical-align: top;\n",
       "    }\n",
       "\n",
       "    .dataframe thead th {\n",
       "        text-align: right;\n",
       "    }\n",
       "</style>\n",
       "<table border=\"1\" class=\"dataframe\">\n",
       "  <thead>\n",
       "    <tr style=\"text-align: right;\">\n",
       "      <th></th>\n",
       "      <th>order_id</th>\n",
       "      <th>customer_id</th>\n",
       "      <th>order_status</th>\n",
       "      <th>order_purchase_timestamp</th>\n",
       "      <th>order_approved_at</th>\n",
       "      <th>order_delivered_carrier_date</th>\n",
       "      <th>order_delivered_customer_date</th>\n",
       "      <th>order_estimated_delivery_date</th>\n",
       "      <th>customer_unique_id</th>\n",
       "      <th>customer_zip_code_prefix</th>\n",
       "      <th>customer_city</th>\n",
       "      <th>customer_state</th>\n",
       "      <th>order_item_id</th>\n",
       "      <th>product_id</th>\n",
       "      <th>seller_id</th>\n",
       "      <th>shipping_limit_date</th>\n",
       "      <th>price</th>\n",
       "      <th>freight_value</th>\n",
       "    </tr>\n",
       "  </thead>\n",
       "  <tbody>\n",
       "    <tr>\n",
       "      <th>3376</th>\n",
       "      <td>2d1e2d5bf4dc7227b3bfebb81328c15f</td>\n",
       "      <td>ec05a6d8558c6455f0cbbd8a420ad34f</td>\n",
       "      <td>delivered</td>\n",
       "      <td>2017-11-28 17:44:07</td>\n",
       "      <td>2017-11-28 17:56:40</td>\n",
       "      <td>2017-11-30 18:12:23</td>\n",
       "      <td>NaT</td>\n",
       "      <td>2017-12-18</td>\n",
       "      <td>13467e882eb3a701826435ee4424f2bd</td>\n",
       "      <td>18520</td>\n",
       "      <td>cerquilho</td>\n",
       "      <td>SP</td>\n",
       "      <td>1.0</td>\n",
       "      <td>a50acd33ba7a8da8e9db65094fa990a4</td>\n",
       "      <td>8581055ce74af1daba164fdbd55a40de</td>\n",
       "      <td>2017-12-04 17:56:40</td>\n",
       "      <td>117.30</td>\n",
       "      <td>17.53</td>\n",
       "    </tr>\n",
       "    <tr>\n",
       "      <th>23485</th>\n",
       "      <td>f5dd62b788049ad9fc0526e3ad11a097</td>\n",
       "      <td>5e89028e024b381dc84a13a3570decb4</td>\n",
       "      <td>delivered</td>\n",
       "      <td>2018-06-20 06:58:43</td>\n",
       "      <td>2018-06-20 07:19:05</td>\n",
       "      <td>2018-06-25 08:05:00</td>\n",
       "      <td>NaT</td>\n",
       "      <td>2018-07-16</td>\n",
       "      <td>2f17c5b324ad603491521b279a9ff4de</td>\n",
       "      <td>18255</td>\n",
       "      <td>quadra</td>\n",
       "      <td>SP</td>\n",
       "      <td>1.0</td>\n",
       "      <td>2167c8f6252667c0eb9edd51520706a1</td>\n",
       "      <td>0bb738e4d789e63e2267697c42d35a2d</td>\n",
       "      <td>2018-06-26 07:19:05</td>\n",
       "      <td>329.00</td>\n",
       "      <td>25.24</td>\n",
       "    </tr>\n",
       "    <tr>\n",
       "      <th>49966</th>\n",
       "      <td>2ebdfc4f15f23b91474edf87475f108e</td>\n",
       "      <td>29f0540231702fda0cfdee0a310f11aa</td>\n",
       "      <td>delivered</td>\n",
       "      <td>2018-07-01 17:05:11</td>\n",
       "      <td>2018-07-01 17:15:12</td>\n",
       "      <td>2018-07-03 13:57:00</td>\n",
       "      <td>NaT</td>\n",
       "      <td>2018-07-30</td>\n",
       "      <td>1bd06a0c0df8b23dacfd3725d2dc0bb9</td>\n",
       "      <td>12445</td>\n",
       "      <td>pindamonhangaba</td>\n",
       "      <td>SP</td>\n",
       "      <td>1.0</td>\n",
       "      <td>e7d5464b94c9a5963f7c686fc80145ad</td>\n",
       "      <td>58f1a6197ed863543e0136bdedb3fce2</td>\n",
       "      <td>2018-07-05 17:15:12</td>\n",
       "      <td>139.00</td>\n",
       "      <td>19.07</td>\n",
       "    </tr>\n",
       "    <tr>\n",
       "      <th>90294</th>\n",
       "      <td>e69f75a717d64fc5ecdfae42b2e8e086</td>\n",
       "      <td>cfda40ca8dd0a5d486a9635b611b398a</td>\n",
       "      <td>delivered</td>\n",
       "      <td>2018-07-01 22:05:55</td>\n",
       "      <td>2018-07-01 22:15:14</td>\n",
       "      <td>2018-07-03 13:57:00</td>\n",
       "      <td>NaT</td>\n",
       "      <td>2018-07-30</td>\n",
       "      <td>3bc508d482a402715be4d5cf4020cc81</td>\n",
       "      <td>13170</td>\n",
       "      <td>sumare</td>\n",
       "      <td>SP</td>\n",
       "      <td>1.0</td>\n",
       "      <td>e7d5464b94c9a5963f7c686fc80145ad</td>\n",
       "      <td>58f1a6197ed863543e0136bdedb3fce2</td>\n",
       "      <td>2018-07-05 22:15:14</td>\n",
       "      <td>139.00</td>\n",
       "      <td>19.07</td>\n",
       "    </tr>\n",
       "    <tr>\n",
       "      <th>94388</th>\n",
       "      <td>0d3268bad9b086af767785e3f0fc0133</td>\n",
       "      <td>4f1d63d35fb7c8999853b2699f5c7649</td>\n",
       "      <td>delivered</td>\n",
       "      <td>2018-07-01 21:14:02</td>\n",
       "      <td>2018-07-01 21:29:54</td>\n",
       "      <td>2018-07-03 09:28:00</td>\n",
       "      <td>NaT</td>\n",
       "      <td>2018-07-24</td>\n",
       "      <td>ebf7e0d43a78c81991a4c59c145c75db</td>\n",
       "      <td>13560</td>\n",
       "      <td>sao carlos</td>\n",
       "      <td>SP</td>\n",
       "      <td>1.0</td>\n",
       "      <td>ec165cd31c50585786ffda6feff5d0a6</td>\n",
       "      <td>8bdd8e3fd58bafa48af76b2c5fd71974</td>\n",
       "      <td>2018-07-05 21:29:54</td>\n",
       "      <td>188.99</td>\n",
       "      <td>15.63</td>\n",
       "    </tr>\n",
       "    <tr>\n",
       "      <th>105606</th>\n",
       "      <td>2d858f451373b04fb5c984a1cc2defaf</td>\n",
       "      <td>e08caf668d499a6d643dafd7c5cc498a</td>\n",
       "      <td>delivered</td>\n",
       "      <td>2017-05-25 23:22:43</td>\n",
       "      <td>2017-05-25 23:30:16</td>\n",
       "      <td>NaT</td>\n",
       "      <td>NaT</td>\n",
       "      <td>2017-06-23</td>\n",
       "      <td>d77cf4be2654aa70ef150f8bfec076a6</td>\n",
       "      <td>91330</td>\n",
       "      <td>porto alegre</td>\n",
       "      <td>RS</td>\n",
       "      <td>1.0</td>\n",
       "      <td>30b5b5635a79548a48d04162d971848f</td>\n",
       "      <td>f9bbdd976532d50b7816d285a22bd01e</td>\n",
       "      <td>2017-06-04 23:30:16</td>\n",
       "      <td>179.00</td>\n",
       "      <td>15.00</td>\n",
       "    </tr>\n",
       "    <tr>\n",
       "      <th>111339</th>\n",
       "      <td>ab7c89dc1bf4a1ead9d6ec1ec8968a84</td>\n",
       "      <td>dd1b84a7286eb4524d52af4256c0ba24</td>\n",
       "      <td>delivered</td>\n",
       "      <td>2018-06-08 12:09:39</td>\n",
       "      <td>2018-06-08 12:36:39</td>\n",
       "      <td>2018-06-12 14:10:00</td>\n",
       "      <td>NaT</td>\n",
       "      <td>2018-06-26</td>\n",
       "      <td>cce5e8188bf42ffb3bb5b18ff58f5965</td>\n",
       "      <td>7261</td>\n",
       "      <td>guarulhos</td>\n",
       "      <td>SP</td>\n",
       "      <td>1.0</td>\n",
       "      <td>a2a7efc985315e86d4f0f705701b342b</td>\n",
       "      <td>ed4acab38528488b65a9a9c603ff024a</td>\n",
       "      <td>2018-06-18 12:30:35</td>\n",
       "      <td>110.99</td>\n",
       "      <td>9.13</td>\n",
       "    </tr>\n",
       "    <tr>\n",
       "      <th>111783</th>\n",
       "      <td>20edc82cf5400ce95e1afacc25798b31</td>\n",
       "      <td>28c37425f1127d887d7337f284080a0f</td>\n",
       "      <td>delivered</td>\n",
       "      <td>2018-06-27 16:09:12</td>\n",
       "      <td>2018-06-27 16:29:30</td>\n",
       "      <td>2018-07-03 19:26:00</td>\n",
       "      <td>NaT</td>\n",
       "      <td>2018-07-19</td>\n",
       "      <td>175378436e2978be55b8f4316bce4811</td>\n",
       "      <td>9431</td>\n",
       "      <td>ribeirao pires</td>\n",
       "      <td>SP</td>\n",
       "      <td>1.0</td>\n",
       "      <td>55bfa0307d7a46bed72c492259921231</td>\n",
       "      <td>343e716476e3748b069f980efbaa294e</td>\n",
       "      <td>2018-07-03 16:29:30</td>\n",
       "      <td>45.90</td>\n",
       "      <td>9.07</td>\n",
       "    </tr>\n",
       "  </tbody>\n",
       "</table>\n",
       "</div>"
      ],
      "text/plain": [
       "                                order_id                       customer_id  \\\n",
       "3376    2d1e2d5bf4dc7227b3bfebb81328c15f  ec05a6d8558c6455f0cbbd8a420ad34f   \n",
       "23485   f5dd62b788049ad9fc0526e3ad11a097  5e89028e024b381dc84a13a3570decb4   \n",
       "49966   2ebdfc4f15f23b91474edf87475f108e  29f0540231702fda0cfdee0a310f11aa   \n",
       "90294   e69f75a717d64fc5ecdfae42b2e8e086  cfda40ca8dd0a5d486a9635b611b398a   \n",
       "94388   0d3268bad9b086af767785e3f0fc0133  4f1d63d35fb7c8999853b2699f5c7649   \n",
       "105606  2d858f451373b04fb5c984a1cc2defaf  e08caf668d499a6d643dafd7c5cc498a   \n",
       "111339  ab7c89dc1bf4a1ead9d6ec1ec8968a84  dd1b84a7286eb4524d52af4256c0ba24   \n",
       "111783  20edc82cf5400ce95e1afacc25798b31  28c37425f1127d887d7337f284080a0f   \n",
       "\n",
       "       order_status order_purchase_timestamp   order_approved_at  \\\n",
       "3376      delivered      2017-11-28 17:44:07 2017-11-28 17:56:40   \n",
       "23485     delivered      2018-06-20 06:58:43 2018-06-20 07:19:05   \n",
       "49966     delivered      2018-07-01 17:05:11 2018-07-01 17:15:12   \n",
       "90294     delivered      2018-07-01 22:05:55 2018-07-01 22:15:14   \n",
       "94388     delivered      2018-07-01 21:14:02 2018-07-01 21:29:54   \n",
       "105606    delivered      2017-05-25 23:22:43 2017-05-25 23:30:16   \n",
       "111339    delivered      2018-06-08 12:09:39 2018-06-08 12:36:39   \n",
       "111783    delivered      2018-06-27 16:09:12 2018-06-27 16:29:30   \n",
       "\n",
       "       order_delivered_carrier_date order_delivered_customer_date  \\\n",
       "3376            2017-11-30 18:12:23                           NaT   \n",
       "23485           2018-06-25 08:05:00                           NaT   \n",
       "49966           2018-07-03 13:57:00                           NaT   \n",
       "90294           2018-07-03 13:57:00                           NaT   \n",
       "94388           2018-07-03 09:28:00                           NaT   \n",
       "105606                          NaT                           NaT   \n",
       "111339          2018-06-12 14:10:00                           NaT   \n",
       "111783          2018-07-03 19:26:00                           NaT   \n",
       "\n",
       "       order_estimated_delivery_date                customer_unique_id  \\\n",
       "3376                      2017-12-18  13467e882eb3a701826435ee4424f2bd   \n",
       "23485                     2018-07-16  2f17c5b324ad603491521b279a9ff4de   \n",
       "49966                     2018-07-30  1bd06a0c0df8b23dacfd3725d2dc0bb9   \n",
       "90294                     2018-07-30  3bc508d482a402715be4d5cf4020cc81   \n",
       "94388                     2018-07-24  ebf7e0d43a78c81991a4c59c145c75db   \n",
       "105606                    2017-06-23  d77cf4be2654aa70ef150f8bfec076a6   \n",
       "111339                    2018-06-26  cce5e8188bf42ffb3bb5b18ff58f5965   \n",
       "111783                    2018-07-19  175378436e2978be55b8f4316bce4811   \n",
       "\n",
       "        customer_zip_code_prefix    customer_city customer_state  \\\n",
       "3376                       18520        cerquilho             SP   \n",
       "23485                      18255           quadra             SP   \n",
       "49966                      12445  pindamonhangaba             SP   \n",
       "90294                      13170           sumare             SP   \n",
       "94388                      13560       sao carlos             SP   \n",
       "105606                     91330     porto alegre             RS   \n",
       "111339                      7261        guarulhos             SP   \n",
       "111783                      9431   ribeirao pires             SP   \n",
       "\n",
       "        order_item_id                        product_id  \\\n",
       "3376              1.0  a50acd33ba7a8da8e9db65094fa990a4   \n",
       "23485             1.0  2167c8f6252667c0eb9edd51520706a1   \n",
       "49966             1.0  e7d5464b94c9a5963f7c686fc80145ad   \n",
       "90294             1.0  e7d5464b94c9a5963f7c686fc80145ad   \n",
       "94388             1.0  ec165cd31c50585786ffda6feff5d0a6   \n",
       "105606            1.0  30b5b5635a79548a48d04162d971848f   \n",
       "111339            1.0  a2a7efc985315e86d4f0f705701b342b   \n",
       "111783            1.0  55bfa0307d7a46bed72c492259921231   \n",
       "\n",
       "                               seller_id shipping_limit_date   price  \\\n",
       "3376    8581055ce74af1daba164fdbd55a40de 2017-12-04 17:56:40  117.30   \n",
       "23485   0bb738e4d789e63e2267697c42d35a2d 2018-06-26 07:19:05  329.00   \n",
       "49966   58f1a6197ed863543e0136bdedb3fce2 2018-07-05 17:15:12  139.00   \n",
       "90294   58f1a6197ed863543e0136bdedb3fce2 2018-07-05 22:15:14  139.00   \n",
       "94388   8bdd8e3fd58bafa48af76b2c5fd71974 2018-07-05 21:29:54  188.99   \n",
       "105606  f9bbdd976532d50b7816d285a22bd01e 2017-06-04 23:30:16  179.00   \n",
       "111339  ed4acab38528488b65a9a9c603ff024a 2018-06-18 12:30:35  110.99   \n",
       "111783  343e716476e3748b069f980efbaa294e 2018-07-03 16:29:30   45.90   \n",
       "\n",
       "        freight_value  \n",
       "3376            17.53  \n",
       "23485           25.24  \n",
       "49966           19.07  \n",
       "90294           19.07  \n",
       "94388           15.63  \n",
       "105606          15.00  \n",
       "111339           9.13  \n",
       "111783           9.07  "
      ]
     },
     "execution_count": 24,
     "metadata": {},
     "output_type": "execute_result"
    }
   ],
   "source": [
    "orders_df[orders_df.order_status == 'delivered'].loc[orders_df.order_delivered_customer_date.isna()]"
   ]
  },
  {
   "cell_type": "markdown",
   "metadata": {},
   "source": [
    "Другая сторона медали - отмененные заказы, но с датой доставки. Возможно их просто не принял покупатель или\n",
    "отменил заказ в самый последний момент. Эи заказы считаем не доставлнными."
   ]
  },
  {
   "cell_type": "code",
   "execution_count": 25,
   "metadata": {
    "scrolled": true
   },
   "outputs": [
    {
     "data": {
      "text/html": [
       "<div>\n",
       "<style scoped>\n",
       "    .dataframe tbody tr th:only-of-type {\n",
       "        vertical-align: middle;\n",
       "    }\n",
       "\n",
       "    .dataframe tbody tr th {\n",
       "        vertical-align: top;\n",
       "    }\n",
       "\n",
       "    .dataframe thead th {\n",
       "        text-align: right;\n",
       "    }\n",
       "</style>\n",
       "<table border=\"1\" class=\"dataframe\">\n",
       "  <thead>\n",
       "    <tr style=\"text-align: right;\">\n",
       "      <th></th>\n",
       "      <th>order_id</th>\n",
       "      <th>customer_id</th>\n",
       "      <th>order_status</th>\n",
       "      <th>order_purchase_timestamp</th>\n",
       "      <th>order_approved_at</th>\n",
       "      <th>order_delivered_carrier_date</th>\n",
       "      <th>order_delivered_customer_date</th>\n",
       "      <th>order_estimated_delivery_date</th>\n",
       "      <th>customer_unique_id</th>\n",
       "      <th>customer_zip_code_prefix</th>\n",
       "      <th>customer_city</th>\n",
       "      <th>customer_state</th>\n",
       "      <th>order_item_id</th>\n",
       "      <th>product_id</th>\n",
       "      <th>seller_id</th>\n",
       "      <th>shipping_limit_date</th>\n",
       "      <th>price</th>\n",
       "      <th>freight_value</th>\n",
       "    </tr>\n",
       "  </thead>\n",
       "  <tbody>\n",
       "    <tr>\n",
       "      <th>3284</th>\n",
       "      <td>1950d777989f6a877539f53795b4c3c3</td>\n",
       "      <td>1bccb206de9f0f25adc6871a1bcf77b2</td>\n",
       "      <td>canceled</td>\n",
       "      <td>2018-02-19 19:48:52</td>\n",
       "      <td>2018-02-19 20:56:05</td>\n",
       "      <td>2018-02-20 19:57:13</td>\n",
       "      <td>2018-03-21 22:03:51</td>\n",
       "      <td>2018-03-09</td>\n",
       "      <td>6a04c8339c44b23e189446216a494569</td>\n",
       "      <td>32071</td>\n",
       "      <td>contagem</td>\n",
       "      <td>MG</td>\n",
       "      <td>1.0</td>\n",
       "      <td>e435ceb7ced9b8446defd858630454ed</td>\n",
       "      <td>2a61c271b1ac763450d846849783e922</td>\n",
       "      <td>2018-02-23 20:56:05</td>\n",
       "      <td>29.99</td>\n",
       "      <td>14.10</td>\n",
       "    </tr>\n",
       "    <tr>\n",
       "      <th>9963</th>\n",
       "      <td>dabf2b0e35b423f94618bf965fcb7514</td>\n",
       "      <td>5cdec0bb8cbdf53ffc8fdc212cd247c6</td>\n",
       "      <td>canceled</td>\n",
       "      <td>2016-10-09 00:56:52</td>\n",
       "      <td>2016-10-09 13:36:58</td>\n",
       "      <td>2016-10-13 13:36:59</td>\n",
       "      <td>2016-10-16 14:36:59</td>\n",
       "      <td>2016-11-30</td>\n",
       "      <td>2f96790fba243100730c8d1185dd2f25</td>\n",
       "      <td>5846</td>\n",
       "      <td>sao paulo</td>\n",
       "      <td>SP</td>\n",
       "      <td>1.0</td>\n",
       "      <td>473795a355d29305c3ea6b156833adf5</td>\n",
       "      <td>620c87c171fb2a6dd6e8bb4dec959fc6</td>\n",
       "      <td>2016-10-13 13:36:59</td>\n",
       "      <td>59.90</td>\n",
       "      <td>0.48</td>\n",
       "    </tr>\n",
       "    <tr>\n",
       "      <th>9964</th>\n",
       "      <td>dabf2b0e35b423f94618bf965fcb7514</td>\n",
       "      <td>5cdec0bb8cbdf53ffc8fdc212cd247c6</td>\n",
       "      <td>canceled</td>\n",
       "      <td>2016-10-09 00:56:52</td>\n",
       "      <td>2016-10-09 13:36:58</td>\n",
       "      <td>2016-10-13 13:36:59</td>\n",
       "      <td>2016-10-16 14:36:59</td>\n",
       "      <td>2016-11-30</td>\n",
       "      <td>2f96790fba243100730c8d1185dd2f25</td>\n",
       "      <td>5846</td>\n",
       "      <td>sao paulo</td>\n",
       "      <td>SP</td>\n",
       "      <td>2.0</td>\n",
       "      <td>7cd29da0653abeb444703cc5a957f479</td>\n",
       "      <td>620c87c171fb2a6dd6e8bb4dec959fc6</td>\n",
       "      <td>2016-10-13 13:36:59</td>\n",
       "      <td>49.90</td>\n",
       "      <td>29.94</td>\n",
       "    </tr>\n",
       "    <tr>\n",
       "      <th>66373</th>\n",
       "      <td>770d331c84e5b214bd9dc70a10b829d0</td>\n",
       "      <td>6c57e6119369185e575b36712766b0ef</td>\n",
       "      <td>canceled</td>\n",
       "      <td>2016-10-07 14:52:30</td>\n",
       "      <td>2016-10-07 15:07:10</td>\n",
       "      <td>2016-10-11 15:07:11</td>\n",
       "      <td>2016-10-14 15:07:11</td>\n",
       "      <td>2016-11-29</td>\n",
       "      <td>59a7bb642795ddc85534fbd5f7360334</td>\n",
       "      <td>20091</td>\n",
       "      <td>rio de janeiro</td>\n",
       "      <td>RJ</td>\n",
       "      <td>1.0</td>\n",
       "      <td>eba7488e1c67729f045ab43fac426f2e</td>\n",
       "      <td>620c87c171fb2a6dd6e8bb4dec959fc6</td>\n",
       "      <td>2016-10-11 15:07:11</td>\n",
       "      <td>249.90</td>\n",
       "      <td>14.03</td>\n",
       "    </tr>\n",
       "    <tr>\n",
       "      <th>67569</th>\n",
       "      <td>8beb59392e21af5eb9547ae1a9938d06</td>\n",
       "      <td>bf609b5741f71697f65ce3852c5d2623</td>\n",
       "      <td>canceled</td>\n",
       "      <td>2016-10-08 20:17:50</td>\n",
       "      <td>2016-10-09 14:34:30</td>\n",
       "      <td>2016-10-14 22:45:26</td>\n",
       "      <td>2016-10-19 18:47:43</td>\n",
       "      <td>2016-11-30</td>\n",
       "      <td>f9af3bfab584769f34c314b222d34263</td>\n",
       "      <td>20091</td>\n",
       "      <td>rio de janeiro</td>\n",
       "      <td>RJ</td>\n",
       "      <td>1.0</td>\n",
       "      <td>c66def7098f4d87751f40c3a4855ced1</td>\n",
       "      <td>46dc3b2cc0980fb8ec44634e21d2718e</td>\n",
       "      <td>2016-10-13 14:34:31</td>\n",
       "      <td>99.99</td>\n",
       "      <td>11.23</td>\n",
       "    </tr>\n",
       "    <tr>\n",
       "      <th>105596</th>\n",
       "      <td>65d1e226dfaeb8cdc42f665422522d14</td>\n",
       "      <td>70fc57eeae292675927697fe03ad3ff5</td>\n",
       "      <td>canceled</td>\n",
       "      <td>2016-10-03 21:01:41</td>\n",
       "      <td>2016-10-04 10:18:57</td>\n",
       "      <td>2016-10-25 12:14:28</td>\n",
       "      <td>2016-11-08 10:58:34</td>\n",
       "      <td>2016-11-25</td>\n",
       "      <td>b8b8726af116a5cfb35b0315ecef9172</td>\n",
       "      <td>22770</td>\n",
       "      <td>rio de janeiro</td>\n",
       "      <td>RJ</td>\n",
       "      <td>1.0</td>\n",
       "      <td>9c7bdf67b06b419aefb93cfdfc96c55d</td>\n",
       "      <td>ed49da7cadefc454d6a67de249eab240</td>\n",
       "      <td>2016-10-21 16:24:43</td>\n",
       "      <td>21.50</td>\n",
       "      <td>14.11</td>\n",
       "    </tr>\n",
       "    <tr>\n",
       "      <th>107662</th>\n",
       "      <td>2c45c33d2f9cb8ff8b1c86cc28c11c30</td>\n",
       "      <td>de4caa97afa80c8eeac2ff4c8da5b72e</td>\n",
       "      <td>canceled</td>\n",
       "      <td>2016-10-09 15:39:56</td>\n",
       "      <td>2016-10-10 10:40:49</td>\n",
       "      <td>2016-10-14 10:40:50</td>\n",
       "      <td>2016-11-09 14:53:50</td>\n",
       "      <td>2016-12-08</td>\n",
       "      <td>d93a22bb52bb2f41a7267b8a02370781</td>\n",
       "      <td>88058</td>\n",
       "      <td>florianopolis</td>\n",
       "      <td>SC</td>\n",
       "      <td>1.0</td>\n",
       "      <td>e24f73b7631ee3fbb2ab700a9acaa258</td>\n",
       "      <td>0cbcee27c791afa0cdcb08587a2013a8</td>\n",
       "      <td>2016-10-14 10:40:50</td>\n",
       "      <td>135.00</td>\n",
       "      <td>18.51</td>\n",
       "    </tr>\n",
       "  </tbody>\n",
       "</table>\n",
       "</div>"
      ],
      "text/plain": [
       "                                order_id                       customer_id  \\\n",
       "3284    1950d777989f6a877539f53795b4c3c3  1bccb206de9f0f25adc6871a1bcf77b2   \n",
       "9963    dabf2b0e35b423f94618bf965fcb7514  5cdec0bb8cbdf53ffc8fdc212cd247c6   \n",
       "9964    dabf2b0e35b423f94618bf965fcb7514  5cdec0bb8cbdf53ffc8fdc212cd247c6   \n",
       "66373   770d331c84e5b214bd9dc70a10b829d0  6c57e6119369185e575b36712766b0ef   \n",
       "67569   8beb59392e21af5eb9547ae1a9938d06  bf609b5741f71697f65ce3852c5d2623   \n",
       "105596  65d1e226dfaeb8cdc42f665422522d14  70fc57eeae292675927697fe03ad3ff5   \n",
       "107662  2c45c33d2f9cb8ff8b1c86cc28c11c30  de4caa97afa80c8eeac2ff4c8da5b72e   \n",
       "\n",
       "       order_status order_purchase_timestamp   order_approved_at  \\\n",
       "3284       canceled      2018-02-19 19:48:52 2018-02-19 20:56:05   \n",
       "9963       canceled      2016-10-09 00:56:52 2016-10-09 13:36:58   \n",
       "9964       canceled      2016-10-09 00:56:52 2016-10-09 13:36:58   \n",
       "66373      canceled      2016-10-07 14:52:30 2016-10-07 15:07:10   \n",
       "67569      canceled      2016-10-08 20:17:50 2016-10-09 14:34:30   \n",
       "105596     canceled      2016-10-03 21:01:41 2016-10-04 10:18:57   \n",
       "107662     canceled      2016-10-09 15:39:56 2016-10-10 10:40:49   \n",
       "\n",
       "       order_delivered_carrier_date order_delivered_customer_date  \\\n",
       "3284            2018-02-20 19:57:13           2018-03-21 22:03:51   \n",
       "9963            2016-10-13 13:36:59           2016-10-16 14:36:59   \n",
       "9964            2016-10-13 13:36:59           2016-10-16 14:36:59   \n",
       "66373           2016-10-11 15:07:11           2016-10-14 15:07:11   \n",
       "67569           2016-10-14 22:45:26           2016-10-19 18:47:43   \n",
       "105596          2016-10-25 12:14:28           2016-11-08 10:58:34   \n",
       "107662          2016-10-14 10:40:50           2016-11-09 14:53:50   \n",
       "\n",
       "       order_estimated_delivery_date                customer_unique_id  \\\n",
       "3284                      2018-03-09  6a04c8339c44b23e189446216a494569   \n",
       "9963                      2016-11-30  2f96790fba243100730c8d1185dd2f25   \n",
       "9964                      2016-11-30  2f96790fba243100730c8d1185dd2f25   \n",
       "66373                     2016-11-29  59a7bb642795ddc85534fbd5f7360334   \n",
       "67569                     2016-11-30  f9af3bfab584769f34c314b222d34263   \n",
       "105596                    2016-11-25  b8b8726af116a5cfb35b0315ecef9172   \n",
       "107662                    2016-12-08  d93a22bb52bb2f41a7267b8a02370781   \n",
       "\n",
       "        customer_zip_code_prefix   customer_city customer_state  \\\n",
       "3284                       32071        contagem             MG   \n",
       "9963                        5846       sao paulo             SP   \n",
       "9964                        5846       sao paulo             SP   \n",
       "66373                      20091  rio de janeiro             RJ   \n",
       "67569                      20091  rio de janeiro             RJ   \n",
       "105596                     22770  rio de janeiro             RJ   \n",
       "107662                     88058   florianopolis             SC   \n",
       "\n",
       "        order_item_id                        product_id  \\\n",
       "3284              1.0  e435ceb7ced9b8446defd858630454ed   \n",
       "9963              1.0  473795a355d29305c3ea6b156833adf5   \n",
       "9964              2.0  7cd29da0653abeb444703cc5a957f479   \n",
       "66373             1.0  eba7488e1c67729f045ab43fac426f2e   \n",
       "67569             1.0  c66def7098f4d87751f40c3a4855ced1   \n",
       "105596            1.0  9c7bdf67b06b419aefb93cfdfc96c55d   \n",
       "107662            1.0  e24f73b7631ee3fbb2ab700a9acaa258   \n",
       "\n",
       "                               seller_id shipping_limit_date   price  \\\n",
       "3284    2a61c271b1ac763450d846849783e922 2018-02-23 20:56:05   29.99   \n",
       "9963    620c87c171fb2a6dd6e8bb4dec959fc6 2016-10-13 13:36:59   59.90   \n",
       "9964    620c87c171fb2a6dd6e8bb4dec959fc6 2016-10-13 13:36:59   49.90   \n",
       "66373   620c87c171fb2a6dd6e8bb4dec959fc6 2016-10-11 15:07:11  249.90   \n",
       "67569   46dc3b2cc0980fb8ec44634e21d2718e 2016-10-13 14:34:31   99.99   \n",
       "105596  ed49da7cadefc454d6a67de249eab240 2016-10-21 16:24:43   21.50   \n",
       "107662  0cbcee27c791afa0cdcb08587a2013a8 2016-10-14 10:40:50  135.00   \n",
       "\n",
       "        freight_value  \n",
       "3284            14.10  \n",
       "9963             0.48  \n",
       "9964            29.94  \n",
       "66373           14.03  \n",
       "67569           11.23  \n",
       "105596          14.11  \n",
       "107662          18.51  "
      ]
     },
     "execution_count": 25,
     "metadata": {},
     "output_type": "execute_result"
    }
   ],
   "source": [
    "orders_df[orders_df.order_status != 'delivered'].loc[orders_df.order_delivered_customer_date.notna()]"
   ]
  },
  {
   "cell_type": "code",
   "execution_count": 26,
   "metadata": {},
   "outputs": [
    {
     "data": {
      "text/html": [
       "<div>\n",
       "<style scoped>\n",
       "    .dataframe tbody tr th:only-of-type {\n",
       "        vertical-align: middle;\n",
       "    }\n",
       "\n",
       "    .dataframe tbody tr th {\n",
       "        vertical-align: top;\n",
       "    }\n",
       "\n",
       "    .dataframe thead th {\n",
       "        text-align: right;\n",
       "    }\n",
       "</style>\n",
       "<table border=\"1\" class=\"dataframe\">\n",
       "  <thead>\n",
       "    <tr style=\"text-align: right;\">\n",
       "      <th></th>\n",
       "      <th>order_id</th>\n",
       "      <th>customer_id</th>\n",
       "      <th>order_status</th>\n",
       "      <th>order_purchase_timestamp</th>\n",
       "      <th>order_approved_at</th>\n",
       "      <th>order_delivered_carrier_date</th>\n",
       "      <th>order_delivered_customer_date</th>\n",
       "      <th>order_estimated_delivery_date</th>\n",
       "      <th>customer_unique_id</th>\n",
       "      <th>customer_zip_code_prefix</th>\n",
       "      <th>customer_city</th>\n",
       "      <th>customer_state</th>\n",
       "      <th>order_item_id</th>\n",
       "      <th>product_id</th>\n",
       "      <th>seller_id</th>\n",
       "      <th>shipping_limit_date</th>\n",
       "      <th>price</th>\n",
       "      <th>freight_value</th>\n",
       "    </tr>\n",
       "  </thead>\n",
       "  <tbody>\n",
       "    <tr>\n",
       "      <th>6</th>\n",
       "      <td>136cce7faa42fdb2cefd53fdc79a6098</td>\n",
       "      <td>ed0271e0b7da060a393796590e7b737a</td>\n",
       "      <td>invoiced</td>\n",
       "      <td>2017-04-11 12:22:08</td>\n",
       "      <td>2017-04-13 13:25:17</td>\n",
       "      <td>NaT</td>\n",
       "      <td>NaT</td>\n",
       "      <td>2017-05-09</td>\n",
       "      <td>36edbb3fb164b1f16485364b6fb04c73</td>\n",
       "      <td>98900</td>\n",
       "      <td>santa rosa</td>\n",
       "      <td>RS</td>\n",
       "      <td>1.0</td>\n",
       "      <td>a1804276d9941ac0733cfd409f5206eb</td>\n",
       "      <td>dc8798cbf453b7e0f98745e396cc5616</td>\n",
       "      <td>2017-04-19 13:25:17</td>\n",
       "      <td>49.90</td>\n",
       "      <td>16.05</td>\n",
       "    </tr>\n",
       "    <tr>\n",
       "      <th>46</th>\n",
       "      <td>ee64d42b8cf066f35eac1cf57de1aa85</td>\n",
       "      <td>caded193e8e47b8362864762a83db3c5</td>\n",
       "      <td>shipped</td>\n",
       "      <td>2018-06-04 16:44:48</td>\n",
       "      <td>2018-06-05 04:31:18</td>\n",
       "      <td>2018-06-05 14:32:00</td>\n",
       "      <td>NaT</td>\n",
       "      <td>2018-06-28</td>\n",
       "      <td>08fb46d35bb3ab4037202c23592d1259</td>\n",
       "      <td>13215</td>\n",
       "      <td>jundiai</td>\n",
       "      <td>SP</td>\n",
       "      <td>1.0</td>\n",
       "      <td>c50ca07e9e4db9ea5011f06802c0aea0</td>\n",
       "      <td>e9779976487b77c6d4ac45f75ec7afe9</td>\n",
       "      <td>2018-06-13 04:30:33</td>\n",
       "      <td>14.49</td>\n",
       "      <td>7.87</td>\n",
       "    </tr>\n",
       "    <tr>\n",
       "      <th>118</th>\n",
       "      <td>0760a852e4e9d89eb77bf631eaaf1c84</td>\n",
       "      <td>d2a79636084590b7465af8ab374a8cf5</td>\n",
       "      <td>invoiced</td>\n",
       "      <td>2018-08-03 17:44:42</td>\n",
       "      <td>2018-08-07 06:15:14</td>\n",
       "      <td>NaT</td>\n",
       "      <td>NaT</td>\n",
       "      <td>2018-08-21</td>\n",
       "      <td>c7f8d7b1fffc946d7069574f74c39f4e</td>\n",
       "      <td>88140</td>\n",
       "      <td>santo amaro da imperatriz</td>\n",
       "      <td>SC</td>\n",
       "      <td>1.0</td>\n",
       "      <td>1522589c64efd46731d3522568e5bc83</td>\n",
       "      <td>28405831a29823802aa22c084cfd0649</td>\n",
       "      <td>2018-08-13 06:15:14</td>\n",
       "      <td>35.00</td>\n",
       "      <td>15.35</td>\n",
       "    </tr>\n",
       "    <tr>\n",
       "      <th>148</th>\n",
       "      <td>15bed8e2fec7fdbadb186b57c46c92f2</td>\n",
       "      <td>f3f0e613e0bdb9c7cee75504f0f90679</td>\n",
       "      <td>processing</td>\n",
       "      <td>2017-09-03 14:22:03</td>\n",
       "      <td>2017-09-03 14:30:09</td>\n",
       "      <td>NaT</td>\n",
       "      <td>NaT</td>\n",
       "      <td>2017-10-03</td>\n",
       "      <td>9f269af9c49244f6ba4a46985a3cfc2e</td>\n",
       "      <td>3436</td>\n",
       "      <td>sao paulo</td>\n",
       "      <td>SP</td>\n",
       "      <td>1.0</td>\n",
       "      <td>61d52f4882421048afd530db53d6f230</td>\n",
       "      <td>fa74b2f3287d296e9fbd2cc80f2d1cf1</td>\n",
       "      <td>2017-09-20 14:30:09</td>\n",
       "      <td>125.90</td>\n",
       "      <td>12.38</td>\n",
       "    </tr>\n",
       "    <tr>\n",
       "      <th>185</th>\n",
       "      <td>6942b8da583c2f9957e990d028607019</td>\n",
       "      <td>52006a9383bf149a4fb24226b173106f</td>\n",
       "      <td>shipped</td>\n",
       "      <td>2018-01-10 11:33:07</td>\n",
       "      <td>2018-01-11 02:32:30</td>\n",
       "      <td>2018-01-11 19:39:23</td>\n",
       "      <td>NaT</td>\n",
       "      <td>2018-02-07</td>\n",
       "      <td>528b011eb7fab3d59c336cc7248eed3a</td>\n",
       "      <td>38600</td>\n",
       "      <td>paracatu</td>\n",
       "      <td>MG</td>\n",
       "      <td>1.0</td>\n",
       "      <td>ee0c1cf2fbeae95205b4aa506f1469f0</td>\n",
       "      <td>cc419e0650a3c5ba77189a1882b7556a</td>\n",
       "      <td>2018-01-18 02:32:30</td>\n",
       "      <td>53.99</td>\n",
       "      <td>15.13</td>\n",
       "    </tr>\n",
       "  </tbody>\n",
       "</table>\n",
       "</div>"
      ],
      "text/plain": [
       "                             order_id                       customer_id  \\\n",
       "6    136cce7faa42fdb2cefd53fdc79a6098  ed0271e0b7da060a393796590e7b737a   \n",
       "46   ee64d42b8cf066f35eac1cf57de1aa85  caded193e8e47b8362864762a83db3c5   \n",
       "118  0760a852e4e9d89eb77bf631eaaf1c84  d2a79636084590b7465af8ab374a8cf5   \n",
       "148  15bed8e2fec7fdbadb186b57c46c92f2  f3f0e613e0bdb9c7cee75504f0f90679   \n",
       "185  6942b8da583c2f9957e990d028607019  52006a9383bf149a4fb24226b173106f   \n",
       "\n",
       "    order_status order_purchase_timestamp   order_approved_at  \\\n",
       "6       invoiced      2017-04-11 12:22:08 2017-04-13 13:25:17   \n",
       "46       shipped      2018-06-04 16:44:48 2018-06-05 04:31:18   \n",
       "118     invoiced      2018-08-03 17:44:42 2018-08-07 06:15:14   \n",
       "148   processing      2017-09-03 14:22:03 2017-09-03 14:30:09   \n",
       "185      shipped      2018-01-10 11:33:07 2018-01-11 02:32:30   \n",
       "\n",
       "    order_delivered_carrier_date order_delivered_customer_date  \\\n",
       "6                            NaT                           NaT   \n",
       "46           2018-06-05 14:32:00                           NaT   \n",
       "118                          NaT                           NaT   \n",
       "148                          NaT                           NaT   \n",
       "185          2018-01-11 19:39:23                           NaT   \n",
       "\n",
       "    order_estimated_delivery_date                customer_unique_id  \\\n",
       "6                      2017-05-09  36edbb3fb164b1f16485364b6fb04c73   \n",
       "46                     2018-06-28  08fb46d35bb3ab4037202c23592d1259   \n",
       "118                    2018-08-21  c7f8d7b1fffc946d7069574f74c39f4e   \n",
       "148                    2017-10-03  9f269af9c49244f6ba4a46985a3cfc2e   \n",
       "185                    2018-02-07  528b011eb7fab3d59c336cc7248eed3a   \n",
       "\n",
       "     customer_zip_code_prefix              customer_city customer_state  \\\n",
       "6                       98900                 santa rosa             RS   \n",
       "46                      13215                    jundiai             SP   \n",
       "118                     88140  santo amaro da imperatriz             SC   \n",
       "148                      3436                  sao paulo             SP   \n",
       "185                     38600                   paracatu             MG   \n",
       "\n",
       "     order_item_id                        product_id  \\\n",
       "6              1.0  a1804276d9941ac0733cfd409f5206eb   \n",
       "46             1.0  c50ca07e9e4db9ea5011f06802c0aea0   \n",
       "118            1.0  1522589c64efd46731d3522568e5bc83   \n",
       "148            1.0  61d52f4882421048afd530db53d6f230   \n",
       "185            1.0  ee0c1cf2fbeae95205b4aa506f1469f0   \n",
       "\n",
       "                            seller_id shipping_limit_date   price  \\\n",
       "6    dc8798cbf453b7e0f98745e396cc5616 2017-04-19 13:25:17   49.90   \n",
       "46   e9779976487b77c6d4ac45f75ec7afe9 2018-06-13 04:30:33   14.49   \n",
       "118  28405831a29823802aa22c084cfd0649 2018-08-13 06:15:14   35.00   \n",
       "148  fa74b2f3287d296e9fbd2cc80f2d1cf1 2017-09-20 14:30:09  125.90   \n",
       "185  cc419e0650a3c5ba77189a1882b7556a 2018-01-18 02:32:30   53.99   \n",
       "\n",
       "     freight_value  \n",
       "6            16.05  \n",
       "46            7.87  \n",
       "118          15.35  \n",
       "148          12.38  \n",
       "185          15.13  "
      ]
     },
     "execution_count": 26,
     "metadata": {},
     "output_type": "execute_result"
    }
   ],
   "source": [
    "# Делаем дата сет для дальнейшего расчета и визуализации\n",
    "\n",
    "merged_orders_customer = orders_df[orders_df.order_status != 'delivered']\n",
    "merged_orders_customer.head()"
   ]
  },
  {
   "cell_type": "code",
   "execution_count": 27,
   "metadata": {},
   "outputs": [
    {
     "data": {
      "text/html": [
       "<div>\n",
       "<style scoped>\n",
       "    .dataframe tbody tr th:only-of-type {\n",
       "        vertical-align: middle;\n",
       "    }\n",
       "\n",
       "    .dataframe tbody tr th {\n",
       "        vertical-align: top;\n",
       "    }\n",
       "\n",
       "    .dataframe thead th {\n",
       "        text-align: right;\n",
       "    }\n",
       "</style>\n",
       "<table border=\"1\" class=\"dataframe\">\n",
       "  <thead>\n",
       "    <tr style=\"text-align: right;\">\n",
       "      <th></th>\n",
       "      <th>order_id</th>\n",
       "      <th>customer_id</th>\n",
       "      <th>order_status</th>\n",
       "      <th>order_purchase_timestamp</th>\n",
       "      <th>order_approved_at</th>\n",
       "      <th>order_delivered_carrier_date</th>\n",
       "      <th>order_delivered_customer_date</th>\n",
       "      <th>order_estimated_delivery_date</th>\n",
       "      <th>customer_unique_id</th>\n",
       "      <th>customer_zip_code_prefix</th>\n",
       "      <th>customer_city</th>\n",
       "      <th>customer_state</th>\n",
       "      <th>order_item_id</th>\n",
       "      <th>product_id</th>\n",
       "      <th>seller_id</th>\n",
       "      <th>shipping_limit_date</th>\n",
       "      <th>price</th>\n",
       "      <th>freight_value</th>\n",
       "      <th>order_estimated_delivery_month</th>\n",
       "      <th>order_estimated_delivery_year</th>\n",
       "    </tr>\n",
       "  </thead>\n",
       "  <tbody>\n",
       "    <tr>\n",
       "      <th>6</th>\n",
       "      <td>136cce7faa42fdb2cefd53fdc79a6098</td>\n",
       "      <td>ed0271e0b7da060a393796590e7b737a</td>\n",
       "      <td>invoiced</td>\n",
       "      <td>2017-04-11 12:22:08</td>\n",
       "      <td>2017-04-13 13:25:17</td>\n",
       "      <td>NaT</td>\n",
       "      <td>NaT</td>\n",
       "      <td>2017-05-09</td>\n",
       "      <td>36edbb3fb164b1f16485364b6fb04c73</td>\n",
       "      <td>98900</td>\n",
       "      <td>santa rosa</td>\n",
       "      <td>RS</td>\n",
       "      <td>1.0</td>\n",
       "      <td>a1804276d9941ac0733cfd409f5206eb</td>\n",
       "      <td>dc8798cbf453b7e0f98745e396cc5616</td>\n",
       "      <td>2017-04-19 13:25:17</td>\n",
       "      <td>49.90</td>\n",
       "      <td>16.05</td>\n",
       "      <td>5</td>\n",
       "      <td>2017</td>\n",
       "    </tr>\n",
       "    <tr>\n",
       "      <th>46</th>\n",
       "      <td>ee64d42b8cf066f35eac1cf57de1aa85</td>\n",
       "      <td>caded193e8e47b8362864762a83db3c5</td>\n",
       "      <td>shipped</td>\n",
       "      <td>2018-06-04 16:44:48</td>\n",
       "      <td>2018-06-05 04:31:18</td>\n",
       "      <td>2018-06-05 14:32:00</td>\n",
       "      <td>NaT</td>\n",
       "      <td>2018-06-28</td>\n",
       "      <td>08fb46d35bb3ab4037202c23592d1259</td>\n",
       "      <td>13215</td>\n",
       "      <td>jundiai</td>\n",
       "      <td>SP</td>\n",
       "      <td>1.0</td>\n",
       "      <td>c50ca07e9e4db9ea5011f06802c0aea0</td>\n",
       "      <td>e9779976487b77c6d4ac45f75ec7afe9</td>\n",
       "      <td>2018-06-13 04:30:33</td>\n",
       "      <td>14.49</td>\n",
       "      <td>7.87</td>\n",
       "      <td>6</td>\n",
       "      <td>2018</td>\n",
       "    </tr>\n",
       "    <tr>\n",
       "      <th>118</th>\n",
       "      <td>0760a852e4e9d89eb77bf631eaaf1c84</td>\n",
       "      <td>d2a79636084590b7465af8ab374a8cf5</td>\n",
       "      <td>invoiced</td>\n",
       "      <td>2018-08-03 17:44:42</td>\n",
       "      <td>2018-08-07 06:15:14</td>\n",
       "      <td>NaT</td>\n",
       "      <td>NaT</td>\n",
       "      <td>2018-08-21</td>\n",
       "      <td>c7f8d7b1fffc946d7069574f74c39f4e</td>\n",
       "      <td>88140</td>\n",
       "      <td>santo amaro da imperatriz</td>\n",
       "      <td>SC</td>\n",
       "      <td>1.0</td>\n",
       "      <td>1522589c64efd46731d3522568e5bc83</td>\n",
       "      <td>28405831a29823802aa22c084cfd0649</td>\n",
       "      <td>2018-08-13 06:15:14</td>\n",
       "      <td>35.00</td>\n",
       "      <td>15.35</td>\n",
       "      <td>8</td>\n",
       "      <td>2018</td>\n",
       "    </tr>\n",
       "    <tr>\n",
       "      <th>148</th>\n",
       "      <td>15bed8e2fec7fdbadb186b57c46c92f2</td>\n",
       "      <td>f3f0e613e0bdb9c7cee75504f0f90679</td>\n",
       "      <td>processing</td>\n",
       "      <td>2017-09-03 14:22:03</td>\n",
       "      <td>2017-09-03 14:30:09</td>\n",
       "      <td>NaT</td>\n",
       "      <td>NaT</td>\n",
       "      <td>2017-10-03</td>\n",
       "      <td>9f269af9c49244f6ba4a46985a3cfc2e</td>\n",
       "      <td>3436</td>\n",
       "      <td>sao paulo</td>\n",
       "      <td>SP</td>\n",
       "      <td>1.0</td>\n",
       "      <td>61d52f4882421048afd530db53d6f230</td>\n",
       "      <td>fa74b2f3287d296e9fbd2cc80f2d1cf1</td>\n",
       "      <td>2017-09-20 14:30:09</td>\n",
       "      <td>125.90</td>\n",
       "      <td>12.38</td>\n",
       "      <td>10</td>\n",
       "      <td>2017</td>\n",
       "    </tr>\n",
       "    <tr>\n",
       "      <th>185</th>\n",
       "      <td>6942b8da583c2f9957e990d028607019</td>\n",
       "      <td>52006a9383bf149a4fb24226b173106f</td>\n",
       "      <td>shipped</td>\n",
       "      <td>2018-01-10 11:33:07</td>\n",
       "      <td>2018-01-11 02:32:30</td>\n",
       "      <td>2018-01-11 19:39:23</td>\n",
       "      <td>NaT</td>\n",
       "      <td>2018-02-07</td>\n",
       "      <td>528b011eb7fab3d59c336cc7248eed3a</td>\n",
       "      <td>38600</td>\n",
       "      <td>paracatu</td>\n",
       "      <td>MG</td>\n",
       "      <td>1.0</td>\n",
       "      <td>ee0c1cf2fbeae95205b4aa506f1469f0</td>\n",
       "      <td>cc419e0650a3c5ba77189a1882b7556a</td>\n",
       "      <td>2018-01-18 02:32:30</td>\n",
       "      <td>53.99</td>\n",
       "      <td>15.13</td>\n",
       "      <td>2</td>\n",
       "      <td>2018</td>\n",
       "    </tr>\n",
       "  </tbody>\n",
       "</table>\n",
       "</div>"
      ],
      "text/plain": [
       "                             order_id                       customer_id  \\\n",
       "6    136cce7faa42fdb2cefd53fdc79a6098  ed0271e0b7da060a393796590e7b737a   \n",
       "46   ee64d42b8cf066f35eac1cf57de1aa85  caded193e8e47b8362864762a83db3c5   \n",
       "118  0760a852e4e9d89eb77bf631eaaf1c84  d2a79636084590b7465af8ab374a8cf5   \n",
       "148  15bed8e2fec7fdbadb186b57c46c92f2  f3f0e613e0bdb9c7cee75504f0f90679   \n",
       "185  6942b8da583c2f9957e990d028607019  52006a9383bf149a4fb24226b173106f   \n",
       "\n",
       "    order_status order_purchase_timestamp   order_approved_at  \\\n",
       "6       invoiced      2017-04-11 12:22:08 2017-04-13 13:25:17   \n",
       "46       shipped      2018-06-04 16:44:48 2018-06-05 04:31:18   \n",
       "118     invoiced      2018-08-03 17:44:42 2018-08-07 06:15:14   \n",
       "148   processing      2017-09-03 14:22:03 2017-09-03 14:30:09   \n",
       "185      shipped      2018-01-10 11:33:07 2018-01-11 02:32:30   \n",
       "\n",
       "    order_delivered_carrier_date order_delivered_customer_date  \\\n",
       "6                            NaT                           NaT   \n",
       "46           2018-06-05 14:32:00                           NaT   \n",
       "118                          NaT                           NaT   \n",
       "148                          NaT                           NaT   \n",
       "185          2018-01-11 19:39:23                           NaT   \n",
       "\n",
       "    order_estimated_delivery_date                customer_unique_id  \\\n",
       "6                      2017-05-09  36edbb3fb164b1f16485364b6fb04c73   \n",
       "46                     2018-06-28  08fb46d35bb3ab4037202c23592d1259   \n",
       "118                    2018-08-21  c7f8d7b1fffc946d7069574f74c39f4e   \n",
       "148                    2017-10-03  9f269af9c49244f6ba4a46985a3cfc2e   \n",
       "185                    2018-02-07  528b011eb7fab3d59c336cc7248eed3a   \n",
       "\n",
       "     customer_zip_code_prefix              customer_city customer_state  \\\n",
       "6                       98900                 santa rosa             RS   \n",
       "46                      13215                    jundiai             SP   \n",
       "118                     88140  santo amaro da imperatriz             SC   \n",
       "148                      3436                  sao paulo             SP   \n",
       "185                     38600                   paracatu             MG   \n",
       "\n",
       "     order_item_id                        product_id  \\\n",
       "6              1.0  a1804276d9941ac0733cfd409f5206eb   \n",
       "46             1.0  c50ca07e9e4db9ea5011f06802c0aea0   \n",
       "118            1.0  1522589c64efd46731d3522568e5bc83   \n",
       "148            1.0  61d52f4882421048afd530db53d6f230   \n",
       "185            1.0  ee0c1cf2fbeae95205b4aa506f1469f0   \n",
       "\n",
       "                            seller_id shipping_limit_date   price  \\\n",
       "6    dc8798cbf453b7e0f98745e396cc5616 2017-04-19 13:25:17   49.90   \n",
       "46   e9779976487b77c6d4ac45f75ec7afe9 2018-06-13 04:30:33   14.49   \n",
       "118  28405831a29823802aa22c084cfd0649 2018-08-13 06:15:14   35.00   \n",
       "148  fa74b2f3287d296e9fbd2cc80f2d1cf1 2017-09-20 14:30:09  125.90   \n",
       "185  cc419e0650a3c5ba77189a1882b7556a 2018-01-18 02:32:30   53.99   \n",
       "\n",
       "     freight_value  order_estimated_delivery_month  \\\n",
       "6            16.05                               5   \n",
       "46            7.87                               6   \n",
       "118          15.35                               8   \n",
       "148          12.38                              10   \n",
       "185          15.13                               2   \n",
       "\n",
       "     order_estimated_delivery_year  \n",
       "6                             2017  \n",
       "46                            2018  \n",
       "118                           2018  \n",
       "148                           2017  \n",
       "185                           2018  "
      ]
     },
     "execution_count": 27,
     "metadata": {},
     "output_type": "execute_result"
    }
   ],
   "source": [
    "# Добавляем колонки с месяцем и годом обещаной доставки.\n",
    "\n",
    "merged_orders_customer['order_estimated_delivery_month'] = \\\n",
    "merged_orders_customer.order_estimated_delivery_date.dt.month\n",
    "\n",
    "merged_orders_customer['order_estimated_delivery_year'] = \\\n",
    "merged_orders_customer.order_estimated_delivery_date.dt.year\n",
    "\n",
    "merged_orders_customer.head()"
   ]
  },
  {
   "cell_type": "markdown",
   "metadata": {},
   "source": [
    "Далее группируем по id заказа, году, месяцу и статусу заказа (т.к. данные у нас за несколько лет и месяцев).\n",
    "Считаем количесвто за каждыей месяц по каждой причине.\n",
    "Также убираем из дата сета заказы со статусом delivered, т.к. вероятно, что они тоже доставлены, но дата не зафиксирована, о чем я писал ранее."
   ]
  },
  {
   "cell_type": "code",
   "execution_count": 132,
   "metadata": {},
   "outputs": [],
   "source": [
    "group_status_mean = merged_orders_customer \\\n",
    "    .query('order_status == \"canceled\" | order_status == \"unavailable\"') \\\n",
    "    .groupby(['order_estimated_delivery_month','order_estimated_delivery_year', 'order_status'], \n",
    "             as_index=False) \\\n",
    "    .order_id.nunique() \\\n",
    "    .groupby(['order_estimated_delivery_year', 'order_status'], as_index=False) \\\n",
    "    .agg({'order_id': 'mean'}) \\\n",
    "    .rename(columns={'order_id': 'monthly_mean'}) \\\n",
    "    .sort_values(['order_status','monthly_mean'], ascending=False)"
   ]
  },
  {
   "cell_type": "code",
   "execution_count": 139,
   "metadata": {},
   "outputs": [
    {
     "data": {
      "application/vnd.plotly.v1+json": {
       "config": {
        "plotlyServerURL": "https://plot.ly"
       },
       "data": [
        {
         "alignmentgroup": "True",
         "bingroup": "x",
         "histfunc": "sum",
         "hovertemplate": "Year of purchase:=2016<br>Order Status=%{x}<br>sum of Monthly Mean=%{y}<extra></extra>",
         "legendgroup": "2016",
         "marker": {
          "color": "#636efa"
         },
         "name": "2016",
         "offsetgroup": "2016",
         "orientation": "v",
         "showlegend": true,
         "type": "histogram",
         "x": [
          "unavailable",
          "canceled"
         ],
         "xaxis": "x",
         "y": [
          3.5,
          6.5
         ],
         "yaxis": "y"
        },
        {
         "alignmentgroup": "True",
         "bingroup": "x",
         "histfunc": "sum",
         "hovertemplate": "Year of purchase:=2017<br>Order Status=%{x}<br>sum of Monthly Mean=%{y}<extra></extra>",
         "legendgroup": "2017",
         "marker": {
          "color": "#EF553B"
         },
         "name": "2017",
         "offsetgroup": "2017",
         "orientation": "v",
         "showlegend": true,
         "type": "histogram",
         "x": [
          "unavailable",
          "canceled"
         ],
         "xaxis": "x",
         "y": [
          38.63636363636363,
          23.454545454545453
         ],
         "yaxis": "y"
        },
        {
         "alignmentgroup": "True",
         "bingroup": "x",
         "histfunc": "sum",
         "hovertemplate": "Year of purchase:=2018<br>Order Status=%{x}<br>sum of Monthly Mean=%{y}<extra></extra>",
         "legendgroup": "2018",
         "marker": {
          "color": "#00cc96"
         },
         "name": "2018",
         "offsetgroup": "2018",
         "orientation": "v",
         "showlegend": true,
         "type": "histogram",
         "x": [
          "unavailable",
          "canceled"
         ],
         "xaxis": "x",
         "y": [
          22.125,
          31
         ],
         "yaxis": "y"
        }
       ],
       "layout": {
        "barmode": "group",
        "height": 500,
        "legend": {
         "title": {
          "text": "Year of purchase:"
         },
         "tracegroupgap": 0
        },
        "template": {
         "data": {
          "bar": [
           {
            "error_x": {
             "color": "#2a3f5f"
            },
            "error_y": {
             "color": "#2a3f5f"
            },
            "marker": {
             "line": {
              "color": "#E5ECF6",
              "width": 0.5
             }
            },
            "type": "bar"
           }
          ],
          "barpolar": [
           {
            "marker": {
             "line": {
              "color": "#E5ECF6",
              "width": 0.5
             }
            },
            "type": "barpolar"
           }
          ],
          "carpet": [
           {
            "aaxis": {
             "endlinecolor": "#2a3f5f",
             "gridcolor": "white",
             "linecolor": "white",
             "minorgridcolor": "white",
             "startlinecolor": "#2a3f5f"
            },
            "baxis": {
             "endlinecolor": "#2a3f5f",
             "gridcolor": "white",
             "linecolor": "white",
             "minorgridcolor": "white",
             "startlinecolor": "#2a3f5f"
            },
            "type": "carpet"
           }
          ],
          "choropleth": [
           {
            "colorbar": {
             "outlinewidth": 0,
             "ticks": ""
            },
            "type": "choropleth"
           }
          ],
          "contour": [
           {
            "colorbar": {
             "outlinewidth": 0,
             "ticks": ""
            },
            "colorscale": [
             [
              0,
              "#0d0887"
             ],
             [
              0.1111111111111111,
              "#46039f"
             ],
             [
              0.2222222222222222,
              "#7201a8"
             ],
             [
              0.3333333333333333,
              "#9c179e"
             ],
             [
              0.4444444444444444,
              "#bd3786"
             ],
             [
              0.5555555555555556,
              "#d8576b"
             ],
             [
              0.6666666666666666,
              "#ed7953"
             ],
             [
              0.7777777777777778,
              "#fb9f3a"
             ],
             [
              0.8888888888888888,
              "#fdca26"
             ],
             [
              1,
              "#f0f921"
             ]
            ],
            "type": "contour"
           }
          ],
          "contourcarpet": [
           {
            "colorbar": {
             "outlinewidth": 0,
             "ticks": ""
            },
            "type": "contourcarpet"
           }
          ],
          "heatmap": [
           {
            "colorbar": {
             "outlinewidth": 0,
             "ticks": ""
            },
            "colorscale": [
             [
              0,
              "#0d0887"
             ],
             [
              0.1111111111111111,
              "#46039f"
             ],
             [
              0.2222222222222222,
              "#7201a8"
             ],
             [
              0.3333333333333333,
              "#9c179e"
             ],
             [
              0.4444444444444444,
              "#bd3786"
             ],
             [
              0.5555555555555556,
              "#d8576b"
             ],
             [
              0.6666666666666666,
              "#ed7953"
             ],
             [
              0.7777777777777778,
              "#fb9f3a"
             ],
             [
              0.8888888888888888,
              "#fdca26"
             ],
             [
              1,
              "#f0f921"
             ]
            ],
            "type": "heatmap"
           }
          ],
          "heatmapgl": [
           {
            "colorbar": {
             "outlinewidth": 0,
             "ticks": ""
            },
            "colorscale": [
             [
              0,
              "#0d0887"
             ],
             [
              0.1111111111111111,
              "#46039f"
             ],
             [
              0.2222222222222222,
              "#7201a8"
             ],
             [
              0.3333333333333333,
              "#9c179e"
             ],
             [
              0.4444444444444444,
              "#bd3786"
             ],
             [
              0.5555555555555556,
              "#d8576b"
             ],
             [
              0.6666666666666666,
              "#ed7953"
             ],
             [
              0.7777777777777778,
              "#fb9f3a"
             ],
             [
              0.8888888888888888,
              "#fdca26"
             ],
             [
              1,
              "#f0f921"
             ]
            ],
            "type": "heatmapgl"
           }
          ],
          "histogram": [
           {
            "marker": {
             "colorbar": {
              "outlinewidth": 0,
              "ticks": ""
             }
            },
            "type": "histogram"
           }
          ],
          "histogram2d": [
           {
            "colorbar": {
             "outlinewidth": 0,
             "ticks": ""
            },
            "colorscale": [
             [
              0,
              "#0d0887"
             ],
             [
              0.1111111111111111,
              "#46039f"
             ],
             [
              0.2222222222222222,
              "#7201a8"
             ],
             [
              0.3333333333333333,
              "#9c179e"
             ],
             [
              0.4444444444444444,
              "#bd3786"
             ],
             [
              0.5555555555555556,
              "#d8576b"
             ],
             [
              0.6666666666666666,
              "#ed7953"
             ],
             [
              0.7777777777777778,
              "#fb9f3a"
             ],
             [
              0.8888888888888888,
              "#fdca26"
             ],
             [
              1,
              "#f0f921"
             ]
            ],
            "type": "histogram2d"
           }
          ],
          "histogram2dcontour": [
           {
            "colorbar": {
             "outlinewidth": 0,
             "ticks": ""
            },
            "colorscale": [
             [
              0,
              "#0d0887"
             ],
             [
              0.1111111111111111,
              "#46039f"
             ],
             [
              0.2222222222222222,
              "#7201a8"
             ],
             [
              0.3333333333333333,
              "#9c179e"
             ],
             [
              0.4444444444444444,
              "#bd3786"
             ],
             [
              0.5555555555555556,
              "#d8576b"
             ],
             [
              0.6666666666666666,
              "#ed7953"
             ],
             [
              0.7777777777777778,
              "#fb9f3a"
             ],
             [
              0.8888888888888888,
              "#fdca26"
             ],
             [
              1,
              "#f0f921"
             ]
            ],
            "type": "histogram2dcontour"
           }
          ],
          "mesh3d": [
           {
            "colorbar": {
             "outlinewidth": 0,
             "ticks": ""
            },
            "type": "mesh3d"
           }
          ],
          "parcoords": [
           {
            "line": {
             "colorbar": {
              "outlinewidth": 0,
              "ticks": ""
             }
            },
            "type": "parcoords"
           }
          ],
          "pie": [
           {
            "automargin": true,
            "type": "pie"
           }
          ],
          "scatter": [
           {
            "marker": {
             "colorbar": {
              "outlinewidth": 0,
              "ticks": ""
             }
            },
            "type": "scatter"
           }
          ],
          "scatter3d": [
           {
            "line": {
             "colorbar": {
              "outlinewidth": 0,
              "ticks": ""
             }
            },
            "marker": {
             "colorbar": {
              "outlinewidth": 0,
              "ticks": ""
             }
            },
            "type": "scatter3d"
           }
          ],
          "scattercarpet": [
           {
            "marker": {
             "colorbar": {
              "outlinewidth": 0,
              "ticks": ""
             }
            },
            "type": "scattercarpet"
           }
          ],
          "scattergeo": [
           {
            "marker": {
             "colorbar": {
              "outlinewidth": 0,
              "ticks": ""
             }
            },
            "type": "scattergeo"
           }
          ],
          "scattergl": [
           {
            "marker": {
             "colorbar": {
              "outlinewidth": 0,
              "ticks": ""
             }
            },
            "type": "scattergl"
           }
          ],
          "scattermapbox": [
           {
            "marker": {
             "colorbar": {
              "outlinewidth": 0,
              "ticks": ""
             }
            },
            "type": "scattermapbox"
           }
          ],
          "scatterpolar": [
           {
            "marker": {
             "colorbar": {
              "outlinewidth": 0,
              "ticks": ""
             }
            },
            "type": "scatterpolar"
           }
          ],
          "scatterpolargl": [
           {
            "marker": {
             "colorbar": {
              "outlinewidth": 0,
              "ticks": ""
             }
            },
            "type": "scatterpolargl"
           }
          ],
          "scatterternary": [
           {
            "marker": {
             "colorbar": {
              "outlinewidth": 0,
              "ticks": ""
             }
            },
            "type": "scatterternary"
           }
          ],
          "surface": [
           {
            "colorbar": {
             "outlinewidth": 0,
             "ticks": ""
            },
            "colorscale": [
             [
              0,
              "#0d0887"
             ],
             [
              0.1111111111111111,
              "#46039f"
             ],
             [
              0.2222222222222222,
              "#7201a8"
             ],
             [
              0.3333333333333333,
              "#9c179e"
             ],
             [
              0.4444444444444444,
              "#bd3786"
             ],
             [
              0.5555555555555556,
              "#d8576b"
             ],
             [
              0.6666666666666666,
              "#ed7953"
             ],
             [
              0.7777777777777778,
              "#fb9f3a"
             ],
             [
              0.8888888888888888,
              "#fdca26"
             ],
             [
              1,
              "#f0f921"
             ]
            ],
            "type": "surface"
           }
          ],
          "table": [
           {
            "cells": {
             "fill": {
              "color": "#EBF0F8"
             },
             "line": {
              "color": "white"
             }
            },
            "header": {
             "fill": {
              "color": "#C8D4E3"
             },
             "line": {
              "color": "white"
             }
            },
            "type": "table"
           }
          ]
         },
         "layout": {
          "annotationdefaults": {
           "arrowcolor": "#2a3f5f",
           "arrowhead": 0,
           "arrowwidth": 1
          },
          "coloraxis": {
           "colorbar": {
            "outlinewidth": 0,
            "ticks": ""
           }
          },
          "colorscale": {
           "diverging": [
            [
             0,
             "#8e0152"
            ],
            [
             0.1,
             "#c51b7d"
            ],
            [
             0.2,
             "#de77ae"
            ],
            [
             0.3,
             "#f1b6da"
            ],
            [
             0.4,
             "#fde0ef"
            ],
            [
             0.5,
             "#f7f7f7"
            ],
            [
             0.6,
             "#e6f5d0"
            ],
            [
             0.7,
             "#b8e186"
            ],
            [
             0.8,
             "#7fbc41"
            ],
            [
             0.9,
             "#4d9221"
            ],
            [
             1,
             "#276419"
            ]
           ],
           "sequential": [
            [
             0,
             "#0d0887"
            ],
            [
             0.1111111111111111,
             "#46039f"
            ],
            [
             0.2222222222222222,
             "#7201a8"
            ],
            [
             0.3333333333333333,
             "#9c179e"
            ],
            [
             0.4444444444444444,
             "#bd3786"
            ],
            [
             0.5555555555555556,
             "#d8576b"
            ],
            [
             0.6666666666666666,
             "#ed7953"
            ],
            [
             0.7777777777777778,
             "#fb9f3a"
            ],
            [
             0.8888888888888888,
             "#fdca26"
            ],
            [
             1,
             "#f0f921"
            ]
           ],
           "sequentialminus": [
            [
             0,
             "#0d0887"
            ],
            [
             0.1111111111111111,
             "#46039f"
            ],
            [
             0.2222222222222222,
             "#7201a8"
            ],
            [
             0.3333333333333333,
             "#9c179e"
            ],
            [
             0.4444444444444444,
             "#bd3786"
            ],
            [
             0.5555555555555556,
             "#d8576b"
            ],
            [
             0.6666666666666666,
             "#ed7953"
            ],
            [
             0.7777777777777778,
             "#fb9f3a"
            ],
            [
             0.8888888888888888,
             "#fdca26"
            ],
            [
             1,
             "#f0f921"
            ]
           ]
          },
          "colorway": [
           "#636efa",
           "#EF553B",
           "#00cc96",
           "#ab63fa",
           "#FFA15A",
           "#19d3f3",
           "#FF6692",
           "#B6E880",
           "#FF97FF",
           "#FECB52"
          ],
          "font": {
           "color": "#2a3f5f"
          },
          "geo": {
           "bgcolor": "white",
           "lakecolor": "white",
           "landcolor": "#E5ECF6",
           "showlakes": true,
           "showland": true,
           "subunitcolor": "white"
          },
          "hoverlabel": {
           "align": "left"
          },
          "hovermode": "closest",
          "mapbox": {
           "style": "light"
          },
          "paper_bgcolor": "white",
          "plot_bgcolor": "#E5ECF6",
          "polar": {
           "angularaxis": {
            "gridcolor": "white",
            "linecolor": "white",
            "ticks": ""
           },
           "bgcolor": "#E5ECF6",
           "radialaxis": {
            "gridcolor": "white",
            "linecolor": "white",
            "ticks": ""
           }
          },
          "scene": {
           "xaxis": {
            "backgroundcolor": "#E5ECF6",
            "gridcolor": "white",
            "gridwidth": 2,
            "linecolor": "white",
            "showbackground": true,
            "ticks": "",
            "zerolinecolor": "white"
           },
           "yaxis": {
            "backgroundcolor": "#E5ECF6",
            "gridcolor": "white",
            "gridwidth": 2,
            "linecolor": "white",
            "showbackground": true,
            "ticks": "",
            "zerolinecolor": "white"
           },
           "zaxis": {
            "backgroundcolor": "#E5ECF6",
            "gridcolor": "white",
            "gridwidth": 2,
            "linecolor": "white",
            "showbackground": true,
            "ticks": "",
            "zerolinecolor": "white"
           }
          },
          "shapedefaults": {
           "line": {
            "color": "#2a3f5f"
           }
          },
          "ternary": {
           "aaxis": {
            "gridcolor": "white",
            "linecolor": "white",
            "ticks": ""
           },
           "baxis": {
            "gridcolor": "white",
            "linecolor": "white",
            "ticks": ""
           },
           "bgcolor": "#E5ECF6",
           "caxis": {
            "gridcolor": "white",
            "linecolor": "white",
            "ticks": ""
           }
          },
          "title": {
           "x": 0.05
          },
          "xaxis": {
           "automargin": true,
           "gridcolor": "white",
           "linecolor": "white",
           "ticks": "",
           "title": {
            "standoff": 15
           },
           "zerolinecolor": "white",
           "zerolinewidth": 2
          },
          "yaxis": {
           "automargin": true,
           "gridcolor": "white",
           "linecolor": "white",
           "ticks": "",
           "title": {
            "standoff": 15
           },
           "zerolinecolor": "white",
           "zerolinewidth": 2
          }
         }
        },
        "title": {
         "text": "Not delivered orders (mean)"
        },
        "xaxis": {
         "anchor": "y",
         "domain": [
          0,
          1
         ],
         "title": {
          "text": "Order Status"
         }
        },
        "yaxis": {
         "anchor": "x",
         "domain": [
          0,
          1
         ],
         "title": {
          "text": "sum of Monthly Mean"
         }
        }
       }
      },
      "text/html": [
       "<div>\n",
       "        \n",
       "        \n",
       "            <div id=\"eef6c379-854e-45ca-85c0-f132631528dc\" class=\"plotly-graph-div\" style=\"height:500px; width:100%;\"></div>\n",
       "            <script type=\"text/javascript\">\n",
       "                require([\"plotly\"], function(Plotly) {\n",
       "                    window.PLOTLYENV=window.PLOTLYENV || {};\n",
       "                    \n",
       "                if (document.getElementById(\"eef6c379-854e-45ca-85c0-f132631528dc\")) {\n",
       "                    Plotly.newPlot(\n",
       "                        'eef6c379-854e-45ca-85c0-f132631528dc',\n",
       "                        [{\"alignmentgroup\": \"True\", \"bingroup\": \"x\", \"histfunc\": \"sum\", \"hovertemplate\": \"Year of purchase:=2016<br>Order Status=%{x}<br>sum of Monthly Mean=%{y}<extra></extra>\", \"legendgroup\": \"2016\", \"marker\": {\"color\": \"#636efa\"}, \"name\": \"2016\", \"offsetgroup\": \"2016\", \"orientation\": \"v\", \"showlegend\": true, \"type\": \"histogram\", \"x\": [\"unavailable\", \"canceled\"], \"xaxis\": \"x\", \"y\": [3.5, 6.5], \"yaxis\": \"y\"}, {\"alignmentgroup\": \"True\", \"bingroup\": \"x\", \"histfunc\": \"sum\", \"hovertemplate\": \"Year of purchase:=2017<br>Order Status=%{x}<br>sum of Monthly Mean=%{y}<extra></extra>\", \"legendgroup\": \"2017\", \"marker\": {\"color\": \"#EF553B\"}, \"name\": \"2017\", \"offsetgroup\": \"2017\", \"orientation\": \"v\", \"showlegend\": true, \"type\": \"histogram\", \"x\": [\"unavailable\", \"canceled\"], \"xaxis\": \"x\", \"y\": [38.63636363636363, 23.454545454545453], \"yaxis\": \"y\"}, {\"alignmentgroup\": \"True\", \"bingroup\": \"x\", \"histfunc\": \"sum\", \"hovertemplate\": \"Year of purchase:=2018<br>Order Status=%{x}<br>sum of Monthly Mean=%{y}<extra></extra>\", \"legendgroup\": \"2018\", \"marker\": {\"color\": \"#00cc96\"}, \"name\": \"2018\", \"offsetgroup\": \"2018\", \"orientation\": \"v\", \"showlegend\": true, \"type\": \"histogram\", \"x\": [\"unavailable\", \"canceled\"], \"xaxis\": \"x\", \"y\": [22.125, 31.0], \"yaxis\": \"y\"}],\n",
       "                        {\"barmode\": \"group\", \"height\": 500, \"legend\": {\"title\": {\"text\": \"Year of purchase:\"}, \"tracegroupgap\": 0}, \"template\": {\"data\": {\"bar\": [{\"error_x\": {\"color\": \"#2a3f5f\"}, \"error_y\": {\"color\": \"#2a3f5f\"}, \"marker\": {\"line\": {\"color\": \"#E5ECF6\", \"width\": 0.5}}, \"type\": \"bar\"}], \"barpolar\": [{\"marker\": {\"line\": {\"color\": \"#E5ECF6\", \"width\": 0.5}}, \"type\": \"barpolar\"}], \"carpet\": [{\"aaxis\": {\"endlinecolor\": \"#2a3f5f\", \"gridcolor\": \"white\", \"linecolor\": \"white\", \"minorgridcolor\": \"white\", \"startlinecolor\": \"#2a3f5f\"}, \"baxis\": {\"endlinecolor\": \"#2a3f5f\", \"gridcolor\": \"white\", \"linecolor\": \"white\", \"minorgridcolor\": \"white\", \"startlinecolor\": \"#2a3f5f\"}, \"type\": \"carpet\"}], \"choropleth\": [{\"colorbar\": {\"outlinewidth\": 0, \"ticks\": \"\"}, \"type\": \"choropleth\"}], \"contour\": [{\"colorbar\": {\"outlinewidth\": 0, \"ticks\": \"\"}, \"colorscale\": [[0.0, \"#0d0887\"], [0.1111111111111111, \"#46039f\"], [0.2222222222222222, \"#7201a8\"], [0.3333333333333333, \"#9c179e\"], [0.4444444444444444, \"#bd3786\"], [0.5555555555555556, \"#d8576b\"], [0.6666666666666666, \"#ed7953\"], [0.7777777777777778, \"#fb9f3a\"], [0.8888888888888888, \"#fdca26\"], [1.0, \"#f0f921\"]], \"type\": \"contour\"}], \"contourcarpet\": [{\"colorbar\": {\"outlinewidth\": 0, \"ticks\": \"\"}, \"type\": \"contourcarpet\"}], \"heatmap\": [{\"colorbar\": {\"outlinewidth\": 0, \"ticks\": \"\"}, \"colorscale\": [[0.0, \"#0d0887\"], [0.1111111111111111, \"#46039f\"], [0.2222222222222222, \"#7201a8\"], [0.3333333333333333, \"#9c179e\"], [0.4444444444444444, \"#bd3786\"], [0.5555555555555556, \"#d8576b\"], [0.6666666666666666, \"#ed7953\"], [0.7777777777777778, \"#fb9f3a\"], [0.8888888888888888, \"#fdca26\"], [1.0, \"#f0f921\"]], \"type\": \"heatmap\"}], \"heatmapgl\": [{\"colorbar\": {\"outlinewidth\": 0, \"ticks\": \"\"}, \"colorscale\": [[0.0, \"#0d0887\"], [0.1111111111111111, \"#46039f\"], [0.2222222222222222, \"#7201a8\"], [0.3333333333333333, \"#9c179e\"], [0.4444444444444444, \"#bd3786\"], [0.5555555555555556, \"#d8576b\"], [0.6666666666666666, \"#ed7953\"], [0.7777777777777778, \"#fb9f3a\"], [0.8888888888888888, \"#fdca26\"], [1.0, \"#f0f921\"]], \"type\": \"heatmapgl\"}], \"histogram\": [{\"marker\": {\"colorbar\": {\"outlinewidth\": 0, \"ticks\": \"\"}}, \"type\": \"histogram\"}], \"histogram2d\": [{\"colorbar\": {\"outlinewidth\": 0, \"ticks\": \"\"}, \"colorscale\": [[0.0, \"#0d0887\"], [0.1111111111111111, \"#46039f\"], [0.2222222222222222, \"#7201a8\"], [0.3333333333333333, \"#9c179e\"], [0.4444444444444444, \"#bd3786\"], [0.5555555555555556, \"#d8576b\"], [0.6666666666666666, \"#ed7953\"], [0.7777777777777778, \"#fb9f3a\"], [0.8888888888888888, \"#fdca26\"], [1.0, \"#f0f921\"]], \"type\": \"histogram2d\"}], \"histogram2dcontour\": [{\"colorbar\": {\"outlinewidth\": 0, \"ticks\": \"\"}, \"colorscale\": [[0.0, \"#0d0887\"], [0.1111111111111111, \"#46039f\"], [0.2222222222222222, \"#7201a8\"], [0.3333333333333333, \"#9c179e\"], [0.4444444444444444, \"#bd3786\"], [0.5555555555555556, \"#d8576b\"], [0.6666666666666666, \"#ed7953\"], [0.7777777777777778, \"#fb9f3a\"], [0.8888888888888888, \"#fdca26\"], [1.0, \"#f0f921\"]], \"type\": \"histogram2dcontour\"}], \"mesh3d\": [{\"colorbar\": {\"outlinewidth\": 0, \"ticks\": \"\"}, \"type\": \"mesh3d\"}], \"parcoords\": [{\"line\": {\"colorbar\": {\"outlinewidth\": 0, \"ticks\": \"\"}}, \"type\": \"parcoords\"}], \"pie\": [{\"automargin\": true, \"type\": \"pie\"}], \"scatter\": [{\"marker\": {\"colorbar\": {\"outlinewidth\": 0, \"ticks\": \"\"}}, \"type\": \"scatter\"}], \"scatter3d\": [{\"line\": {\"colorbar\": {\"outlinewidth\": 0, \"ticks\": \"\"}}, \"marker\": {\"colorbar\": {\"outlinewidth\": 0, \"ticks\": \"\"}}, \"type\": \"scatter3d\"}], \"scattercarpet\": [{\"marker\": {\"colorbar\": {\"outlinewidth\": 0, \"ticks\": \"\"}}, \"type\": \"scattercarpet\"}], \"scattergeo\": [{\"marker\": {\"colorbar\": {\"outlinewidth\": 0, \"ticks\": \"\"}}, \"type\": \"scattergeo\"}], \"scattergl\": [{\"marker\": {\"colorbar\": {\"outlinewidth\": 0, \"ticks\": \"\"}}, \"type\": \"scattergl\"}], \"scattermapbox\": [{\"marker\": {\"colorbar\": {\"outlinewidth\": 0, \"ticks\": \"\"}}, \"type\": \"scattermapbox\"}], \"scatterpolar\": [{\"marker\": {\"colorbar\": {\"outlinewidth\": 0, \"ticks\": \"\"}}, \"type\": \"scatterpolar\"}], \"scatterpolargl\": [{\"marker\": {\"colorbar\": {\"outlinewidth\": 0, \"ticks\": \"\"}}, \"type\": \"scatterpolargl\"}], \"scatterternary\": [{\"marker\": {\"colorbar\": {\"outlinewidth\": 0, \"ticks\": \"\"}}, \"type\": \"scatterternary\"}], \"surface\": [{\"colorbar\": {\"outlinewidth\": 0, \"ticks\": \"\"}, \"colorscale\": [[0.0, \"#0d0887\"], [0.1111111111111111, \"#46039f\"], [0.2222222222222222, \"#7201a8\"], [0.3333333333333333, \"#9c179e\"], [0.4444444444444444, \"#bd3786\"], [0.5555555555555556, \"#d8576b\"], [0.6666666666666666, \"#ed7953\"], [0.7777777777777778, \"#fb9f3a\"], [0.8888888888888888, \"#fdca26\"], [1.0, \"#f0f921\"]], \"type\": \"surface\"}], \"table\": [{\"cells\": {\"fill\": {\"color\": \"#EBF0F8\"}, \"line\": {\"color\": \"white\"}}, \"header\": {\"fill\": {\"color\": \"#C8D4E3\"}, \"line\": {\"color\": \"white\"}}, \"type\": \"table\"}]}, \"layout\": {\"annotationdefaults\": {\"arrowcolor\": \"#2a3f5f\", \"arrowhead\": 0, \"arrowwidth\": 1}, \"coloraxis\": {\"colorbar\": {\"outlinewidth\": 0, \"ticks\": \"\"}}, \"colorscale\": {\"diverging\": [[0, \"#8e0152\"], [0.1, \"#c51b7d\"], [0.2, \"#de77ae\"], [0.3, \"#f1b6da\"], [0.4, \"#fde0ef\"], [0.5, \"#f7f7f7\"], [0.6, \"#e6f5d0\"], [0.7, \"#b8e186\"], [0.8, \"#7fbc41\"], [0.9, \"#4d9221\"], [1, \"#276419\"]], \"sequential\": [[0.0, \"#0d0887\"], [0.1111111111111111, \"#46039f\"], [0.2222222222222222, \"#7201a8\"], [0.3333333333333333, \"#9c179e\"], [0.4444444444444444, \"#bd3786\"], [0.5555555555555556, \"#d8576b\"], [0.6666666666666666, \"#ed7953\"], [0.7777777777777778, \"#fb9f3a\"], [0.8888888888888888, \"#fdca26\"], [1.0, \"#f0f921\"]], \"sequentialminus\": [[0.0, \"#0d0887\"], [0.1111111111111111, \"#46039f\"], [0.2222222222222222, \"#7201a8\"], [0.3333333333333333, \"#9c179e\"], [0.4444444444444444, \"#bd3786\"], [0.5555555555555556, \"#d8576b\"], [0.6666666666666666, \"#ed7953\"], [0.7777777777777778, \"#fb9f3a\"], [0.8888888888888888, \"#fdca26\"], [1.0, \"#f0f921\"]]}, \"colorway\": [\"#636efa\", \"#EF553B\", \"#00cc96\", \"#ab63fa\", \"#FFA15A\", \"#19d3f3\", \"#FF6692\", \"#B6E880\", \"#FF97FF\", \"#FECB52\"], \"font\": {\"color\": \"#2a3f5f\"}, \"geo\": {\"bgcolor\": \"white\", \"lakecolor\": \"white\", \"landcolor\": \"#E5ECF6\", \"showlakes\": true, \"showland\": true, \"subunitcolor\": \"white\"}, \"hoverlabel\": {\"align\": \"left\"}, \"hovermode\": \"closest\", \"mapbox\": {\"style\": \"light\"}, \"paper_bgcolor\": \"white\", \"plot_bgcolor\": \"#E5ECF6\", \"polar\": {\"angularaxis\": {\"gridcolor\": \"white\", \"linecolor\": \"white\", \"ticks\": \"\"}, \"bgcolor\": \"#E5ECF6\", \"radialaxis\": {\"gridcolor\": \"white\", \"linecolor\": \"white\", \"ticks\": \"\"}}, \"scene\": {\"xaxis\": {\"backgroundcolor\": \"#E5ECF6\", \"gridcolor\": \"white\", \"gridwidth\": 2, \"linecolor\": \"white\", \"showbackground\": true, \"ticks\": \"\", \"zerolinecolor\": \"white\"}, \"yaxis\": {\"backgroundcolor\": \"#E5ECF6\", \"gridcolor\": \"white\", \"gridwidth\": 2, \"linecolor\": \"white\", \"showbackground\": true, \"ticks\": \"\", \"zerolinecolor\": \"white\"}, \"zaxis\": {\"backgroundcolor\": \"#E5ECF6\", \"gridcolor\": \"white\", \"gridwidth\": 2, \"linecolor\": \"white\", \"showbackground\": true, \"ticks\": \"\", \"zerolinecolor\": \"white\"}}, \"shapedefaults\": {\"line\": {\"color\": \"#2a3f5f\"}}, \"ternary\": {\"aaxis\": {\"gridcolor\": \"white\", \"linecolor\": \"white\", \"ticks\": \"\"}, \"baxis\": {\"gridcolor\": \"white\", \"linecolor\": \"white\", \"ticks\": \"\"}, \"bgcolor\": \"#E5ECF6\", \"caxis\": {\"gridcolor\": \"white\", \"linecolor\": \"white\", \"ticks\": \"\"}}, \"title\": {\"x\": 0.05}, \"xaxis\": {\"automargin\": true, \"gridcolor\": \"white\", \"linecolor\": \"white\", \"ticks\": \"\", \"title\": {\"standoff\": 15}, \"zerolinecolor\": \"white\", \"zerolinewidth\": 2}, \"yaxis\": {\"automargin\": true, \"gridcolor\": \"white\", \"linecolor\": \"white\", \"ticks\": \"\", \"title\": {\"standoff\": 15}, \"zerolinecolor\": \"white\", \"zerolinewidth\": 2}}}, \"title\": {\"text\": \"Not delivered orders (mean)\"}, \"xaxis\": {\"anchor\": \"y\", \"domain\": [0.0, 1.0], \"title\": {\"text\": \"Order Status\"}}, \"yaxis\": {\"anchor\": \"x\", \"domain\": [0.0, 1.0], \"title\": {\"text\": \"sum of Monthly Mean\"}}},\n",
       "                        {\"responsive\": true}\n",
       "                    ).then(function(){\n",
       "                            \n",
       "var gd = document.getElementById('eef6c379-854e-45ca-85c0-f132631528dc');\n",
       "var x = new MutationObserver(function (mutations, observer) {{\n",
       "        var display = window.getComputedStyle(gd).display;\n",
       "        if (!display || display === 'none') {{\n",
       "            console.log([gd, 'removed!']);\n",
       "            Plotly.purge(gd);\n",
       "            observer.disconnect();\n",
       "        }}\n",
       "}});\n",
       "\n",
       "// Listen for the removal of the full notebook cells\n",
       "var notebookContainer = gd.closest('#notebook-container');\n",
       "if (notebookContainer) {{\n",
       "    x.observe(notebookContainer, {childList: true});\n",
       "}}\n",
       "\n",
       "// Listen for the clearing of the current output cell\n",
       "var outputEl = gd.closest('.output');\n",
       "if (outputEl) {{\n",
       "    x.observe(outputEl, {childList: true});\n",
       "}}\n",
       "\n",
       "                        })\n",
       "                };\n",
       "                });\n",
       "            </script>\n",
       "        </div>"
      ]
     },
     "metadata": {},
     "output_type": "display_data"
    }
   ],
   "source": [
    "# Визуализируем полученные данные по среднему количеству недоставленных заказов в месяц по всем возможным статусам. \n",
    "# Делаем детализацию за каждый год, чтобы проследить динамику.\n",
    "\n",
    "fig = px.histogram(group_status_mean, \n",
    "             x='order_status', \n",
    "             y='monthly_mean', \n",
    "             title=\"Not delivered orders (mean)\", \n",
    "             labels={'monthly_mean':'Monthly Mean', 'order_status':'Order Status', 'order_estimated_delivery_year':'Year of purchase:'},\n",
    "             color=\"order_estimated_delivery_year\", \n",
    "             barmode=\"group\",\n",
    "             height=500,\n",
    "             category_orders={'order_estimated_delivery_year': [2016, 2017, 2018]})\n",
    "fig.show()"
   ]
  },
  {
   "cell_type": "markdown",
   "metadata": {},
   "source": [
    "### Ответ: \n",
    "\n",
    "Выше визулизированы итоговые данные, на которых можно увидеть, сколько заказов в месяц, в среднем по годам, было не доставлено по разным причинам. Для оценки недоставленных заказов были взяты только негативные сценарии, а именно unavailable и canceled, на кторых мы видим что:\n",
    "\n",
    "- В 2017 году много ыбло недоступного товара, и эта тенденция пошла нас спад в 2018 году, что может говорить о более точном планированнии стока;\n",
    "- Количество отмененных заказов растет из года в год, что показывает нам, то с нашим продукто что-то не так и все больше наших покупателей в конечном итоге отменияют покупку."
   ]
  },
  {
   "cell_type": "markdown",
   "metadata": {},
   "source": [
    " "
   ]
  },
  {
   "cell_type": "markdown",
   "metadata": {},
   "source": [
    " "
   ]
  },
  {
   "cell_type": "markdown",
   "metadata": {},
   "source": [
    "# Задание 3."
   ]
  },
  {
   "cell_type": "markdown",
   "metadata": {},
   "source": [
    "По каждому товару определить, в какой день недели товар чаще всего покупается. (5 баллов)\n",
    "\n",
    "Берем заранее подготовленный датасет только с успешными покупками.\n",
    "Создаем колонку с названием дня недели, ориентируясь на колонку order_approved_at."
   ]
  },
  {
   "cell_type": "code",
   "execution_count": 31,
   "metadata": {
    "scrolled": false
   },
   "outputs": [],
   "source": [
    "final_purchases_df['order_approved_day_name'] = final_purchases_df.order_approved_at.dt.day_name()"
   ]
  },
  {
   "cell_type": "code",
   "execution_count": 32,
   "metadata": {
    "scrolled": true
   },
   "outputs": [],
   "source": [
    "# Группируем данные по id продукта и дню и считаем количество успешных оплат.\n",
    "\n",
    "best_day = final_purchases_df \\\n",
    "    .groupby(['product_id', 'order_approved_day_name']) \\\n",
    "    .agg({'order_approved_day_name': 'count'}) \\\n",
    "    .rename(columns={'order_approved_day_name': 'count'}) \\\n",
    "    .reset_index()"
   ]
  },
  {
   "cell_type": "code",
   "execution_count": 33,
   "metadata": {},
   "outputs": [
    {
     "data": {
      "text/html": [
       "<div>\n",
       "<style scoped>\n",
       "    .dataframe tbody tr th:only-of-type {\n",
       "        vertical-align: middle;\n",
       "    }\n",
       "\n",
       "    .dataframe tbody tr th {\n",
       "        vertical-align: top;\n",
       "    }\n",
       "\n",
       "    .dataframe thead th {\n",
       "        text-align: right;\n",
       "    }\n",
       "</style>\n",
       "<table border=\"1\" class=\"dataframe\">\n",
       "  <thead>\n",
       "    <tr style=\"text-align: right;\">\n",
       "      <th></th>\n",
       "      <th>product_id</th>\n",
       "      <th>order_approved_day_name</th>\n",
       "      <th>count</th>\n",
       "    </tr>\n",
       "  </thead>\n",
       "  <tbody>\n",
       "    <tr>\n",
       "      <th>0</th>\n",
       "      <td>00066f42aeeb9f3007548bb9d3f33c38</td>\n",
       "      <td>Sunday</td>\n",
       "      <td>1</td>\n",
       "    </tr>\n",
       "    <tr>\n",
       "      <th>1</th>\n",
       "      <td>00088930e925c41fd95ebfe695fd2655</td>\n",
       "      <td>Tuesday</td>\n",
       "      <td>1</td>\n",
       "    </tr>\n",
       "    <tr>\n",
       "      <th>2</th>\n",
       "      <td>0009406fd7479715e4bef61dd91f2462</td>\n",
       "      <td>Friday</td>\n",
       "      <td>1</td>\n",
       "    </tr>\n",
       "    <tr>\n",
       "      <th>3</th>\n",
       "      <td>000b8f95fcb9e0096488278317764d19</td>\n",
       "      <td>Friday</td>\n",
       "      <td>1</td>\n",
       "    </tr>\n",
       "    <tr>\n",
       "      <th>4</th>\n",
       "      <td>000b8f95fcb9e0096488278317764d19</td>\n",
       "      <td>Wednesday</td>\n",
       "      <td>1</td>\n",
       "    </tr>\n",
       "  </tbody>\n",
       "</table>\n",
       "</div>"
      ],
      "text/plain": [
       "                         product_id order_approved_day_name  count\n",
       "0  00066f42aeeb9f3007548bb9d3f33c38                  Sunday      1\n",
       "1  00088930e925c41fd95ebfe695fd2655                 Tuesday      1\n",
       "2  0009406fd7479715e4bef61dd91f2462                  Friday      1\n",
       "3  000b8f95fcb9e0096488278317764d19                  Friday      1\n",
       "4  000b8f95fcb9e0096488278317764d19               Wednesday      1"
      ]
     },
     "execution_count": 33,
     "metadata": {},
     "output_type": "execute_result"
    }
   ],
   "source": [
    "best_day.head()"
   ]
  },
  {
   "cell_type": "markdown",
   "metadata": {},
   "source": [
    "Выводим для каждого product_id лучший день по количеству покупок. Количество значений соответсвует количеству уникальных ID. По некоторым покупкам есть дни с одинаково большим количеством покупок, в этих случая выведено только первое вхождение."
   ]
  },
  {
   "cell_type": "code",
   "execution_count": 34,
   "metadata": {},
   "outputs": [],
   "source": [
    "best_day_final_df = best_day \\\n",
    "    .pivot(index='order_approved_day_name', columns='product_id', values='count') \\\n",
    "    .fillna(0) \\\n",
    "    .idxmax() \\\n",
    "    .to_frame() \\\n",
    "    .rename(columns={0: 'best_day'})"
   ]
  },
  {
   "cell_type": "markdown",
   "metadata": {},
   "source": [
    "### Ответ:\n",
    "Ниже мы получили итоговый датафрейм, где по каждому id товара указан день, в который его чаще всего покупают."
   ]
  },
  {
   "cell_type": "code",
   "execution_count": 35,
   "metadata": {
    "scrolled": true
   },
   "outputs": [
    {
     "data": {
      "text/html": [
       "<div>\n",
       "<style scoped>\n",
       "    .dataframe tbody tr th:only-of-type {\n",
       "        vertical-align: middle;\n",
       "    }\n",
       "\n",
       "    .dataframe tbody tr th {\n",
       "        vertical-align: top;\n",
       "    }\n",
       "\n",
       "    .dataframe thead th {\n",
       "        text-align: right;\n",
       "    }\n",
       "</style>\n",
       "<table border=\"1\" class=\"dataframe\">\n",
       "  <thead>\n",
       "    <tr style=\"text-align: right;\">\n",
       "      <th></th>\n",
       "      <th>best_day</th>\n",
       "    </tr>\n",
       "    <tr>\n",
       "      <th>product_id</th>\n",
       "      <th></th>\n",
       "    </tr>\n",
       "  </thead>\n",
       "  <tbody>\n",
       "    <tr>\n",
       "      <th>00066f42aeeb9f3007548bb9d3f33c38</th>\n",
       "      <td>Sunday</td>\n",
       "    </tr>\n",
       "    <tr>\n",
       "      <th>00088930e925c41fd95ebfe695fd2655</th>\n",
       "      <td>Tuesday</td>\n",
       "    </tr>\n",
       "    <tr>\n",
       "      <th>0009406fd7479715e4bef61dd91f2462</th>\n",
       "      <td>Friday</td>\n",
       "    </tr>\n",
       "    <tr>\n",
       "      <th>000b8f95fcb9e0096488278317764d19</th>\n",
       "      <td>Friday</td>\n",
       "    </tr>\n",
       "    <tr>\n",
       "      <th>000d9be29b5207b54e86aa1b1ac54872</th>\n",
       "      <td>Tuesday</td>\n",
       "    </tr>\n",
       "    <tr>\n",
       "      <th>0011c512eb256aa0dbbb544d8dffcf6e</th>\n",
       "      <td>Thursday</td>\n",
       "    </tr>\n",
       "    <tr>\n",
       "      <th>00126f27c813603687e6ce486d909d01</th>\n",
       "      <td>Sunday</td>\n",
       "    </tr>\n",
       "    <tr>\n",
       "      <th>001795ec6f1b187d37335e1c4704762e</th>\n",
       "      <td>Monday</td>\n",
       "    </tr>\n",
       "    <tr>\n",
       "      <th>001b237c0e9bb435f2e54071129237e9</th>\n",
       "      <td>Friday</td>\n",
       "    </tr>\n",
       "    <tr>\n",
       "      <th>001b72dfd63e9833e8c02742adf472e3</th>\n",
       "      <td>Thursday</td>\n",
       "    </tr>\n",
       "  </tbody>\n",
       "</table>\n",
       "</div>"
      ],
      "text/plain": [
       "                                  best_day\n",
       "product_id                                \n",
       "00066f42aeeb9f3007548bb9d3f33c38    Sunday\n",
       "00088930e925c41fd95ebfe695fd2655   Tuesday\n",
       "0009406fd7479715e4bef61dd91f2462    Friday\n",
       "000b8f95fcb9e0096488278317764d19    Friday\n",
       "000d9be29b5207b54e86aa1b1ac54872   Tuesday\n",
       "0011c512eb256aa0dbbb544d8dffcf6e  Thursday\n",
       "00126f27c813603687e6ce486d909d01    Sunday\n",
       "001795ec6f1b187d37335e1c4704762e    Monday\n",
       "001b237c0e9bb435f2e54071129237e9    Friday\n",
       "001b72dfd63e9833e8c02742adf472e3  Thursday"
      ]
     },
     "execution_count": 35,
     "metadata": {},
     "output_type": "execute_result"
    }
   ],
   "source": [
    "best_day_final_df.head(10)"
   ]
  },
  {
   "cell_type": "markdown",
   "metadata": {},
   "source": [
    "Вручную проверяем несколько значений на совпадение (ниже отражен один из тестов, все совпали)."
   ]
  },
  {
   "cell_type": "code",
   "execution_count": 36,
   "metadata": {
    "scrolled": true
   },
   "outputs": [
    {
     "data": {
      "text/html": [
       "<div>\n",
       "<style scoped>\n",
       "    .dataframe tbody tr th:only-of-type {\n",
       "        vertical-align: middle;\n",
       "    }\n",
       "\n",
       "    .dataframe tbody tr th {\n",
       "        vertical-align: top;\n",
       "    }\n",
       "\n",
       "    .dataframe thead th {\n",
       "        text-align: right;\n",
       "    }\n",
       "</style>\n",
       "<table border=\"1\" class=\"dataframe\">\n",
       "  <thead>\n",
       "    <tr style=\"text-align: right;\">\n",
       "      <th></th>\n",
       "      <th>product_id</th>\n",
       "      <th>order_approved_day_name</th>\n",
       "      <th>count</th>\n",
       "    </tr>\n",
       "  </thead>\n",
       "  <tbody>\n",
       "    <tr>\n",
       "      <th>14</th>\n",
       "      <td>001b72dfd63e9833e8c02742adf472e3</td>\n",
       "      <td>Friday</td>\n",
       "      <td>2</td>\n",
       "    </tr>\n",
       "    <tr>\n",
       "      <th>15</th>\n",
       "      <td>001b72dfd63e9833e8c02742adf472e3</td>\n",
       "      <td>Saturday</td>\n",
       "      <td>3</td>\n",
       "    </tr>\n",
       "    <tr>\n",
       "      <th>16</th>\n",
       "      <td>001b72dfd63e9833e8c02742adf472e3</td>\n",
       "      <td>Sunday</td>\n",
       "      <td>1</td>\n",
       "    </tr>\n",
       "    <tr>\n",
       "      <th>17</th>\n",
       "      <td>001b72dfd63e9833e8c02742adf472e3</td>\n",
       "      <td>Thursday</td>\n",
       "      <td>4</td>\n",
       "    </tr>\n",
       "    <tr>\n",
       "      <th>18</th>\n",
       "      <td>001b72dfd63e9833e8c02742adf472e3</td>\n",
       "      <td>Tuesday</td>\n",
       "      <td>2</td>\n",
       "    </tr>\n",
       "    <tr>\n",
       "      <th>19</th>\n",
       "      <td>001b72dfd63e9833e8c02742adf472e3</td>\n",
       "      <td>Wednesday</td>\n",
       "      <td>2</td>\n",
       "    </tr>\n",
       "  </tbody>\n",
       "</table>\n",
       "</div>"
      ],
      "text/plain": [
       "                          product_id order_approved_day_name  count\n",
       "14  001b72dfd63e9833e8c02742adf472e3                  Friday      2\n",
       "15  001b72dfd63e9833e8c02742adf472e3                Saturday      3\n",
       "16  001b72dfd63e9833e8c02742adf472e3                  Sunday      1\n",
       "17  001b72dfd63e9833e8c02742adf472e3                Thursday      4\n",
       "18  001b72dfd63e9833e8c02742adf472e3                 Tuesday      2\n",
       "19  001b72dfd63e9833e8c02742adf472e3               Wednesday      2"
      ]
     },
     "execution_count": 36,
     "metadata": {},
     "output_type": "execute_result"
    }
   ],
   "source": [
    "best_day.loc[best_day.product_id == '001b72dfd63e9833e8c02742adf472e3']"
   ]
  },
  {
   "cell_type": "code",
   "execution_count": 37,
   "metadata": {},
   "outputs": [
    {
     "data": {
      "text/plain": [
       "best_day    Thursday\n",
       "Name: 001b72dfd63e9833e8c02742adf472e3, dtype: object"
      ]
     },
     "execution_count": 37,
     "metadata": {},
     "output_type": "execute_result"
    }
   ],
   "source": [
    "best_day_final_df.loc['001b72dfd63e9833e8c02742adf472e3']"
   ]
  },
  {
   "cell_type": "markdown",
   "metadata": {},
   "source": [
    " "
   ]
  },
  {
   "cell_type": "markdown",
   "metadata": {},
   "source": [
    " "
   ]
  },
  {
   "cell_type": "markdown",
   "metadata": {},
   "source": [
    "# Задание 4."
   ]
  },
  {
   "cell_type": "markdown",
   "metadata": {},
   "source": [
    "Сколько у каждого из пользователей в среднем покупок в неделю (по месяцам)? \n",
    "Не стоит забывать, что внутри месяца может быть не целое количество недель. \n",
    "Например, в ноябре 2021 года 4,28 недели. И внутри метрики это нужно учесть. (8 баллов) \n",
    "\n",
    "Опять берем подготовленный датафрейм с успешными покупками."
   ]
  },
  {
   "cell_type": "code",
   "execution_count": 38,
   "metadata": {},
   "outputs": [
    {
     "data": {
      "text/html": [
       "<div>\n",
       "<style scoped>\n",
       "    .dataframe tbody tr th:only-of-type {\n",
       "        vertical-align: middle;\n",
       "    }\n",
       "\n",
       "    .dataframe tbody tr th {\n",
       "        vertical-align: top;\n",
       "    }\n",
       "\n",
       "    .dataframe thead th {\n",
       "        text-align: right;\n",
       "    }\n",
       "</style>\n",
       "<table border=\"1\" class=\"dataframe\">\n",
       "  <thead>\n",
       "    <tr style=\"text-align: right;\">\n",
       "      <th></th>\n",
       "      <th>order_id</th>\n",
       "      <th>customer_id</th>\n",
       "      <th>order_status</th>\n",
       "      <th>order_purchase_timestamp</th>\n",
       "      <th>order_approved_at</th>\n",
       "      <th>order_delivered_carrier_date</th>\n",
       "      <th>order_delivered_customer_date</th>\n",
       "      <th>order_estimated_delivery_date</th>\n",
       "      <th>customer_unique_id</th>\n",
       "      <th>customer_zip_code_prefix</th>\n",
       "      <th>customer_city</th>\n",
       "      <th>customer_state</th>\n",
       "      <th>order_item_id</th>\n",
       "      <th>product_id</th>\n",
       "      <th>seller_id</th>\n",
       "      <th>shipping_limit_date</th>\n",
       "      <th>price</th>\n",
       "      <th>freight_value</th>\n",
       "      <th>order_approved_day_name</th>\n",
       "    </tr>\n",
       "  </thead>\n",
       "  <tbody>\n",
       "    <tr>\n",
       "      <th>0</th>\n",
       "      <td>e481f51cbdc54678b7cc49136f2d6af7</td>\n",
       "      <td>9ef432eb6251297304e76186b10a928d</td>\n",
       "      <td>delivered</td>\n",
       "      <td>2017-10-02 10:56:33</td>\n",
       "      <td>2017-10-02 11:07:15</td>\n",
       "      <td>2017-10-04 19:55:00</td>\n",
       "      <td>2017-10-10 21:25:13</td>\n",
       "      <td>2017-10-18</td>\n",
       "      <td>7c396fd4830fd04220f754e42b4e5bff</td>\n",
       "      <td>3149</td>\n",
       "      <td>sao paulo</td>\n",
       "      <td>SP</td>\n",
       "      <td>1.0</td>\n",
       "      <td>87285b34884572647811a353c7ac498a</td>\n",
       "      <td>3504c0cb71d7fa48d967e0e4c94d59d9</td>\n",
       "      <td>2017-10-06 11:07:15</td>\n",
       "      <td>29.99</td>\n",
       "      <td>8.72</td>\n",
       "      <td>Monday</td>\n",
       "    </tr>\n",
       "    <tr>\n",
       "      <th>1</th>\n",
       "      <td>53cdb2fc8bc7dce0b6741e2150273451</td>\n",
       "      <td>b0830fb4747a6c6d20dea0b8c802d7ef</td>\n",
       "      <td>delivered</td>\n",
       "      <td>2018-07-24 20:41:37</td>\n",
       "      <td>2018-07-26 03:24:27</td>\n",
       "      <td>2018-07-26 14:31:00</td>\n",
       "      <td>2018-08-07 15:27:45</td>\n",
       "      <td>2018-08-13</td>\n",
       "      <td>af07308b275d755c9edb36a90c618231</td>\n",
       "      <td>47813</td>\n",
       "      <td>barreiras</td>\n",
       "      <td>BA</td>\n",
       "      <td>1.0</td>\n",
       "      <td>595fac2a385ac33a80bd5114aec74eb8</td>\n",
       "      <td>289cdb325fb7e7f891c38608bf9e0962</td>\n",
       "      <td>2018-07-30 03:24:27</td>\n",
       "      <td>118.70</td>\n",
       "      <td>22.76</td>\n",
       "      <td>Thursday</td>\n",
       "    </tr>\n",
       "    <tr>\n",
       "      <th>2</th>\n",
       "      <td>47770eb9100c2d0c44946d9cf07ec65d</td>\n",
       "      <td>41ce2a54c0b03bf3443c3d931a367089</td>\n",
       "      <td>delivered</td>\n",
       "      <td>2018-08-08 08:38:49</td>\n",
       "      <td>2018-08-08 08:55:23</td>\n",
       "      <td>2018-08-08 13:50:00</td>\n",
       "      <td>2018-08-17 18:06:29</td>\n",
       "      <td>2018-09-04</td>\n",
       "      <td>3a653a41f6f9fc3d2a113cf8398680e8</td>\n",
       "      <td>75265</td>\n",
       "      <td>vianopolis</td>\n",
       "      <td>GO</td>\n",
       "      <td>1.0</td>\n",
       "      <td>aa4383b373c6aca5d8797843e5594415</td>\n",
       "      <td>4869f7a5dfa277a7dca6462dcf3b52b2</td>\n",
       "      <td>2018-08-13 08:55:23</td>\n",
       "      <td>159.90</td>\n",
       "      <td>19.22</td>\n",
       "      <td>Wednesday</td>\n",
       "    </tr>\n",
       "    <tr>\n",
       "      <th>3</th>\n",
       "      <td>949d5b44dbf5de918fe9c16f97b45f8a</td>\n",
       "      <td>f88197465ea7920adcdbec7375364d82</td>\n",
       "      <td>delivered</td>\n",
       "      <td>2017-11-18 19:28:06</td>\n",
       "      <td>2017-11-18 19:45:59</td>\n",
       "      <td>2017-11-22 13:39:59</td>\n",
       "      <td>2017-12-02 00:28:42</td>\n",
       "      <td>2017-12-15</td>\n",
       "      <td>7c142cf63193a1473d2e66489a9ae977</td>\n",
       "      <td>59296</td>\n",
       "      <td>sao goncalo do amarante</td>\n",
       "      <td>RN</td>\n",
       "      <td>1.0</td>\n",
       "      <td>d0b61bfb1de832b15ba9d266ca96e5b0</td>\n",
       "      <td>66922902710d126a0e7d26b0e3805106</td>\n",
       "      <td>2017-11-23 19:45:59</td>\n",
       "      <td>45.00</td>\n",
       "      <td>27.20</td>\n",
       "      <td>Saturday</td>\n",
       "    </tr>\n",
       "    <tr>\n",
       "      <th>4</th>\n",
       "      <td>ad21c59c0840e6cb83a9ceb5573f8159</td>\n",
       "      <td>8ab97904e6daea8866dbdbc4fb7aad2c</td>\n",
       "      <td>delivered</td>\n",
       "      <td>2018-02-13 21:18:39</td>\n",
       "      <td>2018-02-13 22:20:29</td>\n",
       "      <td>2018-02-14 19:46:34</td>\n",
       "      <td>2018-02-16 18:17:02</td>\n",
       "      <td>2018-02-26</td>\n",
       "      <td>72632f0f9dd73dfee390c9b22eb56dd6</td>\n",
       "      <td>9195</td>\n",
       "      <td>santo andre</td>\n",
       "      <td>SP</td>\n",
       "      <td>1.0</td>\n",
       "      <td>65266b2da20d04dbe00c5c2d3bb7859e</td>\n",
       "      <td>2c9e548be18521d1c43cde1c582c6de8</td>\n",
       "      <td>2018-02-19 20:31:37</td>\n",
       "      <td>19.90</td>\n",
       "      <td>8.72</td>\n",
       "      <td>Tuesday</td>\n",
       "    </tr>\n",
       "  </tbody>\n",
       "</table>\n",
       "</div>"
      ],
      "text/plain": [
       "                           order_id                       customer_id  \\\n",
       "0  e481f51cbdc54678b7cc49136f2d6af7  9ef432eb6251297304e76186b10a928d   \n",
       "1  53cdb2fc8bc7dce0b6741e2150273451  b0830fb4747a6c6d20dea0b8c802d7ef   \n",
       "2  47770eb9100c2d0c44946d9cf07ec65d  41ce2a54c0b03bf3443c3d931a367089   \n",
       "3  949d5b44dbf5de918fe9c16f97b45f8a  f88197465ea7920adcdbec7375364d82   \n",
       "4  ad21c59c0840e6cb83a9ceb5573f8159  8ab97904e6daea8866dbdbc4fb7aad2c   \n",
       "\n",
       "  order_status order_purchase_timestamp   order_approved_at  \\\n",
       "0    delivered      2017-10-02 10:56:33 2017-10-02 11:07:15   \n",
       "1    delivered      2018-07-24 20:41:37 2018-07-26 03:24:27   \n",
       "2    delivered      2018-08-08 08:38:49 2018-08-08 08:55:23   \n",
       "3    delivered      2017-11-18 19:28:06 2017-11-18 19:45:59   \n",
       "4    delivered      2018-02-13 21:18:39 2018-02-13 22:20:29   \n",
       "\n",
       "  order_delivered_carrier_date order_delivered_customer_date  \\\n",
       "0          2017-10-04 19:55:00           2017-10-10 21:25:13   \n",
       "1          2018-07-26 14:31:00           2018-08-07 15:27:45   \n",
       "2          2018-08-08 13:50:00           2018-08-17 18:06:29   \n",
       "3          2017-11-22 13:39:59           2017-12-02 00:28:42   \n",
       "4          2018-02-14 19:46:34           2018-02-16 18:17:02   \n",
       "\n",
       "  order_estimated_delivery_date                customer_unique_id  \\\n",
       "0                    2017-10-18  7c396fd4830fd04220f754e42b4e5bff   \n",
       "1                    2018-08-13  af07308b275d755c9edb36a90c618231   \n",
       "2                    2018-09-04  3a653a41f6f9fc3d2a113cf8398680e8   \n",
       "3                    2017-12-15  7c142cf63193a1473d2e66489a9ae977   \n",
       "4                    2018-02-26  72632f0f9dd73dfee390c9b22eb56dd6   \n",
       "\n",
       "   customer_zip_code_prefix            customer_city customer_state  \\\n",
       "0                      3149                sao paulo             SP   \n",
       "1                     47813                barreiras             BA   \n",
       "2                     75265               vianopolis             GO   \n",
       "3                     59296  sao goncalo do amarante             RN   \n",
       "4                      9195              santo andre             SP   \n",
       "\n",
       "   order_item_id                        product_id  \\\n",
       "0            1.0  87285b34884572647811a353c7ac498a   \n",
       "1            1.0  595fac2a385ac33a80bd5114aec74eb8   \n",
       "2            1.0  aa4383b373c6aca5d8797843e5594415   \n",
       "3            1.0  d0b61bfb1de832b15ba9d266ca96e5b0   \n",
       "4            1.0  65266b2da20d04dbe00c5c2d3bb7859e   \n",
       "\n",
       "                          seller_id shipping_limit_date   price  \\\n",
       "0  3504c0cb71d7fa48d967e0e4c94d59d9 2017-10-06 11:07:15   29.99   \n",
       "1  289cdb325fb7e7f891c38608bf9e0962 2018-07-30 03:24:27  118.70   \n",
       "2  4869f7a5dfa277a7dca6462dcf3b52b2 2018-08-13 08:55:23  159.90   \n",
       "3  66922902710d126a0e7d26b0e3805106 2017-11-23 19:45:59   45.00   \n",
       "4  2c9e548be18521d1c43cde1c582c6de8 2018-02-19 20:31:37   19.90   \n",
       "\n",
       "   freight_value order_approved_day_name  \n",
       "0           8.72                  Monday  \n",
       "1          22.76                Thursday  \n",
       "2          19.22               Wednesday  \n",
       "3          27.20                Saturday  \n",
       "4           8.72                 Tuesday  "
      ]
     },
     "execution_count": 38,
     "metadata": {},
     "output_type": "execute_result"
    }
   ],
   "source": [
    "final_purchases_df.head()"
   ]
  },
  {
   "cell_type": "code",
   "execution_count": 39,
   "metadata": {},
   "outputs": [
    {
     "data": {
      "text/html": [
       "<div>\n",
       "<style scoped>\n",
       "    .dataframe tbody tr th:only-of-type {\n",
       "        vertical-align: middle;\n",
       "    }\n",
       "\n",
       "    .dataframe tbody tr th {\n",
       "        vertical-align: top;\n",
       "    }\n",
       "\n",
       "    .dataframe thead th {\n",
       "        text-align: right;\n",
       "    }\n",
       "</style>\n",
       "<table border=\"1\" class=\"dataframe\">\n",
       "  <thead>\n",
       "    <tr style=\"text-align: right;\">\n",
       "      <th></th>\n",
       "      <th>order_id</th>\n",
       "      <th>customer_unique_id</th>\n",
       "      <th>order_approved_at</th>\n",
       "      <th>order_status</th>\n",
       "    </tr>\n",
       "  </thead>\n",
       "  <tbody>\n",
       "    <tr>\n",
       "      <th>0</th>\n",
       "      <td>e481f51cbdc54678b7cc49136f2d6af7</td>\n",
       "      <td>7c396fd4830fd04220f754e42b4e5bff</td>\n",
       "      <td>2017-10-02 11:07:15</td>\n",
       "      <td>delivered</td>\n",
       "    </tr>\n",
       "    <tr>\n",
       "      <th>1</th>\n",
       "      <td>53cdb2fc8bc7dce0b6741e2150273451</td>\n",
       "      <td>af07308b275d755c9edb36a90c618231</td>\n",
       "      <td>2018-07-26 03:24:27</td>\n",
       "      <td>delivered</td>\n",
       "    </tr>\n",
       "    <tr>\n",
       "      <th>2</th>\n",
       "      <td>47770eb9100c2d0c44946d9cf07ec65d</td>\n",
       "      <td>3a653a41f6f9fc3d2a113cf8398680e8</td>\n",
       "      <td>2018-08-08 08:55:23</td>\n",
       "      <td>delivered</td>\n",
       "    </tr>\n",
       "    <tr>\n",
       "      <th>3</th>\n",
       "      <td>949d5b44dbf5de918fe9c16f97b45f8a</td>\n",
       "      <td>7c142cf63193a1473d2e66489a9ae977</td>\n",
       "      <td>2017-11-18 19:45:59</td>\n",
       "      <td>delivered</td>\n",
       "    </tr>\n",
       "    <tr>\n",
       "      <th>4</th>\n",
       "      <td>ad21c59c0840e6cb83a9ceb5573f8159</td>\n",
       "      <td>72632f0f9dd73dfee390c9b22eb56dd6</td>\n",
       "      <td>2018-02-13 22:20:29</td>\n",
       "      <td>delivered</td>\n",
       "    </tr>\n",
       "  </tbody>\n",
       "</table>\n",
       "</div>"
      ],
      "text/plain": [
       "                           order_id                customer_unique_id  \\\n",
       "0  e481f51cbdc54678b7cc49136f2d6af7  7c396fd4830fd04220f754e42b4e5bff   \n",
       "1  53cdb2fc8bc7dce0b6741e2150273451  af07308b275d755c9edb36a90c618231   \n",
       "2  47770eb9100c2d0c44946d9cf07ec65d  3a653a41f6f9fc3d2a113cf8398680e8   \n",
       "3  949d5b44dbf5de918fe9c16f97b45f8a  7c142cf63193a1473d2e66489a9ae977   \n",
       "4  ad21c59c0840e6cb83a9ceb5573f8159  72632f0f9dd73dfee390c9b22eb56dd6   \n",
       "\n",
       "    order_approved_at order_status  \n",
       "0 2017-10-02 11:07:15    delivered  \n",
       "1 2018-07-26 03:24:27    delivered  \n",
       "2 2018-08-08 08:55:23    delivered  \n",
       "3 2017-11-18 19:45:59    delivered  \n",
       "4 2018-02-13 22:20:29    delivered  "
      ]
     },
     "execution_count": 39,
     "metadata": {},
     "output_type": "execute_result"
    }
   ],
   "source": [
    "# Берем нужные колонки из общего датафрейма и добавляем в новую переменную.\n",
    "\n",
    "customer_orders = final_purchases_df[['order_id', 'customer_unique_id', 'order_approved_at', 'order_status']]\n",
    "customer_orders.head()"
   ]
  },
  {
   "cell_type": "code",
   "execution_count": 40,
   "metadata": {},
   "outputs": [],
   "source": [
    "# Считаем количество уникальных заказов по уникальным юзерам в разные даты.\n",
    "\n",
    "customer_orders = customer_orders.groupby(['order_id', 'customer_unique_id', 'order_approved_at'], \n",
    "                                          as_index=False) \\\n",
    "                                 .order_status.count()"
   ]
  },
  {
   "cell_type": "code",
   "execution_count": 41,
   "metadata": {},
   "outputs": [],
   "source": [
    "# Создаем колонки с годом месяцем и количеством недель в месяце для дальнейших расчетов.\n",
    "\n",
    "customer_orders['order_approved_at_month'] = customer_orders.order_approved_at.dt.month\n",
    "customer_orders['order_approved_at_year'] = customer_orders.order_approved_at.dt.year\n",
    "customer_orders['weeks_count'] = customer_orders.order_approved_at.dt.days_in_month / 7"
   ]
  },
  {
   "cell_type": "code",
   "execution_count": 42,
   "metadata": {},
   "outputs": [
    {
     "data": {
      "text/html": [
       "<div>\n",
       "<style scoped>\n",
       "    .dataframe tbody tr th:only-of-type {\n",
       "        vertical-align: middle;\n",
       "    }\n",
       "\n",
       "    .dataframe tbody tr th {\n",
       "        vertical-align: top;\n",
       "    }\n",
       "\n",
       "    .dataframe thead th {\n",
       "        text-align: right;\n",
       "    }\n",
       "</style>\n",
       "<table border=\"1\" class=\"dataframe\">\n",
       "  <thead>\n",
       "    <tr style=\"text-align: right;\">\n",
       "      <th></th>\n",
       "      <th>order_id</th>\n",
       "      <th>customer_unique_id</th>\n",
       "      <th>order_approved_at</th>\n",
       "      <th>order_status</th>\n",
       "      <th>order_approved_at_month</th>\n",
       "      <th>order_approved_at_year</th>\n",
       "      <th>weeks_count</th>\n",
       "    </tr>\n",
       "  </thead>\n",
       "  <tbody>\n",
       "    <tr>\n",
       "      <th>0</th>\n",
       "      <td>00010242fe8c5a6d1ba2dd792cb16214</td>\n",
       "      <td>871766c5855e863f6eccc05f988b23cb</td>\n",
       "      <td>2017-09-13 09:45:35</td>\n",
       "      <td>1</td>\n",
       "      <td>9</td>\n",
       "      <td>2017</td>\n",
       "      <td>4.285714</td>\n",
       "    </tr>\n",
       "    <tr>\n",
       "      <th>1</th>\n",
       "      <td>00018f77f2f0320c557190d7a144bdd3</td>\n",
       "      <td>eb28e67c4c0b83846050ddfb8a35d051</td>\n",
       "      <td>2017-04-26 11:05:13</td>\n",
       "      <td>1</td>\n",
       "      <td>4</td>\n",
       "      <td>2017</td>\n",
       "      <td>4.285714</td>\n",
       "    </tr>\n",
       "    <tr>\n",
       "      <th>2</th>\n",
       "      <td>000229ec398224ef6ca0657da4fc703e</td>\n",
       "      <td>3818d81c6709e39d06b2738a8d3a2474</td>\n",
       "      <td>2018-01-14 14:48:30</td>\n",
       "      <td>1</td>\n",
       "      <td>1</td>\n",
       "      <td>2018</td>\n",
       "      <td>4.428571</td>\n",
       "    </tr>\n",
       "    <tr>\n",
       "      <th>3</th>\n",
       "      <td>00024acbcdf0a6daa1e931b038114c75</td>\n",
       "      <td>af861d436cfc08b2c2ddefd0ba074622</td>\n",
       "      <td>2018-08-08 10:10:18</td>\n",
       "      <td>1</td>\n",
       "      <td>8</td>\n",
       "      <td>2018</td>\n",
       "      <td>4.428571</td>\n",
       "    </tr>\n",
       "    <tr>\n",
       "      <th>4</th>\n",
       "      <td>00042b26cf59d7ce69dfabb4e55b4fd9</td>\n",
       "      <td>64b576fb70d441e8f1b2d7d446e483c5</td>\n",
       "      <td>2017-02-04 14:10:13</td>\n",
       "      <td>1</td>\n",
       "      <td>2</td>\n",
       "      <td>2017</td>\n",
       "      <td>4.000000</td>\n",
       "    </tr>\n",
       "  </tbody>\n",
       "</table>\n",
       "</div>"
      ],
      "text/plain": [
       "                           order_id                customer_unique_id  \\\n",
       "0  00010242fe8c5a6d1ba2dd792cb16214  871766c5855e863f6eccc05f988b23cb   \n",
       "1  00018f77f2f0320c557190d7a144bdd3  eb28e67c4c0b83846050ddfb8a35d051   \n",
       "2  000229ec398224ef6ca0657da4fc703e  3818d81c6709e39d06b2738a8d3a2474   \n",
       "3  00024acbcdf0a6daa1e931b038114c75  af861d436cfc08b2c2ddefd0ba074622   \n",
       "4  00042b26cf59d7ce69dfabb4e55b4fd9  64b576fb70d441e8f1b2d7d446e483c5   \n",
       "\n",
       "    order_approved_at  order_status  order_approved_at_month  \\\n",
       "0 2017-09-13 09:45:35             1                        9   \n",
       "1 2017-04-26 11:05:13             1                        4   \n",
       "2 2018-01-14 14:48:30             1                        1   \n",
       "3 2018-08-08 10:10:18             1                        8   \n",
       "4 2017-02-04 14:10:13             1                        2   \n",
       "\n",
       "   order_approved_at_year  weeks_count  \n",
       "0                    2017     4.285714  \n",
       "1                    2017     4.285714  \n",
       "2                    2018     4.428571  \n",
       "3                    2018     4.428571  \n",
       "4                    2017     4.000000  "
      ]
     },
     "execution_count": 42,
     "metadata": {},
     "output_type": "execute_result"
    }
   ],
   "source": [
    "customer_orders.head()"
   ]
  },
  {
   "cell_type": "markdown",
   "metadata": {},
   "source": [
    "Группируем данные по пользователю, году и месяцу (+количеству дней в месяце просто чтобы эта колонка осталась) и считаем количество заказов. Ресетим индексы и оставляем, индексами только id пользователей."
   ]
  },
  {
   "cell_type": "code",
   "execution_count": 43,
   "metadata": {},
   "outputs": [],
   "source": [
    "customer_orders = customer_orders.groupby(['customer_unique_id', 'order_approved_at_month', 'order_approved_at_year', 'weeks_count']) \\\n",
    "    .agg({'order_status': 'count'}) \\\n",
    "    .reset_index()"
   ]
  },
  {
   "cell_type": "markdown",
   "metadata": {},
   "source": [
    "Далее делим сумму заказов каждого пользователя в месяц на количество недель в этом месяце, чтобы узнать средне за неделю."
   ]
  },
  {
   "cell_type": "code",
   "execution_count": 44,
   "metadata": {},
   "outputs": [],
   "source": [
    "customer_orders['orders_per_week'] = customer_orders.order_status / customer_orders.weeks_count"
   ]
  },
  {
   "cell_type": "markdown",
   "metadata": {},
   "source": [
    "Финальный штрих - группируем данные по id покупателя и месяцу (уже без годов) и считаем среднее средних за неделю."
   ]
  },
  {
   "cell_type": "code",
   "execution_count": 45,
   "metadata": {},
   "outputs": [
    {
     "data": {
      "text/html": [
       "<div>\n",
       "<style scoped>\n",
       "    .dataframe tbody tr th:only-of-type {\n",
       "        vertical-align: middle;\n",
       "    }\n",
       "\n",
       "    .dataframe tbody tr th {\n",
       "        vertical-align: top;\n",
       "    }\n",
       "\n",
       "    .dataframe thead th {\n",
       "        text-align: right;\n",
       "    }\n",
       "</style>\n",
       "<table border=\"1\" class=\"dataframe\">\n",
       "  <thead>\n",
       "    <tr style=\"text-align: right;\">\n",
       "      <th></th>\n",
       "      <th>customer_unique_id</th>\n",
       "      <th>order_approved_at_month</th>\n",
       "      <th>orders_per_week</th>\n",
       "    </tr>\n",
       "  </thead>\n",
       "  <tbody>\n",
       "    <tr>\n",
       "      <th>0</th>\n",
       "      <td>9304a65759d081e8c86846970b0e9848</td>\n",
       "      <td>1</td>\n",
       "      <td>0.225806</td>\n",
       "    </tr>\n",
       "    <tr>\n",
       "      <th>1</th>\n",
       "      <td>b3ab1572fdb4a1c2e6862a3ea20e68dc</td>\n",
       "      <td>1</td>\n",
       "      <td>0.225806</td>\n",
       "    </tr>\n",
       "    <tr>\n",
       "      <th>2</th>\n",
       "      <td>11c89d7353d7e228965ea26a84d7bbeb</td>\n",
       "      <td>1</td>\n",
       "      <td>0.225806</td>\n",
       "    </tr>\n",
       "    <tr>\n",
       "      <th>3</th>\n",
       "      <td>864c41dbd1a61c08945f1ee81c45e1d6</td>\n",
       "      <td>1</td>\n",
       "      <td>0.225806</td>\n",
       "    </tr>\n",
       "    <tr>\n",
       "      <th>4</th>\n",
       "      <td>5827a5de2baaea8fc423b608e06e1fb9</td>\n",
       "      <td>1</td>\n",
       "      <td>0.225806</td>\n",
       "    </tr>\n",
       "  </tbody>\n",
       "</table>\n",
       "</div>"
      ],
      "text/plain": [
       "                 customer_unique_id  order_approved_at_month  orders_per_week\n",
       "0  9304a65759d081e8c86846970b0e9848                        1         0.225806\n",
       "1  b3ab1572fdb4a1c2e6862a3ea20e68dc                        1         0.225806\n",
       "2  11c89d7353d7e228965ea26a84d7bbeb                        1         0.225806\n",
       "3  864c41dbd1a61c08945f1ee81c45e1d6                        1         0.225806\n",
       "4  5827a5de2baaea8fc423b608e06e1fb9                        1         0.225806"
      ]
     },
     "execution_count": 45,
     "metadata": {},
     "output_type": "execute_result"
    }
   ],
   "source": [
    "week_customer_orders = customer_orders \\\n",
    "    .groupby(['customer_unique_id','order_approved_at_month'], as_index=False) \\\n",
    "    .agg({'orders_per_week':'mean'}) \\\n",
    "    .sort_values('order_approved_at_month') \\\n",
    "    .reset_index(drop=True)\n",
    "\n",
    "week_customer_orders.head()"
   ]
  },
  {
   "cell_type": "markdown",
   "metadata": {},
   "source": [
    "Для удобства можем сделать pivot и заменим NaN на '-' (чтобы визуально сделать более красиво и понятно). \n",
    "Теперь есть возможность обращаться по user_id, как по индексу и смотреть данные по каждому отдельному юзеру, по всем месяцам."
   ]
  },
  {
   "cell_type": "code",
   "execution_count": 46,
   "metadata": {},
   "outputs": [],
   "source": [
    "week_customer_orders_pivot = week_customer_orders \\\n",
    "    .pivot(index='customer_unique_id', columns='order_approved_at_month', values='orders_per_week') \\\n",
    "    .fillna('-') \\\n",
    "    .rename(columns={\n",
    "                    1:'January',\n",
    "                    2:'February',\n",
    "                    3:'March',\n",
    "                    4:'April',\n",
    "                    5:'May',\n",
    "                    6:'June',\n",
    "                    7:'July',\n",
    "                    8:'August',\n",
    "                    9:'September',\n",
    "                    10:'October',\n",
    "                    11:'November',\n",
    "                    12:'December'\n",
    "                    })"
   ]
  },
  {
   "cell_type": "code",
   "execution_count": 47,
   "metadata": {
    "scrolled": true
   },
   "outputs": [
    {
     "data": {
      "text/html": [
       "<div>\n",
       "<style scoped>\n",
       "    .dataframe tbody tr th:only-of-type {\n",
       "        vertical-align: middle;\n",
       "    }\n",
       "\n",
       "    .dataframe tbody tr th {\n",
       "        vertical-align: top;\n",
       "    }\n",
       "\n",
       "    .dataframe thead th {\n",
       "        text-align: right;\n",
       "    }\n",
       "</style>\n",
       "<table border=\"1\" class=\"dataframe\">\n",
       "  <thead>\n",
       "    <tr style=\"text-align: right;\">\n",
       "      <th>order_approved_at_month</th>\n",
       "      <th>January</th>\n",
       "      <th>February</th>\n",
       "      <th>March</th>\n",
       "      <th>April</th>\n",
       "      <th>May</th>\n",
       "      <th>June</th>\n",
       "      <th>July</th>\n",
       "      <th>August</th>\n",
       "      <th>September</th>\n",
       "      <th>October</th>\n",
       "      <th>November</th>\n",
       "      <th>December</th>\n",
       "    </tr>\n",
       "    <tr>\n",
       "      <th>customer_unique_id</th>\n",
       "      <th></th>\n",
       "      <th></th>\n",
       "      <th></th>\n",
       "      <th></th>\n",
       "      <th></th>\n",
       "      <th></th>\n",
       "      <th></th>\n",
       "      <th></th>\n",
       "      <th></th>\n",
       "      <th></th>\n",
       "      <th></th>\n",
       "      <th></th>\n",
       "    </tr>\n",
       "  </thead>\n",
       "  <tbody>\n",
       "    <tr>\n",
       "      <th>0000366f3b9a7992bf8c76cfdf3221e2</th>\n",
       "      <td>-</td>\n",
       "      <td>-</td>\n",
       "      <td>-</td>\n",
       "      <td>-</td>\n",
       "      <td>0.225806</td>\n",
       "      <td>-</td>\n",
       "      <td>-</td>\n",
       "      <td>-</td>\n",
       "      <td>-</td>\n",
       "      <td>-</td>\n",
       "      <td>-</td>\n",
       "      <td>-</td>\n",
       "    </tr>\n",
       "    <tr>\n",
       "      <th>0000b849f77a49e4a4ce2b2a4ca5be3f</th>\n",
       "      <td>-</td>\n",
       "      <td>-</td>\n",
       "      <td>-</td>\n",
       "      <td>-</td>\n",
       "      <td>0.225806</td>\n",
       "      <td>-</td>\n",
       "      <td>-</td>\n",
       "      <td>-</td>\n",
       "      <td>-</td>\n",
       "      <td>-</td>\n",
       "      <td>-</td>\n",
       "      <td>-</td>\n",
       "    </tr>\n",
       "    <tr>\n",
       "      <th>0000f46a3911fa3c0805444483337064</th>\n",
       "      <td>-</td>\n",
       "      <td>-</td>\n",
       "      <td>0.225806</td>\n",
       "      <td>-</td>\n",
       "      <td>-</td>\n",
       "      <td>-</td>\n",
       "      <td>-</td>\n",
       "      <td>-</td>\n",
       "      <td>-</td>\n",
       "      <td>-</td>\n",
       "      <td>-</td>\n",
       "      <td>-</td>\n",
       "    </tr>\n",
       "    <tr>\n",
       "      <th>0000f6ccb0745a6a4b88665a16c9f078</th>\n",
       "      <td>-</td>\n",
       "      <td>-</td>\n",
       "      <td>-</td>\n",
       "      <td>-</td>\n",
       "      <td>-</td>\n",
       "      <td>-</td>\n",
       "      <td>-</td>\n",
       "      <td>-</td>\n",
       "      <td>-</td>\n",
       "      <td>0.225806</td>\n",
       "      <td>-</td>\n",
       "      <td>-</td>\n",
       "    </tr>\n",
       "    <tr>\n",
       "      <th>0004aac84e0df4da2b147fca70cf8255</th>\n",
       "      <td>-</td>\n",
       "      <td>-</td>\n",
       "      <td>-</td>\n",
       "      <td>-</td>\n",
       "      <td>-</td>\n",
       "      <td>-</td>\n",
       "      <td>-</td>\n",
       "      <td>-</td>\n",
       "      <td>-</td>\n",
       "      <td>-</td>\n",
       "      <td>0.233333</td>\n",
       "      <td>-</td>\n",
       "    </tr>\n",
       "  </tbody>\n",
       "</table>\n",
       "</div>"
      ],
      "text/plain": [
       "order_approved_at_month          January February     March April       May  \\\n",
       "customer_unique_id                                                            \n",
       "0000366f3b9a7992bf8c76cfdf3221e2       -        -         -     -  0.225806   \n",
       "0000b849f77a49e4a4ce2b2a4ca5be3f       -        -         -     -  0.225806   \n",
       "0000f46a3911fa3c0805444483337064       -        -  0.225806     -         -   \n",
       "0000f6ccb0745a6a4b88665a16c9f078       -        -         -     -         -   \n",
       "0004aac84e0df4da2b147fca70cf8255       -        -         -     -         -   \n",
       "\n",
       "order_approved_at_month          June July August September   October  \\\n",
       "customer_unique_id                                                      \n",
       "0000366f3b9a7992bf8c76cfdf3221e2    -    -      -         -         -   \n",
       "0000b849f77a49e4a4ce2b2a4ca5be3f    -    -      -         -         -   \n",
       "0000f46a3911fa3c0805444483337064    -    -      -         -         -   \n",
       "0000f6ccb0745a6a4b88665a16c9f078    -    -      -         -  0.225806   \n",
       "0004aac84e0df4da2b147fca70cf8255    -    -      -         -         -   \n",
       "\n",
       "order_approved_at_month           November December  \n",
       "customer_unique_id                                   \n",
       "0000366f3b9a7992bf8c76cfdf3221e2         -        -  \n",
       "0000b849f77a49e4a4ce2b2a4ca5be3f         -        -  \n",
       "0000f46a3911fa3c0805444483337064         -        -  \n",
       "0000f6ccb0745a6a4b88665a16c9f078         -        -  \n",
       "0004aac84e0df4da2b147fca70cf8255  0.233333        -  "
      ]
     },
     "execution_count": 47,
     "metadata": {},
     "output_type": "execute_result"
    }
   ],
   "source": [
    "week_customer_orders_pivot.head()"
   ]
  },
  {
   "cell_type": "markdown",
   "metadata": {},
   "source": [
    "Также можем посчитать просто недельное среднее по месяцам, без детализаци по каждому пользователю.\n",
    "Из задания не совсем очевидно, как именно считать, но так данные не очень информативны."
   ]
  },
  {
   "cell_type": "code",
   "execution_count": 48,
   "metadata": {},
   "outputs": [],
   "source": [
    "week_orders_mean = customer_orders \\\n",
    "    .groupby('order_approved_at_month', as_index=False) \\\n",
    "    .agg({'orders_per_week':'mean'}) \\\n",
    "    .sort_values('order_approved_at_month')"
   ]
  },
  {
   "cell_type": "code",
   "execution_count": 49,
   "metadata": {},
   "outputs": [
    {
     "data": {
      "application/vnd.plotly.v1+json": {
       "config": {
        "plotlyServerURL": "https://plot.ly"
       },
       "data": [
        {
         "alignmentgroup": "True",
         "hovertemplate": "Month=%{x}<br>Mean of purchases=%{y}<extra></extra>",
         "legendgroup": "",
         "marker": {
          "color": "#636efa"
         },
         "name": "",
         "offsetgroup": "",
         "orientation": "v",
         "showlegend": false,
         "textposition": "auto",
         "type": "bar",
         "x": [
          1,
          2,
          3,
          4,
          5,
          6,
          7,
          8,
          9,
          10,
          11,
          12
         ],
         "xaxis": "x",
         "y": [
          0.22951585781584977,
          0.2556,
          0.2289597196506238,
          0.23558313938454029,
          0.22854869315050289,
          0.23587970466414443,
          0.22886591213020427,
          0.2284756082914816,
          0.23741122017397812,
          0.22909767365797395,
          0.23681397834473067,
          0.22861321948135765
         ],
         "yaxis": "y"
        }
       ],
       "layout": {
        "barmode": "group",
        "legend": {
         "tracegroupgap": 0
        },
        "template": {
         "data": {
          "bar": [
           {
            "error_x": {
             "color": "#2a3f5f"
            },
            "error_y": {
             "color": "#2a3f5f"
            },
            "marker": {
             "line": {
              "color": "#E5ECF6",
              "width": 0.5
             }
            },
            "type": "bar"
           }
          ],
          "barpolar": [
           {
            "marker": {
             "line": {
              "color": "#E5ECF6",
              "width": 0.5
             }
            },
            "type": "barpolar"
           }
          ],
          "carpet": [
           {
            "aaxis": {
             "endlinecolor": "#2a3f5f",
             "gridcolor": "white",
             "linecolor": "white",
             "minorgridcolor": "white",
             "startlinecolor": "#2a3f5f"
            },
            "baxis": {
             "endlinecolor": "#2a3f5f",
             "gridcolor": "white",
             "linecolor": "white",
             "minorgridcolor": "white",
             "startlinecolor": "#2a3f5f"
            },
            "type": "carpet"
           }
          ],
          "choropleth": [
           {
            "colorbar": {
             "outlinewidth": 0,
             "ticks": ""
            },
            "type": "choropleth"
           }
          ],
          "contour": [
           {
            "colorbar": {
             "outlinewidth": 0,
             "ticks": ""
            },
            "colorscale": [
             [
              0,
              "#0d0887"
             ],
             [
              0.1111111111111111,
              "#46039f"
             ],
             [
              0.2222222222222222,
              "#7201a8"
             ],
             [
              0.3333333333333333,
              "#9c179e"
             ],
             [
              0.4444444444444444,
              "#bd3786"
             ],
             [
              0.5555555555555556,
              "#d8576b"
             ],
             [
              0.6666666666666666,
              "#ed7953"
             ],
             [
              0.7777777777777778,
              "#fb9f3a"
             ],
             [
              0.8888888888888888,
              "#fdca26"
             ],
             [
              1,
              "#f0f921"
             ]
            ],
            "type": "contour"
           }
          ],
          "contourcarpet": [
           {
            "colorbar": {
             "outlinewidth": 0,
             "ticks": ""
            },
            "type": "contourcarpet"
           }
          ],
          "heatmap": [
           {
            "colorbar": {
             "outlinewidth": 0,
             "ticks": ""
            },
            "colorscale": [
             [
              0,
              "#0d0887"
             ],
             [
              0.1111111111111111,
              "#46039f"
             ],
             [
              0.2222222222222222,
              "#7201a8"
             ],
             [
              0.3333333333333333,
              "#9c179e"
             ],
             [
              0.4444444444444444,
              "#bd3786"
             ],
             [
              0.5555555555555556,
              "#d8576b"
             ],
             [
              0.6666666666666666,
              "#ed7953"
             ],
             [
              0.7777777777777778,
              "#fb9f3a"
             ],
             [
              0.8888888888888888,
              "#fdca26"
             ],
             [
              1,
              "#f0f921"
             ]
            ],
            "type": "heatmap"
           }
          ],
          "heatmapgl": [
           {
            "colorbar": {
             "outlinewidth": 0,
             "ticks": ""
            },
            "colorscale": [
             [
              0,
              "#0d0887"
             ],
             [
              0.1111111111111111,
              "#46039f"
             ],
             [
              0.2222222222222222,
              "#7201a8"
             ],
             [
              0.3333333333333333,
              "#9c179e"
             ],
             [
              0.4444444444444444,
              "#bd3786"
             ],
             [
              0.5555555555555556,
              "#d8576b"
             ],
             [
              0.6666666666666666,
              "#ed7953"
             ],
             [
              0.7777777777777778,
              "#fb9f3a"
             ],
             [
              0.8888888888888888,
              "#fdca26"
             ],
             [
              1,
              "#f0f921"
             ]
            ],
            "type": "heatmapgl"
           }
          ],
          "histogram": [
           {
            "marker": {
             "colorbar": {
              "outlinewidth": 0,
              "ticks": ""
             }
            },
            "type": "histogram"
           }
          ],
          "histogram2d": [
           {
            "colorbar": {
             "outlinewidth": 0,
             "ticks": ""
            },
            "colorscale": [
             [
              0,
              "#0d0887"
             ],
             [
              0.1111111111111111,
              "#46039f"
             ],
             [
              0.2222222222222222,
              "#7201a8"
             ],
             [
              0.3333333333333333,
              "#9c179e"
             ],
             [
              0.4444444444444444,
              "#bd3786"
             ],
             [
              0.5555555555555556,
              "#d8576b"
             ],
             [
              0.6666666666666666,
              "#ed7953"
             ],
             [
              0.7777777777777778,
              "#fb9f3a"
             ],
             [
              0.8888888888888888,
              "#fdca26"
             ],
             [
              1,
              "#f0f921"
             ]
            ],
            "type": "histogram2d"
           }
          ],
          "histogram2dcontour": [
           {
            "colorbar": {
             "outlinewidth": 0,
             "ticks": ""
            },
            "colorscale": [
             [
              0,
              "#0d0887"
             ],
             [
              0.1111111111111111,
              "#46039f"
             ],
             [
              0.2222222222222222,
              "#7201a8"
             ],
             [
              0.3333333333333333,
              "#9c179e"
             ],
             [
              0.4444444444444444,
              "#bd3786"
             ],
             [
              0.5555555555555556,
              "#d8576b"
             ],
             [
              0.6666666666666666,
              "#ed7953"
             ],
             [
              0.7777777777777778,
              "#fb9f3a"
             ],
             [
              0.8888888888888888,
              "#fdca26"
             ],
             [
              1,
              "#f0f921"
             ]
            ],
            "type": "histogram2dcontour"
           }
          ],
          "mesh3d": [
           {
            "colorbar": {
             "outlinewidth": 0,
             "ticks": ""
            },
            "type": "mesh3d"
           }
          ],
          "parcoords": [
           {
            "line": {
             "colorbar": {
              "outlinewidth": 0,
              "ticks": ""
             }
            },
            "type": "parcoords"
           }
          ],
          "pie": [
           {
            "automargin": true,
            "type": "pie"
           }
          ],
          "scatter": [
           {
            "marker": {
             "colorbar": {
              "outlinewidth": 0,
              "ticks": ""
             }
            },
            "type": "scatter"
           }
          ],
          "scatter3d": [
           {
            "line": {
             "colorbar": {
              "outlinewidth": 0,
              "ticks": ""
             }
            },
            "marker": {
             "colorbar": {
              "outlinewidth": 0,
              "ticks": ""
             }
            },
            "type": "scatter3d"
           }
          ],
          "scattercarpet": [
           {
            "marker": {
             "colorbar": {
              "outlinewidth": 0,
              "ticks": ""
             }
            },
            "type": "scattercarpet"
           }
          ],
          "scattergeo": [
           {
            "marker": {
             "colorbar": {
              "outlinewidth": 0,
              "ticks": ""
             }
            },
            "type": "scattergeo"
           }
          ],
          "scattergl": [
           {
            "marker": {
             "colorbar": {
              "outlinewidth": 0,
              "ticks": ""
             }
            },
            "type": "scattergl"
           }
          ],
          "scattermapbox": [
           {
            "marker": {
             "colorbar": {
              "outlinewidth": 0,
              "ticks": ""
             }
            },
            "type": "scattermapbox"
           }
          ],
          "scatterpolar": [
           {
            "marker": {
             "colorbar": {
              "outlinewidth": 0,
              "ticks": ""
             }
            },
            "type": "scatterpolar"
           }
          ],
          "scatterpolargl": [
           {
            "marker": {
             "colorbar": {
              "outlinewidth": 0,
              "ticks": ""
             }
            },
            "type": "scatterpolargl"
           }
          ],
          "scatterternary": [
           {
            "marker": {
             "colorbar": {
              "outlinewidth": 0,
              "ticks": ""
             }
            },
            "type": "scatterternary"
           }
          ],
          "surface": [
           {
            "colorbar": {
             "outlinewidth": 0,
             "ticks": ""
            },
            "colorscale": [
             [
              0,
              "#0d0887"
             ],
             [
              0.1111111111111111,
              "#46039f"
             ],
             [
              0.2222222222222222,
              "#7201a8"
             ],
             [
              0.3333333333333333,
              "#9c179e"
             ],
             [
              0.4444444444444444,
              "#bd3786"
             ],
             [
              0.5555555555555556,
              "#d8576b"
             ],
             [
              0.6666666666666666,
              "#ed7953"
             ],
             [
              0.7777777777777778,
              "#fb9f3a"
             ],
             [
              0.8888888888888888,
              "#fdca26"
             ],
             [
              1,
              "#f0f921"
             ]
            ],
            "type": "surface"
           }
          ],
          "table": [
           {
            "cells": {
             "fill": {
              "color": "#EBF0F8"
             },
             "line": {
              "color": "white"
             }
            },
            "header": {
             "fill": {
              "color": "#C8D4E3"
             },
             "line": {
              "color": "white"
             }
            },
            "type": "table"
           }
          ]
         },
         "layout": {
          "annotationdefaults": {
           "arrowcolor": "#2a3f5f",
           "arrowhead": 0,
           "arrowwidth": 1
          },
          "coloraxis": {
           "colorbar": {
            "outlinewidth": 0,
            "ticks": ""
           }
          },
          "colorscale": {
           "diverging": [
            [
             0,
             "#8e0152"
            ],
            [
             0.1,
             "#c51b7d"
            ],
            [
             0.2,
             "#de77ae"
            ],
            [
             0.3,
             "#f1b6da"
            ],
            [
             0.4,
             "#fde0ef"
            ],
            [
             0.5,
             "#f7f7f7"
            ],
            [
             0.6,
             "#e6f5d0"
            ],
            [
             0.7,
             "#b8e186"
            ],
            [
             0.8,
             "#7fbc41"
            ],
            [
             0.9,
             "#4d9221"
            ],
            [
             1,
             "#276419"
            ]
           ],
           "sequential": [
            [
             0,
             "#0d0887"
            ],
            [
             0.1111111111111111,
             "#46039f"
            ],
            [
             0.2222222222222222,
             "#7201a8"
            ],
            [
             0.3333333333333333,
             "#9c179e"
            ],
            [
             0.4444444444444444,
             "#bd3786"
            ],
            [
             0.5555555555555556,
             "#d8576b"
            ],
            [
             0.6666666666666666,
             "#ed7953"
            ],
            [
             0.7777777777777778,
             "#fb9f3a"
            ],
            [
             0.8888888888888888,
             "#fdca26"
            ],
            [
             1,
             "#f0f921"
            ]
           ],
           "sequentialminus": [
            [
             0,
             "#0d0887"
            ],
            [
             0.1111111111111111,
             "#46039f"
            ],
            [
             0.2222222222222222,
             "#7201a8"
            ],
            [
             0.3333333333333333,
             "#9c179e"
            ],
            [
             0.4444444444444444,
             "#bd3786"
            ],
            [
             0.5555555555555556,
             "#d8576b"
            ],
            [
             0.6666666666666666,
             "#ed7953"
            ],
            [
             0.7777777777777778,
             "#fb9f3a"
            ],
            [
             0.8888888888888888,
             "#fdca26"
            ],
            [
             1,
             "#f0f921"
            ]
           ]
          },
          "colorway": [
           "#636efa",
           "#EF553B",
           "#00cc96",
           "#ab63fa",
           "#FFA15A",
           "#19d3f3",
           "#FF6692",
           "#B6E880",
           "#FF97FF",
           "#FECB52"
          ],
          "font": {
           "color": "#2a3f5f"
          },
          "geo": {
           "bgcolor": "white",
           "lakecolor": "white",
           "landcolor": "#E5ECF6",
           "showlakes": true,
           "showland": true,
           "subunitcolor": "white"
          },
          "hoverlabel": {
           "align": "left"
          },
          "hovermode": "closest",
          "mapbox": {
           "style": "light"
          },
          "paper_bgcolor": "white",
          "plot_bgcolor": "#E5ECF6",
          "polar": {
           "angularaxis": {
            "gridcolor": "white",
            "linecolor": "white",
            "ticks": ""
           },
           "bgcolor": "#E5ECF6",
           "radialaxis": {
            "gridcolor": "white",
            "linecolor": "white",
            "ticks": ""
           }
          },
          "scene": {
           "xaxis": {
            "backgroundcolor": "#E5ECF6",
            "gridcolor": "white",
            "gridwidth": 2,
            "linecolor": "white",
            "showbackground": true,
            "ticks": "",
            "zerolinecolor": "white"
           },
           "yaxis": {
            "backgroundcolor": "#E5ECF6",
            "gridcolor": "white",
            "gridwidth": 2,
            "linecolor": "white",
            "showbackground": true,
            "ticks": "",
            "zerolinecolor": "white"
           },
           "zaxis": {
            "backgroundcolor": "#E5ECF6",
            "gridcolor": "white",
            "gridwidth": 2,
            "linecolor": "white",
            "showbackground": true,
            "ticks": "",
            "zerolinecolor": "white"
           }
          },
          "shapedefaults": {
           "line": {
            "color": "#2a3f5f"
           }
          },
          "ternary": {
           "aaxis": {
            "gridcolor": "white",
            "linecolor": "white",
            "ticks": ""
           },
           "baxis": {
            "gridcolor": "white",
            "linecolor": "white",
            "ticks": ""
           },
           "bgcolor": "#E5ECF6",
           "caxis": {
            "gridcolor": "white",
            "linecolor": "white",
            "ticks": ""
           }
          },
          "title": {
           "x": 0.05
          },
          "xaxis": {
           "automargin": true,
           "gridcolor": "white",
           "linecolor": "white",
           "ticks": "",
           "title": {
            "standoff": 15
           },
           "zerolinecolor": "white",
           "zerolinewidth": 2
          },
          "yaxis": {
           "automargin": true,
           "gridcolor": "white",
           "linecolor": "white",
           "ticks": "",
           "title": {
            "standoff": 15
           },
           "zerolinecolor": "white",
           "zerolinewidth": 2
          }
         }
        },
        "title": {
         "text": "Weekly mean purchases per month"
        },
        "xaxis": {
         "anchor": "y",
         "domain": [
          0,
          1
         ],
         "title": {
          "text": "Month"
         }
        },
        "yaxis": {
         "anchor": "x",
         "domain": [
          0,
          1
         ],
         "title": {
          "text": "Mean of purchases"
         }
        }
       }
      },
      "text/html": [
       "<div>\n",
       "        \n",
       "        \n",
       "            <div id=\"a122c455-f576-4169-aca1-03c08af91791\" class=\"plotly-graph-div\" style=\"height:525px; width:100%;\"></div>\n",
       "            <script type=\"text/javascript\">\n",
       "                require([\"plotly\"], function(Plotly) {\n",
       "                    window.PLOTLYENV=window.PLOTLYENV || {};\n",
       "                    \n",
       "                if (document.getElementById(\"a122c455-f576-4169-aca1-03c08af91791\")) {\n",
       "                    Plotly.newPlot(\n",
       "                        'a122c455-f576-4169-aca1-03c08af91791',\n",
       "                        [{\"alignmentgroup\": \"True\", \"hovertemplate\": \"Month=%{x}<br>Mean of purchases=%{y}<extra></extra>\", \"legendgroup\": \"\", \"marker\": {\"color\": \"#636efa\"}, \"name\": \"\", \"offsetgroup\": \"\", \"orientation\": \"v\", \"showlegend\": false, \"textposition\": \"auto\", \"type\": \"bar\", \"x\": [1, 2, 3, 4, 5, 6, 7, 8, 9, 10, 11, 12], \"xaxis\": \"x\", \"y\": [0.22951585781584977, 0.2556, 0.2289597196506238, 0.23558313938454029, 0.22854869315050289, 0.23587970466414443, 0.22886591213020427, 0.2284756082914816, 0.23741122017397812, 0.22909767365797395, 0.23681397834473067, 0.22861321948135765], \"yaxis\": \"y\"}],\n",
       "                        {\"barmode\": \"group\", \"legend\": {\"tracegroupgap\": 0}, \"template\": {\"data\": {\"bar\": [{\"error_x\": {\"color\": \"#2a3f5f\"}, \"error_y\": {\"color\": \"#2a3f5f\"}, \"marker\": {\"line\": {\"color\": \"#E5ECF6\", \"width\": 0.5}}, \"type\": \"bar\"}], \"barpolar\": [{\"marker\": {\"line\": {\"color\": \"#E5ECF6\", \"width\": 0.5}}, \"type\": \"barpolar\"}], \"carpet\": [{\"aaxis\": {\"endlinecolor\": \"#2a3f5f\", \"gridcolor\": \"white\", \"linecolor\": \"white\", \"minorgridcolor\": \"white\", \"startlinecolor\": \"#2a3f5f\"}, \"baxis\": {\"endlinecolor\": \"#2a3f5f\", \"gridcolor\": \"white\", \"linecolor\": \"white\", \"minorgridcolor\": \"white\", \"startlinecolor\": \"#2a3f5f\"}, \"type\": \"carpet\"}], \"choropleth\": [{\"colorbar\": {\"outlinewidth\": 0, \"ticks\": \"\"}, \"type\": \"choropleth\"}], \"contour\": [{\"colorbar\": {\"outlinewidth\": 0, \"ticks\": \"\"}, \"colorscale\": [[0.0, \"#0d0887\"], [0.1111111111111111, \"#46039f\"], [0.2222222222222222, \"#7201a8\"], [0.3333333333333333, \"#9c179e\"], [0.4444444444444444, \"#bd3786\"], [0.5555555555555556, \"#d8576b\"], [0.6666666666666666, \"#ed7953\"], [0.7777777777777778, \"#fb9f3a\"], [0.8888888888888888, \"#fdca26\"], [1.0, \"#f0f921\"]], \"type\": \"contour\"}], \"contourcarpet\": [{\"colorbar\": {\"outlinewidth\": 0, \"ticks\": \"\"}, \"type\": \"contourcarpet\"}], \"heatmap\": [{\"colorbar\": {\"outlinewidth\": 0, \"ticks\": \"\"}, \"colorscale\": [[0.0, \"#0d0887\"], [0.1111111111111111, \"#46039f\"], [0.2222222222222222, \"#7201a8\"], [0.3333333333333333, \"#9c179e\"], [0.4444444444444444, \"#bd3786\"], [0.5555555555555556, \"#d8576b\"], [0.6666666666666666, \"#ed7953\"], [0.7777777777777778, \"#fb9f3a\"], [0.8888888888888888, \"#fdca26\"], [1.0, \"#f0f921\"]], \"type\": \"heatmap\"}], \"heatmapgl\": [{\"colorbar\": {\"outlinewidth\": 0, \"ticks\": \"\"}, \"colorscale\": [[0.0, \"#0d0887\"], [0.1111111111111111, \"#46039f\"], [0.2222222222222222, \"#7201a8\"], [0.3333333333333333, \"#9c179e\"], [0.4444444444444444, \"#bd3786\"], [0.5555555555555556, \"#d8576b\"], [0.6666666666666666, \"#ed7953\"], [0.7777777777777778, \"#fb9f3a\"], [0.8888888888888888, \"#fdca26\"], [1.0, \"#f0f921\"]], \"type\": \"heatmapgl\"}], \"histogram\": [{\"marker\": {\"colorbar\": {\"outlinewidth\": 0, \"ticks\": \"\"}}, \"type\": \"histogram\"}], \"histogram2d\": [{\"colorbar\": {\"outlinewidth\": 0, \"ticks\": \"\"}, \"colorscale\": [[0.0, \"#0d0887\"], [0.1111111111111111, \"#46039f\"], [0.2222222222222222, \"#7201a8\"], [0.3333333333333333, \"#9c179e\"], [0.4444444444444444, \"#bd3786\"], [0.5555555555555556, \"#d8576b\"], [0.6666666666666666, \"#ed7953\"], [0.7777777777777778, \"#fb9f3a\"], [0.8888888888888888, \"#fdca26\"], [1.0, \"#f0f921\"]], \"type\": \"histogram2d\"}], \"histogram2dcontour\": [{\"colorbar\": {\"outlinewidth\": 0, \"ticks\": \"\"}, \"colorscale\": [[0.0, \"#0d0887\"], [0.1111111111111111, \"#46039f\"], [0.2222222222222222, \"#7201a8\"], [0.3333333333333333, \"#9c179e\"], [0.4444444444444444, \"#bd3786\"], [0.5555555555555556, \"#d8576b\"], [0.6666666666666666, \"#ed7953\"], [0.7777777777777778, \"#fb9f3a\"], [0.8888888888888888, \"#fdca26\"], [1.0, \"#f0f921\"]], \"type\": \"histogram2dcontour\"}], \"mesh3d\": [{\"colorbar\": {\"outlinewidth\": 0, \"ticks\": \"\"}, \"type\": \"mesh3d\"}], \"parcoords\": [{\"line\": {\"colorbar\": {\"outlinewidth\": 0, \"ticks\": \"\"}}, \"type\": \"parcoords\"}], \"pie\": [{\"automargin\": true, \"type\": \"pie\"}], \"scatter\": [{\"marker\": {\"colorbar\": {\"outlinewidth\": 0, \"ticks\": \"\"}}, \"type\": \"scatter\"}], \"scatter3d\": [{\"line\": {\"colorbar\": {\"outlinewidth\": 0, \"ticks\": \"\"}}, \"marker\": {\"colorbar\": {\"outlinewidth\": 0, \"ticks\": \"\"}}, \"type\": \"scatter3d\"}], \"scattercarpet\": [{\"marker\": {\"colorbar\": {\"outlinewidth\": 0, \"ticks\": \"\"}}, \"type\": \"scattercarpet\"}], \"scattergeo\": [{\"marker\": {\"colorbar\": {\"outlinewidth\": 0, \"ticks\": \"\"}}, \"type\": \"scattergeo\"}], \"scattergl\": [{\"marker\": {\"colorbar\": {\"outlinewidth\": 0, \"ticks\": \"\"}}, \"type\": \"scattergl\"}], \"scattermapbox\": [{\"marker\": {\"colorbar\": {\"outlinewidth\": 0, \"ticks\": \"\"}}, \"type\": \"scattermapbox\"}], \"scatterpolar\": [{\"marker\": {\"colorbar\": {\"outlinewidth\": 0, \"ticks\": \"\"}}, \"type\": \"scatterpolar\"}], \"scatterpolargl\": [{\"marker\": {\"colorbar\": {\"outlinewidth\": 0, \"ticks\": \"\"}}, \"type\": \"scatterpolargl\"}], \"scatterternary\": [{\"marker\": {\"colorbar\": {\"outlinewidth\": 0, \"ticks\": \"\"}}, \"type\": \"scatterternary\"}], \"surface\": [{\"colorbar\": {\"outlinewidth\": 0, \"ticks\": \"\"}, \"colorscale\": [[0.0, \"#0d0887\"], [0.1111111111111111, \"#46039f\"], [0.2222222222222222, \"#7201a8\"], [0.3333333333333333, \"#9c179e\"], [0.4444444444444444, \"#bd3786\"], [0.5555555555555556, \"#d8576b\"], [0.6666666666666666, \"#ed7953\"], [0.7777777777777778, \"#fb9f3a\"], [0.8888888888888888, \"#fdca26\"], [1.0, \"#f0f921\"]], \"type\": \"surface\"}], \"table\": [{\"cells\": {\"fill\": {\"color\": \"#EBF0F8\"}, \"line\": {\"color\": \"white\"}}, \"header\": {\"fill\": {\"color\": \"#C8D4E3\"}, \"line\": {\"color\": \"white\"}}, \"type\": \"table\"}]}, \"layout\": {\"annotationdefaults\": {\"arrowcolor\": \"#2a3f5f\", \"arrowhead\": 0, \"arrowwidth\": 1}, \"coloraxis\": {\"colorbar\": {\"outlinewidth\": 0, \"ticks\": \"\"}}, \"colorscale\": {\"diverging\": [[0, \"#8e0152\"], [0.1, \"#c51b7d\"], [0.2, \"#de77ae\"], [0.3, \"#f1b6da\"], [0.4, \"#fde0ef\"], [0.5, \"#f7f7f7\"], [0.6, \"#e6f5d0\"], [0.7, \"#b8e186\"], [0.8, \"#7fbc41\"], [0.9, \"#4d9221\"], [1, \"#276419\"]], \"sequential\": [[0.0, \"#0d0887\"], [0.1111111111111111, \"#46039f\"], [0.2222222222222222, \"#7201a8\"], [0.3333333333333333, \"#9c179e\"], [0.4444444444444444, \"#bd3786\"], [0.5555555555555556, \"#d8576b\"], [0.6666666666666666, \"#ed7953\"], [0.7777777777777778, \"#fb9f3a\"], [0.8888888888888888, \"#fdca26\"], [1.0, \"#f0f921\"]], \"sequentialminus\": [[0.0, \"#0d0887\"], [0.1111111111111111, \"#46039f\"], [0.2222222222222222, \"#7201a8\"], [0.3333333333333333, \"#9c179e\"], [0.4444444444444444, \"#bd3786\"], [0.5555555555555556, \"#d8576b\"], [0.6666666666666666, \"#ed7953\"], [0.7777777777777778, \"#fb9f3a\"], [0.8888888888888888, \"#fdca26\"], [1.0, \"#f0f921\"]]}, \"colorway\": [\"#636efa\", \"#EF553B\", \"#00cc96\", \"#ab63fa\", \"#FFA15A\", \"#19d3f3\", \"#FF6692\", \"#B6E880\", \"#FF97FF\", \"#FECB52\"], \"font\": {\"color\": \"#2a3f5f\"}, \"geo\": {\"bgcolor\": \"white\", \"lakecolor\": \"white\", \"landcolor\": \"#E5ECF6\", \"showlakes\": true, \"showland\": true, \"subunitcolor\": \"white\"}, \"hoverlabel\": {\"align\": \"left\"}, \"hovermode\": \"closest\", \"mapbox\": {\"style\": \"light\"}, \"paper_bgcolor\": \"white\", \"plot_bgcolor\": \"#E5ECF6\", \"polar\": {\"angularaxis\": {\"gridcolor\": \"white\", \"linecolor\": \"white\", \"ticks\": \"\"}, \"bgcolor\": \"#E5ECF6\", \"radialaxis\": {\"gridcolor\": \"white\", \"linecolor\": \"white\", \"ticks\": \"\"}}, \"scene\": {\"xaxis\": {\"backgroundcolor\": \"#E5ECF6\", \"gridcolor\": \"white\", \"gridwidth\": 2, \"linecolor\": \"white\", \"showbackground\": true, \"ticks\": \"\", \"zerolinecolor\": \"white\"}, \"yaxis\": {\"backgroundcolor\": \"#E5ECF6\", \"gridcolor\": \"white\", \"gridwidth\": 2, \"linecolor\": \"white\", \"showbackground\": true, \"ticks\": \"\", \"zerolinecolor\": \"white\"}, \"zaxis\": {\"backgroundcolor\": \"#E5ECF6\", \"gridcolor\": \"white\", \"gridwidth\": 2, \"linecolor\": \"white\", \"showbackground\": true, \"ticks\": \"\", \"zerolinecolor\": \"white\"}}, \"shapedefaults\": {\"line\": {\"color\": \"#2a3f5f\"}}, \"ternary\": {\"aaxis\": {\"gridcolor\": \"white\", \"linecolor\": \"white\", \"ticks\": \"\"}, \"baxis\": {\"gridcolor\": \"white\", \"linecolor\": \"white\", \"ticks\": \"\"}, \"bgcolor\": \"#E5ECF6\", \"caxis\": {\"gridcolor\": \"white\", \"linecolor\": \"white\", \"ticks\": \"\"}}, \"title\": {\"x\": 0.05}, \"xaxis\": {\"automargin\": true, \"gridcolor\": \"white\", \"linecolor\": \"white\", \"ticks\": \"\", \"title\": {\"standoff\": 15}, \"zerolinecolor\": \"white\", \"zerolinewidth\": 2}, \"yaxis\": {\"automargin\": true, \"gridcolor\": \"white\", \"linecolor\": \"white\", \"ticks\": \"\", \"title\": {\"standoff\": 15}, \"zerolinecolor\": \"white\", \"zerolinewidth\": 2}}}, \"title\": {\"text\": \"Weekly mean purchases per month\"}, \"xaxis\": {\"anchor\": \"y\", \"domain\": [0.0, 1.0], \"title\": {\"text\": \"Month\"}}, \"yaxis\": {\"anchor\": \"x\", \"domain\": [0.0, 1.0], \"title\": {\"text\": \"Mean of purchases\"}}},\n",
       "                        {\"responsive\": true}\n",
       "                    ).then(function(){\n",
       "                            \n",
       "var gd = document.getElementById('a122c455-f576-4169-aca1-03c08af91791');\n",
       "var x = new MutationObserver(function (mutations, observer) {{\n",
       "        var display = window.getComputedStyle(gd).display;\n",
       "        if (!display || display === 'none') {{\n",
       "            console.log([gd, 'removed!']);\n",
       "            Plotly.purge(gd);\n",
       "            observer.disconnect();\n",
       "        }}\n",
       "}});\n",
       "\n",
       "// Listen for the removal of the full notebook cells\n",
       "var notebookContainer = gd.closest('#notebook-container');\n",
       "if (notebookContainer) {{\n",
       "    x.observe(notebookContainer, {childList: true});\n",
       "}}\n",
       "\n",
       "// Listen for the clearing of the current output cell\n",
       "var outputEl = gd.closest('.output');\n",
       "if (outputEl) {{\n",
       "    x.observe(outputEl, {childList: true});\n",
       "}}\n",
       "\n",
       "                        })\n",
       "                };\n",
       "                });\n",
       "            </script>\n",
       "        </div>"
      ]
     },
     "metadata": {},
     "output_type": "display_data"
    }
   ],
   "source": [
    "fig = px.bar(week_orders_mean, \n",
    "             x='order_approved_at_month', \n",
    "             y='orders_per_week',\n",
    "             title='Weekly mean purchases per month', \n",
    "             labels={'order_approved_at_month':'Month', 'orders_per_week':'Mean of purchases'}, \n",
    "             barmode=\"group\")\n",
    "fig.show()"
   ]
  },
  {
   "cell_type": "markdown",
   "metadata": {},
   "source": [
    "### Ответ: \n",
    "Выше получился итоговый датасет с рассчитанным недельным средним по каждому кастомеру в каждом месяце без деления по годам и округления (т.к. в задании это не требовалось).\n",
    "Также я визуализировал на графике недельное среднее по месяцам по всем юзерам. Мы видим, что у нас получилось равномерное распределение средних значений."
   ]
  },
  {
   "cell_type": "markdown",
   "metadata": {},
   "source": [
    " "
   ]
  },
  {
   "cell_type": "markdown",
   "metadata": {},
   "source": [
    "  "
   ]
  },
  {
   "cell_type": "markdown",
   "metadata": {},
   "source": [
    "# Задание 5."
   ]
  },
  {
   "cell_type": "markdown",
   "metadata": {},
   "source": [
    "Используя pandas, проведи когортный анализ пользователей. В период с января по декабрь выяви когорту с самым высоким retention на 3й месяц. (10 баллов)"
   ]
  },
  {
   "cell_type": "code",
   "execution_count": null,
   "metadata": {},
   "outputs": [],
   "source": []
  },
  {
   "cell_type": "markdown",
   "metadata": {},
   "source": [
    "#### Описание данных:\n",
    "- `order_id` —  уникальный идентификатор заказа (номер чека)\n",
    "- `customer_id` —  позаказный идентификатор пользователя (аналог номера паспорта)\n",
    "- `order_status` —  статус заказа\n",
    "- `order_purchase_timestamp` —  время создания заказа\n",
    "- `order_approved_at` —  время подтверждения оплаты заказа\n",
    "- `order_delivered_carrier_date` —  время передачи заказа в логистическую службу\n",
    "- `order_delivered_customer_date` —  время доставки заказа\n",
    "- `order_estimated_delivery_date` —  обещанная дата доставки\n",
    "\n",
    "- `customer_id` — позаказный идентификатор пользователя (аналог номера паспорта)\n",
    "- `customer_unique_id` —  уникальный идентификатор пользователя\n",
    "- `customer_zip_code_prefix` —  почтовый индекс пользователя\n",
    "- `customer_city` —  город доставки пользователя\n",
    "- `customer_state` —  штат доставки пользователя\n",
    "\n",
    "Используем ранее заготовленный датасет из первого задания, где отфильтрованы только успешные покупки, которые не были отменены."
   ]
  },
  {
   "cell_type": "code",
   "execution_count": 50,
   "metadata": {
    "scrolled": true
   },
   "outputs": [
    {
     "data": {
      "text/html": [
       "<div>\n",
       "<style scoped>\n",
       "    .dataframe tbody tr th:only-of-type {\n",
       "        vertical-align: middle;\n",
       "    }\n",
       "\n",
       "    .dataframe tbody tr th {\n",
       "        vertical-align: top;\n",
       "    }\n",
       "\n",
       "    .dataframe thead th {\n",
       "        text-align: right;\n",
       "    }\n",
       "</style>\n",
       "<table border=\"1\" class=\"dataframe\">\n",
       "  <thead>\n",
       "    <tr style=\"text-align: right;\">\n",
       "      <th></th>\n",
       "      <th>order_id</th>\n",
       "      <th>customer_id</th>\n",
       "      <th>order_status</th>\n",
       "      <th>order_purchase_timestamp</th>\n",
       "      <th>order_approved_at</th>\n",
       "      <th>order_delivered_carrier_date</th>\n",
       "      <th>order_delivered_customer_date</th>\n",
       "      <th>order_estimated_delivery_date</th>\n",
       "      <th>customer_unique_id</th>\n",
       "      <th>customer_zip_code_prefix</th>\n",
       "      <th>customer_city</th>\n",
       "      <th>customer_state</th>\n",
       "      <th>order_item_id</th>\n",
       "      <th>product_id</th>\n",
       "      <th>seller_id</th>\n",
       "      <th>shipping_limit_date</th>\n",
       "      <th>price</th>\n",
       "      <th>freight_value</th>\n",
       "      <th>order_approved_day_name</th>\n",
       "    </tr>\n",
       "  </thead>\n",
       "  <tbody>\n",
       "    <tr>\n",
       "      <th>0</th>\n",
       "      <td>e481f51cbdc54678b7cc49136f2d6af7</td>\n",
       "      <td>9ef432eb6251297304e76186b10a928d</td>\n",
       "      <td>delivered</td>\n",
       "      <td>2017-10-02 10:56:33</td>\n",
       "      <td>2017-10-02 11:07:15</td>\n",
       "      <td>2017-10-04 19:55:00</td>\n",
       "      <td>2017-10-10 21:25:13</td>\n",
       "      <td>2017-10-18</td>\n",
       "      <td>7c396fd4830fd04220f754e42b4e5bff</td>\n",
       "      <td>3149</td>\n",
       "      <td>sao paulo</td>\n",
       "      <td>SP</td>\n",
       "      <td>1.0</td>\n",
       "      <td>87285b34884572647811a353c7ac498a</td>\n",
       "      <td>3504c0cb71d7fa48d967e0e4c94d59d9</td>\n",
       "      <td>2017-10-06 11:07:15</td>\n",
       "      <td>29.99</td>\n",
       "      <td>8.72</td>\n",
       "      <td>Monday</td>\n",
       "    </tr>\n",
       "    <tr>\n",
       "      <th>1</th>\n",
       "      <td>53cdb2fc8bc7dce0b6741e2150273451</td>\n",
       "      <td>b0830fb4747a6c6d20dea0b8c802d7ef</td>\n",
       "      <td>delivered</td>\n",
       "      <td>2018-07-24 20:41:37</td>\n",
       "      <td>2018-07-26 03:24:27</td>\n",
       "      <td>2018-07-26 14:31:00</td>\n",
       "      <td>2018-08-07 15:27:45</td>\n",
       "      <td>2018-08-13</td>\n",
       "      <td>af07308b275d755c9edb36a90c618231</td>\n",
       "      <td>47813</td>\n",
       "      <td>barreiras</td>\n",
       "      <td>BA</td>\n",
       "      <td>1.0</td>\n",
       "      <td>595fac2a385ac33a80bd5114aec74eb8</td>\n",
       "      <td>289cdb325fb7e7f891c38608bf9e0962</td>\n",
       "      <td>2018-07-30 03:24:27</td>\n",
       "      <td>118.70</td>\n",
       "      <td>22.76</td>\n",
       "      <td>Thursday</td>\n",
       "    </tr>\n",
       "    <tr>\n",
       "      <th>2</th>\n",
       "      <td>47770eb9100c2d0c44946d9cf07ec65d</td>\n",
       "      <td>41ce2a54c0b03bf3443c3d931a367089</td>\n",
       "      <td>delivered</td>\n",
       "      <td>2018-08-08 08:38:49</td>\n",
       "      <td>2018-08-08 08:55:23</td>\n",
       "      <td>2018-08-08 13:50:00</td>\n",
       "      <td>2018-08-17 18:06:29</td>\n",
       "      <td>2018-09-04</td>\n",
       "      <td>3a653a41f6f9fc3d2a113cf8398680e8</td>\n",
       "      <td>75265</td>\n",
       "      <td>vianopolis</td>\n",
       "      <td>GO</td>\n",
       "      <td>1.0</td>\n",
       "      <td>aa4383b373c6aca5d8797843e5594415</td>\n",
       "      <td>4869f7a5dfa277a7dca6462dcf3b52b2</td>\n",
       "      <td>2018-08-13 08:55:23</td>\n",
       "      <td>159.90</td>\n",
       "      <td>19.22</td>\n",
       "      <td>Wednesday</td>\n",
       "    </tr>\n",
       "    <tr>\n",
       "      <th>3</th>\n",
       "      <td>949d5b44dbf5de918fe9c16f97b45f8a</td>\n",
       "      <td>f88197465ea7920adcdbec7375364d82</td>\n",
       "      <td>delivered</td>\n",
       "      <td>2017-11-18 19:28:06</td>\n",
       "      <td>2017-11-18 19:45:59</td>\n",
       "      <td>2017-11-22 13:39:59</td>\n",
       "      <td>2017-12-02 00:28:42</td>\n",
       "      <td>2017-12-15</td>\n",
       "      <td>7c142cf63193a1473d2e66489a9ae977</td>\n",
       "      <td>59296</td>\n",
       "      <td>sao goncalo do amarante</td>\n",
       "      <td>RN</td>\n",
       "      <td>1.0</td>\n",
       "      <td>d0b61bfb1de832b15ba9d266ca96e5b0</td>\n",
       "      <td>66922902710d126a0e7d26b0e3805106</td>\n",
       "      <td>2017-11-23 19:45:59</td>\n",
       "      <td>45.00</td>\n",
       "      <td>27.20</td>\n",
       "      <td>Saturday</td>\n",
       "    </tr>\n",
       "    <tr>\n",
       "      <th>4</th>\n",
       "      <td>ad21c59c0840e6cb83a9ceb5573f8159</td>\n",
       "      <td>8ab97904e6daea8866dbdbc4fb7aad2c</td>\n",
       "      <td>delivered</td>\n",
       "      <td>2018-02-13 21:18:39</td>\n",
       "      <td>2018-02-13 22:20:29</td>\n",
       "      <td>2018-02-14 19:46:34</td>\n",
       "      <td>2018-02-16 18:17:02</td>\n",
       "      <td>2018-02-26</td>\n",
       "      <td>72632f0f9dd73dfee390c9b22eb56dd6</td>\n",
       "      <td>9195</td>\n",
       "      <td>santo andre</td>\n",
       "      <td>SP</td>\n",
       "      <td>1.0</td>\n",
       "      <td>65266b2da20d04dbe00c5c2d3bb7859e</td>\n",
       "      <td>2c9e548be18521d1c43cde1c582c6de8</td>\n",
       "      <td>2018-02-19 20:31:37</td>\n",
       "      <td>19.90</td>\n",
       "      <td>8.72</td>\n",
       "      <td>Tuesday</td>\n",
       "    </tr>\n",
       "  </tbody>\n",
       "</table>\n",
       "</div>"
      ],
      "text/plain": [
       "                           order_id                       customer_id  \\\n",
       "0  e481f51cbdc54678b7cc49136f2d6af7  9ef432eb6251297304e76186b10a928d   \n",
       "1  53cdb2fc8bc7dce0b6741e2150273451  b0830fb4747a6c6d20dea0b8c802d7ef   \n",
       "2  47770eb9100c2d0c44946d9cf07ec65d  41ce2a54c0b03bf3443c3d931a367089   \n",
       "3  949d5b44dbf5de918fe9c16f97b45f8a  f88197465ea7920adcdbec7375364d82   \n",
       "4  ad21c59c0840e6cb83a9ceb5573f8159  8ab97904e6daea8866dbdbc4fb7aad2c   \n",
       "\n",
       "  order_status order_purchase_timestamp   order_approved_at  \\\n",
       "0    delivered      2017-10-02 10:56:33 2017-10-02 11:07:15   \n",
       "1    delivered      2018-07-24 20:41:37 2018-07-26 03:24:27   \n",
       "2    delivered      2018-08-08 08:38:49 2018-08-08 08:55:23   \n",
       "3    delivered      2017-11-18 19:28:06 2017-11-18 19:45:59   \n",
       "4    delivered      2018-02-13 21:18:39 2018-02-13 22:20:29   \n",
       "\n",
       "  order_delivered_carrier_date order_delivered_customer_date  \\\n",
       "0          2017-10-04 19:55:00           2017-10-10 21:25:13   \n",
       "1          2018-07-26 14:31:00           2018-08-07 15:27:45   \n",
       "2          2018-08-08 13:50:00           2018-08-17 18:06:29   \n",
       "3          2017-11-22 13:39:59           2017-12-02 00:28:42   \n",
       "4          2018-02-14 19:46:34           2018-02-16 18:17:02   \n",
       "\n",
       "  order_estimated_delivery_date                customer_unique_id  \\\n",
       "0                    2017-10-18  7c396fd4830fd04220f754e42b4e5bff   \n",
       "1                    2018-08-13  af07308b275d755c9edb36a90c618231   \n",
       "2                    2018-09-04  3a653a41f6f9fc3d2a113cf8398680e8   \n",
       "3                    2017-12-15  7c142cf63193a1473d2e66489a9ae977   \n",
       "4                    2018-02-26  72632f0f9dd73dfee390c9b22eb56dd6   \n",
       "\n",
       "   customer_zip_code_prefix            customer_city customer_state  \\\n",
       "0                      3149                sao paulo             SP   \n",
       "1                     47813                barreiras             BA   \n",
       "2                     75265               vianopolis             GO   \n",
       "3                     59296  sao goncalo do amarante             RN   \n",
       "4                      9195              santo andre             SP   \n",
       "\n",
       "   order_item_id                        product_id  \\\n",
       "0            1.0  87285b34884572647811a353c7ac498a   \n",
       "1            1.0  595fac2a385ac33a80bd5114aec74eb8   \n",
       "2            1.0  aa4383b373c6aca5d8797843e5594415   \n",
       "3            1.0  d0b61bfb1de832b15ba9d266ca96e5b0   \n",
       "4            1.0  65266b2da20d04dbe00c5c2d3bb7859e   \n",
       "\n",
       "                          seller_id shipping_limit_date   price  \\\n",
       "0  3504c0cb71d7fa48d967e0e4c94d59d9 2017-10-06 11:07:15   29.99   \n",
       "1  289cdb325fb7e7f891c38608bf9e0962 2018-07-30 03:24:27  118.70   \n",
       "2  4869f7a5dfa277a7dca6462dcf3b52b2 2018-08-13 08:55:23  159.90   \n",
       "3  66922902710d126a0e7d26b0e3805106 2017-11-23 19:45:59   45.00   \n",
       "4  2c9e548be18521d1c43cde1c582c6de8 2018-02-19 20:31:37   19.90   \n",
       "\n",
       "   freight_value order_approved_day_name  \n",
       "0           8.72                  Monday  \n",
       "1          22.76                Thursday  \n",
       "2          19.22               Wednesday  \n",
       "3          27.20                Saturday  \n",
       "4           8.72                 Tuesday  "
      ]
     },
     "execution_count": 50,
     "metadata": {},
     "output_type": "execute_result"
    }
   ],
   "source": [
    "final_purchases_df.head()"
   ]
  },
  {
   "cell_type": "code",
   "execution_count": 51,
   "metadata": {},
   "outputs": [
    {
     "data": {
      "text/html": [
       "<div>\n",
       "<style scoped>\n",
       "    .dataframe tbody tr th:only-of-type {\n",
       "        vertical-align: middle;\n",
       "    }\n",
       "\n",
       "    .dataframe tbody tr th {\n",
       "        vertical-align: top;\n",
       "    }\n",
       "\n",
       "    .dataframe thead th {\n",
       "        text-align: right;\n",
       "    }\n",
       "</style>\n",
       "<table border=\"1\" class=\"dataframe\">\n",
       "  <thead>\n",
       "    <tr style=\"text-align: right;\">\n",
       "      <th></th>\n",
       "      <th>order_id</th>\n",
       "      <th>customer_unique_id</th>\n",
       "      <th>order_approved_at</th>\n",
       "    </tr>\n",
       "  </thead>\n",
       "  <tbody>\n",
       "    <tr>\n",
       "      <th>0</th>\n",
       "      <td>e481f51cbdc54678b7cc49136f2d6af7</td>\n",
       "      <td>7c396fd4830fd04220f754e42b4e5bff</td>\n",
       "      <td>2017-10-02 11:07:15</td>\n",
       "    </tr>\n",
       "    <tr>\n",
       "      <th>1</th>\n",
       "      <td>53cdb2fc8bc7dce0b6741e2150273451</td>\n",
       "      <td>af07308b275d755c9edb36a90c618231</td>\n",
       "      <td>2018-07-26 03:24:27</td>\n",
       "    </tr>\n",
       "    <tr>\n",
       "      <th>2</th>\n",
       "      <td>47770eb9100c2d0c44946d9cf07ec65d</td>\n",
       "      <td>3a653a41f6f9fc3d2a113cf8398680e8</td>\n",
       "      <td>2018-08-08 08:55:23</td>\n",
       "    </tr>\n",
       "    <tr>\n",
       "      <th>3</th>\n",
       "      <td>949d5b44dbf5de918fe9c16f97b45f8a</td>\n",
       "      <td>7c142cf63193a1473d2e66489a9ae977</td>\n",
       "      <td>2017-11-18 19:45:59</td>\n",
       "    </tr>\n",
       "    <tr>\n",
       "      <th>4</th>\n",
       "      <td>ad21c59c0840e6cb83a9ceb5573f8159</td>\n",
       "      <td>72632f0f9dd73dfee390c9b22eb56dd6</td>\n",
       "      <td>2018-02-13 22:20:29</td>\n",
       "    </tr>\n",
       "  </tbody>\n",
       "</table>\n",
       "</div>"
      ],
      "text/plain": [
       "                           order_id                customer_unique_id  \\\n",
       "0  e481f51cbdc54678b7cc49136f2d6af7  7c396fd4830fd04220f754e42b4e5bff   \n",
       "1  53cdb2fc8bc7dce0b6741e2150273451  af07308b275d755c9edb36a90c618231   \n",
       "2  47770eb9100c2d0c44946d9cf07ec65d  3a653a41f6f9fc3d2a113cf8398680e8   \n",
       "3  949d5b44dbf5de918fe9c16f97b45f8a  7c142cf63193a1473d2e66489a9ae977   \n",
       "4  ad21c59c0840e6cb83a9ceb5573f8159  72632f0f9dd73dfee390c9b22eb56dd6   \n",
       "\n",
       "    order_approved_at  \n",
       "0 2017-10-02 11:07:15  \n",
       "1 2018-07-26 03:24:27  \n",
       "2 2018-08-08 08:55:23  \n",
       "3 2017-11-18 19:45:59  \n",
       "4 2018-02-13 22:20:29  "
      ]
     },
     "execution_count": 51,
     "metadata": {},
     "output_type": "execute_result"
    }
   ],
   "source": [
    "# Выбираем из общего датасета только нужные нам колонки.\n",
    "\n",
    "orders_list = final_purchases_df[['order_id', 'customer_unique_id', 'order_approved_at']]\n",
    "orders_list.head()"
   ]
  },
  {
   "cell_type": "code",
   "execution_count": 52,
   "metadata": {},
   "outputs": [
    {
     "data": {
      "text/html": [
       "<div>\n",
       "<style scoped>\n",
       "    .dataframe tbody tr th:only-of-type {\n",
       "        vertical-align: middle;\n",
       "    }\n",
       "\n",
       "    .dataframe tbody tr th {\n",
       "        vertical-align: top;\n",
       "    }\n",
       "\n",
       "    .dataframe thead th {\n",
       "        text-align: right;\n",
       "    }\n",
       "</style>\n",
       "<table border=\"1\" class=\"dataframe\">\n",
       "  <thead>\n",
       "    <tr style=\"text-align: right;\">\n",
       "      <th></th>\n",
       "      <th>customer_unique_id</th>\n",
       "      <th>first_purchase</th>\n",
       "    </tr>\n",
       "  </thead>\n",
       "  <tbody>\n",
       "    <tr>\n",
       "      <th>0</th>\n",
       "      <td>0000366f3b9a7992bf8c76cfdf3221e2</td>\n",
       "      <td>2018-05-10 11:11:18</td>\n",
       "    </tr>\n",
       "    <tr>\n",
       "      <th>1</th>\n",
       "      <td>0000b849f77a49e4a4ce2b2a4ca5be3f</td>\n",
       "      <td>2018-05-07 18:25:44</td>\n",
       "    </tr>\n",
       "    <tr>\n",
       "      <th>2</th>\n",
       "      <td>0000f46a3911fa3c0805444483337064</td>\n",
       "      <td>2017-03-10 21:05:03</td>\n",
       "    </tr>\n",
       "    <tr>\n",
       "      <th>3</th>\n",
       "      <td>0000f6ccb0745a6a4b88665a16c9f078</td>\n",
       "      <td>2017-10-12 20:49:17</td>\n",
       "    </tr>\n",
       "    <tr>\n",
       "      <th>4</th>\n",
       "      <td>0004aac84e0df4da2b147fca70cf8255</td>\n",
       "      <td>2017-11-14 20:06:52</td>\n",
       "    </tr>\n",
       "  </tbody>\n",
       "</table>\n",
       "</div>"
      ],
      "text/plain": [
       "                 customer_unique_id      first_purchase\n",
       "0  0000366f3b9a7992bf8c76cfdf3221e2 2018-05-10 11:11:18\n",
       "1  0000b849f77a49e4a4ce2b2a4ca5be3f 2018-05-07 18:25:44\n",
       "2  0000f46a3911fa3c0805444483337064 2017-03-10 21:05:03\n",
       "3  0000f6ccb0745a6a4b88665a16c9f078 2017-10-12 20:49:17\n",
       "4  0004aac84e0df4da2b147fca70cf8255 2017-11-14 20:06:52"
      ]
     },
     "execution_count": 52,
     "metadata": {},
     "output_type": "execute_result"
    }
   ],
   "source": [
    "# Создаем датасет с первым днем покупки по каждому уникальному пользователб для дальнейшего разделения на когорты.\n",
    "\n",
    "first_purchase_date = final_purchases_df \\\n",
    "    .groupby('customer_unique_id', as_index=False) \\\n",
    "    .agg({'order_approved_at':'min'}) \\\n",
    "    .rename(columns={'order_approved_at':'first_purchase'})\n",
    "\n",
    "first_purchase_date.head()"
   ]
  },
  {
   "cell_type": "code",
   "execution_count": 53,
   "metadata": {
    "scrolled": true
   },
   "outputs": [
    {
     "data": {
      "text/html": [
       "<div>\n",
       "<style scoped>\n",
       "    .dataframe tbody tr th:only-of-type {\n",
       "        vertical-align: middle;\n",
       "    }\n",
       "\n",
       "    .dataframe tbody tr th {\n",
       "        vertical-align: top;\n",
       "    }\n",
       "\n",
       "    .dataframe thead th {\n",
       "        text-align: right;\n",
       "    }\n",
       "</style>\n",
       "<table border=\"1\" class=\"dataframe\">\n",
       "  <thead>\n",
       "    <tr style=\"text-align: right;\">\n",
       "      <th></th>\n",
       "      <th>order_id</th>\n",
       "      <th>customer_unique_id</th>\n",
       "      <th>order_approved_at</th>\n",
       "      <th>first_purchase</th>\n",
       "    </tr>\n",
       "  </thead>\n",
       "  <tbody>\n",
       "    <tr>\n",
       "      <th>0</th>\n",
       "      <td>e481f51cbdc54678b7cc49136f2d6af7</td>\n",
       "      <td>7c396fd4830fd04220f754e42b4e5bff</td>\n",
       "      <td>2017-10-02 11:07:15</td>\n",
       "      <td>2017-09-04 11:43:25</td>\n",
       "    </tr>\n",
       "    <tr>\n",
       "      <th>1</th>\n",
       "      <td>53cdb2fc8bc7dce0b6741e2150273451</td>\n",
       "      <td>af07308b275d755c9edb36a90c618231</td>\n",
       "      <td>2018-07-26 03:24:27</td>\n",
       "      <td>2018-07-26 03:24:27</td>\n",
       "    </tr>\n",
       "    <tr>\n",
       "      <th>2</th>\n",
       "      <td>47770eb9100c2d0c44946d9cf07ec65d</td>\n",
       "      <td>3a653a41f6f9fc3d2a113cf8398680e8</td>\n",
       "      <td>2018-08-08 08:55:23</td>\n",
       "      <td>2018-08-08 08:55:23</td>\n",
       "    </tr>\n",
       "    <tr>\n",
       "      <th>3</th>\n",
       "      <td>949d5b44dbf5de918fe9c16f97b45f8a</td>\n",
       "      <td>7c142cf63193a1473d2e66489a9ae977</td>\n",
       "      <td>2017-11-18 19:45:59</td>\n",
       "      <td>2017-11-18 19:45:59</td>\n",
       "    </tr>\n",
       "    <tr>\n",
       "      <th>4</th>\n",
       "      <td>ad21c59c0840e6cb83a9ceb5573f8159</td>\n",
       "      <td>72632f0f9dd73dfee390c9b22eb56dd6</td>\n",
       "      <td>2018-02-13 22:20:29</td>\n",
       "      <td>2018-02-13 22:20:29</td>\n",
       "    </tr>\n",
       "  </tbody>\n",
       "</table>\n",
       "</div>"
      ],
      "text/plain": [
       "                           order_id                customer_unique_id  \\\n",
       "0  e481f51cbdc54678b7cc49136f2d6af7  7c396fd4830fd04220f754e42b4e5bff   \n",
       "1  53cdb2fc8bc7dce0b6741e2150273451  af07308b275d755c9edb36a90c618231   \n",
       "2  47770eb9100c2d0c44946d9cf07ec65d  3a653a41f6f9fc3d2a113cf8398680e8   \n",
       "3  949d5b44dbf5de918fe9c16f97b45f8a  7c142cf63193a1473d2e66489a9ae977   \n",
       "4  ad21c59c0840e6cb83a9ceb5573f8159  72632f0f9dd73dfee390c9b22eb56dd6   \n",
       "\n",
       "    order_approved_at      first_purchase  \n",
       "0 2017-10-02 11:07:15 2017-09-04 11:43:25  \n",
       "1 2018-07-26 03:24:27 2018-07-26 03:24:27  \n",
       "2 2018-08-08 08:55:23 2018-08-08 08:55:23  \n",
       "3 2017-11-18 19:45:59 2017-11-18 19:45:59  \n",
       "4 2018-02-13 22:20:29 2018-02-13 22:20:29  "
      ]
     },
     "execution_count": 53,
     "metadata": {},
     "output_type": "execute_result"
    }
   ],
   "source": [
    "# Мерджим два предыдущих датасета в один объединяя по customer_unique_id.\n",
    "\n",
    "orders_list = orders_list.merge(first_purchase_date, on='customer_unique_id', how='left')\n",
    "orders_list.head()"
   ]
  },
  {
   "cell_type": "markdown",
   "metadata": {},
   "source": [
    "Высчитываем разницу между датой первого заказа и датой каждого заказа, чтобы пронумеровать месяцы по порядку, начиная с первого для каждой когорты."
   ]
  },
  {
   "cell_type": "code",
   "execution_count": 54,
   "metadata": {},
   "outputs": [],
   "source": [
    "orders_list['order_month'] = orders_list.order_approved_at.dt.month\n",
    "orders_list['first_purchase_month'] = orders_list.first_purchase.dt.month\n",
    "orders_list['every_purchase_month'] = orders_list.order_month - orders_list.first_purchase_month"
   ]
  },
  {
   "cell_type": "code",
   "execution_count": 55,
   "metadata": {},
   "outputs": [],
   "source": [
    "orders_list.first_purchase_month = orders_list.first_purchase_month.apply(lambda x: calendar.month_name[x])"
   ]
  },
  {
   "cell_type": "markdown",
   "metadata": {},
   "source": [
    "Готовим датасет для визуализации когортного анализа. Фильтруем только январь - декабрь 2017 года, как проcят в задании."
   ]
  },
  {
   "cell_type": "code",
   "execution_count": 56,
   "metadata": {},
   "outputs": [],
   "source": [
    "cogort_df = orders_list.query('first_purchase >= \"2017-01-01\" & \\\n",
    "                      first_purchase <= \"2017-12-31\" & \\\n",
    "                      order_approved_at <= \"2017-12-31\"')\n",
    "\n",
    "cogort_df = cogort_df.groupby(['first_purchase_month', 'every_purchase_month']) \\\n",
    "    .agg({'order_id':'nunique'}) \\\n",
    "    .reset_index() \\\n",
    "    .pivot(index='first_purchase_month', columns='every_purchase_month', values='order_id')"
   ]
  },
  {
   "cell_type": "markdown",
   "metadata": {},
   "source": [
    "Считаем retention rate относительно первой покупки, какой процент уникальных клиентов от каждой когорты \n",
    "вернулись и купили еще что-то на протяжении 12 месяцев. Понял как сделать без цикла."
   ]
  },
  {
   "cell_type": "code",
   "execution_count": 57,
   "metadata": {},
   "outputs": [],
   "source": [
    "cogort_df = cogort_df.apply(lambda x: x / cogort_df[0])"
   ]
  },
  {
   "cell_type": "code",
   "execution_count": 58,
   "metadata": {
    "scrolled": true
   },
   "outputs": [],
   "source": [
    "# Делаем правильный порядок месяцев в индексах.\n",
    "\n",
    "cogort_df = cogort_df.reindex(index = ['January',\n",
    "                           'February',\n",
    "                           'March',\n",
    "                           'April',\n",
    "                           'May',\n",
    "                           'June',\n",
    "                           'July',\n",
    "                           'August',\n",
    "                           'September',\n",
    "                           'October',\n",
    "                           'November',\n",
    "                           'December'])"
   ]
  },
  {
   "cell_type": "markdown",
   "metadata": {},
   "source": [
    "Далее добавляем красоты и понятности нашей визуализации. Также переводим значения в проценты.\n",
    "На графике мы видим, что желтым отмечены самые высокие показатели retention по сравнению с первой покупкой.\n",
    "Я выбрал такой подход, т.к. мы можем понять какой процент уникальных пользователей вернулся к нам после первой\n",
    "покупки в каждом последующем месяце."
   ]
  },
  {
   "cell_type": "code",
   "execution_count": 59,
   "metadata": {},
   "outputs": [
    {
     "data": {
      "text/html": [
       "<style  type=\"text/css\" >\n",
       "#T_5215a694_df80_11ec_bdbb_96000040dfb6row0_col0,#T_5215a694_df80_11ec_bdbb_96000040dfb6row0_col3,#T_5215a694_df80_11ec_bdbb_96000040dfb6row0_col7,#T_5215a694_df80_11ec_bdbb_96000040dfb6row0_col11,#T_5215a694_df80_11ec_bdbb_96000040dfb6row1_col0,#T_5215a694_df80_11ec_bdbb_96000040dfb6row1_col1,#T_5215a694_df80_11ec_bdbb_96000040dfb6row1_col2,#T_5215a694_df80_11ec_bdbb_96000040dfb6row1_col5,#T_5215a694_df80_11ec_bdbb_96000040dfb6row1_col8,#T_5215a694_df80_11ec_bdbb_96000040dfb6row1_col10,#T_5215a694_df80_11ec_bdbb_96000040dfb6row2_col0,#T_5215a694_df80_11ec_bdbb_96000040dfb6row2_col6,#T_5215a694_df80_11ec_bdbb_96000040dfb6row2_col9,#T_5215a694_df80_11ec_bdbb_96000040dfb6row3_col0,#T_5215a694_df80_11ec_bdbb_96000040dfb6row4_col0,#T_5215a694_df80_11ec_bdbb_96000040dfb6row5_col0,#T_5215a694_df80_11ec_bdbb_96000040dfb6row5_col4,#T_5215a694_df80_11ec_bdbb_96000040dfb6row6_col0,#T_5215a694_df80_11ec_bdbb_96000040dfb6row7_col0,#T_5215a694_df80_11ec_bdbb_96000040dfb6row8_col0,#T_5215a694_df80_11ec_bdbb_96000040dfb6row9_col0,#T_5215a694_df80_11ec_bdbb_96000040dfb6row10_col0,#T_5215a694_df80_11ec_bdbb_96000040dfb6row11_col0{\n",
       "            background-color:  #00224e;\n",
       "            color:  #f1f1f1;\n",
       "        }#T_5215a694_df80_11ec_bdbb_96000040dfb6row0_col1,#T_5215a694_df80_11ec_bdbb_96000040dfb6row2_col1,#T_5215a694_df80_11ec_bdbb_96000040dfb6row5_col6{\n",
       "            background-color:  #979177;\n",
       "            color:  #000000;\n",
       "        }#T_5215a694_df80_11ec_bdbb_96000040dfb6row0_col2,#T_5215a694_df80_11ec_bdbb_96000040dfb6row2_col5{\n",
       "            background-color:  #163770;\n",
       "            color:  #f1f1f1;\n",
       "        }#T_5215a694_df80_11ec_bdbb_96000040dfb6row0_col4,#T_5215a694_df80_11ec_bdbb_96000040dfb6row8_col2{\n",
       "            background-color:  #edd54a;\n",
       "            color:  #000000;\n",
       "        }#T_5215a694_df80_11ec_bdbb_96000040dfb6row0_col5{\n",
       "            background-color:  #002c64;\n",
       "            color:  #f1f1f1;\n",
       "        }#T_5215a694_df80_11ec_bdbb_96000040dfb6row0_col6{\n",
       "            background-color:  #c3b369;\n",
       "            color:  #000000;\n",
       "        }#T_5215a694_df80_11ec_bdbb_96000040dfb6row0_col8{\n",
       "            background-color:  #46516c;\n",
       "            color:  #f1f1f1;\n",
       "        }#T_5215a694_df80_11ec_bdbb_96000040dfb6row0_col9,#T_5215a694_df80_11ec_bdbb_96000040dfb6row2_col10,#T_5215a694_df80_11ec_bdbb_96000040dfb6row3_col9,#T_5215a694_df80_11ec_bdbb_96000040dfb6row3_col10,#T_5215a694_df80_11ec_bdbb_96000040dfb6row4_col8,#T_5215a694_df80_11ec_bdbb_96000040dfb6row4_col9,#T_5215a694_df80_11ec_bdbb_96000040dfb6row4_col10,#T_5215a694_df80_11ec_bdbb_96000040dfb6row5_col7,#T_5215a694_df80_11ec_bdbb_96000040dfb6row5_col8,#T_5215a694_df80_11ec_bdbb_96000040dfb6row5_col9,#T_5215a694_df80_11ec_bdbb_96000040dfb6row5_col10,#T_5215a694_df80_11ec_bdbb_96000040dfb6row6_col6,#T_5215a694_df80_11ec_bdbb_96000040dfb6row6_col7,#T_5215a694_df80_11ec_bdbb_96000040dfb6row6_col8,#T_5215a694_df80_11ec_bdbb_96000040dfb6row6_col9,#T_5215a694_df80_11ec_bdbb_96000040dfb6row6_col10,#T_5215a694_df80_11ec_bdbb_96000040dfb6row7_col5,#T_5215a694_df80_11ec_bdbb_96000040dfb6row7_col6,#T_5215a694_df80_11ec_bdbb_96000040dfb6row7_col7,#T_5215a694_df80_11ec_bdbb_96000040dfb6row7_col8,#T_5215a694_df80_11ec_bdbb_96000040dfb6row7_col9,#T_5215a694_df80_11ec_bdbb_96000040dfb6row7_col10,#T_5215a694_df80_11ec_bdbb_96000040dfb6row8_col4,#T_5215a694_df80_11ec_bdbb_96000040dfb6row8_col5,#T_5215a694_df80_11ec_bdbb_96000040dfb6row8_col6,#T_5215a694_df80_11ec_bdbb_96000040dfb6row8_col7,#T_5215a694_df80_11ec_bdbb_96000040dfb6row8_col8,#T_5215a694_df80_11ec_bdbb_96000040dfb6row8_col9,#T_5215a694_df80_11ec_bdbb_96000040dfb6row8_col10,#T_5215a694_df80_11ec_bdbb_96000040dfb6row9_col3,#T_5215a694_df80_11ec_bdbb_96000040dfb6row9_col4,#T_5215a694_df80_11ec_bdbb_96000040dfb6row9_col5,#T_5215a694_df80_11ec_bdbb_96000040dfb6row9_col6,#T_5215a694_df80_11ec_bdbb_96000040dfb6row9_col7,#T_5215a694_df80_11ec_bdbb_96000040dfb6row9_col8,#T_5215a694_df80_11ec_bdbb_96000040dfb6row9_col9,#T_5215a694_df80_11ec_bdbb_96000040dfb6row9_col10,#T_5215a694_df80_11ec_bdbb_96000040dfb6row10_col2,#T_5215a694_df80_11ec_bdbb_96000040dfb6row10_col3,#T_5215a694_df80_11ec_bdbb_96000040dfb6row10_col4,#T_5215a694_df80_11ec_bdbb_96000040dfb6row10_col5,#T_5215a694_df80_11ec_bdbb_96000040dfb6row10_col6,#T_5215a694_df80_11ec_bdbb_96000040dfb6row10_col7,#T_5215a694_df80_11ec_bdbb_96000040dfb6row10_col8,#T_5215a694_df80_11ec_bdbb_96000040dfb6row10_col9,#T_5215a694_df80_11ec_bdbb_96000040dfb6row10_col10,#T_5215a694_df80_11ec_bdbb_96000040dfb6row11_col1,#T_5215a694_df80_11ec_bdbb_96000040dfb6row11_col2,#T_5215a694_df80_11ec_bdbb_96000040dfb6row11_col3,#T_5215a694_df80_11ec_bdbb_96000040dfb6row11_col4,#T_5215a694_df80_11ec_bdbb_96000040dfb6row11_col5,#T_5215a694_df80_11ec_bdbb_96000040dfb6row11_col6,#T_5215a694_df80_11ec_bdbb_96000040dfb6row11_col7,#T_5215a694_df80_11ec_bdbb_96000040dfb6row11_col8,#T_5215a694_df80_11ec_bdbb_96000040dfb6row11_col9,#T_5215a694_df80_11ec_bdbb_96000040dfb6row11_col10{\n",
       "            background-color:  #000000;\n",
       "            color:  #f1f1f1;\n",
       "            background-color:  white;\n",
       "        }#T_5215a694_df80_11ec_bdbb_96000040dfb6row0_col10,#T_5215a694_df80_11ec_bdbb_96000040dfb6row1_col4,#T_5215a694_df80_11ec_bdbb_96000040dfb6row1_col9,#T_5215a694_df80_11ec_bdbb_96000040dfb6row2_col3,#T_5215a694_df80_11ec_bdbb_96000040dfb6row2_col7,#T_5215a694_df80_11ec_bdbb_96000040dfb6row3_col8,#T_5215a694_df80_11ec_bdbb_96000040dfb6row4_col2,#T_5215a694_df80_11ec_bdbb_96000040dfb6row4_col5,#T_5215a694_df80_11ec_bdbb_96000040dfb6row4_col6,#T_5215a694_df80_11ec_bdbb_96000040dfb6row9_col1{\n",
       "            background-color:  #fee838;\n",
       "            color:  #000000;\n",
       "        }#T_5215a694_df80_11ec_bdbb_96000040dfb6row1_col3{\n",
       "            background-color:  #243c6e;\n",
       "            color:  #f1f1f1;\n",
       "        }#T_5215a694_df80_11ec_bdbb_96000040dfb6row1_col6{\n",
       "            background-color:  #45506c;\n",
       "            color:  #f1f1f1;\n",
       "        }#T_5215a694_df80_11ec_bdbb_96000040dfb6row1_col7{\n",
       "            background-color:  #434e6c;\n",
       "            color:  #f1f1f1;\n",
       "        }#T_5215a694_df80_11ec_bdbb_96000040dfb6row1_col11,#T_5215a694_df80_11ec_bdbb_96000040dfb6row2_col11,#T_5215a694_df80_11ec_bdbb_96000040dfb6row3_col11,#T_5215a694_df80_11ec_bdbb_96000040dfb6row4_col11,#T_5215a694_df80_11ec_bdbb_96000040dfb6row5_col11,#T_5215a694_df80_11ec_bdbb_96000040dfb6row6_col11,#T_5215a694_df80_11ec_bdbb_96000040dfb6row7_col11,#T_5215a694_df80_11ec_bdbb_96000040dfb6row8_col11,#T_5215a694_df80_11ec_bdbb_96000040dfb6row9_col11,#T_5215a694_df80_11ec_bdbb_96000040dfb6row10_col11,#T_5215a694_df80_11ec_bdbb_96000040dfb6row11_col11{\n",
       "            background-color:  #00224e;\n",
       "            color:  #f1f1f1;\n",
       "            background-color:  white;\n",
       "        }#T_5215a694_df80_11ec_bdbb_96000040dfb6row2_col2{\n",
       "            background-color:  #696b71;\n",
       "            color:  #000000;\n",
       "        }#T_5215a694_df80_11ec_bdbb_96000040dfb6row2_col4{\n",
       "            background-color:  #8e8978;\n",
       "            color:  #000000;\n",
       "        }#T_5215a694_df80_11ec_bdbb_96000040dfb6row2_col8{\n",
       "            background-color:  #dcc859;\n",
       "            color:  #000000;\n",
       "        }#T_5215a694_df80_11ec_bdbb_96000040dfb6row3_col1{\n",
       "            background-color:  #d2c060;\n",
       "            color:  #000000;\n",
       "        }#T_5215a694_df80_11ec_bdbb_96000040dfb6row3_col2{\n",
       "            background-color:  #003170;\n",
       "            color:  #f1f1f1;\n",
       "        }#T_5215a694_df80_11ec_bdbb_96000040dfb6row3_col3{\n",
       "            background-color:  #4b546c;\n",
       "            color:  #f1f1f1;\n",
       "        }#T_5215a694_df80_11ec_bdbb_96000040dfb6row3_col4,#T_5215a694_df80_11ec_bdbb_96000040dfb6row4_col7{\n",
       "            background-color:  #002859;\n",
       "            color:  #f1f1f1;\n",
       "        }#T_5215a694_df80_11ec_bdbb_96000040dfb6row3_col5{\n",
       "            background-color:  #767676;\n",
       "            color:  #000000;\n",
       "        }#T_5215a694_df80_11ec_bdbb_96000040dfb6row3_col6{\n",
       "            background-color:  #b7a96e;\n",
       "            color:  #000000;\n",
       "        }#T_5215a694_df80_11ec_bdbb_96000040dfb6row3_col7{\n",
       "            background-color:  #b4a76f;\n",
       "            color:  #000000;\n",
       "        }#T_5215a694_df80_11ec_bdbb_96000040dfb6row4_col1{\n",
       "            background-color:  #a19975;\n",
       "            color:  #000000;\n",
       "        }#T_5215a694_df80_11ec_bdbb_96000040dfb6row4_col3{\n",
       "            background-color:  #e1cc55;\n",
       "            color:  #000000;\n",
       "        }#T_5215a694_df80_11ec_bdbb_96000040dfb6row4_col4{\n",
       "            background-color:  #555c6d;\n",
       "            color:  #f1f1f1;\n",
       "        }#T_5215a694_df80_11ec_bdbb_96000040dfb6row5_col1{\n",
       "            background-color:  #6c6d72;\n",
       "            color:  #000000;\n",
       "        }#T_5215a694_df80_11ec_bdbb_96000040dfb6row5_col2{\n",
       "            background-color:  #878478;\n",
       "            color:  #000000;\n",
       "        }#T_5215a694_df80_11ec_bdbb_96000040dfb6row5_col3{\n",
       "            background-color:  #d9c55c;\n",
       "            color:  #000000;\n",
       "        }#T_5215a694_df80_11ec_bdbb_96000040dfb6row5_col5{\n",
       "            background-color:  #c1b26a;\n",
       "            color:  #000000;\n",
       "        }#T_5215a694_df80_11ec_bdbb_96000040dfb6row6_col1,#T_5215a694_df80_11ec_bdbb_96000040dfb6row10_col1{\n",
       "            background-color:  #aba072;\n",
       "            color:  #000000;\n",
       "        }#T_5215a694_df80_11ec_bdbb_96000040dfb6row6_col2{\n",
       "            background-color:  #4d556c;\n",
       "            color:  #f1f1f1;\n",
       "        }#T_5215a694_df80_11ec_bdbb_96000040dfb6row6_col3{\n",
       "            background-color:  #2b406d;\n",
       "            color:  #f1f1f1;\n",
       "        }#T_5215a694_df80_11ec_bdbb_96000040dfb6row6_col4{\n",
       "            background-color:  #dac65b;\n",
       "            color:  #000000;\n",
       "        }#T_5215a694_df80_11ec_bdbb_96000040dfb6row6_col5{\n",
       "            background-color:  #3a486c;\n",
       "            color:  #f1f1f1;\n",
       "        }#T_5215a694_df80_11ec_bdbb_96000040dfb6row7_col1{\n",
       "            background-color:  #ddc858;\n",
       "            color:  #000000;\n",
       "        }#T_5215a694_df80_11ec_bdbb_96000040dfb6row7_col2{\n",
       "            background-color:  #9c9576;\n",
       "            color:  #000000;\n",
       "        }#T_5215a694_df80_11ec_bdbb_96000040dfb6row7_col3{\n",
       "            background-color:  #6f7073;\n",
       "            color:  #000000;\n",
       "        }#T_5215a694_df80_11ec_bdbb_96000040dfb6row7_col4{\n",
       "            background-color:  #c5b568;\n",
       "            color:  #000000;\n",
       "        }#T_5215a694_df80_11ec_bdbb_96000040dfb6row8_col1{\n",
       "            background-color:  #d4c15f;\n",
       "            color:  #000000;\n",
       "        }#T_5215a694_df80_11ec_bdbb_96000040dfb6row8_col3{\n",
       "            background-color:  #f6dd3f;\n",
       "            color:  #000000;\n",
       "        }#T_5215a694_df80_11ec_bdbb_96000040dfb6row9_col2{\n",
       "            background-color:  #3c4a6c;\n",
       "            color:  #f1f1f1;\n",
       "        }</style><table id=\"T_5215a694_df80_11ec_bdbb_96000040dfb6\" ><caption>User Retention by Cohort in 2017 year</caption><thead>    <tr>        <th class=\"index_name level0\" >every_purchase_month</th>        <th class=\"col_heading level0 col0\" >0</th>        <th class=\"col_heading level0 col1\" >1</th>        <th class=\"col_heading level0 col2\" >2</th>        <th class=\"col_heading level0 col3\" >3</th>        <th class=\"col_heading level0 col4\" >4</th>        <th class=\"col_heading level0 col5\" >5</th>        <th class=\"col_heading level0 col6\" >6</th>        <th class=\"col_heading level0 col7\" >7</th>        <th class=\"col_heading level0 col8\" >8</th>        <th class=\"col_heading level0 col9\" >9</th>        <th class=\"col_heading level0 col10\" >10</th>        <th class=\"col_heading level0 col11\" >11</th>    </tr>    <tr>        <th class=\"index_name level0\" >first_purchase_month</th>        <th class=\"blank\" ></th>        <th class=\"blank\" ></th>        <th class=\"blank\" ></th>        <th class=\"blank\" ></th>        <th class=\"blank\" ></th>        <th class=\"blank\" ></th>        <th class=\"blank\" ></th>        <th class=\"blank\" ></th>        <th class=\"blank\" ></th>        <th class=\"blank\" ></th>        <th class=\"blank\" ></th>        <th class=\"blank\" ></th>    </tr></thead><tbody>\n",
       "                <tr>\n",
       "                        <th id=\"T_5215a694_df80_11ec_bdbb_96000040dfb6level0_row0\" class=\"row_heading level0 row0\" >January</th>\n",
       "                        <td id=\"T_5215a694_df80_11ec_bdbb_96000040dfb6row0_col0\" class=\"data row0 col0\" >100.00%</td>\n",
       "                        <td id=\"T_5215a694_df80_11ec_bdbb_96000040dfb6row0_col1\" class=\"data row0 col1\" >0.53%</td>\n",
       "                        <td id=\"T_5215a694_df80_11ec_bdbb_96000040dfb6row0_col2\" class=\"data row0 col2\" >0.27%</td>\n",
       "                        <td id=\"T_5215a694_df80_11ec_bdbb_96000040dfb6row0_col3\" class=\"data row0 col3\" >0.13%</td>\n",
       "                        <td id=\"T_5215a694_df80_11ec_bdbb_96000040dfb6row0_col4\" class=\"data row0 col4\" >0.40%</td>\n",
       "                        <td id=\"T_5215a694_df80_11ec_bdbb_96000040dfb6row0_col5\" class=\"data row0 col5\" >0.13%</td>\n",
       "                        <td id=\"T_5215a694_df80_11ec_bdbb_96000040dfb6row0_col6\" class=\"data row0 col6\" >0.40%</td>\n",
       "                        <td id=\"T_5215a694_df80_11ec_bdbb_96000040dfb6row0_col7\" class=\"data row0 col7\" >0.13%</td>\n",
       "                        <td id=\"T_5215a694_df80_11ec_bdbb_96000040dfb6row0_col8\" class=\"data row0 col8\" >0.13%</td>\n",
       "                        <td id=\"T_5215a694_df80_11ec_bdbb_96000040dfb6row0_col9\" class=\"data row0 col9\" ></td>\n",
       "                        <td id=\"T_5215a694_df80_11ec_bdbb_96000040dfb6row0_col10\" class=\"data row0 col10\" >0.27%</td>\n",
       "                        <td id=\"T_5215a694_df80_11ec_bdbb_96000040dfb6row0_col11\" class=\"data row0 col11\" >0.27%</td>\n",
       "            </tr>\n",
       "            <tr>\n",
       "                        <th id=\"T_5215a694_df80_11ec_bdbb_96000040dfb6level0_row1\" class=\"row_heading level0 row1\" >February</th>\n",
       "                        <td id=\"T_5215a694_df80_11ec_bdbb_96000040dfb6row1_col0\" class=\"data row1 col0\" >100.00%</td>\n",
       "                        <td id=\"T_5215a694_df80_11ec_bdbb_96000040dfb6row1_col1\" class=\"data row1 col1\" >0.24%</td>\n",
       "                        <td id=\"T_5215a694_df80_11ec_bdbb_96000040dfb6row1_col2\" class=\"data row1 col2\" >0.24%</td>\n",
       "                        <td id=\"T_5215a694_df80_11ec_bdbb_96000040dfb6row1_col3\" class=\"data row1 col3\" >0.18%</td>\n",
       "                        <td id=\"T_5215a694_df80_11ec_bdbb_96000040dfb6row1_col4\" class=\"data row1 col4\" >0.41%</td>\n",
       "                        <td id=\"T_5215a694_df80_11ec_bdbb_96000040dfb6row1_col5\" class=\"data row1 col5\" >0.12%</td>\n",
       "                        <td id=\"T_5215a694_df80_11ec_bdbb_96000040dfb6row1_col6\" class=\"data row1 col6\" >0.24%</td>\n",
       "                        <td id=\"T_5215a694_df80_11ec_bdbb_96000040dfb6row1_col7\" class=\"data row1 col7\" >0.18%</td>\n",
       "                        <td id=\"T_5215a694_df80_11ec_bdbb_96000040dfb6row1_col8\" class=\"data row1 col8\" >0.06%</td>\n",
       "                        <td id=\"T_5215a694_df80_11ec_bdbb_96000040dfb6row1_col9\" class=\"data row1 col9\" >0.18%</td>\n",
       "                        <td id=\"T_5215a694_df80_11ec_bdbb_96000040dfb6row1_col10\" class=\"data row1 col10\" >0.12%</td>\n",
       "                        <td id=\"T_5215a694_df80_11ec_bdbb_96000040dfb6row1_col11\" class=\"data row1 col11\" ></td>\n",
       "            </tr>\n",
       "            <tr>\n",
       "                        <th id=\"T_5215a694_df80_11ec_bdbb_96000040dfb6level0_row2\" class=\"row_heading level0 row2\" >March</th>\n",
       "                        <td id=\"T_5215a694_df80_11ec_bdbb_96000040dfb6row2_col0\" class=\"data row2 col0\" >100.00%</td>\n",
       "                        <td id=\"T_5215a694_df80_11ec_bdbb_96000040dfb6row2_col1\" class=\"data row2 col1\" >0.53%</td>\n",
       "                        <td id=\"T_5215a694_df80_11ec_bdbb_96000040dfb6row2_col2\" class=\"data row2 col2\" >0.34%</td>\n",
       "                        <td id=\"T_5215a694_df80_11ec_bdbb_96000040dfb6row2_col3\" class=\"data row2 col3\" >0.42%</td>\n",
       "                        <td id=\"T_5215a694_df80_11ec_bdbb_96000040dfb6row2_col4\" class=\"data row2 col4\" >0.34%</td>\n",
       "                        <td id=\"T_5215a694_df80_11ec_bdbb_96000040dfb6row2_col5\" class=\"data row2 col5\" >0.15%</td>\n",
       "                        <td id=\"T_5215a694_df80_11ec_bdbb_96000040dfb6row2_col6\" class=\"data row2 col6\" >0.15%</td>\n",
       "                        <td id=\"T_5215a694_df80_11ec_bdbb_96000040dfb6row2_col7\" class=\"data row2 col7\" >0.31%</td>\n",
       "                        <td id=\"T_5215a694_df80_11ec_bdbb_96000040dfb6row2_col8\" class=\"data row2 col8\" >0.31%</td>\n",
       "                        <td id=\"T_5215a694_df80_11ec_bdbb_96000040dfb6row2_col9\" class=\"data row2 col9\" >0.11%</td>\n",
       "                        <td id=\"T_5215a694_df80_11ec_bdbb_96000040dfb6row2_col10\" class=\"data row2 col10\" ></td>\n",
       "                        <td id=\"T_5215a694_df80_11ec_bdbb_96000040dfb6row2_col11\" class=\"data row2 col11\" ></td>\n",
       "            </tr>\n",
       "            <tr>\n",
       "                        <th id=\"T_5215a694_df80_11ec_bdbb_96000040dfb6level0_row3\" class=\"row_heading level0 row3\" >April</th>\n",
       "                        <td id=\"T_5215a694_df80_11ec_bdbb_96000040dfb6row3_col0\" class=\"data row3 col0\" >100.00%</td>\n",
       "                        <td id=\"T_5215a694_df80_11ec_bdbb_96000040dfb6row3_col1\" class=\"data row3 col1\" >0.64%</td>\n",
       "                        <td id=\"T_5215a694_df80_11ec_bdbb_96000040dfb6row3_col2\" class=\"data row3 col2\" >0.26%</td>\n",
       "                        <td id=\"T_5215a694_df80_11ec_bdbb_96000040dfb6row3_col3\" class=\"data row3 col3\" >0.21%</td>\n",
       "                        <td id=\"T_5215a694_df80_11ec_bdbb_96000040dfb6row3_col4\" class=\"data row3 col4\" >0.26%</td>\n",
       "                        <td id=\"T_5215a694_df80_11ec_bdbb_96000040dfb6row3_col5\" class=\"data row3 col5\" >0.26%</td>\n",
       "                        <td id=\"T_5215a694_df80_11ec_bdbb_96000040dfb6row3_col6\" class=\"data row3 col6\" >0.39%</td>\n",
       "                        <td id=\"T_5215a694_df80_11ec_bdbb_96000040dfb6row3_col7\" class=\"data row3 col7\" >0.26%</td>\n",
       "                        <td id=\"T_5215a694_df80_11ec_bdbb_96000040dfb6row3_col8\" class=\"data row3 col8\" >0.34%</td>\n",
       "                        <td id=\"T_5215a694_df80_11ec_bdbb_96000040dfb6row3_col9\" class=\"data row3 col9\" ></td>\n",
       "                        <td id=\"T_5215a694_df80_11ec_bdbb_96000040dfb6row3_col10\" class=\"data row3 col10\" ></td>\n",
       "                        <td id=\"T_5215a694_df80_11ec_bdbb_96000040dfb6row3_col11\" class=\"data row3 col11\" ></td>\n",
       "            </tr>\n",
       "            <tr>\n",
       "                        <th id=\"T_5215a694_df80_11ec_bdbb_96000040dfb6level0_row4\" class=\"row_heading level0 row4\" >May</th>\n",
       "                        <td id=\"T_5215a694_df80_11ec_bdbb_96000040dfb6row4_col0\" class=\"data row4 col0\" >100.00%</td>\n",
       "                        <td id=\"T_5215a694_df80_11ec_bdbb_96000040dfb6row4_col1\" class=\"data row4 col1\" >0.55%</td>\n",
       "                        <td id=\"T_5215a694_df80_11ec_bdbb_96000040dfb6row4_col2\" class=\"data row4 col2\" >0.50%</td>\n",
       "                        <td id=\"T_5215a694_df80_11ec_bdbb_96000040dfb6row4_col3\" class=\"data row4 col3\" >0.39%</td>\n",
       "                        <td id=\"T_5215a694_df80_11ec_bdbb_96000040dfb6row4_col4\" class=\"data row4 col4\" >0.30%</td>\n",
       "                        <td id=\"T_5215a694_df80_11ec_bdbb_96000040dfb6row4_col5\" class=\"data row4 col5\" >0.42%</td>\n",
       "                        <td id=\"T_5215a694_df80_11ec_bdbb_96000040dfb6row4_col6\" class=\"data row4 col6\" >0.47%</td>\n",
       "                        <td id=\"T_5215a694_df80_11ec_bdbb_96000040dfb6row4_col7\" class=\"data row4 col7\" >0.14%</td>\n",
       "                        <td id=\"T_5215a694_df80_11ec_bdbb_96000040dfb6row4_col8\" class=\"data row4 col8\" ></td>\n",
       "                        <td id=\"T_5215a694_df80_11ec_bdbb_96000040dfb6row4_col9\" class=\"data row4 col9\" ></td>\n",
       "                        <td id=\"T_5215a694_df80_11ec_bdbb_96000040dfb6row4_col10\" class=\"data row4 col10\" ></td>\n",
       "                        <td id=\"T_5215a694_df80_11ec_bdbb_96000040dfb6row4_col11\" class=\"data row4 col11\" ></td>\n",
       "            </tr>\n",
       "            <tr>\n",
       "                        <th id=\"T_5215a694_df80_11ec_bdbb_96000040dfb6level0_row5\" class=\"row_heading level0 row5\" >June</th>\n",
       "                        <td id=\"T_5215a694_df80_11ec_bdbb_96000040dfb6row5_col0\" class=\"data row5 col0\" >100.00%</td>\n",
       "                        <td id=\"T_5215a694_df80_11ec_bdbb_96000040dfb6row5_col1\" class=\"data row5 col1\" >0.44%</td>\n",
       "                        <td id=\"T_5215a694_df80_11ec_bdbb_96000040dfb6row5_col2\" class=\"data row5 col2\" >0.38%</td>\n",
       "                        <td id=\"T_5215a694_df80_11ec_bdbb_96000040dfb6row5_col3\" class=\"data row5 col3\" >0.38%</td>\n",
       "                        <td id=\"T_5215a694_df80_11ec_bdbb_96000040dfb6row5_col4\" class=\"data row5 col4\" >0.25%</td>\n",
       "                        <td id=\"T_5215a694_df80_11ec_bdbb_96000040dfb6row5_col5\" class=\"data row5 col5\" >0.35%</td>\n",
       "                        <td id=\"T_5215a694_df80_11ec_bdbb_96000040dfb6row5_col6\" class=\"data row5 col6\" >0.35%</td>\n",
       "                        <td id=\"T_5215a694_df80_11ec_bdbb_96000040dfb6row5_col7\" class=\"data row5 col7\" ></td>\n",
       "                        <td id=\"T_5215a694_df80_11ec_bdbb_96000040dfb6row5_col8\" class=\"data row5 col8\" ></td>\n",
       "                        <td id=\"T_5215a694_df80_11ec_bdbb_96000040dfb6row5_col9\" class=\"data row5 col9\" ></td>\n",
       "                        <td id=\"T_5215a694_df80_11ec_bdbb_96000040dfb6row5_col10\" class=\"data row5 col10\" ></td>\n",
       "                        <td id=\"T_5215a694_df80_11ec_bdbb_96000040dfb6row5_col11\" class=\"data row5 col11\" ></td>\n",
       "            </tr>\n",
       "            <tr>\n",
       "                        <th id=\"T_5215a694_df80_11ec_bdbb_96000040dfb6level0_row6\" class=\"row_heading level0 row6\" >July</th>\n",
       "                        <td id=\"T_5215a694_df80_11ec_bdbb_96000040dfb6row6_col0\" class=\"data row6 col0\" >100.00%</td>\n",
       "                        <td id=\"T_5215a694_df80_11ec_bdbb_96000040dfb6row6_col1\" class=\"data row6 col1\" >0.57%</td>\n",
       "                        <td id=\"T_5215a694_df80_11ec_bdbb_96000040dfb6row6_col2\" class=\"data row6 col2\" >0.31%</td>\n",
       "                        <td id=\"T_5215a694_df80_11ec_bdbb_96000040dfb6row6_col3\" class=\"data row6 col3\" >0.18%</td>\n",
       "                        <td id=\"T_5215a694_df80_11ec_bdbb_96000040dfb6row6_col4\" class=\"data row6 col4\" >0.39%</td>\n",
       "                        <td id=\"T_5215a694_df80_11ec_bdbb_96000040dfb6row6_col5\" class=\"data row6 col5\" >0.18%</td>\n",
       "                        <td id=\"T_5215a694_df80_11ec_bdbb_96000040dfb6row6_col6\" class=\"data row6 col6\" ></td>\n",
       "                        <td id=\"T_5215a694_df80_11ec_bdbb_96000040dfb6row6_col7\" class=\"data row6 col7\" ></td>\n",
       "                        <td id=\"T_5215a694_df80_11ec_bdbb_96000040dfb6row6_col8\" class=\"data row6 col8\" ></td>\n",
       "                        <td id=\"T_5215a694_df80_11ec_bdbb_96000040dfb6row6_col9\" class=\"data row6 col9\" ></td>\n",
       "                        <td id=\"T_5215a694_df80_11ec_bdbb_96000040dfb6row6_col10\" class=\"data row6 col10\" ></td>\n",
       "                        <td id=\"T_5215a694_df80_11ec_bdbb_96000040dfb6row6_col11\" class=\"data row6 col11\" ></td>\n",
       "            </tr>\n",
       "            <tr>\n",
       "                        <th id=\"T_5215a694_df80_11ec_bdbb_96000040dfb6level0_row7\" class=\"row_heading level0 row7\" >August</th>\n",
       "                        <td id=\"T_5215a694_df80_11ec_bdbb_96000040dfb6row7_col0\" class=\"data row7 col0\" >100.00%</td>\n",
       "                        <td id=\"T_5215a694_df80_11ec_bdbb_96000040dfb6row7_col1\" class=\"data row7 col1\" >0.66%</td>\n",
       "                        <td id=\"T_5215a694_df80_11ec_bdbb_96000040dfb6row7_col2\" class=\"data row7 col2\" >0.40%</td>\n",
       "                        <td id=\"T_5215a694_df80_11ec_bdbb_96000040dfb6row7_col3\" class=\"data row7 col3\" >0.26%</td>\n",
       "                        <td id=\"T_5215a694_df80_11ec_bdbb_96000040dfb6row7_col4\" class=\"data row7 col4\" >0.38%</td>\n",
       "                        <td id=\"T_5215a694_df80_11ec_bdbb_96000040dfb6row7_col5\" class=\"data row7 col5\" ></td>\n",
       "                        <td id=\"T_5215a694_df80_11ec_bdbb_96000040dfb6row7_col6\" class=\"data row7 col6\" ></td>\n",
       "                        <td id=\"T_5215a694_df80_11ec_bdbb_96000040dfb6row7_col7\" class=\"data row7 col7\" ></td>\n",
       "                        <td id=\"T_5215a694_df80_11ec_bdbb_96000040dfb6row7_col8\" class=\"data row7 col8\" ></td>\n",
       "                        <td id=\"T_5215a694_df80_11ec_bdbb_96000040dfb6row7_col9\" class=\"data row7 col9\" ></td>\n",
       "                        <td id=\"T_5215a694_df80_11ec_bdbb_96000040dfb6row7_col10\" class=\"data row7 col10\" ></td>\n",
       "                        <td id=\"T_5215a694_df80_11ec_bdbb_96000040dfb6row7_col11\" class=\"data row7 col11\" ></td>\n",
       "            </tr>\n",
       "            <tr>\n",
       "                        <th id=\"T_5215a694_df80_11ec_bdbb_96000040dfb6level0_row8\" class=\"row_heading level0 row8\" >September</th>\n",
       "                        <td id=\"T_5215a694_df80_11ec_bdbb_96000040dfb6row8_col0\" class=\"data row8 col0\" >100.00%</td>\n",
       "                        <td id=\"T_5215a694_df80_11ec_bdbb_96000040dfb6row8_col1\" class=\"data row8 col1\" >0.65%</td>\n",
       "                        <td id=\"T_5215a694_df80_11ec_bdbb_96000040dfb6row8_col2\" class=\"data row8 col2\" >0.48%</td>\n",
       "                        <td id=\"T_5215a694_df80_11ec_bdbb_96000040dfb6row8_col3\" class=\"data row8 col3\" >0.41%</td>\n",
       "                        <td id=\"T_5215a694_df80_11ec_bdbb_96000040dfb6row8_col4\" class=\"data row8 col4\" ></td>\n",
       "                        <td id=\"T_5215a694_df80_11ec_bdbb_96000040dfb6row8_col5\" class=\"data row8 col5\" ></td>\n",
       "                        <td id=\"T_5215a694_df80_11ec_bdbb_96000040dfb6row8_col6\" class=\"data row8 col6\" ></td>\n",
       "                        <td id=\"T_5215a694_df80_11ec_bdbb_96000040dfb6row8_col7\" class=\"data row8 col7\" ></td>\n",
       "                        <td id=\"T_5215a694_df80_11ec_bdbb_96000040dfb6row8_col8\" class=\"data row8 col8\" ></td>\n",
       "                        <td id=\"T_5215a694_df80_11ec_bdbb_96000040dfb6row8_col9\" class=\"data row8 col9\" ></td>\n",
       "                        <td id=\"T_5215a694_df80_11ec_bdbb_96000040dfb6row8_col10\" class=\"data row8 col10\" ></td>\n",
       "                        <td id=\"T_5215a694_df80_11ec_bdbb_96000040dfb6row8_col11\" class=\"data row8 col11\" ></td>\n",
       "            </tr>\n",
       "            <tr>\n",
       "                        <th id=\"T_5215a694_df80_11ec_bdbb_96000040dfb6level0_row9\" class=\"row_heading level0 row9\" >October</th>\n",
       "                        <td id=\"T_5215a694_df80_11ec_bdbb_96000040dfb6row9_col0\" class=\"data row9 col0\" >100.00%</td>\n",
       "                        <td id=\"T_5215a694_df80_11ec_bdbb_96000040dfb6row9_col1\" class=\"data row9 col1\" >0.72%</td>\n",
       "                        <td id=\"T_5215a694_df80_11ec_bdbb_96000040dfb6row9_col2\" class=\"data row9 col2\" >0.29%</td>\n",
       "                        <td id=\"T_5215a694_df80_11ec_bdbb_96000040dfb6row9_col3\" class=\"data row9 col3\" ></td>\n",
       "                        <td id=\"T_5215a694_df80_11ec_bdbb_96000040dfb6row9_col4\" class=\"data row9 col4\" ></td>\n",
       "                        <td id=\"T_5215a694_df80_11ec_bdbb_96000040dfb6row9_col5\" class=\"data row9 col5\" ></td>\n",
       "                        <td id=\"T_5215a694_df80_11ec_bdbb_96000040dfb6row9_col6\" class=\"data row9 col6\" ></td>\n",
       "                        <td id=\"T_5215a694_df80_11ec_bdbb_96000040dfb6row9_col7\" class=\"data row9 col7\" ></td>\n",
       "                        <td id=\"T_5215a694_df80_11ec_bdbb_96000040dfb6row9_col8\" class=\"data row9 col8\" ></td>\n",
       "                        <td id=\"T_5215a694_df80_11ec_bdbb_96000040dfb6row9_col9\" class=\"data row9 col9\" ></td>\n",
       "                        <td id=\"T_5215a694_df80_11ec_bdbb_96000040dfb6row9_col10\" class=\"data row9 col10\" ></td>\n",
       "                        <td id=\"T_5215a694_df80_11ec_bdbb_96000040dfb6row9_col11\" class=\"data row9 col11\" ></td>\n",
       "            </tr>\n",
       "            <tr>\n",
       "                        <th id=\"T_5215a694_df80_11ec_bdbb_96000040dfb6level0_row10\" class=\"row_heading level0 row10\" >November</th>\n",
       "                        <td id=\"T_5215a694_df80_11ec_bdbb_96000040dfb6row10_col0\" class=\"data row10 col0\" >100.00%</td>\n",
       "                        <td id=\"T_5215a694_df80_11ec_bdbb_96000040dfb6row10_col1\" class=\"data row10 col1\" >0.57%</td>\n",
       "                        <td id=\"T_5215a694_df80_11ec_bdbb_96000040dfb6row10_col2\" class=\"data row10 col2\" ></td>\n",
       "                        <td id=\"T_5215a694_df80_11ec_bdbb_96000040dfb6row10_col3\" class=\"data row10 col3\" ></td>\n",
       "                        <td id=\"T_5215a694_df80_11ec_bdbb_96000040dfb6row10_col4\" class=\"data row10 col4\" ></td>\n",
       "                        <td id=\"T_5215a694_df80_11ec_bdbb_96000040dfb6row10_col5\" class=\"data row10 col5\" ></td>\n",
       "                        <td id=\"T_5215a694_df80_11ec_bdbb_96000040dfb6row10_col6\" class=\"data row10 col6\" ></td>\n",
       "                        <td id=\"T_5215a694_df80_11ec_bdbb_96000040dfb6row10_col7\" class=\"data row10 col7\" ></td>\n",
       "                        <td id=\"T_5215a694_df80_11ec_bdbb_96000040dfb6row10_col8\" class=\"data row10 col8\" ></td>\n",
       "                        <td id=\"T_5215a694_df80_11ec_bdbb_96000040dfb6row10_col9\" class=\"data row10 col9\" ></td>\n",
       "                        <td id=\"T_5215a694_df80_11ec_bdbb_96000040dfb6row10_col10\" class=\"data row10 col10\" ></td>\n",
       "                        <td id=\"T_5215a694_df80_11ec_bdbb_96000040dfb6row10_col11\" class=\"data row10 col11\" ></td>\n",
       "            </tr>\n",
       "            <tr>\n",
       "                        <th id=\"T_5215a694_df80_11ec_bdbb_96000040dfb6level0_row11\" class=\"row_heading level0 row11\" >December</th>\n",
       "                        <td id=\"T_5215a694_df80_11ec_bdbb_96000040dfb6row11_col0\" class=\"data row11 col0\" >100.00%</td>\n",
       "                        <td id=\"T_5215a694_df80_11ec_bdbb_96000040dfb6row11_col1\" class=\"data row11 col1\" ></td>\n",
       "                        <td id=\"T_5215a694_df80_11ec_bdbb_96000040dfb6row11_col2\" class=\"data row11 col2\" ></td>\n",
       "                        <td id=\"T_5215a694_df80_11ec_bdbb_96000040dfb6row11_col3\" class=\"data row11 col3\" ></td>\n",
       "                        <td id=\"T_5215a694_df80_11ec_bdbb_96000040dfb6row11_col4\" class=\"data row11 col4\" ></td>\n",
       "                        <td id=\"T_5215a694_df80_11ec_bdbb_96000040dfb6row11_col5\" class=\"data row11 col5\" ></td>\n",
       "                        <td id=\"T_5215a694_df80_11ec_bdbb_96000040dfb6row11_col6\" class=\"data row11 col6\" ></td>\n",
       "                        <td id=\"T_5215a694_df80_11ec_bdbb_96000040dfb6row11_col7\" class=\"data row11 col7\" ></td>\n",
       "                        <td id=\"T_5215a694_df80_11ec_bdbb_96000040dfb6row11_col8\" class=\"data row11 col8\" ></td>\n",
       "                        <td id=\"T_5215a694_df80_11ec_bdbb_96000040dfb6row11_col9\" class=\"data row11 col9\" ></td>\n",
       "                        <td id=\"T_5215a694_df80_11ec_bdbb_96000040dfb6row11_col10\" class=\"data row11 col10\" ></td>\n",
       "                        <td id=\"T_5215a694_df80_11ec_bdbb_96000040dfb6row11_col11\" class=\"data row11 col11\" ></td>\n",
       "            </tr>\n",
       "    </tbody></table>"
      ],
      "text/plain": [
       "<pandas.io.formats.style.Styler at 0x7f36424f20b8>"
      ]
     },
     "execution_count": 59,
     "metadata": {},
     "output_type": "execute_result"
    }
   ],
   "source": [
    "cogort_df_color = (cogort_df\n",
    "            .style\n",
    "            .set_caption('User Retention by Cohort in 2017 year')  # добавляем подпись\n",
    "            .background_gradient(cmap='cividis')  # раскрашиваем ячейки по столбцам\n",
    "            .highlight_null('white')  # делаем белый фон для значений NaN\n",
    "            .format(\"{:.2%}\", na_rep=\"\"))  # числа форматируем как проценты, NaN заменяем на пустоту\n",
    "\n",
    "cogort_df_color"
   ]
  },
  {
   "cell_type": "markdown",
   "metadata": {},
   "source": [
    "### Ответ:"
   ]
  },
  {
   "cell_type": "markdown",
   "metadata": {},
   "source": [
    "Самый высокий retention rate на 3 месяц после первой покупки = 0.42% и принадлежит он когорте пользователей, которые совершили первую покупку в марте."
   ]
  },
  {
   "cell_type": "markdown",
   "metadata": {},
   "source": [
    " "
   ]
  },
  {
   "cell_type": "markdown",
   "metadata": {},
   "source": [
    " "
   ]
  },
  {
   "cell_type": "markdown",
   "metadata": {},
   "source": [
    "# Задание 6."
   ]
  },
  {
   "cell_type": "markdown",
   "metadata": {},
   "source": [
    "Часто для качественного анализа аудитории использую подходы, основанные на сегментации. Используя python, построй RFM-сегментацию пользователей, чтобы качественно оценить свою аудиторию. В кластеризации можешь выбрать следующие метрики: R - время от последней покупки пользователя до текущей даты, F - суммарное количество покупок у пользователя за всё время, M - сумма покупок за всё время. Подробно опиши, как ты создавал кластеры. Для каждого RFM-сегмента построй границы метрик recency, frequency и monetary для интерпретации этих кластеров. Пример такого описания: RFM-сегмент 132 (recency=1, frequency=3, monetary=2) имеет границы метрик recency от 130 до 500 дней, frequency от 2 до 5 заказов в неделю, monetary от 1780 до 3560 рублей в неделю."
   ]
  },
  {
   "cell_type": "markdown",
   "metadata": {},
   "source": [
    "#### Для сегментации есть три подхода:\n",
    "\n",
    "1. равномерное сегментирование по диапазонам значений (деление на равные бакеты по значениям)\n",
    "Достоинства метода — сегменты легко выделить. Однако при таком делении распределение покупателей по сегментам будет неравномерным (в один сегмент могут попасть 90% всех клиентов, в другой — 1%).\n",
    "\n",
    "\n",
    "2. равномерное сегментирование по количеству клиентов (деление на равные бакеты по кол-ву юзеров)\n",
    "Данное сегментирование позволяет быстро выделить сегменты, так чтобы отсутствовал сильный дисбаланс между группами. Недостаток в данном подходе — плохо выбираются сегменты.\n",
    "\n",
    "\n",
    "3. сегментирование с фиксированным диапазоном (ручное деление, основывая на знании продукта)\n",
    "При сегментировании с фиксированным диапазоном необходимо самостоятельно определить границы значений для каждого показателя. Минус - необходимо очень четко понимать продукт, сегмент рынка его цикл, динамику продаж. \n",
    "\n",
    "Среди них я бы выбрал первый - разделение по значениям, т.к. с учетом того, что мы обладаем не очень большим объемом данных и ничего не знаем о продукте, он будет самым подходящим. Второй вариант также не подойдет, т.к. будут сложности с делением по количеству заказов. В этом случае у нас очень много клиентов, оторые сделали только 1 заказ.\n",
    "\n",
    "Также стоит отметить, что в бизнесе довольно часто работает прицип Парето (80% результатов происходят благодаря 20% усилий / или 80% прибыли генерируют 20% топовых клиентов). Соответственно выбираем второй метод, деление по количеству клиентов, как самый устойчивый и делить мы будем на 5 бакетов по 20% (спомощью квантилей), чтобы выделить ту самую приоритетную категорию людей по принципу Парето и все отсальные сегменты."
   ]
  },
  {
   "cell_type": "code",
   "execution_count": 60,
   "metadata": {},
   "outputs": [],
   "source": [
    "def r_score(x):\n",
    "    if x <= quintiles['recency'][.2]:\n",
    "        return 5\n",
    "    elif x <= quintiles['recency'][.4]:\n",
    "        return 4\n",
    "    elif x <= quintiles['recency'][.6]:\n",
    "        return 3\n",
    "    elif x <= quintiles['recency'][.8]:\n",
    "        return 2\n",
    "    else:\n",
    "        return 1\n",
    "\n",
    "def fm_score(x, c):\n",
    "    if x <= quintiles[c][.2]:\n",
    "        return 1\n",
    "    elif x <= quintiles[c][.4]:\n",
    "        return 2\n",
    "    elif x <= quintiles[c][.6]:\n",
    "        return 3\n",
    "    elif x <= quintiles[c][.8]:\n",
    "        return 4\n",
    "    else:\n",
    "        return 5 "
   ]
  },
  {
   "cell_type": "code",
   "execution_count": 61,
   "metadata": {},
   "outputs": [
    {
     "name": "stdout",
     "output_type": "stream",
     "text": [
      "период покупок от 2016-09-15 12:16:38 до 2018-09-03 17:40:06\n"
     ]
    }
   ],
   "source": [
    "# Мы имеем данные почти за 2 года. При этом данные за полный год у нас только за 2017.\n",
    "\n",
    "print(f'период покупок от {final_purchases_df.order_approved_at.min()} \\\n",
    "до {final_purchases_df.order_approved_at.max()}')"
   ]
  },
  {
   "cell_type": "code",
   "execution_count": 62,
   "metadata": {},
   "outputs": [
    {
     "data": {
      "text/html": [
       "<div>\n",
       "<style scoped>\n",
       "    .dataframe tbody tr th:only-of-type {\n",
       "        vertical-align: middle;\n",
       "    }\n",
       "\n",
       "    .dataframe tbody tr th {\n",
       "        vertical-align: top;\n",
       "    }\n",
       "\n",
       "    .dataframe thead th {\n",
       "        text-align: right;\n",
       "    }\n",
       "</style>\n",
       "<table border=\"1\" class=\"dataframe\">\n",
       "  <thead>\n",
       "    <tr style=\"text-align: right;\">\n",
       "      <th></th>\n",
       "      <th>order_id</th>\n",
       "      <th>customer_id</th>\n",
       "      <th>order_status</th>\n",
       "      <th>order_purchase_timestamp</th>\n",
       "      <th>order_approved_at</th>\n",
       "      <th>order_delivered_carrier_date</th>\n",
       "      <th>order_delivered_customer_date</th>\n",
       "      <th>order_estimated_delivery_date</th>\n",
       "      <th>customer_unique_id</th>\n",
       "      <th>customer_zip_code_prefix</th>\n",
       "      <th>customer_city</th>\n",
       "      <th>customer_state</th>\n",
       "      <th>order_item_id</th>\n",
       "      <th>product_id</th>\n",
       "      <th>seller_id</th>\n",
       "      <th>shipping_limit_date</th>\n",
       "      <th>price</th>\n",
       "      <th>freight_value</th>\n",
       "      <th>order_approved_day_name</th>\n",
       "    </tr>\n",
       "  </thead>\n",
       "  <tbody>\n",
       "    <tr>\n",
       "      <th>0</th>\n",
       "      <td>e481f51cbdc54678b7cc49136f2d6af7</td>\n",
       "      <td>9ef432eb6251297304e76186b10a928d</td>\n",
       "      <td>delivered</td>\n",
       "      <td>2017-10-02 10:56:33</td>\n",
       "      <td>2017-10-02 11:07:15</td>\n",
       "      <td>2017-10-04 19:55:00</td>\n",
       "      <td>2017-10-10 21:25:13</td>\n",
       "      <td>2017-10-18</td>\n",
       "      <td>7c396fd4830fd04220f754e42b4e5bff</td>\n",
       "      <td>3149</td>\n",
       "      <td>sao paulo</td>\n",
       "      <td>SP</td>\n",
       "      <td>1.0</td>\n",
       "      <td>87285b34884572647811a353c7ac498a</td>\n",
       "      <td>3504c0cb71d7fa48d967e0e4c94d59d9</td>\n",
       "      <td>2017-10-06 11:07:15</td>\n",
       "      <td>29.99</td>\n",
       "      <td>8.72</td>\n",
       "      <td>Monday</td>\n",
       "    </tr>\n",
       "    <tr>\n",
       "      <th>1</th>\n",
       "      <td>53cdb2fc8bc7dce0b6741e2150273451</td>\n",
       "      <td>b0830fb4747a6c6d20dea0b8c802d7ef</td>\n",
       "      <td>delivered</td>\n",
       "      <td>2018-07-24 20:41:37</td>\n",
       "      <td>2018-07-26 03:24:27</td>\n",
       "      <td>2018-07-26 14:31:00</td>\n",
       "      <td>2018-08-07 15:27:45</td>\n",
       "      <td>2018-08-13</td>\n",
       "      <td>af07308b275d755c9edb36a90c618231</td>\n",
       "      <td>47813</td>\n",
       "      <td>barreiras</td>\n",
       "      <td>BA</td>\n",
       "      <td>1.0</td>\n",
       "      <td>595fac2a385ac33a80bd5114aec74eb8</td>\n",
       "      <td>289cdb325fb7e7f891c38608bf9e0962</td>\n",
       "      <td>2018-07-30 03:24:27</td>\n",
       "      <td>118.70</td>\n",
       "      <td>22.76</td>\n",
       "      <td>Thursday</td>\n",
       "    </tr>\n",
       "    <tr>\n",
       "      <th>2</th>\n",
       "      <td>47770eb9100c2d0c44946d9cf07ec65d</td>\n",
       "      <td>41ce2a54c0b03bf3443c3d931a367089</td>\n",
       "      <td>delivered</td>\n",
       "      <td>2018-08-08 08:38:49</td>\n",
       "      <td>2018-08-08 08:55:23</td>\n",
       "      <td>2018-08-08 13:50:00</td>\n",
       "      <td>2018-08-17 18:06:29</td>\n",
       "      <td>2018-09-04</td>\n",
       "      <td>3a653a41f6f9fc3d2a113cf8398680e8</td>\n",
       "      <td>75265</td>\n",
       "      <td>vianopolis</td>\n",
       "      <td>GO</td>\n",
       "      <td>1.0</td>\n",
       "      <td>aa4383b373c6aca5d8797843e5594415</td>\n",
       "      <td>4869f7a5dfa277a7dca6462dcf3b52b2</td>\n",
       "      <td>2018-08-13 08:55:23</td>\n",
       "      <td>159.90</td>\n",
       "      <td>19.22</td>\n",
       "      <td>Wednesday</td>\n",
       "    </tr>\n",
       "    <tr>\n",
       "      <th>3</th>\n",
       "      <td>949d5b44dbf5de918fe9c16f97b45f8a</td>\n",
       "      <td>f88197465ea7920adcdbec7375364d82</td>\n",
       "      <td>delivered</td>\n",
       "      <td>2017-11-18 19:28:06</td>\n",
       "      <td>2017-11-18 19:45:59</td>\n",
       "      <td>2017-11-22 13:39:59</td>\n",
       "      <td>2017-12-02 00:28:42</td>\n",
       "      <td>2017-12-15</td>\n",
       "      <td>7c142cf63193a1473d2e66489a9ae977</td>\n",
       "      <td>59296</td>\n",
       "      <td>sao goncalo do amarante</td>\n",
       "      <td>RN</td>\n",
       "      <td>1.0</td>\n",
       "      <td>d0b61bfb1de832b15ba9d266ca96e5b0</td>\n",
       "      <td>66922902710d126a0e7d26b0e3805106</td>\n",
       "      <td>2017-11-23 19:45:59</td>\n",
       "      <td>45.00</td>\n",
       "      <td>27.20</td>\n",
       "      <td>Saturday</td>\n",
       "    </tr>\n",
       "    <tr>\n",
       "      <th>4</th>\n",
       "      <td>ad21c59c0840e6cb83a9ceb5573f8159</td>\n",
       "      <td>8ab97904e6daea8866dbdbc4fb7aad2c</td>\n",
       "      <td>delivered</td>\n",
       "      <td>2018-02-13 21:18:39</td>\n",
       "      <td>2018-02-13 22:20:29</td>\n",
       "      <td>2018-02-14 19:46:34</td>\n",
       "      <td>2018-02-16 18:17:02</td>\n",
       "      <td>2018-02-26</td>\n",
       "      <td>72632f0f9dd73dfee390c9b22eb56dd6</td>\n",
       "      <td>9195</td>\n",
       "      <td>santo andre</td>\n",
       "      <td>SP</td>\n",
       "      <td>1.0</td>\n",
       "      <td>65266b2da20d04dbe00c5c2d3bb7859e</td>\n",
       "      <td>2c9e548be18521d1c43cde1c582c6de8</td>\n",
       "      <td>2018-02-19 20:31:37</td>\n",
       "      <td>19.90</td>\n",
       "      <td>8.72</td>\n",
       "      <td>Tuesday</td>\n",
       "    </tr>\n",
       "  </tbody>\n",
       "</table>\n",
       "</div>"
      ],
      "text/plain": [
       "                           order_id                       customer_id  \\\n",
       "0  e481f51cbdc54678b7cc49136f2d6af7  9ef432eb6251297304e76186b10a928d   \n",
       "1  53cdb2fc8bc7dce0b6741e2150273451  b0830fb4747a6c6d20dea0b8c802d7ef   \n",
       "2  47770eb9100c2d0c44946d9cf07ec65d  41ce2a54c0b03bf3443c3d931a367089   \n",
       "3  949d5b44dbf5de918fe9c16f97b45f8a  f88197465ea7920adcdbec7375364d82   \n",
       "4  ad21c59c0840e6cb83a9ceb5573f8159  8ab97904e6daea8866dbdbc4fb7aad2c   \n",
       "\n",
       "  order_status order_purchase_timestamp   order_approved_at  \\\n",
       "0    delivered      2017-10-02 10:56:33 2017-10-02 11:07:15   \n",
       "1    delivered      2018-07-24 20:41:37 2018-07-26 03:24:27   \n",
       "2    delivered      2018-08-08 08:38:49 2018-08-08 08:55:23   \n",
       "3    delivered      2017-11-18 19:28:06 2017-11-18 19:45:59   \n",
       "4    delivered      2018-02-13 21:18:39 2018-02-13 22:20:29   \n",
       "\n",
       "  order_delivered_carrier_date order_delivered_customer_date  \\\n",
       "0          2017-10-04 19:55:00           2017-10-10 21:25:13   \n",
       "1          2018-07-26 14:31:00           2018-08-07 15:27:45   \n",
       "2          2018-08-08 13:50:00           2018-08-17 18:06:29   \n",
       "3          2017-11-22 13:39:59           2017-12-02 00:28:42   \n",
       "4          2018-02-14 19:46:34           2018-02-16 18:17:02   \n",
       "\n",
       "  order_estimated_delivery_date                customer_unique_id  \\\n",
       "0                    2017-10-18  7c396fd4830fd04220f754e42b4e5bff   \n",
       "1                    2018-08-13  af07308b275d755c9edb36a90c618231   \n",
       "2                    2018-09-04  3a653a41f6f9fc3d2a113cf8398680e8   \n",
       "3                    2017-12-15  7c142cf63193a1473d2e66489a9ae977   \n",
       "4                    2018-02-26  72632f0f9dd73dfee390c9b22eb56dd6   \n",
       "\n",
       "   customer_zip_code_prefix            customer_city customer_state  \\\n",
       "0                      3149                sao paulo             SP   \n",
       "1                     47813                barreiras             BA   \n",
       "2                     75265               vianopolis             GO   \n",
       "3                     59296  sao goncalo do amarante             RN   \n",
       "4                      9195              santo andre             SP   \n",
       "\n",
       "   order_item_id                        product_id  \\\n",
       "0            1.0  87285b34884572647811a353c7ac498a   \n",
       "1            1.0  595fac2a385ac33a80bd5114aec74eb8   \n",
       "2            1.0  aa4383b373c6aca5d8797843e5594415   \n",
       "3            1.0  d0b61bfb1de832b15ba9d266ca96e5b0   \n",
       "4            1.0  65266b2da20d04dbe00c5c2d3bb7859e   \n",
       "\n",
       "                          seller_id shipping_limit_date   price  \\\n",
       "0  3504c0cb71d7fa48d967e0e4c94d59d9 2017-10-06 11:07:15   29.99   \n",
       "1  289cdb325fb7e7f891c38608bf9e0962 2018-07-30 03:24:27  118.70   \n",
       "2  4869f7a5dfa277a7dca6462dcf3b52b2 2018-08-13 08:55:23  159.90   \n",
       "3  66922902710d126a0e7d26b0e3805106 2017-11-23 19:45:59   45.00   \n",
       "4  2c9e548be18521d1c43cde1c582c6de8 2018-02-19 20:31:37   19.90   \n",
       "\n",
       "   freight_value order_approved_day_name  \n",
       "0           8.72                  Monday  \n",
       "1          22.76                Thursday  \n",
       "2          19.22               Wednesday  \n",
       "3          27.20                Saturday  \n",
       "4           8.72                 Tuesday  "
      ]
     },
     "execution_count": 62,
     "metadata": {},
     "output_type": "execute_result"
    }
   ],
   "source": [
    "final_purchases_df.head()"
   ]
  },
  {
   "cell_type": "markdown",
   "metadata": {},
   "source": [
    "Группируем датафрейм и считаем цену каждого заказа, каждого юзера на каждую дату. \n",
    "Т.к. RFM анализ, как правило, делается на основе данных за полный год (оновываясь на тексте из предложенной статьи), то и для этого задания возьмем данные только за 2017 год, т.к. это единственный год, за который у нас есть полные данные."
   ]
  },
  {
   "cell_type": "code",
   "execution_count": 63,
   "metadata": {},
   "outputs": [
    {
     "data": {
      "text/html": [
       "<div>\n",
       "<style scoped>\n",
       "    .dataframe tbody tr th:only-of-type {\n",
       "        vertical-align: middle;\n",
       "    }\n",
       "\n",
       "    .dataframe tbody tr th {\n",
       "        vertical-align: top;\n",
       "    }\n",
       "\n",
       "    .dataframe thead th {\n",
       "        text-align: right;\n",
       "    }\n",
       "</style>\n",
       "<table border=\"1\" class=\"dataframe\">\n",
       "  <thead>\n",
       "    <tr style=\"text-align: right;\">\n",
       "      <th></th>\n",
       "      <th>order_id</th>\n",
       "      <th>customer_unique_id</th>\n",
       "      <th>order_approved_at</th>\n",
       "      <th>price</th>\n",
       "    </tr>\n",
       "  </thead>\n",
       "  <tbody>\n",
       "    <tr>\n",
       "      <th>0</th>\n",
       "      <td>00010242fe8c5a6d1ba2dd792cb16214</td>\n",
       "      <td>871766c5855e863f6eccc05f988b23cb</td>\n",
       "      <td>2017-09-13 09:45:35</td>\n",
       "      <td>58.9</td>\n",
       "    </tr>\n",
       "    <tr>\n",
       "      <th>1</th>\n",
       "      <td>00018f77f2f0320c557190d7a144bdd3</td>\n",
       "      <td>eb28e67c4c0b83846050ddfb8a35d051</td>\n",
       "      <td>2017-04-26 11:05:13</td>\n",
       "      <td>239.9</td>\n",
       "    </tr>\n",
       "    <tr>\n",
       "      <th>4</th>\n",
       "      <td>00042b26cf59d7ce69dfabb4e55b4fd9</td>\n",
       "      <td>64b576fb70d441e8f1b2d7d446e483c5</td>\n",
       "      <td>2017-02-04 14:10:13</td>\n",
       "      <td>199.9</td>\n",
       "    </tr>\n",
       "    <tr>\n",
       "      <th>5</th>\n",
       "      <td>00048cc3ae777c65dbb7d2a0634bc1ea</td>\n",
       "      <td>85c835d128beae5b4ce8602c491bf385</td>\n",
       "      <td>2017-05-17 03:55:27</td>\n",
       "      <td>21.9</td>\n",
       "    </tr>\n",
       "    <tr>\n",
       "      <th>6</th>\n",
       "      <td>00054e8431b9d7675808bcb819fb4a32</td>\n",
       "      <td>635d9ac1680f03288e72ada3a1035803</td>\n",
       "      <td>2017-12-10 12:10:31</td>\n",
       "      <td>19.9</td>\n",
       "    </tr>\n",
       "  </tbody>\n",
       "</table>\n",
       "</div>"
      ],
      "text/plain": [
       "                           order_id                customer_unique_id  \\\n",
       "0  00010242fe8c5a6d1ba2dd792cb16214  871766c5855e863f6eccc05f988b23cb   \n",
       "1  00018f77f2f0320c557190d7a144bdd3  eb28e67c4c0b83846050ddfb8a35d051   \n",
       "4  00042b26cf59d7ce69dfabb4e55b4fd9  64b576fb70d441e8f1b2d7d446e483c5   \n",
       "5  00048cc3ae777c65dbb7d2a0634bc1ea  85c835d128beae5b4ce8602c491bf385   \n",
       "6  00054e8431b9d7675808bcb819fb4a32  635d9ac1680f03288e72ada3a1035803   \n",
       "\n",
       "    order_approved_at  price  \n",
       "0 2017-09-13 09:45:35   58.9  \n",
       "1 2017-04-26 11:05:13  239.9  \n",
       "4 2017-02-04 14:10:13  199.9  \n",
       "5 2017-05-17 03:55:27   21.9  \n",
       "6 2017-12-10 12:10:31   19.9  "
      ]
     },
     "execution_count": 63,
     "metadata": {},
     "output_type": "execute_result"
    }
   ],
   "source": [
    "rfm_df = final_purchases_df \\\n",
    "    .groupby(['order_id', 'customer_unique_id', 'order_approved_at'], as_index=False) \\\n",
    "    .agg({'price':'sum'}) \\\n",
    "    .query('order_approved_at >= \"2017-01-01\" & order_approved_at <= \"2017-12-31\"')\n",
    "\n",
    "rfm_df.head()"
   ]
  },
  {
   "cell_type": "code",
   "execution_count": 64,
   "metadata": {},
   "outputs": [
    {
     "name": "stdout",
     "output_type": "stream",
     "text": [
      "период покупок от 2017-01-05 12:10:17 до 2017-12-30 23:06:23\n"
     ]
    }
   ],
   "source": [
    "print(f'период покупок от {rfm_df.order_approved_at.min()} \\\n",
    "до {rfm_df.order_approved_at.max()}')"
   ]
  },
  {
   "cell_type": "code",
   "execution_count": 65,
   "metadata": {},
   "outputs": [
    {
     "data": {
      "text/plain": [
       "Timestamp('2017-12-31 23:06:23')"
      ]
     },
     "execution_count": 65,
     "metadata": {},
     "output_type": "execute_result"
    }
   ],
   "source": [
    "# Для этого упражнения (т.к. данные старые) будем считать, что сегодня + 1 день от самой поздней даты заказа.\n",
    "today_date = rfm_df.order_approved_at.max() + timedelta(days=1)\n",
    "today_date"
   ]
  },
  {
   "cell_type": "code",
   "execution_count": 66,
   "metadata": {},
   "outputs": [
    {
     "data": {
      "text/html": [
       "<div>\n",
       "<style scoped>\n",
       "    .dataframe tbody tr th:only-of-type {\n",
       "        vertical-align: middle;\n",
       "    }\n",
       "\n",
       "    .dataframe tbody tr th {\n",
       "        vertical-align: top;\n",
       "    }\n",
       "\n",
       "    .dataframe thead th {\n",
       "        text-align: right;\n",
       "    }\n",
       "</style>\n",
       "<table border=\"1\" class=\"dataframe\">\n",
       "  <thead>\n",
       "    <tr style=\"text-align: right;\">\n",
       "      <th></th>\n",
       "      <th>order_id</th>\n",
       "      <th>customer_unique_id</th>\n",
       "      <th>order_approved_at</th>\n",
       "      <th>price</th>\n",
       "      <th>days_since_order</th>\n",
       "    </tr>\n",
       "  </thead>\n",
       "  <tbody>\n",
       "    <tr>\n",
       "      <th>0</th>\n",
       "      <td>00010242fe8c5a6d1ba2dd792cb16214</td>\n",
       "      <td>871766c5855e863f6eccc05f988b23cb</td>\n",
       "      <td>2017-09-13 09:45:35</td>\n",
       "      <td>58.9</td>\n",
       "      <td>109</td>\n",
       "    </tr>\n",
       "    <tr>\n",
       "      <th>1</th>\n",
       "      <td>00018f77f2f0320c557190d7a144bdd3</td>\n",
       "      <td>eb28e67c4c0b83846050ddfb8a35d051</td>\n",
       "      <td>2017-04-26 11:05:13</td>\n",
       "      <td>239.9</td>\n",
       "      <td>249</td>\n",
       "    </tr>\n",
       "    <tr>\n",
       "      <th>4</th>\n",
       "      <td>00042b26cf59d7ce69dfabb4e55b4fd9</td>\n",
       "      <td>64b576fb70d441e8f1b2d7d446e483c5</td>\n",
       "      <td>2017-02-04 14:10:13</td>\n",
       "      <td>199.9</td>\n",
       "      <td>330</td>\n",
       "    </tr>\n",
       "    <tr>\n",
       "      <th>5</th>\n",
       "      <td>00048cc3ae777c65dbb7d2a0634bc1ea</td>\n",
       "      <td>85c835d128beae5b4ce8602c491bf385</td>\n",
       "      <td>2017-05-17 03:55:27</td>\n",
       "      <td>21.9</td>\n",
       "      <td>228</td>\n",
       "    </tr>\n",
       "    <tr>\n",
       "      <th>6</th>\n",
       "      <td>00054e8431b9d7675808bcb819fb4a32</td>\n",
       "      <td>635d9ac1680f03288e72ada3a1035803</td>\n",
       "      <td>2017-12-10 12:10:31</td>\n",
       "      <td>19.9</td>\n",
       "      <td>21</td>\n",
       "    </tr>\n",
       "  </tbody>\n",
       "</table>\n",
       "</div>"
      ],
      "text/plain": [
       "                           order_id                customer_unique_id  \\\n",
       "0  00010242fe8c5a6d1ba2dd792cb16214  871766c5855e863f6eccc05f988b23cb   \n",
       "1  00018f77f2f0320c557190d7a144bdd3  eb28e67c4c0b83846050ddfb8a35d051   \n",
       "4  00042b26cf59d7ce69dfabb4e55b4fd9  64b576fb70d441e8f1b2d7d446e483c5   \n",
       "5  00048cc3ae777c65dbb7d2a0634bc1ea  85c835d128beae5b4ce8602c491bf385   \n",
       "6  00054e8431b9d7675808bcb819fb4a32  635d9ac1680f03288e72ada3a1035803   \n",
       "\n",
       "    order_approved_at  price  days_since_order  \n",
       "0 2017-09-13 09:45:35   58.9               109  \n",
       "1 2017-04-26 11:05:13  239.9               249  \n",
       "4 2017-02-04 14:10:13  199.9               330  \n",
       "5 2017-05-17 03:55:27   21.9               228  \n",
       "6 2017-12-10 12:10:31   19.9                21  "
      ]
     },
     "execution_count": 66,
     "metadata": {},
     "output_type": "execute_result"
    }
   ],
   "source": [
    "# Считаем количество дней до \"сегодняшнего дня\".\n",
    "rfm_df['days_since_order'] = (today_date - rfm_df.order_approved_at).dt.days\n",
    "rfm_df.head()"
   ]
  },
  {
   "cell_type": "code",
   "execution_count": 67,
   "metadata": {
    "scrolled": true
   },
   "outputs": [],
   "source": [
    "aggr = {\n",
    "        'days_since_order': 'min',  # количество дней с последнего заказа (Recency)\n",
    "        'order_approved_at': 'count', # количество заказов за весь период (Frequency)\n",
    "        'price': 'sum', # сумма заказов за весь период (Monetary)\n",
    "       }\n",
    "\n",
    "rfm_df_final = rfm_df \\\n",
    "    .groupby('customer_unique_id') \\\n",
    "    .agg(aggr) \\\n",
    "    .reset_index() \\\n",
    "    .rename(columns={'days_since_order': 'recency', 'order_approved_at': 'frequency', 'price': 'monetary'})"
   ]
  },
  {
   "cell_type": "code",
   "execution_count": 68,
   "metadata": {},
   "outputs": [
    {
     "data": {
      "text/html": [
       "<div>\n",
       "<style scoped>\n",
       "    .dataframe tbody tr th:only-of-type {\n",
       "        vertical-align: middle;\n",
       "    }\n",
       "\n",
       "    .dataframe tbody tr th {\n",
       "        vertical-align: top;\n",
       "    }\n",
       "\n",
       "    .dataframe thead th {\n",
       "        text-align: right;\n",
       "    }\n",
       "</style>\n",
       "<table border=\"1\" class=\"dataframe\">\n",
       "  <thead>\n",
       "    <tr style=\"text-align: right;\">\n",
       "      <th></th>\n",
       "      <th>customer_unique_id</th>\n",
       "      <th>recency</th>\n",
       "      <th>frequency</th>\n",
       "      <th>monetary</th>\n",
       "    </tr>\n",
       "  </thead>\n",
       "  <tbody>\n",
       "    <tr>\n",
       "      <th>0</th>\n",
       "      <td>0000f46a3911fa3c0805444483337064</td>\n",
       "      <td>296</td>\n",
       "      <td>1</td>\n",
       "      <td>69.00</td>\n",
       "    </tr>\n",
       "    <tr>\n",
       "      <th>1</th>\n",
       "      <td>0000f6ccb0745a6a4b88665a16c9f078</td>\n",
       "      <td>80</td>\n",
       "      <td>1</td>\n",
       "      <td>25.99</td>\n",
       "    </tr>\n",
       "    <tr>\n",
       "      <th>2</th>\n",
       "      <td>0004aac84e0df4da2b147fca70cf8255</td>\n",
       "      <td>47</td>\n",
       "      <td>1</td>\n",
       "      <td>180.00</td>\n",
       "    </tr>\n",
       "    <tr>\n",
       "      <th>3</th>\n",
       "      <td>0005e1862207bf6ccc02e4228effd9a0</td>\n",
       "      <td>301</td>\n",
       "      <td>1</td>\n",
       "      <td>135.00</td>\n",
       "    </tr>\n",
       "    <tr>\n",
       "      <th>4</th>\n",
       "      <td>0006fdc98a402fceb4eb0ee528f6a8d4</td>\n",
       "      <td>166</td>\n",
       "      <td>1</td>\n",
       "      <td>13.90</td>\n",
       "    </tr>\n",
       "  </tbody>\n",
       "</table>\n",
       "</div>"
      ],
      "text/plain": [
       "                 customer_unique_id  recency  frequency  monetary\n",
       "0  0000f46a3911fa3c0805444483337064      296          1     69.00\n",
       "1  0000f6ccb0745a6a4b88665a16c9f078       80          1     25.99\n",
       "2  0004aac84e0df4da2b147fca70cf8255       47          1    180.00\n",
       "3  0005e1862207bf6ccc02e4228effd9a0      301          1    135.00\n",
       "4  0006fdc98a402fceb4eb0ee528f6a8d4      166          1     13.90"
      ]
     },
     "execution_count": 68,
     "metadata": {},
     "output_type": "execute_result"
    }
   ],
   "source": [
    "rfm_df_final.head()"
   ]
  },
  {
   "cell_type": "markdown",
   "metadata": {},
   "source": [
    "Объявляем квантили для наших данных, по которым будем делить наши данные.\n",
    "Обратим внимание, что для нас важно более маленькое значение (80 квантиль) recency (как давно покупали товар), тогда как про frecuency (количество заказов) и monetary (сумма заказов) - наоборот, большее значение приоритетнее (20 квантиль)."
   ]
  },
  {
   "cell_type": "code",
   "execution_count": 69,
   "metadata": {},
   "outputs": [
    {
     "data": {
      "text/plain": [
       "{'recency': {0.2: 37.0, 0.4: 91.0, 0.6: 155.0, 0.8: 231.0},\n",
       " 'frequency': {0.2: 1.0, 0.4: 1.0, 0.6: 1.0, 0.8: 1.0},\n",
       " 'monetary': {0.2: 39.9, 0.4: 68.9, 0.6: 108.9, 0.8: 179.96}}"
      ]
     },
     "execution_count": 69,
     "metadata": {},
     "output_type": "execute_result"
    }
   ],
   "source": [
    "quintiles = rfm_df_final[['recency', 'frequency', 'monetary']].quantile([.2, .4, .6, .8]).to_dict()\n",
    "quintiles"
   ]
  },
  {
   "cell_type": "code",
   "execution_count": 70,
   "metadata": {
    "scrolled": true
   },
   "outputs": [],
   "source": [
    "# Для каждого юзера создаем колонки с нужным значением, в зависимости от квантиля.\n",
    "\n",
    "rfm_df_final['R'] = rfm_df_final['recency'].apply(lambda x: r_score(x))\n",
    "rfm_df_final['F'] = rfm_df_final['frequency'].apply(lambda x: fm_score(x, 'frequency'))\n",
    "rfm_df_final['M'] = rfm_df_final['monetary'].apply(lambda x: fm_score(x, 'monetary'))"
   ]
  },
  {
   "cell_type": "code",
   "execution_count": 71,
   "metadata": {},
   "outputs": [
    {
     "data": {
      "text/html": [
       "<div>\n",
       "<style scoped>\n",
       "    .dataframe tbody tr th:only-of-type {\n",
       "        vertical-align: middle;\n",
       "    }\n",
       "\n",
       "    .dataframe tbody tr th {\n",
       "        vertical-align: top;\n",
       "    }\n",
       "\n",
       "    .dataframe thead th {\n",
       "        text-align: right;\n",
       "    }\n",
       "</style>\n",
       "<table border=\"1\" class=\"dataframe\">\n",
       "  <thead>\n",
       "    <tr style=\"text-align: right;\">\n",
       "      <th></th>\n",
       "      <th>customer_unique_id</th>\n",
       "      <th>recency</th>\n",
       "      <th>frequency</th>\n",
       "      <th>monetary</th>\n",
       "      <th>R</th>\n",
       "      <th>F</th>\n",
       "      <th>M</th>\n",
       "    </tr>\n",
       "  </thead>\n",
       "  <tbody>\n",
       "    <tr>\n",
       "      <th>0</th>\n",
       "      <td>0000f46a3911fa3c0805444483337064</td>\n",
       "      <td>296</td>\n",
       "      <td>1</td>\n",
       "      <td>69.00</td>\n",
       "      <td>1</td>\n",
       "      <td>1</td>\n",
       "      <td>3</td>\n",
       "    </tr>\n",
       "    <tr>\n",
       "      <th>1</th>\n",
       "      <td>0000f6ccb0745a6a4b88665a16c9f078</td>\n",
       "      <td>80</td>\n",
       "      <td>1</td>\n",
       "      <td>25.99</td>\n",
       "      <td>4</td>\n",
       "      <td>1</td>\n",
       "      <td>1</td>\n",
       "    </tr>\n",
       "    <tr>\n",
       "      <th>2</th>\n",
       "      <td>0004aac84e0df4da2b147fca70cf8255</td>\n",
       "      <td>47</td>\n",
       "      <td>1</td>\n",
       "      <td>180.00</td>\n",
       "      <td>4</td>\n",
       "      <td>1</td>\n",
       "      <td>5</td>\n",
       "    </tr>\n",
       "    <tr>\n",
       "      <th>3</th>\n",
       "      <td>0005e1862207bf6ccc02e4228effd9a0</td>\n",
       "      <td>301</td>\n",
       "      <td>1</td>\n",
       "      <td>135.00</td>\n",
       "      <td>1</td>\n",
       "      <td>1</td>\n",
       "      <td>4</td>\n",
       "    </tr>\n",
       "    <tr>\n",
       "      <th>4</th>\n",
       "      <td>0006fdc98a402fceb4eb0ee528f6a8d4</td>\n",
       "      <td>166</td>\n",
       "      <td>1</td>\n",
       "      <td>13.90</td>\n",
       "      <td>2</td>\n",
       "      <td>1</td>\n",
       "      <td>1</td>\n",
       "    </tr>\n",
       "  </tbody>\n",
       "</table>\n",
       "</div>"
      ],
      "text/plain": [
       "                 customer_unique_id  recency  frequency  monetary  R  F  M\n",
       "0  0000f46a3911fa3c0805444483337064      296          1     69.00  1  1  3\n",
       "1  0000f6ccb0745a6a4b88665a16c9f078       80          1     25.99  4  1  1\n",
       "2  0004aac84e0df4da2b147fca70cf8255       47          1    180.00  4  1  5\n",
       "3  0005e1862207bf6ccc02e4228effd9a0      301          1    135.00  1  1  4\n",
       "4  0006fdc98a402fceb4eb0ee528f6a8d4      166          1     13.90  2  1  1"
      ]
     },
     "execution_count": 71,
     "metadata": {},
     "output_type": "execute_result"
    }
   ],
   "source": [
    "rfm_df_final.head()"
   ]
  },
  {
   "cell_type": "code",
   "execution_count": 72,
   "metadata": {},
   "outputs": [
    {
     "data": {
      "text/html": [
       "<div>\n",
       "<style scoped>\n",
       "    .dataframe tbody tr th:only-of-type {\n",
       "        vertical-align: middle;\n",
       "    }\n",
       "\n",
       "    .dataframe tbody tr th {\n",
       "        vertical-align: top;\n",
       "    }\n",
       "\n",
       "    .dataframe thead th {\n",
       "        text-align: right;\n",
       "    }\n",
       "</style>\n",
       "<table border=\"1\" class=\"dataframe\">\n",
       "  <thead>\n",
       "    <tr style=\"text-align: right;\">\n",
       "      <th></th>\n",
       "      <th>customer_unique_id</th>\n",
       "      <th>recency</th>\n",
       "      <th>frequency</th>\n",
       "      <th>monetary</th>\n",
       "      <th>R</th>\n",
       "      <th>F</th>\n",
       "      <th>M</th>\n",
       "      <th>RFM_score</th>\n",
       "    </tr>\n",
       "  </thead>\n",
       "  <tbody>\n",
       "    <tr>\n",
       "      <th>0</th>\n",
       "      <td>0000f46a3911fa3c0805444483337064</td>\n",
       "      <td>296</td>\n",
       "      <td>1</td>\n",
       "      <td>69.00</td>\n",
       "      <td>1</td>\n",
       "      <td>1</td>\n",
       "      <td>3</td>\n",
       "      <td>113</td>\n",
       "    </tr>\n",
       "    <tr>\n",
       "      <th>1</th>\n",
       "      <td>0000f6ccb0745a6a4b88665a16c9f078</td>\n",
       "      <td>80</td>\n",
       "      <td>1</td>\n",
       "      <td>25.99</td>\n",
       "      <td>4</td>\n",
       "      <td>1</td>\n",
       "      <td>1</td>\n",
       "      <td>411</td>\n",
       "    </tr>\n",
       "    <tr>\n",
       "      <th>2</th>\n",
       "      <td>0004aac84e0df4da2b147fca70cf8255</td>\n",
       "      <td>47</td>\n",
       "      <td>1</td>\n",
       "      <td>180.00</td>\n",
       "      <td>4</td>\n",
       "      <td>1</td>\n",
       "      <td>5</td>\n",
       "      <td>415</td>\n",
       "    </tr>\n",
       "    <tr>\n",
       "      <th>3</th>\n",
       "      <td>0005e1862207bf6ccc02e4228effd9a0</td>\n",
       "      <td>301</td>\n",
       "      <td>1</td>\n",
       "      <td>135.00</td>\n",
       "      <td>1</td>\n",
       "      <td>1</td>\n",
       "      <td>4</td>\n",
       "      <td>114</td>\n",
       "    </tr>\n",
       "    <tr>\n",
       "      <th>4</th>\n",
       "      <td>0006fdc98a402fceb4eb0ee528f6a8d4</td>\n",
       "      <td>166</td>\n",
       "      <td>1</td>\n",
       "      <td>13.90</td>\n",
       "      <td>2</td>\n",
       "      <td>1</td>\n",
       "      <td>1</td>\n",
       "      <td>211</td>\n",
       "    </tr>\n",
       "  </tbody>\n",
       "</table>\n",
       "</div>"
      ],
      "text/plain": [
       "                 customer_unique_id  recency  frequency  monetary  R  F  M  \\\n",
       "0  0000f46a3911fa3c0805444483337064      296          1     69.00  1  1  3   \n",
       "1  0000f6ccb0745a6a4b88665a16c9f078       80          1     25.99  4  1  1   \n",
       "2  0004aac84e0df4da2b147fca70cf8255       47          1    180.00  4  1  5   \n",
       "3  0005e1862207bf6ccc02e4228effd9a0      301          1    135.00  1  1  4   \n",
       "4  0006fdc98a402fceb4eb0ee528f6a8d4      166          1     13.90  2  1  1   \n",
       "\n",
       "  RFM_score  \n",
       "0       113  \n",
       "1       411  \n",
       "2       415  \n",
       "3       114  \n",
       "4       211  "
      ]
     },
     "execution_count": 72,
     "metadata": {},
     "output_type": "execute_result"
    }
   ],
   "source": [
    "# Создаем общую колонку RFM сегментирования для каждого пользователя.\n",
    "\n",
    "rfm_df_final['RFM_score'] = rfm_df_final['R'].map(str) + rfm_df_final['F'].map(str) + rfm_df_final['M'].map(str)\n",
    "rfm_df_final.head()"
   ]
  },
  {
   "cell_type": "code",
   "execution_count": 73,
   "metadata": {},
   "outputs": [
    {
     "data": {
      "text/plain": [
       "5    8906\n",
       "2    8609\n",
       "3    8569\n",
       "1    8537\n",
       "4    8277\n",
       "Name: R, dtype: int64"
      ]
     },
     "execution_count": 73,
     "metadata": {},
     "output_type": "execute_result"
    }
   ],
   "source": [
    "rfm_df_final.R.value_counts()"
   ]
  },
  {
   "cell_type": "code",
   "execution_count": 74,
   "metadata": {},
   "outputs": [
    {
     "data": {
      "text/plain": [
       "1    41680\n",
       "5     1218\n",
       "Name: F, dtype: int64"
      ]
     },
     "execution_count": 74,
     "metadata": {},
     "output_type": "execute_result"
    }
   ],
   "source": [
    "rfm_df_final.F.value_counts()"
   ]
  },
  {
   "cell_type": "code",
   "execution_count": 75,
   "metadata": {},
   "outputs": [
    {
     "data": {
      "text/plain": [
       "1    8888\n",
       "3    8594\n",
       "5    8573\n",
       "4    8561\n",
       "2    8282\n",
       "Name: M, dtype: int64"
      ]
     },
     "execution_count": 75,
     "metadata": {},
     "output_type": "execute_result"
    }
   ],
   "source": [
    "rfm_df_final.M.value_counts()"
   ]
  },
  {
   "cell_type": "markdown",
   "metadata": {},
   "source": [
    "Т.к. мы создали 5 сегментов в каждом из 3 критериев, то всего у нас 125 сегментов.\n",
    "С таким количеством будет довольно сложно работать поэтому их необходимо группировать по другому, чтобы на выходе получилось меньшее количество. Мне нравится разделение, предложенное в статье (прочитал несколько статей, это наиболее оптимальное)."
   ]
  },
  {
   "cell_type": "markdown",
   "metadata": {},
   "source": [
    "Создаем **словарь с названием разных категорий пользователей**, с учетом их RFM значения.\n",
    "\n",
    "1. **Champions** - недавно делали покупку и покупают часто;\n",
    "2. **Loyal Customers** - реулярно делают покупки, следят за акциями;\n",
    "3. **Potential Loyalist** - недавние клиенты с хорошей частотой покупки;\n",
    "4. **Recent Customers** - покупали недавно, но покупают не часто;\n",
    "5. **Promising** - недавно покупали, но много не потратили;\n",
    "6. **Customers Needing Attention** - \"середнячки\" по всем показателям;\n",
    "7. **About To Sleep** - recency и frequency ниже среднего, можем потерять, если не реактивируем;\n",
    "8. **At Risk** - покупали часто, но давно - необходимо их вернуть;\n",
    "9. **Can’t Lose Them** - часто покупали, но давно к нам не возвращались;\n",
    "10. **Hibernating** - заказывали давно и не очень много - можем потерять."
   ]
  },
  {
   "cell_type": "code",
   "execution_count": 76,
   "metadata": {},
   "outputs": [],
   "source": [
    "# Создаем сегменты на основе словаря.\n",
    "\n",
    "segment_names = {\n",
    "    r'5[4-5]': 'champions',\n",
    "    r'[1-2][1-2]': 'hibernating',\n",
    "    r'[1-2][3-4]': 'at risk',\n",
    "    r'[1-2]5': 'can\\'t loose',\n",
    "    r'3[1-2]': 'about to sleep',\n",
    "    r'33': 'need attention',\n",
    "    r'[3-4][4-5]': 'loyal customers',\n",
    "    r'41': 'promising',\n",
    "    r'51': 'new customers',\n",
    "    r'[4-5][2-3]': 'potential loyalists',\n",
    "}"
   ]
  },
  {
   "cell_type": "code",
   "execution_count": 77,
   "metadata": {},
   "outputs": [
    {
     "data": {
      "text/html": [
       "<div>\n",
       "<style scoped>\n",
       "    .dataframe tbody tr th:only-of-type {\n",
       "        vertical-align: middle;\n",
       "    }\n",
       "\n",
       "    .dataframe tbody tr th {\n",
       "        vertical-align: top;\n",
       "    }\n",
       "\n",
       "    .dataframe thead th {\n",
       "        text-align: right;\n",
       "    }\n",
       "</style>\n",
       "<table border=\"1\" class=\"dataframe\">\n",
       "  <thead>\n",
       "    <tr style=\"text-align: right;\">\n",
       "      <th></th>\n",
       "      <th>customer_unique_id</th>\n",
       "      <th>recency</th>\n",
       "      <th>frequency</th>\n",
       "      <th>monetary</th>\n",
       "      <th>R</th>\n",
       "      <th>F</th>\n",
       "      <th>M</th>\n",
       "      <th>RFM_score</th>\n",
       "      <th>segment</th>\n",
       "    </tr>\n",
       "  </thead>\n",
       "  <tbody>\n",
       "    <tr>\n",
       "      <th>0</th>\n",
       "      <td>0000f46a3911fa3c0805444483337064</td>\n",
       "      <td>296</td>\n",
       "      <td>1</td>\n",
       "      <td>69.00</td>\n",
       "      <td>1</td>\n",
       "      <td>1</td>\n",
       "      <td>3</td>\n",
       "      <td>113</td>\n",
       "      <td>hibernating</td>\n",
       "    </tr>\n",
       "    <tr>\n",
       "      <th>1</th>\n",
       "      <td>0000f6ccb0745a6a4b88665a16c9f078</td>\n",
       "      <td>80</td>\n",
       "      <td>1</td>\n",
       "      <td>25.99</td>\n",
       "      <td>4</td>\n",
       "      <td>1</td>\n",
       "      <td>1</td>\n",
       "      <td>411</td>\n",
       "      <td>promising</td>\n",
       "    </tr>\n",
       "    <tr>\n",
       "      <th>2</th>\n",
       "      <td>0004aac84e0df4da2b147fca70cf8255</td>\n",
       "      <td>47</td>\n",
       "      <td>1</td>\n",
       "      <td>180.00</td>\n",
       "      <td>4</td>\n",
       "      <td>1</td>\n",
       "      <td>5</td>\n",
       "      <td>415</td>\n",
       "      <td>promising</td>\n",
       "    </tr>\n",
       "    <tr>\n",
       "      <th>3</th>\n",
       "      <td>0005e1862207bf6ccc02e4228effd9a0</td>\n",
       "      <td>301</td>\n",
       "      <td>1</td>\n",
       "      <td>135.00</td>\n",
       "      <td>1</td>\n",
       "      <td>1</td>\n",
       "      <td>4</td>\n",
       "      <td>114</td>\n",
       "      <td>hibernating</td>\n",
       "    </tr>\n",
       "    <tr>\n",
       "      <th>4</th>\n",
       "      <td>0006fdc98a402fceb4eb0ee528f6a8d4</td>\n",
       "      <td>166</td>\n",
       "      <td>1</td>\n",
       "      <td>13.90</td>\n",
       "      <td>2</td>\n",
       "      <td>1</td>\n",
       "      <td>1</td>\n",
       "      <td>211</td>\n",
       "      <td>hibernating</td>\n",
       "    </tr>\n",
       "  </tbody>\n",
       "</table>\n",
       "</div>"
      ],
      "text/plain": [
       "                 customer_unique_id  recency  frequency  monetary  R  F  M  \\\n",
       "0  0000f46a3911fa3c0805444483337064      296          1     69.00  1  1  3   \n",
       "1  0000f6ccb0745a6a4b88665a16c9f078       80          1     25.99  4  1  1   \n",
       "2  0004aac84e0df4da2b147fca70cf8255       47          1    180.00  4  1  5   \n",
       "3  0005e1862207bf6ccc02e4228effd9a0      301          1    135.00  1  1  4   \n",
       "4  0006fdc98a402fceb4eb0ee528f6a8d4      166          1     13.90  2  1  1   \n",
       "\n",
       "  RFM_score      segment  \n",
       "0       113  hibernating  \n",
       "1       411    promising  \n",
       "2       415    promising  \n",
       "3       114  hibernating  \n",
       "4       211  hibernating  "
      ]
     },
     "execution_count": 77,
     "metadata": {},
     "output_type": "execute_result"
    }
   ],
   "source": [
    "rfm_df_final['segment'] = rfm_df_final['R'].map(str) + rfm_df_final['F'].map(str)\n",
    "rfm_df_final['segment'] = rfm_df_final['segment'].replace(segment_names, regex=True)\n",
    "rfm_df_final.head()"
   ]
  },
  {
   "cell_type": "markdown",
   "metadata": {},
   "source": [
    "Визуализируем полученные данные.\n",
    "Графики тоже взял из статьи, но немного изменил цвета. Также сделал так, чтобы подсвечивались и минимальные (красным) значения и максимальные (зеленым) значения."
   ]
  },
  {
   "cell_type": "code",
   "execution_count": 78,
   "metadata": {},
   "outputs": [
    {
     "data": {
      "image/png": "[encoded data removed]",
      "text/plain": [
       "<Figure size 720x288 with 2 Axes>"
      ]
     },
     "metadata": {
      "needs_background": "light"
     },
     "output_type": "display_data"
    },
    {
     "data": {
      "image/png": "[encoded data removed]",
      "text/plain": [
       "<Figure size 720x720 with 25 Axes>"
      ]
     },
     "metadata": {
      "needs_background": "light"
     },
     "output_type": "display_data"
    }
   ],
   "source": [
    "# plot the distribution of customers over R and F\n",
    "fig, axes = plt.subplots(nrows=1, ncols=2, figsize=(10, 4))\n",
    "\n",
    "for i, p in enumerate(['R', 'F']):\n",
    "    parameters = {'R':'recency', 'F':'frequency'}\n",
    "    y = rfm_df_final[p].value_counts().sort_index()\n",
    "    x = y.index\n",
    "    ax = axes[i]\n",
    "    bars = ax.bar(x, y, color='silver')\n",
    "    ax.set_frame_on(False)\n",
    "    ax.tick_params(left=False, labelleft=False, bottom=False)\n",
    "    ax.set_title('Distribution of {}'.format(parameters[p]),\n",
    "                fontsize=14)\n",
    "    for bar in bars:\n",
    "        value = bar.get_height()\n",
    "        if value == y.max():\n",
    "            bar.set_color('green')\n",
    "        elif value == y.min():\n",
    "            bar.set_color('firebrick')\n",
    "        ax.text(bar.get_x() + bar.get_width() / 2,\n",
    "                value - 5,\n",
    "                '{}\\n({}%)'.format(int(value), int(value * 100 / y.sum())),\n",
    "               ha='center',\n",
    "               va='top',\n",
    "               color='w')\n",
    "\n",
    "plt.show()\n",
    "\n",
    "# plot the distribution of M for RF score\n",
    "fig, axes = plt.subplots(nrows=5, ncols=5,\n",
    "                         sharex=False, sharey=True,\n",
    "                         figsize=(10, 10))\n",
    "\n",
    "r_range = range(1, 6)\n",
    "f_range = range(1, 6)\n",
    "for r in r_range:\n",
    "    for f in f_range:\n",
    "        y = rfm_df_final[(rfm_df_final['R'] == r) & (rfm_df_final['F'] == f)]['M'].value_counts().sort_index()\n",
    "        x = y.index\n",
    "        ax = axes[r - 1, f - 1]\n",
    "        bars = ax.bar(x, y, color='silver')\n",
    "        if r == 5:\n",
    "            if f == 3:\n",
    "                ax.set_xlabel('{}\\nF'.format(f), va='top')\n",
    "            else:\n",
    "                ax.set_xlabel('{}\\n'.format(f), va='top')\n",
    "        if f == 1:\n",
    "            if r == 3:\n",
    "                ax.set_ylabel('R\\n{}'.format(r))\n",
    "            else:\n",
    "                ax.set_ylabel(r)\n",
    "        ax.set_frame_on(False)\n",
    "        ax.tick_params(left=False, labelleft=False, bottom=False)\n",
    "        ax.set_xticks(x)\n",
    "        ax.set_xticklabels(x, fontsize=8)\n",
    "\n",
    "        for bar in bars:\n",
    "            value = bar.get_height()\n",
    "            if value == y.max():\n",
    "                bar.set_color('green')\n",
    "            elif value == y.min():\n",
    "                bar.set_color('firebrick')\n",
    "            ax.text(bar.get_x() + bar.get_width() / 2,\n",
    "                    value,\n",
    "                    int(value),\n",
    "                    ha='center',\n",
    "                    va='bottom',\n",
    "                    color='k')\n",
    "fig.suptitle('Distribution of M for each F and R',\n",
    "             fontsize=14)\n",
    "plt.tight_layout()\n",
    "plt.show()"
   ]
  },
  {
   "cell_type": "code",
   "execution_count": 79,
   "metadata": {},
   "outputs": [
    {
     "data": {
      "image/png": "[encoded data removed]",
      "text/plain": [
       "<Figure size 432x288 with 1 Axes>"
      ]
     },
     "metadata": {
      "needs_background": "light"
     },
     "output_type": "display_data"
    }
   ],
   "source": [
    "# count the number of customers in each segment\n",
    "segments_counts = rfm_df_final['segment'].value_counts().sort_values(ascending=True)\n",
    "\n",
    "fig, ax = plt.subplots()\n",
    "\n",
    "bars = ax.barh(range(len(segments_counts)),\n",
    "              segments_counts,\n",
    "              color='silver')\n",
    "ax.set_frame_on(False)\n",
    "ax.tick_params(left=False,\n",
    "               bottom=False,\n",
    "               labelbottom=False)\n",
    "ax.set_yticks(range(len(segments_counts)))\n",
    "ax.set_yticklabels(segments_counts.index)\n",
    "\n",
    "for i, bar in enumerate(bars):\n",
    "        value = bar.get_width()\n",
    "        if segments_counts.index[i] in ['champions', 'loyal customers']:\n",
    "            bar.set_color('green')\n",
    "        ax.text(value,\n",
    "                bar.get_y() + bar.get_height()/2,\n",
    "                '{:,} ({:}%)'.format(int(value),\n",
    "                                   round(float(value*100/segments_counts.sum()),2)),\n",
    "                va='center',\n",
    "                ha='left'\n",
    "               )\n",
    "\n",
    "plt.show()"
   ]
  },
  {
   "cell_type": "markdown",
   "metadata": {},
   "source": [
    "### Ответ:\n",
    "\n",
    "На графиках мы видим картину, что у нас очень мало лояльных клиентов и чемпионов и тех, кото мы не можем потерять, т.к. они покупали много, но давно к нам не возвращались. Мы также видим, что у нас очень много пользователей, которые сделали одну покупку и больше ничего не покупали. Это значит, что у нас сильно стредает retention. \n",
    "\n",
    "Возможно мы просто очень молодой сервис, а может наш продукт не интересен и нам нужно пересмотреть ассортиментную стратегию, а может что-то третье, вариантов может быть масса. Нужен более подробный анализ для выявления конкретной  проблемы.\n",
    "\n",
    "Также у нас абсолютно отсутствует прослойка по частоте покупок между 1 и 5 категориями.\n",
    "\n",
    "Исходя из полученных данных мы можем сделать выводы, что нам необходимо:\n",
    "\n",
    "1. сделать максимальный акцент на многообещающих (promising), т.к. из них проще всего сделать лояльных или чемпионов;\n",
    "2. простимулировать новых покупателей совершить повторную покупку;\n",
    "3. \"разбудить\" спящих пкупателей, чтобы их не потерять.\n",
    "\n",
    "Это все поможет нам активировать этих пользователей и нарастить количество лояльных и чемпионов, которых у нас крайне мало."
   ]
  }
 ],
 "metadata": {
  "kernelspec": {
   "display_name": "Python 3",
   "language": "python",
   "name": "python3"
  },
  "language_info": {
   "codemirror_mode": {
    "name": "ipython",
    "version": 3
   },
   "file_extension": ".py",
   "mimetype": "text/x-python",
   "name": "python",
   "nbconvert_exporter": "python",
   "pygments_lexer": "ipython3",
   "version": "3.7.3"
  }
 },
 "nbformat": 4,
 "nbformat_minor": 5
}
