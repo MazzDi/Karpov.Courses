{
 "cells": [
  {
   "cell_type": "markdown",
   "metadata": {},
   "source": [
    "# First Project (e-commerce)"
   ]
  },
  {
   "cell_type": "markdown",
   "metadata": {},
   "source": [
    "Здравствуйте дорогие кураторы! \n",
    "\n",
    "Ниже выполнеенное мной задание в рамках промежуточного проекта по анализу данных.\n",
    "Это моя первая подобная работа, поэтому выполнял ее читая статьи, гугля наиболее верные варинаты решения и т.д. \n",
    "Сделал по максимуму и очень надеюсь, что получился качественный анализ.\n",
    "\n",
    "Очень буду рад, если сможете подсветить ошибки, неточности, более эффективные способы решения (а такие, уверен, что есть). Это очень поможет мне вырасти над собой и научиться новому, т.к. очень хочу сменить сферу деятельности.\n",
    "\n",
    "Заранее спасибо!\n",
    "\n",
    "С уважением,\n",
    "Никита Коротков\n",
    "ns.korotkov@yandex.ru"
   ]
  },
  {
   "cell_type": "code",
   "execution_count": 1,
   "metadata": {},
   "outputs": [],
   "source": [
    "# Импортируем необходимые библиотеки.\n",
    "\n",
    "import pandas as pd\n",
    "import numpy as np\n",
    "\n",
    "import matplotlib.pyplot as plt\n",
    "import seaborn as sns\n",
    "import plotly.express as px\n",
    "\n",
    "import requests as rq\n",
    "from urllib.parse import urlencode\n",
    "\n",
    "import calendar\n",
    "from datetime import timedelta\n",
    "\n",
    "%matplotlib inline"
   ]
  },
  {
   "cell_type": "code",
   "execution_count": 2,
   "metadata": {},
   "outputs": [],
   "source": [
    "base_url = 'https://cloud-api.yandex.net/v1/disk/public/resources/download?'\n",
    "customers = 'https://disk.yandex.ru/d/FUi5uSd6BfG_ig'  # Таблица с уникальными идентификаторами пользователей\n",
    "olist_orders = 'https://disk.yandex.ru/d/t9Li4JOfgxuUrg' # Таблица заказов\n",
    "olist_items = 'https://disk.yandex.ru/d/Gbt-yAcQrOe3Pw' # Товарные позиции, входящие в заказы\n",
    "\n",
    "# Получаем загрузочные ссылки\n",
    "download_url_customers = rq.get(base_url + urlencode(dict(public_key=customers))).json()['href']\n",
    "download_url_olist_items = rq.get(base_url + urlencode(dict(public_key=olist_items))).json()['href']\n",
    "download_url_olist_orders = rq.get(base_url + urlencode(dict(public_key=olist_orders))).json()['href']"
   ]
  },
  {
   "cell_type": "code",
   "execution_count": 3,
   "metadata": {},
   "outputs": [],
   "source": [
    "# Загружаем файлы и сохраняем их.\n",
    "download_response = rq.get(download_url_customers)\n",
    "customers_df = pd.read_csv(download_url_customers)\n",
    "\n",
    "download_response = rq.get(download_url_olist_items)\n",
    "olist_items_df = pd.read_csv(download_url_olist_items,\n",
    "                            parse_dates=['shipping_limit_date'])\n",
    "\n",
    "\n",
    "download_response = rq.get(download_url_olist_orders)\n",
    "olist_orders_df = pd.read_csv(download_url_olist_orders, \n",
    "                              parse_dates=['order_purchase_timestamp', \n",
    "                                          'order_approved_at', \n",
    "                                          'order_delivered_carrier_date', \n",
    "                                          'order_delivered_customer_date', \n",
    "                                          'order_estimated_delivery_date'])"
   ]
  },
  {
   "cell_type": "markdown",
   "metadata": {},
   "source": [
    " "
   ]
  },
  {
   "cell_type": "markdown",
   "metadata": {},
   "source": [
    " "
   ]
  },
  {
   "cell_type": "markdown",
   "metadata": {},
   "source": [
    "### Customers Data Frame / Таблица с уникальными идентификаторами пользователей"
   ]
  },
  {
   "cell_type": "markdown",
   "metadata": {},
   "source": [
    "#### Описание данных:\n",
    "- `customer_id` — позаказный идентификатор пользователя (аналог номера паспорта)\n",
    "- `customer_unique_id` —  уникальный идентификатор пользователя\n",
    "- `customer_zip_code_prefix` —  почтовый индекс пользователя\n",
    "- `customer_city` —  город доставки пользователя\n",
    "- `customer_state` —  штат доставки пользователя"
   ]
  },
  {
   "cell_type": "code",
   "execution_count": 4,
   "metadata": {},
   "outputs": [
    {
     "data": {
      "text/html": [
       "<div>\n",
       "<style scoped>\n",
       "    .dataframe tbody tr th:only-of-type {\n",
       "        vertical-align: middle;\n",
       "    }\n",
       "\n",
       "    .dataframe tbody tr th {\n",
       "        vertical-align: top;\n",
       "    }\n",
       "\n",
       "    .dataframe thead th {\n",
       "        text-align: right;\n",
       "    }\n",
       "</style>\n",
       "<table border=\"1\" class=\"dataframe\">\n",
       "  <thead>\n",
       "    <tr style=\"text-align: right;\">\n",
       "      <th></th>\n",
       "      <th>customer_id</th>\n",
       "      <th>customer_unique_id</th>\n",
       "      <th>customer_zip_code_prefix</th>\n",
       "      <th>customer_city</th>\n",
       "      <th>customer_state</th>\n",
       "    </tr>\n",
       "  </thead>\n",
       "  <tbody>\n",
       "    <tr>\n",
       "      <th>0</th>\n",
       "      <td>06b8999e2fba1a1fbc88172c00ba8bc7</td>\n",
       "      <td>861eff4711a542e4b93843c6dd7febb0</td>\n",
       "      <td>14409</td>\n",
       "      <td>franca</td>\n",
       "      <td>SP</td>\n",
       "    </tr>\n",
       "    <tr>\n",
       "      <th>1</th>\n",
       "      <td>18955e83d337fd6b2def6b18a428ac77</td>\n",
       "      <td>290c77bc529b7ac935b93aa66c333dc3</td>\n",
       "      <td>9790</td>\n",
       "      <td>sao bernardo do campo</td>\n",
       "      <td>SP</td>\n",
       "    </tr>\n",
       "    <tr>\n",
       "      <th>2</th>\n",
       "      <td>4e7b3e00288586ebd08712fdd0374a03</td>\n",
       "      <td>060e732b5b29e8181a18229c7b0b2b5e</td>\n",
       "      <td>1151</td>\n",
       "      <td>sao paulo</td>\n",
       "      <td>SP</td>\n",
       "    </tr>\n",
       "    <tr>\n",
       "      <th>3</th>\n",
       "      <td>b2b6027bc5c5109e529d4dc6358b12c3</td>\n",
       "      <td>259dac757896d24d7702b9acbbff3f3c</td>\n",
       "      <td>8775</td>\n",
       "      <td>mogi das cruzes</td>\n",
       "      <td>SP</td>\n",
       "    </tr>\n",
       "    <tr>\n",
       "      <th>4</th>\n",
       "      <td>4f2d8ab171c80ec8364f7c12e35b23ad</td>\n",
       "      <td>345ecd01c38d18a9036ed96c73b8d066</td>\n",
       "      <td>13056</td>\n",
       "      <td>campinas</td>\n",
       "      <td>SP</td>\n",
       "    </tr>\n",
       "  </tbody>\n",
       "</table>\n",
       "</div>"
      ],
      "text/plain": [
       "                        customer_id                customer_unique_id  \\\n",
       "0  06b8999e2fba1a1fbc88172c00ba8bc7  861eff4711a542e4b93843c6dd7febb0   \n",
       "1  18955e83d337fd6b2def6b18a428ac77  290c77bc529b7ac935b93aa66c333dc3   \n",
       "2  4e7b3e00288586ebd08712fdd0374a03  060e732b5b29e8181a18229c7b0b2b5e   \n",
       "3  b2b6027bc5c5109e529d4dc6358b12c3  259dac757896d24d7702b9acbbff3f3c   \n",
       "4  4f2d8ab171c80ec8364f7c12e35b23ad  345ecd01c38d18a9036ed96c73b8d066   \n",
       "\n",
       "   customer_zip_code_prefix          customer_city customer_state  \n",
       "0                     14409                 franca             SP  \n",
       "1                      9790  sao bernardo do campo             SP  \n",
       "2                      1151              sao paulo             SP  \n",
       "3                      8775        mogi das cruzes             SP  \n",
       "4                     13056               campinas             SP  "
      ]
     },
     "execution_count": 4,
     "metadata": {},
     "output_type": "execute_result"
    }
   ],
   "source": [
    "customers_df.head()"
   ]
  },
  {
   "cell_type": "code",
   "execution_count": 5,
   "metadata": {
    "scrolled": true
   },
   "outputs": [
    {
     "data": {
      "text/plain": [
       "customer_id                 object\n",
       "customer_unique_id          object\n",
       "customer_zip_code_prefix     int64\n",
       "customer_city               object\n",
       "customer_state              object\n",
       "dtype: object"
      ]
     },
     "execution_count": 5,
     "metadata": {},
     "output_type": "execute_result"
    }
   ],
   "source": [
    "customers_df.dtypes"
   ]
  },
  {
   "cell_type": "code",
   "execution_count": 6,
   "metadata": {},
   "outputs": [
    {
     "data": {
      "text/plain": [
       "(99441, 5)"
      ]
     },
     "execution_count": 6,
     "metadata": {},
     "output_type": "execute_result"
    }
   ],
   "source": [
    "customers_df.shape"
   ]
  },
  {
   "cell_type": "markdown",
   "metadata": {},
   "source": [
    " "
   ]
  },
  {
   "cell_type": "markdown",
   "metadata": {},
   "source": [
    " "
   ]
  },
  {
   "cell_type": "markdown",
   "metadata": {},
   "source": [
    "### Orders Data Frame / Таблица заказов"
   ]
  },
  {
   "cell_type": "markdown",
   "metadata": {},
   "source": [
    "#### Описание данных:\n",
    "- `order_id` —  уникальный идентификатор заказа (номер чека)\n",
    "- `customer_id` —  позаказный идентификатор пользователя (аналог номера паспорта)\n",
    "- `order_status` —  статус заказа\n",
    "- `order_purchase_timestamp` —  время создания заказа\n",
    "- `order_approved_at` —  время подтверждения оплаты заказа\n",
    "- `order_delivered_carrier_date` —  время передачи заказа в логистическую службу\n",
    "- `order_delivered_customer_date` —  время доставки заказа\n",
    "- `order_estimated_delivery_date` —  обещанная дата доставки"
   ]
  },
  {
   "cell_type": "code",
   "execution_count": 7,
   "metadata": {},
   "outputs": [
    {
     "data": {
      "text/html": [
       "<div>\n",
       "<style scoped>\n",
       "    .dataframe tbody tr th:only-of-type {\n",
       "        vertical-align: middle;\n",
       "    }\n",
       "\n",
       "    .dataframe tbody tr th {\n",
       "        vertical-align: top;\n",
       "    }\n",
       "\n",
       "    .dataframe thead th {\n",
       "        text-align: right;\n",
       "    }\n",
       "</style>\n",
       "<table border=\"1\" class=\"dataframe\">\n",
       "  <thead>\n",
       "    <tr style=\"text-align: right;\">\n",
       "      <th></th>\n",
       "      <th>order_id</th>\n",
       "      <th>customer_id</th>\n",
       "      <th>order_status</th>\n",
       "      <th>order_purchase_timestamp</th>\n",
       "      <th>order_approved_at</th>\n",
       "      <th>order_delivered_carrier_date</th>\n",
       "      <th>order_delivered_customer_date</th>\n",
       "      <th>order_estimated_delivery_date</th>\n",
       "    </tr>\n",
       "  </thead>\n",
       "  <tbody>\n",
       "    <tr>\n",
       "      <th>0</th>\n",
       "      <td>e481f51cbdc54678b7cc49136f2d6af7</td>\n",
       "      <td>9ef432eb6251297304e76186b10a928d</td>\n",
       "      <td>delivered</td>\n",
       "      <td>2017-10-02 10:56:33</td>\n",
       "      <td>2017-10-02 11:07:15</td>\n",
       "      <td>2017-10-04 19:55:00</td>\n",
       "      <td>2017-10-10 21:25:13</td>\n",
       "      <td>2017-10-18</td>\n",
       "    </tr>\n",
       "    <tr>\n",
       "      <th>1</th>\n",
       "      <td>53cdb2fc8bc7dce0b6741e2150273451</td>\n",
       "      <td>b0830fb4747a6c6d20dea0b8c802d7ef</td>\n",
       "      <td>delivered</td>\n",
       "      <td>2018-07-24 20:41:37</td>\n",
       "      <td>2018-07-26 03:24:27</td>\n",
       "      <td>2018-07-26 14:31:00</td>\n",
       "      <td>2018-08-07 15:27:45</td>\n",
       "      <td>2018-08-13</td>\n",
       "    </tr>\n",
       "    <tr>\n",
       "      <th>2</th>\n",
       "      <td>47770eb9100c2d0c44946d9cf07ec65d</td>\n",
       "      <td>41ce2a54c0b03bf3443c3d931a367089</td>\n",
       "      <td>delivered</td>\n",
       "      <td>2018-08-08 08:38:49</td>\n",
       "      <td>2018-08-08 08:55:23</td>\n",
       "      <td>2018-08-08 13:50:00</td>\n",
       "      <td>2018-08-17 18:06:29</td>\n",
       "      <td>2018-09-04</td>\n",
       "    </tr>\n",
       "    <tr>\n",
       "      <th>3</th>\n",
       "      <td>949d5b44dbf5de918fe9c16f97b45f8a</td>\n",
       "      <td>f88197465ea7920adcdbec7375364d82</td>\n",
       "      <td>delivered</td>\n",
       "      <td>2017-11-18 19:28:06</td>\n",
       "      <td>2017-11-18 19:45:59</td>\n",
       "      <td>2017-11-22 13:39:59</td>\n",
       "      <td>2017-12-02 00:28:42</td>\n",
       "      <td>2017-12-15</td>\n",
       "    </tr>\n",
       "    <tr>\n",
       "      <th>4</th>\n",
       "      <td>ad21c59c0840e6cb83a9ceb5573f8159</td>\n",
       "      <td>8ab97904e6daea8866dbdbc4fb7aad2c</td>\n",
       "      <td>delivered</td>\n",
       "      <td>2018-02-13 21:18:39</td>\n",
       "      <td>2018-02-13 22:20:29</td>\n",
       "      <td>2018-02-14 19:46:34</td>\n",
       "      <td>2018-02-16 18:17:02</td>\n",
       "      <td>2018-02-26</td>\n",
       "    </tr>\n",
       "  </tbody>\n",
       "</table>\n",
       "</div>"
      ],
      "text/plain": [
       "                           order_id                       customer_id  \\\n",
       "0  e481f51cbdc54678b7cc49136f2d6af7  9ef432eb6251297304e76186b10a928d   \n",
       "1  53cdb2fc8bc7dce0b6741e2150273451  b0830fb4747a6c6d20dea0b8c802d7ef   \n",
       "2  47770eb9100c2d0c44946d9cf07ec65d  41ce2a54c0b03bf3443c3d931a367089   \n",
       "3  949d5b44dbf5de918fe9c16f97b45f8a  f88197465ea7920adcdbec7375364d82   \n",
       "4  ad21c59c0840e6cb83a9ceb5573f8159  8ab97904e6daea8866dbdbc4fb7aad2c   \n",
       "\n",
       "  order_status order_purchase_timestamp   order_approved_at  \\\n",
       "0    delivered      2017-10-02 10:56:33 2017-10-02 11:07:15   \n",
       "1    delivered      2018-07-24 20:41:37 2018-07-26 03:24:27   \n",
       "2    delivered      2018-08-08 08:38:49 2018-08-08 08:55:23   \n",
       "3    delivered      2017-11-18 19:28:06 2017-11-18 19:45:59   \n",
       "4    delivered      2018-02-13 21:18:39 2018-02-13 22:20:29   \n",
       "\n",
       "  order_delivered_carrier_date order_delivered_customer_date  \\\n",
       "0          2017-10-04 19:55:00           2017-10-10 21:25:13   \n",
       "1          2018-07-26 14:31:00           2018-08-07 15:27:45   \n",
       "2          2018-08-08 13:50:00           2018-08-17 18:06:29   \n",
       "3          2017-11-22 13:39:59           2017-12-02 00:28:42   \n",
       "4          2018-02-14 19:46:34           2018-02-16 18:17:02   \n",
       "\n",
       "  order_estimated_delivery_date  \n",
       "0                    2017-10-18  \n",
       "1                    2018-08-13  \n",
       "2                    2018-09-04  \n",
       "3                    2017-12-15  \n",
       "4                    2018-02-26  "
      ]
     },
     "execution_count": 7,
     "metadata": {},
     "output_type": "execute_result"
    }
   ],
   "source": [
    "olist_orders_df.head()"
   ]
  },
  {
   "cell_type": "code",
   "execution_count": 8,
   "metadata": {},
   "outputs": [
    {
     "data": {
      "text/plain": [
       "(99441, 8)"
      ]
     },
     "execution_count": 8,
     "metadata": {},
     "output_type": "execute_result"
    }
   ],
   "source": [
    "olist_orders_df.shape"
   ]
  },
  {
   "cell_type": "code",
   "execution_count": 9,
   "metadata": {
    "scrolled": false
   },
   "outputs": [
    {
     "data": {
      "text/plain": [
       "order_id                                 object\n",
       "customer_id                              object\n",
       "order_status                             object\n",
       "order_purchase_timestamp         datetime64[ns]\n",
       "order_approved_at                datetime64[ns]\n",
       "order_delivered_carrier_date     datetime64[ns]\n",
       "order_delivered_customer_date    datetime64[ns]\n",
       "order_estimated_delivery_date    datetime64[ns]\n",
       "dtype: object"
      ]
     },
     "execution_count": 9,
     "metadata": {},
     "output_type": "execute_result"
    }
   ],
   "source": [
    "olist_orders_df.dtypes"
   ]
  },
  {
   "cell_type": "markdown",
   "metadata": {},
   "source": [
    " "
   ]
  },
  {
   "cell_type": "markdown",
   "metadata": {},
   "source": [
    " "
   ]
  },
  {
   "cell_type": "markdown",
   "metadata": {},
   "source": [
    "### Order Items Data Frame / Товарные позиции, входящие в заказы"
   ]
  },
  {
   "cell_type": "markdown",
   "metadata": {},
   "source": [
    "#### Описание данных:\n",
    "- `order_id` —  уникальный идентификатор заказа (номер чека)\n",
    "- `order_item_id` —  идентификатор товара внутри одного заказа\n",
    "- `product_id` —  ид товара (аналог штрихкода)\n",
    "- `seller_id` — ид производителя товара\n",
    "- `shipping_limit_date` —  максимальная дата доставки продавцом для передачи заказа партнеру по логистике\n",
    "- `price` —  цена за единицу товара\n",
    "- `freight_value` —  вес товара"
   ]
  },
  {
   "cell_type": "code",
   "execution_count": 10,
   "metadata": {},
   "outputs": [
    {
     "data": {
      "text/html": [
       "<div>\n",
       "<style scoped>\n",
       "    .dataframe tbody tr th:only-of-type {\n",
       "        vertical-align: middle;\n",
       "    }\n",
       "\n",
       "    .dataframe tbody tr th {\n",
       "        vertical-align: top;\n",
       "    }\n",
       "\n",
       "    .dataframe thead th {\n",
       "        text-align: right;\n",
       "    }\n",
       "</style>\n",
       "<table border=\"1\" class=\"dataframe\">\n",
       "  <thead>\n",
       "    <tr style=\"text-align: right;\">\n",
       "      <th></th>\n",
       "      <th>order_id</th>\n",
       "      <th>order_item_id</th>\n",
       "      <th>product_id</th>\n",
       "      <th>seller_id</th>\n",
       "      <th>shipping_limit_date</th>\n",
       "      <th>price</th>\n",
       "      <th>freight_value</th>\n",
       "    </tr>\n",
       "  </thead>\n",
       "  <tbody>\n",
       "    <tr>\n",
       "      <th>0</th>\n",
       "      <td>00010242fe8c5a6d1ba2dd792cb16214</td>\n",
       "      <td>1</td>\n",
       "      <td>4244733e06e7ecb4970a6e2683c13e61</td>\n",
       "      <td>48436dade18ac8b2bce089ec2a041202</td>\n",
       "      <td>2017-09-19 09:45:35</td>\n",
       "      <td>58.90</td>\n",
       "      <td>13.29</td>\n",
       "    </tr>\n",
       "    <tr>\n",
       "      <th>1</th>\n",
       "      <td>00018f77f2f0320c557190d7a144bdd3</td>\n",
       "      <td>1</td>\n",
       "      <td>e5f2d52b802189ee658865ca93d83a8f</td>\n",
       "      <td>dd7ddc04e1b6c2c614352b383efe2d36</td>\n",
       "      <td>2017-05-03 11:05:13</td>\n",
       "      <td>239.90</td>\n",
       "      <td>19.93</td>\n",
       "    </tr>\n",
       "    <tr>\n",
       "      <th>2</th>\n",
       "      <td>000229ec398224ef6ca0657da4fc703e</td>\n",
       "      <td>1</td>\n",
       "      <td>c777355d18b72b67abbeef9df44fd0fd</td>\n",
       "      <td>5b51032eddd242adc84c38acab88f23d</td>\n",
       "      <td>2018-01-18 14:48:30</td>\n",
       "      <td>199.00</td>\n",
       "      <td>17.87</td>\n",
       "    </tr>\n",
       "    <tr>\n",
       "      <th>3</th>\n",
       "      <td>00024acbcdf0a6daa1e931b038114c75</td>\n",
       "      <td>1</td>\n",
       "      <td>7634da152a4610f1595efa32f14722fc</td>\n",
       "      <td>9d7a1d34a5052409006425275ba1c2b4</td>\n",
       "      <td>2018-08-15 10:10:18</td>\n",
       "      <td>12.99</td>\n",
       "      <td>12.79</td>\n",
       "    </tr>\n",
       "    <tr>\n",
       "      <th>4</th>\n",
       "      <td>00042b26cf59d7ce69dfabb4e55b4fd9</td>\n",
       "      <td>1</td>\n",
       "      <td>ac6c3623068f30de03045865e4e10089</td>\n",
       "      <td>df560393f3a51e74553ab94004ba5c87</td>\n",
       "      <td>2017-02-13 13:57:51</td>\n",
       "      <td>199.90</td>\n",
       "      <td>18.14</td>\n",
       "    </tr>\n",
       "  </tbody>\n",
       "</table>\n",
       "</div>"
      ],
      "text/plain": [
       "                           order_id  order_item_id  \\\n",
       "0  00010242fe8c5a6d1ba2dd792cb16214              1   \n",
       "1  00018f77f2f0320c557190d7a144bdd3              1   \n",
       "2  000229ec398224ef6ca0657da4fc703e              1   \n",
       "3  00024acbcdf0a6daa1e931b038114c75              1   \n",
       "4  00042b26cf59d7ce69dfabb4e55b4fd9              1   \n",
       "\n",
       "                         product_id                         seller_id  \\\n",
       "0  4244733e06e7ecb4970a6e2683c13e61  48436dade18ac8b2bce089ec2a041202   \n",
       "1  e5f2d52b802189ee658865ca93d83a8f  dd7ddc04e1b6c2c614352b383efe2d36   \n",
       "2  c777355d18b72b67abbeef9df44fd0fd  5b51032eddd242adc84c38acab88f23d   \n",
       "3  7634da152a4610f1595efa32f14722fc  9d7a1d34a5052409006425275ba1c2b4   \n",
       "4  ac6c3623068f30de03045865e4e10089  df560393f3a51e74553ab94004ba5c87   \n",
       "\n",
       "  shipping_limit_date   price  freight_value  \n",
       "0 2017-09-19 09:45:35   58.90          13.29  \n",
       "1 2017-05-03 11:05:13  239.90          19.93  \n",
       "2 2018-01-18 14:48:30  199.00          17.87  \n",
       "3 2018-08-15 10:10:18   12.99          12.79  \n",
       "4 2017-02-13 13:57:51  199.90          18.14  "
      ]
     },
     "execution_count": 10,
     "metadata": {},
     "output_type": "execute_result"
    }
   ],
   "source": [
    "olist_items_df.head()"
   ]
  },
  {
   "cell_type": "code",
   "execution_count": 11,
   "metadata": {},
   "outputs": [
    {
     "data": {
      "text/plain": [
       "customer_id                 object\n",
       "customer_unique_id          object\n",
       "customer_zip_code_prefix     int64\n",
       "customer_city               object\n",
       "customer_state              object\n",
       "dtype: object"
      ]
     },
     "execution_count": 11,
     "metadata": {},
     "output_type": "execute_result"
    }
   ],
   "source": [
    "customers_df.dtypes"
   ]
  },
  {
   "cell_type": "code",
   "execution_count": 12,
   "metadata": {},
   "outputs": [
    {
     "data": {
      "text/plain": [
       "(99441, 5)"
      ]
     },
     "execution_count": 12,
     "metadata": {},
     "output_type": "execute_result"
    }
   ],
   "source": [
    "customers_df.shape"
   ]
  },
  {
   "cell_type": "markdown",
   "metadata": {},
   "source": [
    " "
   ]
  },
  {
   "cell_type": "markdown",
   "metadata": {},
   "source": [
    " "
   ]
  },
  {
   "cell_type": "markdown",
   "metadata": {},
   "source": [
    "### Создаем дата сеты для решения последующих задач.\n",
    "Для решения последующих задач нам необходимо объединить датафреймы выше и создать 2 варианта:\n",
    "1. со всеми заказами, где просто будут смердженые датафреймы.\n",
    "2. со всеми успешными покупками, где мы отфильтруем данные и оставим только те, которые можно назвать успешными покупками."
   ]
  },
  {
   "cell_type": "code",
   "execution_count": 13,
   "metadata": {},
   "outputs": [],
   "source": [
    "# Мерджим первые 2 датафрейма left join-ом\n",
    "\n",
    "df = olist_orders_df.merge(customers_df, on='customer_id', how='left')"
   ]
  },
  {
   "cell_type": "code",
   "execution_count": 14,
   "metadata": {
    "scrolled": true
   },
   "outputs": [
    {
     "data": {
      "text/plain": [
       "False    99441\n",
       "Name: customer_unique_id, dtype: int64"
      ]
     },
     "execution_count": 14,
     "metadata": {},
     "output_type": "execute_result"
    }
   ],
   "source": [
    "# Убедимся, что нет заказов без unique_id пользователя после мерджа.\n",
    "\n",
    "df.customer_unique_id.isna().value_counts()"
   ]
  },
  {
   "cell_type": "code",
   "execution_count": 15,
   "metadata": {},
   "outputs": [],
   "source": [
    "# Делаем финальный merged data frame со всеми сделанными заказами для последующего выполнения заданий.\n",
    "\n",
    "orders_df = df.merge(olist_items_df, on='order_id', how='left')"
   ]
  },
  {
   "cell_type": "markdown",
   "metadata": {},
   "source": [
    "Узнаем, какие есть статусы заказа. Видим, что некоторые заказы были отмененены или недоступны для заказа, \n",
    "поэтому их стоит убрать из списка успешных покупок.\n",
    "\n",
    "- `created` —  создан\n",
    "- `approved` —  подтверждён\n",
    "- `invoiced` —  выставлен счёт\n",
    "- `processing` —  в процессе сборки заказа\n",
    "- `shipped` —  отгружен со склада\n",
    "- `delivered` —  доставлен пользователю\n",
    "- `unavailable` —  недоступен\n",
    "- `canceled` —  отменён\n",
    "\n",
    "Убираем из списка успешных покупок **отмененные** и **недоступные заказы**, а так же те, по которым **нет факта оплаты**. Остаются только те покупки, которые мы с определенной долей уверености можем назвать успешными."
   ]
  },
  {
   "cell_type": "code",
   "execution_count": 16,
   "metadata": {},
   "outputs": [
    {
     "data": {
      "text/plain": [
       "delivered      110197\n",
       "shipped          1186\n",
       "canceled          706\n",
       "unavailable       610\n",
       "invoiced          361\n",
       "processing        357\n",
       "created             5\n",
       "approved            3\n",
       "Name: order_status, dtype: int64"
      ]
     },
     "execution_count": 16,
     "metadata": {},
     "output_type": "execute_result"
    }
   ],
   "source": [
    "orders_df.order_status.value_counts()"
   ]
  },
  {
   "cell_type": "code",
   "execution_count": 17,
   "metadata": {},
   "outputs": [],
   "source": [
    "purchases_df = orders_df \\\n",
    "    .query('order_status != \"unavailable\" & order_status != \"canceled\" & order_approved_at != \"NaT\"')"
   ]
  },
  {
   "cell_type": "markdown",
   "metadata": {},
   "source": [
    "Видим, что есть 3 заказа, которые не были доставлены до покупателя, нет информации по цене и кол-ву проданных товаров. Учитывая все это, и то, что это 3 заказа из более чем 120к заказов, считаю правильным их также убрать из финального датасета для чистоты данных."
   ]
  },
  {
   "cell_type": "code",
   "execution_count": 18,
   "metadata": {
    "scrolled": true
   },
   "outputs": [
    {
     "data": {
      "text/html": [
       "<div>\n",
       "<style scoped>\n",
       "    .dataframe tbody tr th:only-of-type {\n",
       "        vertical-align: middle;\n",
       "    }\n",
       "\n",
       "    .dataframe tbody tr th {\n",
       "        vertical-align: top;\n",
       "    }\n",
       "\n",
       "    .dataframe thead th {\n",
       "        text-align: right;\n",
       "    }\n",
       "</style>\n",
       "<table border=\"1\" class=\"dataframe\">\n",
       "  <thead>\n",
       "    <tr style=\"text-align: right;\">\n",
       "      <th></th>\n",
       "      <th>order_id</th>\n",
       "      <th>customer_id</th>\n",
       "      <th>order_status</th>\n",
       "      <th>order_purchase_timestamp</th>\n",
       "      <th>order_approved_at</th>\n",
       "      <th>order_delivered_carrier_date</th>\n",
       "      <th>order_delivered_customer_date</th>\n",
       "      <th>order_estimated_delivery_date</th>\n",
       "      <th>customer_unique_id</th>\n",
       "      <th>customer_zip_code_prefix</th>\n",
       "      <th>customer_city</th>\n",
       "      <th>customer_state</th>\n",
       "      <th>order_item_id</th>\n",
       "      <th>product_id</th>\n",
       "      <th>seller_id</th>\n",
       "      <th>shipping_limit_date</th>\n",
       "      <th>price</th>\n",
       "      <th>freight_value</th>\n",
       "    </tr>\n",
       "  </thead>\n",
       "  <tbody>\n",
       "    <tr>\n",
       "      <th>26478</th>\n",
       "      <td>a68ce1686d536ca72bd2dadc4b8671e5</td>\n",
       "      <td>d7bed5fac093a4136216072abaf599d5</td>\n",
       "      <td>shipped</td>\n",
       "      <td>2016-10-05 01:47:40</td>\n",
       "      <td>2016-10-07 03:11:22</td>\n",
       "      <td>2016-11-07 16:37:37</td>\n",
       "      <td>NaT</td>\n",
       "      <td>2016-12-01</td>\n",
       "      <td>f15a952dfc52308d0361288fbf42c7b3</td>\n",
       "      <td>91250</td>\n",
       "      <td>porto alegre</td>\n",
       "      <td>RS</td>\n",
       "      <td>NaN</td>\n",
       "      <td>NaN</td>\n",
       "      <td>NaN</td>\n",
       "      <td>NaT</td>\n",
       "      <td>NaN</td>\n",
       "      <td>NaN</td>\n",
       "    </tr>\n",
       "    <tr>\n",
       "      <th>65606</th>\n",
       "      <td>2ce9683175cdab7d1c95bcbb3e36f478</td>\n",
       "      <td>b2d7ae0415dbbca535b5f7b38056dd1f</td>\n",
       "      <td>invoiced</td>\n",
       "      <td>2016-10-05 21:03:33</td>\n",
       "      <td>2016-10-06 07:46:39</td>\n",
       "      <td>NaT</td>\n",
       "      <td>NaT</td>\n",
       "      <td>2016-11-25</td>\n",
       "      <td>6a2da481aa7827b951175772a0fe8bb8</td>\n",
       "      <td>16012</td>\n",
       "      <td>aracatuba</td>\n",
       "      <td>SP</td>\n",
       "      <td>NaN</td>\n",
       "      <td>NaN</td>\n",
       "      <td>NaN</td>\n",
       "      <td>NaT</td>\n",
       "      <td>NaN</td>\n",
       "      <td>NaN</td>\n",
       "    </tr>\n",
       "    <tr>\n",
       "      <th>79688</th>\n",
       "      <td>e04f1da1f48bf2bbffcf57b9824f76e1</td>\n",
       "      <td>0d00d77134cae4c58695086ad8d85100</td>\n",
       "      <td>invoiced</td>\n",
       "      <td>2016-10-05 13:22:20</td>\n",
       "      <td>2016-10-06 15:51:38</td>\n",
       "      <td>NaT</td>\n",
       "      <td>NaT</td>\n",
       "      <td>2016-11-29</td>\n",
       "      <td>8886115442775dd8a20c2dcc921c7cc8</td>\n",
       "      <td>88070</td>\n",
       "      <td>florianopolis</td>\n",
       "      <td>SC</td>\n",
       "      <td>NaN</td>\n",
       "      <td>NaN</td>\n",
       "      <td>NaN</td>\n",
       "      <td>NaT</td>\n",
       "      <td>NaN</td>\n",
       "      <td>NaN</td>\n",
       "    </tr>\n",
       "  </tbody>\n",
       "</table>\n",
       "</div>"
      ],
      "text/plain": [
       "                               order_id                       customer_id  \\\n",
       "26478  a68ce1686d536ca72bd2dadc4b8671e5  d7bed5fac093a4136216072abaf599d5   \n",
       "65606  2ce9683175cdab7d1c95bcbb3e36f478  b2d7ae0415dbbca535b5f7b38056dd1f   \n",
       "79688  e04f1da1f48bf2bbffcf57b9824f76e1  0d00d77134cae4c58695086ad8d85100   \n",
       "\n",
       "      order_status order_purchase_timestamp   order_approved_at  \\\n",
       "26478      shipped      2016-10-05 01:47:40 2016-10-07 03:11:22   \n",
       "65606     invoiced      2016-10-05 21:03:33 2016-10-06 07:46:39   \n",
       "79688     invoiced      2016-10-05 13:22:20 2016-10-06 15:51:38   \n",
       "\n",
       "      order_delivered_carrier_date order_delivered_customer_date  \\\n",
       "26478          2016-11-07 16:37:37                           NaT   \n",
       "65606                          NaT                           NaT   \n",
       "79688                          NaT                           NaT   \n",
       "\n",
       "      order_estimated_delivery_date                customer_unique_id  \\\n",
       "26478                    2016-12-01  f15a952dfc52308d0361288fbf42c7b3   \n",
       "65606                    2016-11-25  6a2da481aa7827b951175772a0fe8bb8   \n",
       "79688                    2016-11-29  8886115442775dd8a20c2dcc921c7cc8   \n",
       "\n",
       "       customer_zip_code_prefix  customer_city customer_state  order_item_id  \\\n",
       "26478                     91250   porto alegre             RS            NaN   \n",
       "65606                     16012      aracatuba             SP            NaN   \n",
       "79688                     88070  florianopolis             SC            NaN   \n",
       "\n",
       "      product_id seller_id shipping_limit_date  price  freight_value  \n",
       "26478        NaN       NaN                 NaT    NaN            NaN  \n",
       "65606        NaN       NaN                 NaT    NaN            NaN  \n",
       "79688        NaN       NaN                 NaT    NaN            NaN  "
      ]
     },
     "execution_count": 18,
     "metadata": {},
     "output_type": "execute_result"
    }
   ],
   "source": [
    "purchases_df.loc[purchases_df.seller_id.isna()]"
   ]
  },
  {
   "cell_type": "code",
   "execution_count": 19,
   "metadata": {},
   "outputs": [
    {
     "data": {
      "text/html": [
       "<div>\n",
       "<style scoped>\n",
       "    .dataframe tbody tr th:only-of-type {\n",
       "        vertical-align: middle;\n",
       "    }\n",
       "\n",
       "    .dataframe tbody tr th {\n",
       "        vertical-align: top;\n",
       "    }\n",
       "\n",
       "    .dataframe thead th {\n",
       "        text-align: right;\n",
       "    }\n",
       "</style>\n",
       "<table border=\"1\" class=\"dataframe\">\n",
       "  <thead>\n",
       "    <tr style=\"text-align: right;\">\n",
       "      <th></th>\n",
       "      <th>order_id</th>\n",
       "      <th>customer_id</th>\n",
       "      <th>order_status</th>\n",
       "      <th>order_purchase_timestamp</th>\n",
       "      <th>order_approved_at</th>\n",
       "      <th>order_delivered_carrier_date</th>\n",
       "      <th>order_delivered_customer_date</th>\n",
       "      <th>order_estimated_delivery_date</th>\n",
       "      <th>customer_unique_id</th>\n",
       "      <th>customer_zip_code_prefix</th>\n",
       "      <th>customer_city</th>\n",
       "      <th>customer_state</th>\n",
       "      <th>order_item_id</th>\n",
       "      <th>product_id</th>\n",
       "      <th>seller_id</th>\n",
       "      <th>shipping_limit_date</th>\n",
       "      <th>price</th>\n",
       "      <th>freight_value</th>\n",
       "    </tr>\n",
       "  </thead>\n",
       "  <tbody>\n",
       "    <tr>\n",
       "      <th>0</th>\n",
       "      <td>e481f51cbdc54678b7cc49136f2d6af7</td>\n",
       "      <td>9ef432eb6251297304e76186b10a928d</td>\n",
       "      <td>delivered</td>\n",
       "      <td>2017-10-02 10:56:33</td>\n",
       "      <td>2017-10-02 11:07:15</td>\n",
       "      <td>2017-10-04 19:55:00</td>\n",
       "      <td>2017-10-10 21:25:13</td>\n",
       "      <td>2017-10-18</td>\n",
       "      <td>7c396fd4830fd04220f754e42b4e5bff</td>\n",
       "      <td>3149</td>\n",
       "      <td>sao paulo</td>\n",
       "      <td>SP</td>\n",
       "      <td>1.0</td>\n",
       "      <td>87285b34884572647811a353c7ac498a</td>\n",
       "      <td>3504c0cb71d7fa48d967e0e4c94d59d9</td>\n",
       "      <td>2017-10-06 11:07:15</td>\n",
       "      <td>29.99</td>\n",
       "      <td>8.72</td>\n",
       "    </tr>\n",
       "    <tr>\n",
       "      <th>1</th>\n",
       "      <td>53cdb2fc8bc7dce0b6741e2150273451</td>\n",
       "      <td>b0830fb4747a6c6d20dea0b8c802d7ef</td>\n",
       "      <td>delivered</td>\n",
       "      <td>2018-07-24 20:41:37</td>\n",
       "      <td>2018-07-26 03:24:27</td>\n",
       "      <td>2018-07-26 14:31:00</td>\n",
       "      <td>2018-08-07 15:27:45</td>\n",
       "      <td>2018-08-13</td>\n",
       "      <td>af07308b275d755c9edb36a90c618231</td>\n",
       "      <td>47813</td>\n",
       "      <td>barreiras</td>\n",
       "      <td>BA</td>\n",
       "      <td>1.0</td>\n",
       "      <td>595fac2a385ac33a80bd5114aec74eb8</td>\n",
       "      <td>289cdb325fb7e7f891c38608bf9e0962</td>\n",
       "      <td>2018-07-30 03:24:27</td>\n",
       "      <td>118.70</td>\n",
       "      <td>22.76</td>\n",
       "    </tr>\n",
       "    <tr>\n",
       "      <th>2</th>\n",
       "      <td>47770eb9100c2d0c44946d9cf07ec65d</td>\n",
       "      <td>41ce2a54c0b03bf3443c3d931a367089</td>\n",
       "      <td>delivered</td>\n",
       "      <td>2018-08-08 08:38:49</td>\n",
       "      <td>2018-08-08 08:55:23</td>\n",
       "      <td>2018-08-08 13:50:00</td>\n",
       "      <td>2018-08-17 18:06:29</td>\n",
       "      <td>2018-09-04</td>\n",
       "      <td>3a653a41f6f9fc3d2a113cf8398680e8</td>\n",
       "      <td>75265</td>\n",
       "      <td>vianopolis</td>\n",
       "      <td>GO</td>\n",
       "      <td>1.0</td>\n",
       "      <td>aa4383b373c6aca5d8797843e5594415</td>\n",
       "      <td>4869f7a5dfa277a7dca6462dcf3b52b2</td>\n",
       "      <td>2018-08-13 08:55:23</td>\n",
       "      <td>159.90</td>\n",
       "      <td>19.22</td>\n",
       "    </tr>\n",
       "    <tr>\n",
       "      <th>3</th>\n",
       "      <td>949d5b44dbf5de918fe9c16f97b45f8a</td>\n",
       "      <td>f88197465ea7920adcdbec7375364d82</td>\n",
       "      <td>delivered</td>\n",
       "      <td>2017-11-18 19:28:06</td>\n",
       "      <td>2017-11-18 19:45:59</td>\n",
       "      <td>2017-11-22 13:39:59</td>\n",
       "      <td>2017-12-02 00:28:42</td>\n",
       "      <td>2017-12-15</td>\n",
       "      <td>7c142cf63193a1473d2e66489a9ae977</td>\n",
       "      <td>59296</td>\n",
       "      <td>sao goncalo do amarante</td>\n",
       "      <td>RN</td>\n",
       "      <td>1.0</td>\n",
       "      <td>d0b61bfb1de832b15ba9d266ca96e5b0</td>\n",
       "      <td>66922902710d126a0e7d26b0e3805106</td>\n",
       "      <td>2017-11-23 19:45:59</td>\n",
       "      <td>45.00</td>\n",
       "      <td>27.20</td>\n",
       "    </tr>\n",
       "    <tr>\n",
       "      <th>4</th>\n",
       "      <td>ad21c59c0840e6cb83a9ceb5573f8159</td>\n",
       "      <td>8ab97904e6daea8866dbdbc4fb7aad2c</td>\n",
       "      <td>delivered</td>\n",
       "      <td>2018-02-13 21:18:39</td>\n",
       "      <td>2018-02-13 22:20:29</td>\n",
       "      <td>2018-02-14 19:46:34</td>\n",
       "      <td>2018-02-16 18:17:02</td>\n",
       "      <td>2018-02-26</td>\n",
       "      <td>72632f0f9dd73dfee390c9b22eb56dd6</td>\n",
       "      <td>9195</td>\n",
       "      <td>santo andre</td>\n",
       "      <td>SP</td>\n",
       "      <td>1.0</td>\n",
       "      <td>65266b2da20d04dbe00c5c2d3bb7859e</td>\n",
       "      <td>2c9e548be18521d1c43cde1c582c6de8</td>\n",
       "      <td>2018-02-19 20:31:37</td>\n",
       "      <td>19.90</td>\n",
       "      <td>8.72</td>\n",
       "    </tr>\n",
       "  </tbody>\n",
       "</table>\n",
       "</div>"
      ],
      "text/plain": [
       "                           order_id                       customer_id  \\\n",
       "0  e481f51cbdc54678b7cc49136f2d6af7  9ef432eb6251297304e76186b10a928d   \n",
       "1  53cdb2fc8bc7dce0b6741e2150273451  b0830fb4747a6c6d20dea0b8c802d7ef   \n",
       "2  47770eb9100c2d0c44946d9cf07ec65d  41ce2a54c0b03bf3443c3d931a367089   \n",
       "3  949d5b44dbf5de918fe9c16f97b45f8a  f88197465ea7920adcdbec7375364d82   \n",
       "4  ad21c59c0840e6cb83a9ceb5573f8159  8ab97904e6daea8866dbdbc4fb7aad2c   \n",
       "\n",
       "  order_status order_purchase_timestamp   order_approved_at  \\\n",
       "0    delivered      2017-10-02 10:56:33 2017-10-02 11:07:15   \n",
       "1    delivered      2018-07-24 20:41:37 2018-07-26 03:24:27   \n",
       "2    delivered      2018-08-08 08:38:49 2018-08-08 08:55:23   \n",
       "3    delivered      2017-11-18 19:28:06 2017-11-18 19:45:59   \n",
       "4    delivered      2018-02-13 21:18:39 2018-02-13 22:20:29   \n",
       "\n",
       "  order_delivered_carrier_date order_delivered_customer_date  \\\n",
       "0          2017-10-04 19:55:00           2017-10-10 21:25:13   \n",
       "1          2018-07-26 14:31:00           2018-08-07 15:27:45   \n",
       "2          2018-08-08 13:50:00           2018-08-17 18:06:29   \n",
       "3          2017-11-22 13:39:59           2017-12-02 00:28:42   \n",
       "4          2018-02-14 19:46:34           2018-02-16 18:17:02   \n",
       "\n",
       "  order_estimated_delivery_date                customer_unique_id  \\\n",
       "0                    2017-10-18  7c396fd4830fd04220f754e42b4e5bff   \n",
       "1                    2018-08-13  af07308b275d755c9edb36a90c618231   \n",
       "2                    2018-09-04  3a653a41f6f9fc3d2a113cf8398680e8   \n",
       "3                    2017-12-15  7c142cf63193a1473d2e66489a9ae977   \n",
       "4                    2018-02-26  72632f0f9dd73dfee390c9b22eb56dd6   \n",
       "\n",
       "   customer_zip_code_prefix            customer_city customer_state  \\\n",
       "0                      3149                sao paulo             SP   \n",
       "1                     47813                barreiras             BA   \n",
       "2                     75265               vianopolis             GO   \n",
       "3                     59296  sao goncalo do amarante             RN   \n",
       "4                      9195              santo andre             SP   \n",
       "\n",
       "   order_item_id                        product_id  \\\n",
       "0            1.0  87285b34884572647811a353c7ac498a   \n",
       "1            1.0  595fac2a385ac33a80bd5114aec74eb8   \n",
       "2            1.0  aa4383b373c6aca5d8797843e5594415   \n",
       "3            1.0  d0b61bfb1de832b15ba9d266ca96e5b0   \n",
       "4            1.0  65266b2da20d04dbe00c5c2d3bb7859e   \n",
       "\n",
       "                          seller_id shipping_limit_date   price  freight_value  \n",
       "0  3504c0cb71d7fa48d967e0e4c94d59d9 2017-10-06 11:07:15   29.99           8.72  \n",
       "1  289cdb325fb7e7f891c38608bf9e0962 2018-07-30 03:24:27  118.70          22.76  \n",
       "2  4869f7a5dfa277a7dca6462dcf3b52b2 2018-08-13 08:55:23  159.90          19.22  \n",
       "3  66922902710d126a0e7d26b0e3805106 2017-11-23 19:45:59   45.00          27.20  \n",
       "4  2c9e548be18521d1c43cde1c582c6de8 2018-02-19 20:31:37   19.90           8.72  "
      ]
     },
     "execution_count": 19,
     "metadata": {},
     "output_type": "execute_result"
    }
   ],
   "source": [
    "# Делаем финальный data frame только с успешными покупками, убрав данные о трех покупках, о которых писл выше.\n",
    "\n",
    "final_purchases_df = purchases_df.loc[purchases_df.seller_id.notna()]\n",
    "final_purchases_df.head()"
   ]
  },
  {
   "cell_type": "code",
   "execution_count": null,
   "metadata": {},
   "outputs": [],
   "source": []
  },
  {
   "cell_type": "markdown",
   "metadata": {},
   "source": [
    " "
   ]
  },
  {
   "cell_type": "markdown",
   "metadata": {},
   "source": [
    " "
   ]
  },
  {
   "cell_type": "markdown",
   "metadata": {},
   "source": [
    "# Задание 1."
   ]
  },
  {
   "cell_type": "markdown",
   "metadata": {},
   "source": [
    "Сколько у нас пользователей, которые совершили покупку только один раз? (7 баллов)\n",
    "\n",
    "Как выяснилось, у каждгого unique_id было несколько customer_id (т.е. несколько заказов), поэтому в дальнейшим используем эту колонку для группировки по уникальным юзерам. Для группировки по уникальным заказам (а не по покупкам внутри заказа) импользуем колонку order_id. Фильтруем тех, у кого при группировке оказалось по 1 заказу."
   ]
  },
  {
   "cell_type": "code",
   "execution_count": 21,
   "metadata": {},
   "outputs": [
    {
     "data": {
      "text/plain": [
       "83168"
      ]
     },
     "execution_count": 21,
     "metadata": {},
     "output_type": "execute_result"
    }
   ],
   "source": [
    "final_purchases_df \\\n",
    "    .groupby(['customer_unique_id'], as_index=False) \\\n",
    "    .agg({'order_id': 'count'}) \\\n",
    "    .rename(columns={'order_id': 'orders_number'}) \\\n",
    "    .query('orders_number == 1') \\\n",
    "    .shape[0]"
   ]
  },
  {
   "cell_type": "markdown",
   "metadata": {},
   "source": [
    "### Ответ: \n",
    "Один раз покупку совершило 83168 человек."
   ]
  },
  {
   "cell_type": "markdown",
   "metadata": {},
   "source": [
    "  "
   ]
  },
  {
   "cell_type": "markdown",
   "metadata": {},
   "source": [
    " "
   ]
  },
  {
   "cell_type": "markdown",
   "metadata": {},
   "source": [
    "# Задание 2."
   ]
  },
  {
   "cell_type": "markdown",
   "metadata": {},
   "source": [
    "Сколько заказов в месяц в среднем не доставляется по разным причинам (вывести детализацию по причинам)? (5 баллов)\n",
    "\n",
    "В данных мы снова видим раcхождения, заказы со статусом delivered, но без даты доставки до пользователя.\n",
    "Есть предположение, что это может быть самовывоз, поэтому их мы также будем учитывать как доставленные."
   ]
  },
  {
   "cell_type": "code",
   "execution_count": 22,
   "metadata": {
    "scrolled": false
   },
   "outputs": [
    {
     "data": {
      "text/html": [
       "<div>\n",
       "<style scoped>\n",
       "    .dataframe tbody tr th:only-of-type {\n",
       "        vertical-align: middle;\n",
       "    }\n",
       "\n",
       "    .dataframe tbody tr th {\n",
       "        vertical-align: top;\n",
       "    }\n",
       "\n",
       "    .dataframe thead th {\n",
       "        text-align: right;\n",
       "    }\n",
       "</style>\n",
       "<table border=\"1\" class=\"dataframe\">\n",
       "  <thead>\n",
       "    <tr style=\"text-align: right;\">\n",
       "      <th></th>\n",
       "      <th>order_id</th>\n",
       "      <th>customer_id</th>\n",
       "      <th>order_status</th>\n",
       "      <th>order_purchase_timestamp</th>\n",
       "      <th>order_approved_at</th>\n",
       "      <th>order_delivered_carrier_date</th>\n",
       "      <th>order_delivered_customer_date</th>\n",
       "      <th>order_estimated_delivery_date</th>\n",
       "      <th>customer_unique_id</th>\n",
       "      <th>customer_zip_code_prefix</th>\n",
       "      <th>customer_city</th>\n",
       "      <th>customer_state</th>\n",
       "      <th>order_item_id</th>\n",
       "      <th>product_id</th>\n",
       "      <th>seller_id</th>\n",
       "      <th>shipping_limit_date</th>\n",
       "      <th>price</th>\n",
       "      <th>freight_value</th>\n",
       "    </tr>\n",
       "  </thead>\n",
       "  <tbody>\n",
       "    <tr>\n",
       "      <th>3376</th>\n",
       "      <td>2d1e2d5bf4dc7227b3bfebb81328c15f</td>\n",
       "      <td>ec05a6d8558c6455f0cbbd8a420ad34f</td>\n",
       "      <td>delivered</td>\n",
       "      <td>2017-11-28 17:44:07</td>\n",
       "      <td>2017-11-28 17:56:40</td>\n",
       "      <td>2017-11-30 18:12:23</td>\n",
       "      <td>NaT</td>\n",
       "      <td>2017-12-18</td>\n",
       "      <td>13467e882eb3a701826435ee4424f2bd</td>\n",
       "      <td>18520</td>\n",
       "      <td>cerquilho</td>\n",
       "      <td>SP</td>\n",
       "      <td>1.0</td>\n",
       "      <td>a50acd33ba7a8da8e9db65094fa990a4</td>\n",
       "      <td>8581055ce74af1daba164fdbd55a40de</td>\n",
       "      <td>2017-12-04 17:56:40</td>\n",
       "      <td>117.30</td>\n",
       "      <td>17.53</td>\n",
       "    </tr>\n",
       "    <tr>\n",
       "      <th>23485</th>\n",
       "      <td>f5dd62b788049ad9fc0526e3ad11a097</td>\n",
       "      <td>5e89028e024b381dc84a13a3570decb4</td>\n",
       "      <td>delivered</td>\n",
       "      <td>2018-06-20 06:58:43</td>\n",
       "      <td>2018-06-20 07:19:05</td>\n",
       "      <td>2018-06-25 08:05:00</td>\n",
       "      <td>NaT</td>\n",
       "      <td>2018-07-16</td>\n",
       "      <td>2f17c5b324ad603491521b279a9ff4de</td>\n",
       "      <td>18255</td>\n",
       "      <td>quadra</td>\n",
       "      <td>SP</td>\n",
       "      <td>1.0</td>\n",
       "      <td>2167c8f6252667c0eb9edd51520706a1</td>\n",
       "      <td>0bb738e4d789e63e2267697c42d35a2d</td>\n",
       "      <td>2018-06-26 07:19:05</td>\n",
       "      <td>329.00</td>\n",
       "      <td>25.24</td>\n",
       "    </tr>\n",
       "    <tr>\n",
       "      <th>49966</th>\n",
       "      <td>2ebdfc4f15f23b91474edf87475f108e</td>\n",
       "      <td>29f0540231702fda0cfdee0a310f11aa</td>\n",
       "      <td>delivered</td>\n",
       "      <td>2018-07-01 17:05:11</td>\n",
       "      <td>2018-07-01 17:15:12</td>\n",
       "      <td>2018-07-03 13:57:00</td>\n",
       "      <td>NaT</td>\n",
       "      <td>2018-07-30</td>\n",
       "      <td>1bd06a0c0df8b23dacfd3725d2dc0bb9</td>\n",
       "      <td>12445</td>\n",
       "      <td>pindamonhangaba</td>\n",
       "      <td>SP</td>\n",
       "      <td>1.0</td>\n",
       "      <td>e7d5464b94c9a5963f7c686fc80145ad</td>\n",
       "      <td>58f1a6197ed863543e0136bdedb3fce2</td>\n",
       "      <td>2018-07-05 17:15:12</td>\n",
       "      <td>139.00</td>\n",
       "      <td>19.07</td>\n",
       "    </tr>\n",
       "    <tr>\n",
       "      <th>90294</th>\n",
       "      <td>e69f75a717d64fc5ecdfae42b2e8e086</td>\n",
       "      <td>cfda40ca8dd0a5d486a9635b611b398a</td>\n",
       "      <td>delivered</td>\n",
       "      <td>2018-07-01 22:05:55</td>\n",
       "      <td>2018-07-01 22:15:14</td>\n",
       "      <td>2018-07-03 13:57:00</td>\n",
       "      <td>NaT</td>\n",
       "      <td>2018-07-30</td>\n",
       "      <td>3bc508d482a402715be4d5cf4020cc81</td>\n",
       "      <td>13170</td>\n",
       "      <td>sumare</td>\n",
       "      <td>SP</td>\n",
       "      <td>1.0</td>\n",
       "      <td>e7d5464b94c9a5963f7c686fc80145ad</td>\n",
       "      <td>58f1a6197ed863543e0136bdedb3fce2</td>\n",
       "      <td>2018-07-05 22:15:14</td>\n",
       "      <td>139.00</td>\n",
       "      <td>19.07</td>\n",
       "    </tr>\n",
       "    <tr>\n",
       "      <th>94388</th>\n",
       "      <td>0d3268bad9b086af767785e3f0fc0133</td>\n",
       "      <td>4f1d63d35fb7c8999853b2699f5c7649</td>\n",
       "      <td>delivered</td>\n",
       "      <td>2018-07-01 21:14:02</td>\n",
       "      <td>2018-07-01 21:29:54</td>\n",
       "      <td>2018-07-03 09:28:00</td>\n",
       "      <td>NaT</td>\n",
       "      <td>2018-07-24</td>\n",
       "      <td>ebf7e0d43a78c81991a4c59c145c75db</td>\n",
       "      <td>13560</td>\n",
       "      <td>sao carlos</td>\n",
       "      <td>SP</td>\n",
       "      <td>1.0</td>\n",
       "      <td>ec165cd31c50585786ffda6feff5d0a6</td>\n",
       "      <td>8bdd8e3fd58bafa48af76b2c5fd71974</td>\n",
       "      <td>2018-07-05 21:29:54</td>\n",
       "      <td>188.99</td>\n",
       "      <td>15.63</td>\n",
       "    </tr>\n",
       "    <tr>\n",
       "      <th>105606</th>\n",
       "      <td>2d858f451373b04fb5c984a1cc2defaf</td>\n",
       "      <td>e08caf668d499a6d643dafd7c5cc498a</td>\n",
       "      <td>delivered</td>\n",
       "      <td>2017-05-25 23:22:43</td>\n",
       "      <td>2017-05-25 23:30:16</td>\n",
       "      <td>NaT</td>\n",
       "      <td>NaT</td>\n",
       "      <td>2017-06-23</td>\n",
       "      <td>d77cf4be2654aa70ef150f8bfec076a6</td>\n",
       "      <td>91330</td>\n",
       "      <td>porto alegre</td>\n",
       "      <td>RS</td>\n",
       "      <td>1.0</td>\n",
       "      <td>30b5b5635a79548a48d04162d971848f</td>\n",
       "      <td>f9bbdd976532d50b7816d285a22bd01e</td>\n",
       "      <td>2017-06-04 23:30:16</td>\n",
       "      <td>179.00</td>\n",
       "      <td>15.00</td>\n",
       "    </tr>\n",
       "    <tr>\n",
       "      <th>111339</th>\n",
       "      <td>ab7c89dc1bf4a1ead9d6ec1ec8968a84</td>\n",
       "      <td>dd1b84a7286eb4524d52af4256c0ba24</td>\n",
       "      <td>delivered</td>\n",
       "      <td>2018-06-08 12:09:39</td>\n",
       "      <td>2018-06-08 12:36:39</td>\n",
       "      <td>2018-06-12 14:10:00</td>\n",
       "      <td>NaT</td>\n",
       "      <td>2018-06-26</td>\n",
       "      <td>cce5e8188bf42ffb3bb5b18ff58f5965</td>\n",
       "      <td>7261</td>\n",
       "      <td>guarulhos</td>\n",
       "      <td>SP</td>\n",
       "      <td>1.0</td>\n",
       "      <td>a2a7efc985315e86d4f0f705701b342b</td>\n",
       "      <td>ed4acab38528488b65a9a9c603ff024a</td>\n",
       "      <td>2018-06-18 12:30:35</td>\n",
       "      <td>110.99</td>\n",
       "      <td>9.13</td>\n",
       "    </tr>\n",
       "    <tr>\n",
       "      <th>111783</th>\n",
       "      <td>20edc82cf5400ce95e1afacc25798b31</td>\n",
       "      <td>28c37425f1127d887d7337f284080a0f</td>\n",
       "      <td>delivered</td>\n",
       "      <td>2018-06-27 16:09:12</td>\n",
       "      <td>2018-06-27 16:29:30</td>\n",
       "      <td>2018-07-03 19:26:00</td>\n",
       "      <td>NaT</td>\n",
       "      <td>2018-07-19</td>\n",
       "      <td>175378436e2978be55b8f4316bce4811</td>\n",
       "      <td>9431</td>\n",
       "      <td>ribeirao pires</td>\n",
       "      <td>SP</td>\n",
       "      <td>1.0</td>\n",
       "      <td>55bfa0307d7a46bed72c492259921231</td>\n",
       "      <td>343e716476e3748b069f980efbaa294e</td>\n",
       "      <td>2018-07-03 16:29:30</td>\n",
       "      <td>45.90</td>\n",
       "      <td>9.07</td>\n",
       "    </tr>\n",
       "  </tbody>\n",
       "</table>\n",
       "</div>"
      ],
      "text/plain": [
       "                                order_id                       customer_id  \\\n",
       "3376    2d1e2d5bf4dc7227b3bfebb81328c15f  ec05a6d8558c6455f0cbbd8a420ad34f   \n",
       "23485   f5dd62b788049ad9fc0526e3ad11a097  5e89028e024b381dc84a13a3570decb4   \n",
       "49966   2ebdfc4f15f23b91474edf87475f108e  29f0540231702fda0cfdee0a310f11aa   \n",
       "90294   e69f75a717d64fc5ecdfae42b2e8e086  cfda40ca8dd0a5d486a9635b611b398a   \n",
       "94388   0d3268bad9b086af767785e3f0fc0133  4f1d63d35fb7c8999853b2699f5c7649   \n",
       "105606  2d858f451373b04fb5c984a1cc2defaf  e08caf668d499a6d643dafd7c5cc498a   \n",
       "111339  ab7c89dc1bf4a1ead9d6ec1ec8968a84  dd1b84a7286eb4524d52af4256c0ba24   \n",
       "111783  20edc82cf5400ce95e1afacc25798b31  28c37425f1127d887d7337f284080a0f   \n",
       "\n",
       "       order_status order_purchase_timestamp   order_approved_at  \\\n",
       "3376      delivered      2017-11-28 17:44:07 2017-11-28 17:56:40   \n",
       "23485     delivered      2018-06-20 06:58:43 2018-06-20 07:19:05   \n",
       "49966     delivered      2018-07-01 17:05:11 2018-07-01 17:15:12   \n",
       "90294     delivered      2018-07-01 22:05:55 2018-07-01 22:15:14   \n",
       "94388     delivered      2018-07-01 21:14:02 2018-07-01 21:29:54   \n",
       "105606    delivered      2017-05-25 23:22:43 2017-05-25 23:30:16   \n",
       "111339    delivered      2018-06-08 12:09:39 2018-06-08 12:36:39   \n",
       "111783    delivered      2018-06-27 16:09:12 2018-06-27 16:29:30   \n",
       "\n",
       "       order_delivered_carrier_date order_delivered_customer_date  \\\n",
       "3376            2017-11-30 18:12:23                           NaT   \n",
       "23485           2018-06-25 08:05:00                           NaT   \n",
       "49966           2018-07-03 13:57:00                           NaT   \n",
       "90294           2018-07-03 13:57:00                           NaT   \n",
       "94388           2018-07-03 09:28:00                           NaT   \n",
       "105606                          NaT                           NaT   \n",
       "111339          2018-06-12 14:10:00                           NaT   \n",
       "111783          2018-07-03 19:26:00                           NaT   \n",
       "\n",
       "       order_estimated_delivery_date                customer_unique_id  \\\n",
       "3376                      2017-12-18  13467e882eb3a701826435ee4424f2bd   \n",
       "23485                     2018-07-16  2f17c5b324ad603491521b279a9ff4de   \n",
       "49966                     2018-07-30  1bd06a0c0df8b23dacfd3725d2dc0bb9   \n",
       "90294                     2018-07-30  3bc508d482a402715be4d5cf4020cc81   \n",
       "94388                     2018-07-24  ebf7e0d43a78c81991a4c59c145c75db   \n",
       "105606                    2017-06-23  d77cf4be2654aa70ef150f8bfec076a6   \n",
       "111339                    2018-06-26  cce5e8188bf42ffb3bb5b18ff58f5965   \n",
       "111783                    2018-07-19  175378436e2978be55b8f4316bce4811   \n",
       "\n",
       "        customer_zip_code_prefix    customer_city customer_state  \\\n",
       "3376                       18520        cerquilho             SP   \n",
       "23485                      18255           quadra             SP   \n",
       "49966                      12445  pindamonhangaba             SP   \n",
       "90294                      13170           sumare             SP   \n",
       "94388                      13560       sao carlos             SP   \n",
       "105606                     91330     porto alegre             RS   \n",
       "111339                      7261        guarulhos             SP   \n",
       "111783                      9431   ribeirao pires             SP   \n",
       "\n",
       "        order_item_id                        product_id  \\\n",
       "3376              1.0  a50acd33ba7a8da8e9db65094fa990a4   \n",
       "23485             1.0  2167c8f6252667c0eb9edd51520706a1   \n",
       "49966             1.0  e7d5464b94c9a5963f7c686fc80145ad   \n",
       "90294             1.0  e7d5464b94c9a5963f7c686fc80145ad   \n",
       "94388             1.0  ec165cd31c50585786ffda6feff5d0a6   \n",
       "105606            1.0  30b5b5635a79548a48d04162d971848f   \n",
       "111339            1.0  a2a7efc985315e86d4f0f705701b342b   \n",
       "111783            1.0  55bfa0307d7a46bed72c492259921231   \n",
       "\n",
       "                               seller_id shipping_limit_date   price  \\\n",
       "3376    8581055ce74af1daba164fdbd55a40de 2017-12-04 17:56:40  117.30   \n",
       "23485   0bb738e4d789e63e2267697c42d35a2d 2018-06-26 07:19:05  329.00   \n",
       "49966   58f1a6197ed863543e0136bdedb3fce2 2018-07-05 17:15:12  139.00   \n",
       "90294   58f1a6197ed863543e0136bdedb3fce2 2018-07-05 22:15:14  139.00   \n",
       "94388   8bdd8e3fd58bafa48af76b2c5fd71974 2018-07-05 21:29:54  188.99   \n",
       "105606  f9bbdd976532d50b7816d285a22bd01e 2017-06-04 23:30:16  179.00   \n",
       "111339  ed4acab38528488b65a9a9c603ff024a 2018-06-18 12:30:35  110.99   \n",
       "111783  343e716476e3748b069f980efbaa294e 2018-07-03 16:29:30   45.90   \n",
       "\n",
       "        freight_value  \n",
       "3376            17.53  \n",
       "23485           25.24  \n",
       "49966           19.07  \n",
       "90294           19.07  \n",
       "94388           15.63  \n",
       "105606          15.00  \n",
       "111339           9.13  \n",
       "111783           9.07  "
      ]
     },
     "execution_count": 22,
     "metadata": {},
     "output_type": "execute_result"
    }
   ],
   "source": [
    "orders_df[orders_df.order_status == 'delivered'].loc[orders_df.order_delivered_customer_date.isna()]"
   ]
  },
  {
   "cell_type": "markdown",
   "metadata": {},
   "source": [
    "Другая сторона медали - отмененные заказы, но с датой доставки. Возможно их просто не принял покупатель или\n",
    "отменил заказ в самый последний момент. Эи заказы считаем не доставлнными."
   ]
  },
  {
   "cell_type": "code",
   "execution_count": 23,
   "metadata": {
    "scrolled": true
   },
   "outputs": [
    {
     "data": {
      "text/html": [
       "<div>\n",
       "<style scoped>\n",
       "    .dataframe tbody tr th:only-of-type {\n",
       "        vertical-align: middle;\n",
       "    }\n",
       "\n",
       "    .dataframe tbody tr th {\n",
       "        vertical-align: top;\n",
       "    }\n",
       "\n",
       "    .dataframe thead th {\n",
       "        text-align: right;\n",
       "    }\n",
       "</style>\n",
       "<table border=\"1\" class=\"dataframe\">\n",
       "  <thead>\n",
       "    <tr style=\"text-align: right;\">\n",
       "      <th></th>\n",
       "      <th>order_id</th>\n",
       "      <th>customer_id</th>\n",
       "      <th>order_status</th>\n",
       "      <th>order_purchase_timestamp</th>\n",
       "      <th>order_approved_at</th>\n",
       "      <th>order_delivered_carrier_date</th>\n",
       "      <th>order_delivered_customer_date</th>\n",
       "      <th>order_estimated_delivery_date</th>\n",
       "      <th>customer_unique_id</th>\n",
       "      <th>customer_zip_code_prefix</th>\n",
       "      <th>customer_city</th>\n",
       "      <th>customer_state</th>\n",
       "      <th>order_item_id</th>\n",
       "      <th>product_id</th>\n",
       "      <th>seller_id</th>\n",
       "      <th>shipping_limit_date</th>\n",
       "      <th>price</th>\n",
       "      <th>freight_value</th>\n",
       "    </tr>\n",
       "  </thead>\n",
       "  <tbody>\n",
       "    <tr>\n",
       "      <th>3284</th>\n",
       "      <td>1950d777989f6a877539f53795b4c3c3</td>\n",
       "      <td>1bccb206de9f0f25adc6871a1bcf77b2</td>\n",
       "      <td>canceled</td>\n",
       "      <td>2018-02-19 19:48:52</td>\n",
       "      <td>2018-02-19 20:56:05</td>\n",
       "      <td>2018-02-20 19:57:13</td>\n",
       "      <td>2018-03-21 22:03:51</td>\n",
       "      <td>2018-03-09</td>\n",
       "      <td>6a04c8339c44b23e189446216a494569</td>\n",
       "      <td>32071</td>\n",
       "      <td>contagem</td>\n",
       "      <td>MG</td>\n",
       "      <td>1.0</td>\n",
       "      <td>e435ceb7ced9b8446defd858630454ed</td>\n",
       "      <td>2a61c271b1ac763450d846849783e922</td>\n",
       "      <td>2018-02-23 20:56:05</td>\n",
       "      <td>29.99</td>\n",
       "      <td>14.10</td>\n",
       "    </tr>\n",
       "    <tr>\n",
       "      <th>9963</th>\n",
       "      <td>dabf2b0e35b423f94618bf965fcb7514</td>\n",
       "      <td>5cdec0bb8cbdf53ffc8fdc212cd247c6</td>\n",
       "      <td>canceled</td>\n",
       "      <td>2016-10-09 00:56:52</td>\n",
       "      <td>2016-10-09 13:36:58</td>\n",
       "      <td>2016-10-13 13:36:59</td>\n",
       "      <td>2016-10-16 14:36:59</td>\n",
       "      <td>2016-11-30</td>\n",
       "      <td>2f96790fba243100730c8d1185dd2f25</td>\n",
       "      <td>5846</td>\n",
       "      <td>sao paulo</td>\n",
       "      <td>SP</td>\n",
       "      <td>1.0</td>\n",
       "      <td>473795a355d29305c3ea6b156833adf5</td>\n",
       "      <td>620c87c171fb2a6dd6e8bb4dec959fc6</td>\n",
       "      <td>2016-10-13 13:36:59</td>\n",
       "      <td>59.90</td>\n",
       "      <td>0.48</td>\n",
       "    </tr>\n",
       "    <tr>\n",
       "      <th>9964</th>\n",
       "      <td>dabf2b0e35b423f94618bf965fcb7514</td>\n",
       "      <td>5cdec0bb8cbdf53ffc8fdc212cd247c6</td>\n",
       "      <td>canceled</td>\n",
       "      <td>2016-10-09 00:56:52</td>\n",
       "      <td>2016-10-09 13:36:58</td>\n",
       "      <td>2016-10-13 13:36:59</td>\n",
       "      <td>2016-10-16 14:36:59</td>\n",
       "      <td>2016-11-30</td>\n",
       "      <td>2f96790fba243100730c8d1185dd2f25</td>\n",
       "      <td>5846</td>\n",
       "      <td>sao paulo</td>\n",
       "      <td>SP</td>\n",
       "      <td>2.0</td>\n",
       "      <td>7cd29da0653abeb444703cc5a957f479</td>\n",
       "      <td>620c87c171fb2a6dd6e8bb4dec959fc6</td>\n",
       "      <td>2016-10-13 13:36:59</td>\n",
       "      <td>49.90</td>\n",
       "      <td>29.94</td>\n",
       "    </tr>\n",
       "    <tr>\n",
       "      <th>66373</th>\n",
       "      <td>770d331c84e5b214bd9dc70a10b829d0</td>\n",
       "      <td>6c57e6119369185e575b36712766b0ef</td>\n",
       "      <td>canceled</td>\n",
       "      <td>2016-10-07 14:52:30</td>\n",
       "      <td>2016-10-07 15:07:10</td>\n",
       "      <td>2016-10-11 15:07:11</td>\n",
       "      <td>2016-10-14 15:07:11</td>\n",
       "      <td>2016-11-29</td>\n",
       "      <td>59a7bb642795ddc85534fbd5f7360334</td>\n",
       "      <td>20091</td>\n",
       "      <td>rio de janeiro</td>\n",
       "      <td>RJ</td>\n",
       "      <td>1.0</td>\n",
       "      <td>eba7488e1c67729f045ab43fac426f2e</td>\n",
       "      <td>620c87c171fb2a6dd6e8bb4dec959fc6</td>\n",
       "      <td>2016-10-11 15:07:11</td>\n",
       "      <td>249.90</td>\n",
       "      <td>14.03</td>\n",
       "    </tr>\n",
       "    <tr>\n",
       "      <th>67569</th>\n",
       "      <td>8beb59392e21af5eb9547ae1a9938d06</td>\n",
       "      <td>bf609b5741f71697f65ce3852c5d2623</td>\n",
       "      <td>canceled</td>\n",
       "      <td>2016-10-08 20:17:50</td>\n",
       "      <td>2016-10-09 14:34:30</td>\n",
       "      <td>2016-10-14 22:45:26</td>\n",
       "      <td>2016-10-19 18:47:43</td>\n",
       "      <td>2016-11-30</td>\n",
       "      <td>f9af3bfab584769f34c314b222d34263</td>\n",
       "      <td>20091</td>\n",
       "      <td>rio de janeiro</td>\n",
       "      <td>RJ</td>\n",
       "      <td>1.0</td>\n",
       "      <td>c66def7098f4d87751f40c3a4855ced1</td>\n",
       "      <td>46dc3b2cc0980fb8ec44634e21d2718e</td>\n",
       "      <td>2016-10-13 14:34:31</td>\n",
       "      <td>99.99</td>\n",
       "      <td>11.23</td>\n",
       "    </tr>\n",
       "    <tr>\n",
       "      <th>105596</th>\n",
       "      <td>65d1e226dfaeb8cdc42f665422522d14</td>\n",
       "      <td>70fc57eeae292675927697fe03ad3ff5</td>\n",
       "      <td>canceled</td>\n",
       "      <td>2016-10-03 21:01:41</td>\n",
       "      <td>2016-10-04 10:18:57</td>\n",
       "      <td>2016-10-25 12:14:28</td>\n",
       "      <td>2016-11-08 10:58:34</td>\n",
       "      <td>2016-11-25</td>\n",
       "      <td>b8b8726af116a5cfb35b0315ecef9172</td>\n",
       "      <td>22770</td>\n",
       "      <td>rio de janeiro</td>\n",
       "      <td>RJ</td>\n",
       "      <td>1.0</td>\n",
       "      <td>9c7bdf67b06b419aefb93cfdfc96c55d</td>\n",
       "      <td>ed49da7cadefc454d6a67de249eab240</td>\n",
       "      <td>2016-10-21 16:24:43</td>\n",
       "      <td>21.50</td>\n",
       "      <td>14.11</td>\n",
       "    </tr>\n",
       "    <tr>\n",
       "      <th>107662</th>\n",
       "      <td>2c45c33d2f9cb8ff8b1c86cc28c11c30</td>\n",
       "      <td>de4caa97afa80c8eeac2ff4c8da5b72e</td>\n",
       "      <td>canceled</td>\n",
       "      <td>2016-10-09 15:39:56</td>\n",
       "      <td>2016-10-10 10:40:49</td>\n",
       "      <td>2016-10-14 10:40:50</td>\n",
       "      <td>2016-11-09 14:53:50</td>\n",
       "      <td>2016-12-08</td>\n",
       "      <td>d93a22bb52bb2f41a7267b8a02370781</td>\n",
       "      <td>88058</td>\n",
       "      <td>florianopolis</td>\n",
       "      <td>SC</td>\n",
       "      <td>1.0</td>\n",
       "      <td>e24f73b7631ee3fbb2ab700a9acaa258</td>\n",
       "      <td>0cbcee27c791afa0cdcb08587a2013a8</td>\n",
       "      <td>2016-10-14 10:40:50</td>\n",
       "      <td>135.00</td>\n",
       "      <td>18.51</td>\n",
       "    </tr>\n",
       "  </tbody>\n",
       "</table>\n",
       "</div>"
      ],
      "text/plain": [
       "                                order_id                       customer_id  \\\n",
       "3284    1950d777989f6a877539f53795b4c3c3  1bccb206de9f0f25adc6871a1bcf77b2   \n",
       "9963    dabf2b0e35b423f94618bf965fcb7514  5cdec0bb8cbdf53ffc8fdc212cd247c6   \n",
       "9964    dabf2b0e35b423f94618bf965fcb7514  5cdec0bb8cbdf53ffc8fdc212cd247c6   \n",
       "66373   770d331c84e5b214bd9dc70a10b829d0  6c57e6119369185e575b36712766b0ef   \n",
       "67569   8beb59392e21af5eb9547ae1a9938d06  bf609b5741f71697f65ce3852c5d2623   \n",
       "105596  65d1e226dfaeb8cdc42f665422522d14  70fc57eeae292675927697fe03ad3ff5   \n",
       "107662  2c45c33d2f9cb8ff8b1c86cc28c11c30  de4caa97afa80c8eeac2ff4c8da5b72e   \n",
       "\n",
       "       order_status order_purchase_timestamp   order_approved_at  \\\n",
       "3284       canceled      2018-02-19 19:48:52 2018-02-19 20:56:05   \n",
       "9963       canceled      2016-10-09 00:56:52 2016-10-09 13:36:58   \n",
       "9964       canceled      2016-10-09 00:56:52 2016-10-09 13:36:58   \n",
       "66373      canceled      2016-10-07 14:52:30 2016-10-07 15:07:10   \n",
       "67569      canceled      2016-10-08 20:17:50 2016-10-09 14:34:30   \n",
       "105596     canceled      2016-10-03 21:01:41 2016-10-04 10:18:57   \n",
       "107662     canceled      2016-10-09 15:39:56 2016-10-10 10:40:49   \n",
       "\n",
       "       order_delivered_carrier_date order_delivered_customer_date  \\\n",
       "3284            2018-02-20 19:57:13           2018-03-21 22:03:51   \n",
       "9963            2016-10-13 13:36:59           2016-10-16 14:36:59   \n",
       "9964            2016-10-13 13:36:59           2016-10-16 14:36:59   \n",
       "66373           2016-10-11 15:07:11           2016-10-14 15:07:11   \n",
       "67569           2016-10-14 22:45:26           2016-10-19 18:47:43   \n",
       "105596          2016-10-25 12:14:28           2016-11-08 10:58:34   \n",
       "107662          2016-10-14 10:40:50           2016-11-09 14:53:50   \n",
       "\n",
       "       order_estimated_delivery_date                customer_unique_id  \\\n",
       "3284                      2018-03-09  6a04c8339c44b23e189446216a494569   \n",
       "9963                      2016-11-30  2f96790fba243100730c8d1185dd2f25   \n",
       "9964                      2016-11-30  2f96790fba243100730c8d1185dd2f25   \n",
       "66373                     2016-11-29  59a7bb642795ddc85534fbd5f7360334   \n",
       "67569                     2016-11-30  f9af3bfab584769f34c314b222d34263   \n",
       "105596                    2016-11-25  b8b8726af116a5cfb35b0315ecef9172   \n",
       "107662                    2016-12-08  d93a22bb52bb2f41a7267b8a02370781   \n",
       "\n",
       "        customer_zip_code_prefix   customer_city customer_state  \\\n",
       "3284                       32071        contagem             MG   \n",
       "9963                        5846       sao paulo             SP   \n",
       "9964                        5846       sao paulo             SP   \n",
       "66373                      20091  rio de janeiro             RJ   \n",
       "67569                      20091  rio de janeiro             RJ   \n",
       "105596                     22770  rio de janeiro             RJ   \n",
       "107662                     88058   florianopolis             SC   \n",
       "\n",
       "        order_item_id                        product_id  \\\n",
       "3284              1.0  e435ceb7ced9b8446defd858630454ed   \n",
       "9963              1.0  473795a355d29305c3ea6b156833adf5   \n",
       "9964              2.0  7cd29da0653abeb444703cc5a957f479   \n",
       "66373             1.0  eba7488e1c67729f045ab43fac426f2e   \n",
       "67569             1.0  c66def7098f4d87751f40c3a4855ced1   \n",
       "105596            1.0  9c7bdf67b06b419aefb93cfdfc96c55d   \n",
       "107662            1.0  e24f73b7631ee3fbb2ab700a9acaa258   \n",
       "\n",
       "                               seller_id shipping_limit_date   price  \\\n",
       "3284    2a61c271b1ac763450d846849783e922 2018-02-23 20:56:05   29.99   \n",
       "9963    620c87c171fb2a6dd6e8bb4dec959fc6 2016-10-13 13:36:59   59.90   \n",
       "9964    620c87c171fb2a6dd6e8bb4dec959fc6 2016-10-13 13:36:59   49.90   \n",
       "66373   620c87c171fb2a6dd6e8bb4dec959fc6 2016-10-11 15:07:11  249.90   \n",
       "67569   46dc3b2cc0980fb8ec44634e21d2718e 2016-10-13 14:34:31   99.99   \n",
       "105596  ed49da7cadefc454d6a67de249eab240 2016-10-21 16:24:43   21.50   \n",
       "107662  0cbcee27c791afa0cdcb08587a2013a8 2016-10-14 10:40:50  135.00   \n",
       "\n",
       "        freight_value  \n",
       "3284            14.10  \n",
       "9963             0.48  \n",
       "9964            29.94  \n",
       "66373           14.03  \n",
       "67569           11.23  \n",
       "105596          14.11  \n",
       "107662          18.51  "
      ]
     },
     "execution_count": 23,
     "metadata": {},
     "output_type": "execute_result"
    }
   ],
   "source": [
    "orders_df[orders_df.order_status != 'delivered'].loc[orders_df.order_delivered_customer_date.notna()]"
   ]
  },
  {
   "cell_type": "code",
   "execution_count": 24,
   "metadata": {},
   "outputs": [
    {
     "data": {
      "text/html": [
       "<div>\n",
       "<style scoped>\n",
       "    .dataframe tbody tr th:only-of-type {\n",
       "        vertical-align: middle;\n",
       "    }\n",
       "\n",
       "    .dataframe tbody tr th {\n",
       "        vertical-align: top;\n",
       "    }\n",
       "\n",
       "    .dataframe thead th {\n",
       "        text-align: right;\n",
       "    }\n",
       "</style>\n",
       "<table border=\"1\" class=\"dataframe\">\n",
       "  <thead>\n",
       "    <tr style=\"text-align: right;\">\n",
       "      <th></th>\n",
       "      <th>order_id</th>\n",
       "      <th>customer_id</th>\n",
       "      <th>order_status</th>\n",
       "      <th>order_purchase_timestamp</th>\n",
       "      <th>order_approved_at</th>\n",
       "      <th>order_delivered_carrier_date</th>\n",
       "      <th>order_delivered_customer_date</th>\n",
       "      <th>order_estimated_delivery_date</th>\n",
       "      <th>customer_unique_id</th>\n",
       "      <th>customer_zip_code_prefix</th>\n",
       "      <th>customer_city</th>\n",
       "      <th>customer_state</th>\n",
       "      <th>order_item_id</th>\n",
       "      <th>product_id</th>\n",
       "      <th>seller_id</th>\n",
       "      <th>shipping_limit_date</th>\n",
       "      <th>price</th>\n",
       "      <th>freight_value</th>\n",
       "    </tr>\n",
       "  </thead>\n",
       "  <tbody>\n",
       "    <tr>\n",
       "      <th>6</th>\n",
       "      <td>136cce7faa42fdb2cefd53fdc79a6098</td>\n",
       "      <td>ed0271e0b7da060a393796590e7b737a</td>\n",
       "      <td>invoiced</td>\n",
       "      <td>2017-04-11 12:22:08</td>\n",
       "      <td>2017-04-13 13:25:17</td>\n",
       "      <td>NaT</td>\n",
       "      <td>NaT</td>\n",
       "      <td>2017-05-09</td>\n",
       "      <td>36edbb3fb164b1f16485364b6fb04c73</td>\n",
       "      <td>98900</td>\n",
       "      <td>santa rosa</td>\n",
       "      <td>RS</td>\n",
       "      <td>1.0</td>\n",
       "      <td>a1804276d9941ac0733cfd409f5206eb</td>\n",
       "      <td>dc8798cbf453b7e0f98745e396cc5616</td>\n",
       "      <td>2017-04-19 13:25:17</td>\n",
       "      <td>49.90</td>\n",
       "      <td>16.05</td>\n",
       "    </tr>\n",
       "    <tr>\n",
       "      <th>46</th>\n",
       "      <td>ee64d42b8cf066f35eac1cf57de1aa85</td>\n",
       "      <td>caded193e8e47b8362864762a83db3c5</td>\n",
       "      <td>shipped</td>\n",
       "      <td>2018-06-04 16:44:48</td>\n",
       "      <td>2018-06-05 04:31:18</td>\n",
       "      <td>2018-06-05 14:32:00</td>\n",
       "      <td>NaT</td>\n",
       "      <td>2018-06-28</td>\n",
       "      <td>08fb46d35bb3ab4037202c23592d1259</td>\n",
       "      <td>13215</td>\n",
       "      <td>jundiai</td>\n",
       "      <td>SP</td>\n",
       "      <td>1.0</td>\n",
       "      <td>c50ca07e9e4db9ea5011f06802c0aea0</td>\n",
       "      <td>e9779976487b77c6d4ac45f75ec7afe9</td>\n",
       "      <td>2018-06-13 04:30:33</td>\n",
       "      <td>14.49</td>\n",
       "      <td>7.87</td>\n",
       "    </tr>\n",
       "    <tr>\n",
       "      <th>118</th>\n",
       "      <td>0760a852e4e9d89eb77bf631eaaf1c84</td>\n",
       "      <td>d2a79636084590b7465af8ab374a8cf5</td>\n",
       "      <td>invoiced</td>\n",
       "      <td>2018-08-03 17:44:42</td>\n",
       "      <td>2018-08-07 06:15:14</td>\n",
       "      <td>NaT</td>\n",
       "      <td>NaT</td>\n",
       "      <td>2018-08-21</td>\n",
       "      <td>c7f8d7b1fffc946d7069574f74c39f4e</td>\n",
       "      <td>88140</td>\n",
       "      <td>santo amaro da imperatriz</td>\n",
       "      <td>SC</td>\n",
       "      <td>1.0</td>\n",
       "      <td>1522589c64efd46731d3522568e5bc83</td>\n",
       "      <td>28405831a29823802aa22c084cfd0649</td>\n",
       "      <td>2018-08-13 06:15:14</td>\n",
       "      <td>35.00</td>\n",
       "      <td>15.35</td>\n",
       "    </tr>\n",
       "    <tr>\n",
       "      <th>148</th>\n",
       "      <td>15bed8e2fec7fdbadb186b57c46c92f2</td>\n",
       "      <td>f3f0e613e0bdb9c7cee75504f0f90679</td>\n",
       "      <td>processing</td>\n",
       "      <td>2017-09-03 14:22:03</td>\n",
       "      <td>2017-09-03 14:30:09</td>\n",
       "      <td>NaT</td>\n",
       "      <td>NaT</td>\n",
       "      <td>2017-10-03</td>\n",
       "      <td>9f269af9c49244f6ba4a46985a3cfc2e</td>\n",
       "      <td>3436</td>\n",
       "      <td>sao paulo</td>\n",
       "      <td>SP</td>\n",
       "      <td>1.0</td>\n",
       "      <td>61d52f4882421048afd530db53d6f230</td>\n",
       "      <td>fa74b2f3287d296e9fbd2cc80f2d1cf1</td>\n",
       "      <td>2017-09-20 14:30:09</td>\n",
       "      <td>125.90</td>\n",
       "      <td>12.38</td>\n",
       "    </tr>\n",
       "    <tr>\n",
       "      <th>185</th>\n",
       "      <td>6942b8da583c2f9957e990d028607019</td>\n",
       "      <td>52006a9383bf149a4fb24226b173106f</td>\n",
       "      <td>shipped</td>\n",
       "      <td>2018-01-10 11:33:07</td>\n",
       "      <td>2018-01-11 02:32:30</td>\n",
       "      <td>2018-01-11 19:39:23</td>\n",
       "      <td>NaT</td>\n",
       "      <td>2018-02-07</td>\n",
       "      <td>528b011eb7fab3d59c336cc7248eed3a</td>\n",
       "      <td>38600</td>\n",
       "      <td>paracatu</td>\n",
       "      <td>MG</td>\n",
       "      <td>1.0</td>\n",
       "      <td>ee0c1cf2fbeae95205b4aa506f1469f0</td>\n",
       "      <td>cc419e0650a3c5ba77189a1882b7556a</td>\n",
       "      <td>2018-01-18 02:32:30</td>\n",
       "      <td>53.99</td>\n",
       "      <td>15.13</td>\n",
       "    </tr>\n",
       "  </tbody>\n",
       "</table>\n",
       "</div>"
      ],
      "text/plain": [
       "                             order_id                       customer_id  \\\n",
       "6    136cce7faa42fdb2cefd53fdc79a6098  ed0271e0b7da060a393796590e7b737a   \n",
       "46   ee64d42b8cf066f35eac1cf57de1aa85  caded193e8e47b8362864762a83db3c5   \n",
       "118  0760a852e4e9d89eb77bf631eaaf1c84  d2a79636084590b7465af8ab374a8cf5   \n",
       "148  15bed8e2fec7fdbadb186b57c46c92f2  f3f0e613e0bdb9c7cee75504f0f90679   \n",
       "185  6942b8da583c2f9957e990d028607019  52006a9383bf149a4fb24226b173106f   \n",
       "\n",
       "    order_status order_purchase_timestamp   order_approved_at  \\\n",
       "6       invoiced      2017-04-11 12:22:08 2017-04-13 13:25:17   \n",
       "46       shipped      2018-06-04 16:44:48 2018-06-05 04:31:18   \n",
       "118     invoiced      2018-08-03 17:44:42 2018-08-07 06:15:14   \n",
       "148   processing      2017-09-03 14:22:03 2017-09-03 14:30:09   \n",
       "185      shipped      2018-01-10 11:33:07 2018-01-11 02:32:30   \n",
       "\n",
       "    order_delivered_carrier_date order_delivered_customer_date  \\\n",
       "6                            NaT                           NaT   \n",
       "46           2018-06-05 14:32:00                           NaT   \n",
       "118                          NaT                           NaT   \n",
       "148                          NaT                           NaT   \n",
       "185          2018-01-11 19:39:23                           NaT   \n",
       "\n",
       "    order_estimated_delivery_date                customer_unique_id  \\\n",
       "6                      2017-05-09  36edbb3fb164b1f16485364b6fb04c73   \n",
       "46                     2018-06-28  08fb46d35bb3ab4037202c23592d1259   \n",
       "118                    2018-08-21  c7f8d7b1fffc946d7069574f74c39f4e   \n",
       "148                    2017-10-03  9f269af9c49244f6ba4a46985a3cfc2e   \n",
       "185                    2018-02-07  528b011eb7fab3d59c336cc7248eed3a   \n",
       "\n",
       "     customer_zip_code_prefix              customer_city customer_state  \\\n",
       "6                       98900                 santa rosa             RS   \n",
       "46                      13215                    jundiai             SP   \n",
       "118                     88140  santo amaro da imperatriz             SC   \n",
       "148                      3436                  sao paulo             SP   \n",
       "185                     38600                   paracatu             MG   \n",
       "\n",
       "     order_item_id                        product_id  \\\n",
       "6              1.0  a1804276d9941ac0733cfd409f5206eb   \n",
       "46             1.0  c50ca07e9e4db9ea5011f06802c0aea0   \n",
       "118            1.0  1522589c64efd46731d3522568e5bc83   \n",
       "148            1.0  61d52f4882421048afd530db53d6f230   \n",
       "185            1.0  ee0c1cf2fbeae95205b4aa506f1469f0   \n",
       "\n",
       "                            seller_id shipping_limit_date   price  \\\n",
       "6    dc8798cbf453b7e0f98745e396cc5616 2017-04-19 13:25:17   49.90   \n",
       "46   e9779976487b77c6d4ac45f75ec7afe9 2018-06-13 04:30:33   14.49   \n",
       "118  28405831a29823802aa22c084cfd0649 2018-08-13 06:15:14   35.00   \n",
       "148  fa74b2f3287d296e9fbd2cc80f2d1cf1 2017-09-20 14:30:09  125.90   \n",
       "185  cc419e0650a3c5ba77189a1882b7556a 2018-01-18 02:32:30   53.99   \n",
       "\n",
       "     freight_value  \n",
       "6            16.05  \n",
       "46            7.87  \n",
       "118          15.35  \n",
       "148          12.38  \n",
       "185          15.13  "
      ]
     },
     "execution_count": 24,
     "metadata": {},
     "output_type": "execute_result"
    }
   ],
   "source": [
    "# Делаем дата сет для дальнейшего расчета и визуализации\n",
    "\n",
    "merged_orders_customer = orders_df[orders_df.order_status != 'delivered']\n",
    "merged_orders_customer.head()"
   ]
  },
  {
   "cell_type": "code",
   "execution_count": 25,
   "metadata": {},
   "outputs": [
    {
     "name": "stderr",
     "output_type": "stream",
     "text": [
      "/opt/tljh/user/lib/python3.7/site-packages/ipykernel_launcher.py:4: SettingWithCopyWarning: \n",
      "A value is trying to be set on a copy of a slice from a DataFrame.\n",
      "Try using .loc[row_indexer,col_indexer] = value instead\n",
      "\n",
      "See the caveats in the documentation: https://pandas.pydata.org/pandas-docs/stable/user_guide/indexing.html#returning-a-view-versus-a-copy\n",
      "  after removing the cwd from sys.path.\n",
      "/opt/tljh/user/lib/python3.7/site-packages/ipykernel_launcher.py:7: SettingWithCopyWarning: \n",
      "A value is trying to be set on a copy of a slice from a DataFrame.\n",
      "Try using .loc[row_indexer,col_indexer] = value instead\n",
      "\n",
      "See the caveats in the documentation: https://pandas.pydata.org/pandas-docs/stable/user_guide/indexing.html#returning-a-view-versus-a-copy\n",
      "  import sys\n"
     ]
    },
    {
     "data": {
      "text/html": [
       "<div>\n",
       "<style scoped>\n",
       "    .dataframe tbody tr th:only-of-type {\n",
       "        vertical-align: middle;\n",
       "    }\n",
       "\n",
       "    .dataframe tbody tr th {\n",
       "        vertical-align: top;\n",
       "    }\n",
       "\n",
       "    .dataframe thead th {\n",
       "        text-align: right;\n",
       "    }\n",
       "</style>\n",
       "<table border=\"1\" class=\"dataframe\">\n",
       "  <thead>\n",
       "    <tr style=\"text-align: right;\">\n",
       "      <th></th>\n",
       "      <th>order_id</th>\n",
       "      <th>customer_id</th>\n",
       "      <th>order_status</th>\n",
       "      <th>order_purchase_timestamp</th>\n",
       "      <th>order_approved_at</th>\n",
       "      <th>order_delivered_carrier_date</th>\n",
       "      <th>order_delivered_customer_date</th>\n",
       "      <th>order_estimated_delivery_date</th>\n",
       "      <th>customer_unique_id</th>\n",
       "      <th>customer_zip_code_prefix</th>\n",
       "      <th>customer_city</th>\n",
       "      <th>customer_state</th>\n",
       "      <th>order_item_id</th>\n",
       "      <th>product_id</th>\n",
       "      <th>seller_id</th>\n",
       "      <th>shipping_limit_date</th>\n",
       "      <th>price</th>\n",
       "      <th>freight_value</th>\n",
       "      <th>order_estimated_delivery_month</th>\n",
       "      <th>order_estimated_delivery_year</th>\n",
       "    </tr>\n",
       "  </thead>\n",
       "  <tbody>\n",
       "    <tr>\n",
       "      <th>6</th>\n",
       "      <td>136cce7faa42fdb2cefd53fdc79a6098</td>\n",
       "      <td>ed0271e0b7da060a393796590e7b737a</td>\n",
       "      <td>invoiced</td>\n",
       "      <td>2017-04-11 12:22:08</td>\n",
       "      <td>2017-04-13 13:25:17</td>\n",
       "      <td>NaT</td>\n",
       "      <td>NaT</td>\n",
       "      <td>2017-05-09</td>\n",
       "      <td>36edbb3fb164b1f16485364b6fb04c73</td>\n",
       "      <td>98900</td>\n",
       "      <td>santa rosa</td>\n",
       "      <td>RS</td>\n",
       "      <td>1.0</td>\n",
       "      <td>a1804276d9941ac0733cfd409f5206eb</td>\n",
       "      <td>dc8798cbf453b7e0f98745e396cc5616</td>\n",
       "      <td>2017-04-19 13:25:17</td>\n",
       "      <td>49.90</td>\n",
       "      <td>16.05</td>\n",
       "      <td>5</td>\n",
       "      <td>2017</td>\n",
       "    </tr>\n",
       "    <tr>\n",
       "      <th>46</th>\n",
       "      <td>ee64d42b8cf066f35eac1cf57de1aa85</td>\n",
       "      <td>caded193e8e47b8362864762a83db3c5</td>\n",
       "      <td>shipped</td>\n",
       "      <td>2018-06-04 16:44:48</td>\n",
       "      <td>2018-06-05 04:31:18</td>\n",
       "      <td>2018-06-05 14:32:00</td>\n",
       "      <td>NaT</td>\n",
       "      <td>2018-06-28</td>\n",
       "      <td>08fb46d35bb3ab4037202c23592d1259</td>\n",
       "      <td>13215</td>\n",
       "      <td>jundiai</td>\n",
       "      <td>SP</td>\n",
       "      <td>1.0</td>\n",
       "      <td>c50ca07e9e4db9ea5011f06802c0aea0</td>\n",
       "      <td>e9779976487b77c6d4ac45f75ec7afe9</td>\n",
       "      <td>2018-06-13 04:30:33</td>\n",
       "      <td>14.49</td>\n",
       "      <td>7.87</td>\n",
       "      <td>6</td>\n",
       "      <td>2018</td>\n",
       "    </tr>\n",
       "    <tr>\n",
       "      <th>118</th>\n",
       "      <td>0760a852e4e9d89eb77bf631eaaf1c84</td>\n",
       "      <td>d2a79636084590b7465af8ab374a8cf5</td>\n",
       "      <td>invoiced</td>\n",
       "      <td>2018-08-03 17:44:42</td>\n",
       "      <td>2018-08-07 06:15:14</td>\n",
       "      <td>NaT</td>\n",
       "      <td>NaT</td>\n",
       "      <td>2018-08-21</td>\n",
       "      <td>c7f8d7b1fffc946d7069574f74c39f4e</td>\n",
       "      <td>88140</td>\n",
       "      <td>santo amaro da imperatriz</td>\n",
       "      <td>SC</td>\n",
       "      <td>1.0</td>\n",
       "      <td>1522589c64efd46731d3522568e5bc83</td>\n",
       "      <td>28405831a29823802aa22c084cfd0649</td>\n",
       "      <td>2018-08-13 06:15:14</td>\n",
       "      <td>35.00</td>\n",
       "      <td>15.35</td>\n",
       "      <td>8</td>\n",
       "      <td>2018</td>\n",
       "    </tr>\n",
       "    <tr>\n",
       "      <th>148</th>\n",
       "      <td>15bed8e2fec7fdbadb186b57c46c92f2</td>\n",
       "      <td>f3f0e613e0bdb9c7cee75504f0f90679</td>\n",
       "      <td>processing</td>\n",
       "      <td>2017-09-03 14:22:03</td>\n",
       "      <td>2017-09-03 14:30:09</td>\n",
       "      <td>NaT</td>\n",
       "      <td>NaT</td>\n",
       "      <td>2017-10-03</td>\n",
       "      <td>9f269af9c49244f6ba4a46985a3cfc2e</td>\n",
       "      <td>3436</td>\n",
       "      <td>sao paulo</td>\n",
       "      <td>SP</td>\n",
       "      <td>1.0</td>\n",
       "      <td>61d52f4882421048afd530db53d6f230</td>\n",
       "      <td>fa74b2f3287d296e9fbd2cc80f2d1cf1</td>\n",
       "      <td>2017-09-20 14:30:09</td>\n",
       "      <td>125.90</td>\n",
       "      <td>12.38</td>\n",
       "      <td>10</td>\n",
       "      <td>2017</td>\n",
       "    </tr>\n",
       "    <tr>\n",
       "      <th>185</th>\n",
       "      <td>6942b8da583c2f9957e990d028607019</td>\n",
       "      <td>52006a9383bf149a4fb24226b173106f</td>\n",
       "      <td>shipped</td>\n",
       "      <td>2018-01-10 11:33:07</td>\n",
       "      <td>2018-01-11 02:32:30</td>\n",
       "      <td>2018-01-11 19:39:23</td>\n",
       "      <td>NaT</td>\n",
       "      <td>2018-02-07</td>\n",
       "      <td>528b011eb7fab3d59c336cc7248eed3a</td>\n",
       "      <td>38600</td>\n",
       "      <td>paracatu</td>\n",
       "      <td>MG</td>\n",
       "      <td>1.0</td>\n",
       "      <td>ee0c1cf2fbeae95205b4aa506f1469f0</td>\n",
       "      <td>cc419e0650a3c5ba77189a1882b7556a</td>\n",
       "      <td>2018-01-18 02:32:30</td>\n",
       "      <td>53.99</td>\n",
       "      <td>15.13</td>\n",
       "      <td>2</td>\n",
       "      <td>2018</td>\n",
       "    </tr>\n",
       "  </tbody>\n",
       "</table>\n",
       "</div>"
      ],
      "text/plain": [
       "                             order_id                       customer_id  \\\n",
       "6    136cce7faa42fdb2cefd53fdc79a6098  ed0271e0b7da060a393796590e7b737a   \n",
       "46   ee64d42b8cf066f35eac1cf57de1aa85  caded193e8e47b8362864762a83db3c5   \n",
       "118  0760a852e4e9d89eb77bf631eaaf1c84  d2a79636084590b7465af8ab374a8cf5   \n",
       "148  15bed8e2fec7fdbadb186b57c46c92f2  f3f0e613e0bdb9c7cee75504f0f90679   \n",
       "185  6942b8da583c2f9957e990d028607019  52006a9383bf149a4fb24226b173106f   \n",
       "\n",
       "    order_status order_purchase_timestamp   order_approved_at  \\\n",
       "6       invoiced      2017-04-11 12:22:08 2017-04-13 13:25:17   \n",
       "46       shipped      2018-06-04 16:44:48 2018-06-05 04:31:18   \n",
       "118     invoiced      2018-08-03 17:44:42 2018-08-07 06:15:14   \n",
       "148   processing      2017-09-03 14:22:03 2017-09-03 14:30:09   \n",
       "185      shipped      2018-01-10 11:33:07 2018-01-11 02:32:30   \n",
       "\n",
       "    order_delivered_carrier_date order_delivered_customer_date  \\\n",
       "6                            NaT                           NaT   \n",
       "46           2018-06-05 14:32:00                           NaT   \n",
       "118                          NaT                           NaT   \n",
       "148                          NaT                           NaT   \n",
       "185          2018-01-11 19:39:23                           NaT   \n",
       "\n",
       "    order_estimated_delivery_date                customer_unique_id  \\\n",
       "6                      2017-05-09  36edbb3fb164b1f16485364b6fb04c73   \n",
       "46                     2018-06-28  08fb46d35bb3ab4037202c23592d1259   \n",
       "118                    2018-08-21  c7f8d7b1fffc946d7069574f74c39f4e   \n",
       "148                    2017-10-03  9f269af9c49244f6ba4a46985a3cfc2e   \n",
       "185                    2018-02-07  528b011eb7fab3d59c336cc7248eed3a   \n",
       "\n",
       "     customer_zip_code_prefix              customer_city customer_state  \\\n",
       "6                       98900                 santa rosa             RS   \n",
       "46                      13215                    jundiai             SP   \n",
       "118                     88140  santo amaro da imperatriz             SC   \n",
       "148                      3436                  sao paulo             SP   \n",
       "185                     38600                   paracatu             MG   \n",
       "\n",
       "     order_item_id                        product_id  \\\n",
       "6              1.0  a1804276d9941ac0733cfd409f5206eb   \n",
       "46             1.0  c50ca07e9e4db9ea5011f06802c0aea0   \n",
       "118            1.0  1522589c64efd46731d3522568e5bc83   \n",
       "148            1.0  61d52f4882421048afd530db53d6f230   \n",
       "185            1.0  ee0c1cf2fbeae95205b4aa506f1469f0   \n",
       "\n",
       "                            seller_id shipping_limit_date   price  \\\n",
       "6    dc8798cbf453b7e0f98745e396cc5616 2017-04-19 13:25:17   49.90   \n",
       "46   e9779976487b77c6d4ac45f75ec7afe9 2018-06-13 04:30:33   14.49   \n",
       "118  28405831a29823802aa22c084cfd0649 2018-08-13 06:15:14   35.00   \n",
       "148  fa74b2f3287d296e9fbd2cc80f2d1cf1 2017-09-20 14:30:09  125.90   \n",
       "185  cc419e0650a3c5ba77189a1882b7556a 2018-01-18 02:32:30   53.99   \n",
       "\n",
       "     freight_value  order_estimated_delivery_month  \\\n",
       "6            16.05                               5   \n",
       "46            7.87                               6   \n",
       "118          15.35                               8   \n",
       "148          12.38                              10   \n",
       "185          15.13                               2   \n",
       "\n",
       "     order_estimated_delivery_year  \n",
       "6                             2017  \n",
       "46                            2018  \n",
       "118                           2018  \n",
       "148                           2017  \n",
       "185                           2018  "
      ]
     },
     "execution_count": 25,
     "metadata": {},
     "output_type": "execute_result"
    }
   ],
   "source": [
    "# Добавляем колонки с месяцем и годом обещаной доставки.\n",
    "\n",
    "merged_orders_customer['order_estimated_delivery_month'] = \\\n",
    "merged_orders_customer.order_estimated_delivery_date.dt.month\n",
    "\n",
    "merged_orders_customer['order_estimated_delivery_year'] = \\\n",
    "merged_orders_customer.order_estimated_delivery_date.dt.year\n",
    "\n",
    "merged_orders_customer.head()"
   ]
  },
  {
   "cell_type": "markdown",
   "metadata": {},
   "source": [
    "Далее группируем по id заказа, году, месяцу и статусу заказа (т.к. данные у нас за несколько лет и месяцев).\n",
    "Считаем количесвто за каждыей месяц по каждой причине.\n",
    "Также убираем из дата сета заказы со статусом delivered, т.к. вероятно, что они тоже доставлены, но дата не зафиксирована, о чем я писал ранее."
   ]
  },
  {
   "cell_type": "code",
   "execution_count": 26,
   "metadata": {},
   "outputs": [],
   "source": [
    "group_status_mean = merged_orders_customer \\\n",
    "    .groupby(['order_id', 'order_estimated_delivery_month','order_estimated_delivery_year', 'order_status'], \n",
    "             as_index=False) \\\n",
    "    .customer_id.count() \\\n",
    "    .groupby(['order_estimated_delivery_year', 'order_status'], as_index=False) \\\n",
    "    .agg({'customer_id': 'mean'}) \\\n",
    "    .rename(columns={'customer_id': 'monthly_mean'}) \\\n",
    "    .sort_values(['order_status','monthly_mean'], ascending=False)"
   ]
  },
  {
   "cell_type": "code",
   "execution_count": 30,
   "metadata": {},
   "outputs": [],
   "source": [
    "group_status_mean = merged_orders_customer \\\n",
    "    .groupby(['order_estimated_delivery_month','order_estimated_delivery_year', 'order_status'], \n",
    "             as_index=False) \\\n",
    "    .order_id.nunique() \\\n",
    "    .groupby(['order_estimated_delivery_year', 'order_status'], as_index=False) \\\n",
    "    .agg({'order_id': 'mean'}) \\\n",
    "    .rename(columns={'order_id': 'monthly_mean'}) \\\n",
    "    .sort_values(['order_status','monthly_mean'], ascending=False)"
   ]
  },
  {
   "cell_type": "code",
   "execution_count": 31,
   "metadata": {},
   "outputs": [
    {
     "data": {
      "application/vnd.plotly.v1+json": {
       "config": {
        "plotlyServerURL": "https://plot.ly"
       },
       "data": [
        {
         "alignmentgroup": "True",
         "bingroup": "x",
         "histfunc": "sum",
         "hovertemplate": "Year of purchase:=2017<br>Order Status=%{x}<br>sum of Monthly Mean=%{y}<extra></extra>",
         "legendgroup": "2017",
         "marker": {
          "color": "#636efa"
         },
         "name": "2017",
         "offsetgroup": "2017",
         "orientation": "v",
         "showlegend": true,
         "type": "histogram",
         "x": [
          "unavailable",
          "shipped",
          "processing",
          "invoiced",
          "created",
          "canceled",
          "approved"
         ],
         "xaxis": "x",
         "y": [
          38.63636363636363,
          44.27272727272727,
          19,
          15.181818181818182,
          2,
          23.454545454545453,
          1
         ],
         "yaxis": "y"
        },
        {
         "alignmentgroup": "True",
         "bingroup": "x",
         "histfunc": "sum",
         "hovertemplate": "Year of purchase:=2018<br>Order Status=%{x}<br>sum of Monthly Mean=%{y}<extra></extra>",
         "legendgroup": "2018",
         "marker": {
          "color": "#EF553B"
         },
         "name": "2018",
         "offsetgroup": "2018",
         "orientation": "v",
         "showlegend": true,
         "type": "histogram",
         "x": [
          "unavailable",
          "shipped",
          "processing",
          "invoiced",
          "created",
          "canceled"
         ],
         "xaxis": "x",
         "y": [
          22.125,
          67.88888888888889,
          12.857142857142858,
          16.125,
          1.5,
          31
         ],
         "yaxis": "y"
        },
        {
         "alignmentgroup": "True",
         "bingroup": "x",
         "histfunc": "sum",
         "hovertemplate": "Year of purchase:=2016<br>Order Status=%{x}<br>sum of Monthly Mean=%{y}<extra></extra>",
         "legendgroup": "2016",
         "marker": {
          "color": "#00cc96"
         },
         "name": "2016",
         "offsetgroup": "2016",
         "orientation": "v",
         "showlegend": true,
         "type": "histogram",
         "x": [
          "unavailable",
          "shipped",
          "processing",
          "invoiced",
          "canceled"
         ],
         "xaxis": "x",
         "y": [
          3.5,
          3,
          2,
          9,
          6.5
         ],
         "yaxis": "y"
        }
       ],
       "layout": {
        "barmode": "group",
        "height": 500,
        "legend": {
         "title": {
          "text": "Year of purchase:"
         },
         "tracegroupgap": 0
        },
        "template": {
         "data": {
          "bar": [
           {
            "error_x": {
             "color": "#2a3f5f"
            },
            "error_y": {
             "color": "#2a3f5f"
            },
            "marker": {
             "line": {
              "color": "#E5ECF6",
              "width": 0.5
             }
            },
            "type": "bar"
           }
          ],
          "barpolar": [
           {
            "marker": {
             "line": {
              "color": "#E5ECF6",
              "width": 0.5
             }
            },
            "type": "barpolar"
           }
          ],
          "carpet": [
           {
            "aaxis": {
             "endlinecolor": "#2a3f5f",
             "gridcolor": "white",
             "linecolor": "white",
             "minorgridcolor": "white",
             "startlinecolor": "#2a3f5f"
            },
            "baxis": {
             "endlinecolor": "#2a3f5f",
             "gridcolor": "white",
             "linecolor": "white",
             "minorgridcolor": "white",
             "startlinecolor": "#2a3f5f"
            },
            "type": "carpet"
           }
          ],
          "choropleth": [
           {
            "colorbar": {
             "outlinewidth": 0,
             "ticks": ""
            },
            "type": "choropleth"
           }
          ],
          "contour": [
           {
            "colorbar": {
             "outlinewidth": 0,
             "ticks": ""
            },
            "colorscale": [
             [
              0,
              "#0d0887"
             ],
             [
              0.1111111111111111,
              "#46039f"
             ],
             [
              0.2222222222222222,
              "#7201a8"
             ],
             [
              0.3333333333333333,
              "#9c179e"
             ],
             [
              0.4444444444444444,
              "#bd3786"
             ],
             [
              0.5555555555555556,
              "#d8576b"
             ],
             [
              0.6666666666666666,
              "#ed7953"
             ],
             [
              0.7777777777777778,
              "#fb9f3a"
             ],
             [
              0.8888888888888888,
              "#fdca26"
             ],
             [
              1,
              "#f0f921"
             ]
            ],
            "type": "contour"
           }
          ],
          "contourcarpet": [
           {
            "colorbar": {
             "outlinewidth": 0,
             "ticks": ""
            },
            "type": "contourcarpet"
           }
          ],
          "heatmap": [
           {
            "colorbar": {
             "outlinewidth": 0,
             "ticks": ""
            },
            "colorscale": [
             [
              0,
              "#0d0887"
             ],
             [
              0.1111111111111111,
              "#46039f"
             ],
             [
              0.2222222222222222,
              "#7201a8"
             ],
             [
              0.3333333333333333,
              "#9c179e"
             ],
             [
              0.4444444444444444,
              "#bd3786"
             ],
             [
              0.5555555555555556,
              "#d8576b"
             ],
             [
              0.6666666666666666,
              "#ed7953"
             ],
             [
              0.7777777777777778,
              "#fb9f3a"
             ],
             [
              0.8888888888888888,
              "#fdca26"
             ],
             [
              1,
              "#f0f921"
             ]
            ],
            "type": "heatmap"
           }
          ],
          "heatmapgl": [
           {
            "colorbar": {
             "outlinewidth": 0,
             "ticks": ""
            },
            "colorscale": [
             [
              0,
              "#0d0887"
             ],
             [
              0.1111111111111111,
              "#46039f"
             ],
             [
              0.2222222222222222,
              "#7201a8"
             ],
             [
              0.3333333333333333,
              "#9c179e"
             ],
             [
              0.4444444444444444,
              "#bd3786"
             ],
             [
              0.5555555555555556,
              "#d8576b"
             ],
             [
              0.6666666666666666,
              "#ed7953"
             ],
             [
              0.7777777777777778,
              "#fb9f3a"
             ],
             [
              0.8888888888888888,
              "#fdca26"
             ],
             [
              1,
              "#f0f921"
             ]
            ],
            "type": "heatmapgl"
           }
          ],
          "histogram": [
           {
            "marker": {
             "colorbar": {
              "outlinewidth": 0,
              "ticks": ""
             }
            },
            "type": "histogram"
           }
          ],
          "histogram2d": [
           {
            "colorbar": {
             "outlinewidth": 0,
             "ticks": ""
            },
            "colorscale": [
             [
              0,
              "#0d0887"
             ],
             [
              0.1111111111111111,
              "#46039f"
             ],
             [
              0.2222222222222222,
              "#7201a8"
             ],
             [
              0.3333333333333333,
              "#9c179e"
             ],
             [
              0.4444444444444444,
              "#bd3786"
             ],
             [
              0.5555555555555556,
              "#d8576b"
             ],
             [
              0.6666666666666666,
              "#ed7953"
             ],
             [
              0.7777777777777778,
              "#fb9f3a"
             ],
             [
              0.8888888888888888,
              "#fdca26"
             ],
             [
              1,
              "#f0f921"
             ]
            ],
            "type": "histogram2d"
           }
          ],
          "histogram2dcontour": [
           {
            "colorbar": {
             "outlinewidth": 0,
             "ticks": ""
            },
            "colorscale": [
             [
              0,
              "#0d0887"
             ],
             [
              0.1111111111111111,
              "#46039f"
             ],
             [
              0.2222222222222222,
              "#7201a8"
             ],
             [
              0.3333333333333333,
              "#9c179e"
             ],
             [
              0.4444444444444444,
              "#bd3786"
             ],
             [
              0.5555555555555556,
              "#d8576b"
             ],
             [
              0.6666666666666666,
              "#ed7953"
             ],
             [
              0.7777777777777778,
              "#fb9f3a"
             ],
             [
              0.8888888888888888,
              "#fdca26"
             ],
             [
              1,
              "#f0f921"
             ]
            ],
            "type": "histogram2dcontour"
           }
          ],
          "mesh3d": [
           {
            "colorbar": {
             "outlinewidth": 0,
             "ticks": ""
            },
            "type": "mesh3d"
           }
          ],
          "parcoords": [
           {
            "line": {
             "colorbar": {
              "outlinewidth": 0,
              "ticks": ""
             }
            },
            "type": "parcoords"
           }
          ],
          "pie": [
           {
            "automargin": true,
            "type": "pie"
           }
          ],
          "scatter": [
           {
            "marker": {
             "colorbar": {
              "outlinewidth": 0,
              "ticks": ""
             }
            },
            "type": "scatter"
           }
          ],
          "scatter3d": [
           {
            "line": {
             "colorbar": {
              "outlinewidth": 0,
              "ticks": ""
             }
            },
            "marker": {
             "colorbar": {
              "outlinewidth": 0,
              "ticks": ""
             }
            },
            "type": "scatter3d"
           }
          ],
          "scattercarpet": [
           {
            "marker": {
             "colorbar": {
              "outlinewidth": 0,
              "ticks": ""
             }
            },
            "type": "scattercarpet"
           }
          ],
          "scattergeo": [
           {
            "marker": {
             "colorbar": {
              "outlinewidth": 0,
              "ticks": ""
             }
            },
            "type": "scattergeo"
           }
          ],
          "scattergl": [
           {
            "marker": {
             "colorbar": {
              "outlinewidth": 0,
              "ticks": ""
             }
            },
            "type": "scattergl"
           }
          ],
          "scattermapbox": [
           {
            "marker": {
             "colorbar": {
              "outlinewidth": 0,
              "ticks": ""
             }
            },
            "type": "scattermapbox"
           }
          ],
          "scatterpolar": [
           {
            "marker": {
             "colorbar": {
              "outlinewidth": 0,
              "ticks": ""
             }
            },
            "type": "scatterpolar"
           }
          ],
          "scatterpolargl": [
           {
            "marker": {
             "colorbar": {
              "outlinewidth": 0,
              "ticks": ""
             }
            },
            "type": "scatterpolargl"
           }
          ],
          "scatterternary": [
           {
            "marker": {
             "colorbar": {
              "outlinewidth": 0,
              "ticks": ""
             }
            },
            "type": "scatterternary"
           }
          ],
          "surface": [
           {
            "colorbar": {
             "outlinewidth": 0,
             "ticks": ""
            },
            "colorscale": [
             [
              0,
              "#0d0887"
             ],
             [
              0.1111111111111111,
              "#46039f"
             ],
             [
              0.2222222222222222,
              "#7201a8"
             ],
             [
              0.3333333333333333,
              "#9c179e"
             ],
             [
              0.4444444444444444,
              "#bd3786"
             ],
             [
              0.5555555555555556,
              "#d8576b"
             ],
             [
              0.6666666666666666,
              "#ed7953"
             ],
             [
              0.7777777777777778,
              "#fb9f3a"
             ],
             [
              0.8888888888888888,
              "#fdca26"
             ],
             [
              1,
              "#f0f921"
             ]
            ],
            "type": "surface"
           }
          ],
          "table": [
           {
            "cells": {
             "fill": {
              "color": "#EBF0F8"
             },
             "line": {
              "color": "white"
             }
            },
            "header": {
             "fill": {
              "color": "#C8D4E3"
             },
             "line": {
              "color": "white"
             }
            },
            "type": "table"
           }
          ]
         },
         "layout": {
          "annotationdefaults": {
           "arrowcolor": "#2a3f5f",
           "arrowhead": 0,
           "arrowwidth": 1
          },
          "coloraxis": {
           "colorbar": {
            "outlinewidth": 0,
            "ticks": ""
           }
          },
          "colorscale": {
           "diverging": [
            [
             0,
             "#8e0152"
            ],
            [
             0.1,
             "#c51b7d"
            ],
            [
             0.2,
             "#de77ae"
            ],
            [
             0.3,
             "#f1b6da"
            ],
            [
             0.4,
             "#fde0ef"
            ],
            [
             0.5,
             "#f7f7f7"
            ],
            [
             0.6,
             "#e6f5d0"
            ],
            [
             0.7,
             "#b8e186"
            ],
            [
             0.8,
             "#7fbc41"
            ],
            [
             0.9,
             "#4d9221"
            ],
            [
             1,
             "#276419"
            ]
           ],
           "sequential": [
            [
             0,
             "#0d0887"
            ],
            [
             0.1111111111111111,
             "#46039f"
            ],
            [
             0.2222222222222222,
             "#7201a8"
            ],
            [
             0.3333333333333333,
             "#9c179e"
            ],
            [
             0.4444444444444444,
             "#bd3786"
            ],
            [
             0.5555555555555556,
             "#d8576b"
            ],
            [
             0.6666666666666666,
             "#ed7953"
            ],
            [
             0.7777777777777778,
             "#fb9f3a"
            ],
            [
             0.8888888888888888,
             "#fdca26"
            ],
            [
             1,
             "#f0f921"
            ]
           ],
           "sequentialminus": [
            [
             0,
             "#0d0887"
            ],
            [
             0.1111111111111111,
             "#46039f"
            ],
            [
             0.2222222222222222,
             "#7201a8"
            ],
            [
             0.3333333333333333,
             "#9c179e"
            ],
            [
             0.4444444444444444,
             "#bd3786"
            ],
            [
             0.5555555555555556,
             "#d8576b"
            ],
            [
             0.6666666666666666,
             "#ed7953"
            ],
            [
             0.7777777777777778,
             "#fb9f3a"
            ],
            [
             0.8888888888888888,
             "#fdca26"
            ],
            [
             1,
             "#f0f921"
            ]
           ]
          },
          "colorway": [
           "#636efa",
           "#EF553B",
           "#00cc96",
           "#ab63fa",
           "#FFA15A",
           "#19d3f3",
           "#FF6692",
           "#B6E880",
           "#FF97FF",
           "#FECB52"
          ],
          "font": {
           "color": "#2a3f5f"
          },
          "geo": {
           "bgcolor": "white",
           "lakecolor": "white",
           "landcolor": "#E5ECF6",
           "showlakes": true,
           "showland": true,
           "subunitcolor": "white"
          },
          "hoverlabel": {
           "align": "left"
          },
          "hovermode": "closest",
          "mapbox": {
           "style": "light"
          },
          "paper_bgcolor": "white",
          "plot_bgcolor": "#E5ECF6",
          "polar": {
           "angularaxis": {
            "gridcolor": "white",
            "linecolor": "white",
            "ticks": ""
           },
           "bgcolor": "#E5ECF6",
           "radialaxis": {
            "gridcolor": "white",
            "linecolor": "white",
            "ticks": ""
           }
          },
          "scene": {
           "xaxis": {
            "backgroundcolor": "#E5ECF6",
            "gridcolor": "white",
            "gridwidth": 2,
            "linecolor": "white",
            "showbackground": true,
            "ticks": "",
            "zerolinecolor": "white"
           },
           "yaxis": {
            "backgroundcolor": "#E5ECF6",
            "gridcolor": "white",
            "gridwidth": 2,
            "linecolor": "white",
            "showbackground": true,
            "ticks": "",
            "zerolinecolor": "white"
           },
           "zaxis": {
            "backgroundcolor": "#E5ECF6",
            "gridcolor": "white",
            "gridwidth": 2,
            "linecolor": "white",
            "showbackground": true,
            "ticks": "",
            "zerolinecolor": "white"
           }
          },
          "shapedefaults": {
           "line": {
            "color": "#2a3f5f"
           }
          },
          "ternary": {
           "aaxis": {
            "gridcolor": "white",
            "linecolor": "white",
            "ticks": ""
           },
           "baxis": {
            "gridcolor": "white",
            "linecolor": "white",
            "ticks": ""
           },
           "bgcolor": "#E5ECF6",
           "caxis": {
            "gridcolor": "white",
            "linecolor": "white",
            "ticks": ""
           }
          },
          "title": {
           "x": 0.05
          },
          "xaxis": {
           "automargin": true,
           "gridcolor": "white",
           "linecolor": "white",
           "ticks": "",
           "title": {
            "standoff": 15
           },
           "zerolinecolor": "white",
           "zerolinewidth": 2
          },
          "yaxis": {
           "automargin": true,
           "gridcolor": "white",
           "linecolor": "white",
           "ticks": "",
           "title": {
            "standoff": 15
           },
           "zerolinecolor": "white",
           "zerolinewidth": 2
          }
         }
        },
        "title": {
         "text": "Not delivered orders (mean)"
        },
        "xaxis": {
         "anchor": "y",
         "domain": [
          0,
          1
         ],
         "title": {
          "text": "Order Status"
         }
        },
        "yaxis": {
         "anchor": "x",
         "domain": [
          0,
          1
         ],
         "title": {
          "text": "sum of Monthly Mean"
         }
        }
       }
      },
      "text/html": [
       "<div>\n",
       "        \n",
       "        \n",
       "            <div id=\"b76bcdb1-2039-48ff-ba47-6e3757fcd45b\" class=\"plotly-graph-div\" style=\"height:500px; width:100%;\"></div>\n",
       "            <script type=\"text/javascript\">\n",
       "                require([\"plotly\"], function(Plotly) {\n",
       "                    window.PLOTLYENV=window.PLOTLYENV || {};\n",
       "                    \n",
       "                if (document.getElementById(\"b76bcdb1-2039-48ff-ba47-6e3757fcd45b\")) {\n",
       "                    Plotly.newPlot(\n",
       "                        'b76bcdb1-2039-48ff-ba47-6e3757fcd45b',\n",
       "                        [{\"alignmentgroup\": \"True\", \"bingroup\": \"x\", \"histfunc\": \"sum\", \"hovertemplate\": \"Year of purchase:=2017<br>Order Status=%{x}<br>sum of Monthly Mean=%{y}<extra></extra>\", \"legendgroup\": \"2017\", \"marker\": {\"color\": \"#636efa\"}, \"name\": \"2017\", \"offsetgroup\": \"2017\", \"orientation\": \"v\", \"showlegend\": true, \"type\": \"histogram\", \"x\": [\"unavailable\", \"shipped\", \"processing\", \"invoiced\", \"created\", \"canceled\", \"approved\"], \"xaxis\": \"x\", \"y\": [38.63636363636363, 44.27272727272727, 19.0, 15.181818181818182, 2.0, 23.454545454545453, 1.0], \"yaxis\": \"y\"}, {\"alignmentgroup\": \"True\", \"bingroup\": \"x\", \"histfunc\": \"sum\", \"hovertemplate\": \"Year of purchase:=2018<br>Order Status=%{x}<br>sum of Monthly Mean=%{y}<extra></extra>\", \"legendgroup\": \"2018\", \"marker\": {\"color\": \"#EF553B\"}, \"name\": \"2018\", \"offsetgroup\": \"2018\", \"orientation\": \"v\", \"showlegend\": true, \"type\": \"histogram\", \"x\": [\"unavailable\", \"shipped\", \"processing\", \"invoiced\", \"created\", \"canceled\"], \"xaxis\": \"x\", \"y\": [22.125, 67.88888888888889, 12.857142857142858, 16.125, 1.5, 31.0], \"yaxis\": \"y\"}, {\"alignmentgroup\": \"True\", \"bingroup\": \"x\", \"histfunc\": \"sum\", \"hovertemplate\": \"Year of purchase:=2016<br>Order Status=%{x}<br>sum of Monthly Mean=%{y}<extra></extra>\", \"legendgroup\": \"2016\", \"marker\": {\"color\": \"#00cc96\"}, \"name\": \"2016\", \"offsetgroup\": \"2016\", \"orientation\": \"v\", \"showlegend\": true, \"type\": \"histogram\", \"x\": [\"unavailable\", \"shipped\", \"processing\", \"invoiced\", \"canceled\"], \"xaxis\": \"x\", \"y\": [3.5, 3.0, 2.0, 9.0, 6.5], \"yaxis\": \"y\"}],\n",
       "                        {\"barmode\": \"group\", \"height\": 500, \"legend\": {\"title\": {\"text\": \"Year of purchase:\"}, \"tracegroupgap\": 0}, \"template\": {\"data\": {\"bar\": [{\"error_x\": {\"color\": \"#2a3f5f\"}, \"error_y\": {\"color\": \"#2a3f5f\"}, \"marker\": {\"line\": {\"color\": \"#E5ECF6\", \"width\": 0.5}}, \"type\": \"bar\"}], \"barpolar\": [{\"marker\": {\"line\": {\"color\": \"#E5ECF6\", \"width\": 0.5}}, \"type\": \"barpolar\"}], \"carpet\": [{\"aaxis\": {\"endlinecolor\": \"#2a3f5f\", \"gridcolor\": \"white\", \"linecolor\": \"white\", \"minorgridcolor\": \"white\", \"startlinecolor\": \"#2a3f5f\"}, \"baxis\": {\"endlinecolor\": \"#2a3f5f\", \"gridcolor\": \"white\", \"linecolor\": \"white\", \"minorgridcolor\": \"white\", \"startlinecolor\": \"#2a3f5f\"}, \"type\": \"carpet\"}], \"choropleth\": [{\"colorbar\": {\"outlinewidth\": 0, \"ticks\": \"\"}, \"type\": \"choropleth\"}], \"contour\": [{\"colorbar\": {\"outlinewidth\": 0, \"ticks\": \"\"}, \"colorscale\": [[0.0, \"#0d0887\"], [0.1111111111111111, \"#46039f\"], [0.2222222222222222, \"#7201a8\"], [0.3333333333333333, \"#9c179e\"], [0.4444444444444444, \"#bd3786\"], [0.5555555555555556, \"#d8576b\"], [0.6666666666666666, \"#ed7953\"], [0.7777777777777778, \"#fb9f3a\"], [0.8888888888888888, \"#fdca26\"], [1.0, \"#f0f921\"]], \"type\": \"contour\"}], \"contourcarpet\": [{\"colorbar\": {\"outlinewidth\": 0, \"ticks\": \"\"}, \"type\": \"contourcarpet\"}], \"heatmap\": [{\"colorbar\": {\"outlinewidth\": 0, \"ticks\": \"\"}, \"colorscale\": [[0.0, \"#0d0887\"], [0.1111111111111111, \"#46039f\"], [0.2222222222222222, \"#7201a8\"], [0.3333333333333333, \"#9c179e\"], [0.4444444444444444, \"#bd3786\"], [0.5555555555555556, \"#d8576b\"], [0.6666666666666666, \"#ed7953\"], [0.7777777777777778, \"#fb9f3a\"], [0.8888888888888888, \"#fdca26\"], [1.0, \"#f0f921\"]], \"type\": \"heatmap\"}], \"heatmapgl\": [{\"colorbar\": {\"outlinewidth\": 0, \"ticks\": \"\"}, \"colorscale\": [[0.0, \"#0d0887\"], [0.1111111111111111, \"#46039f\"], [0.2222222222222222, \"#7201a8\"], [0.3333333333333333, \"#9c179e\"], [0.4444444444444444, \"#bd3786\"], [0.5555555555555556, \"#d8576b\"], [0.6666666666666666, \"#ed7953\"], [0.7777777777777778, \"#fb9f3a\"], [0.8888888888888888, \"#fdca26\"], [1.0, \"#f0f921\"]], \"type\": \"heatmapgl\"}], \"histogram\": [{\"marker\": {\"colorbar\": {\"outlinewidth\": 0, \"ticks\": \"\"}}, \"type\": \"histogram\"}], \"histogram2d\": [{\"colorbar\": {\"outlinewidth\": 0, \"ticks\": \"\"}, \"colorscale\": [[0.0, \"#0d0887\"], [0.1111111111111111, \"#46039f\"], [0.2222222222222222, \"#7201a8\"], [0.3333333333333333, \"#9c179e\"], [0.4444444444444444, \"#bd3786\"], [0.5555555555555556, \"#d8576b\"], [0.6666666666666666, \"#ed7953\"], [0.7777777777777778, \"#fb9f3a\"], [0.8888888888888888, \"#fdca26\"], [1.0, \"#f0f921\"]], \"type\": \"histogram2d\"}], \"histogram2dcontour\": [{\"colorbar\": {\"outlinewidth\": 0, \"ticks\": \"\"}, \"colorscale\": [[0.0, \"#0d0887\"], [0.1111111111111111, \"#46039f\"], [0.2222222222222222, \"#7201a8\"], [0.3333333333333333, \"#9c179e\"], [0.4444444444444444, \"#bd3786\"], [0.5555555555555556, \"#d8576b\"], [0.6666666666666666, \"#ed7953\"], [0.7777777777777778, \"#fb9f3a\"], [0.8888888888888888, \"#fdca26\"], [1.0, \"#f0f921\"]], \"type\": \"histogram2dcontour\"}], \"mesh3d\": [{\"colorbar\": {\"outlinewidth\": 0, \"ticks\": \"\"}, \"type\": \"mesh3d\"}], \"parcoords\": [{\"line\": {\"colorbar\": {\"outlinewidth\": 0, \"ticks\": \"\"}}, \"type\": \"parcoords\"}], \"pie\": [{\"automargin\": true, \"type\": \"pie\"}], \"scatter\": [{\"marker\": {\"colorbar\": {\"outlinewidth\": 0, \"ticks\": \"\"}}, \"type\": \"scatter\"}], \"scatter3d\": [{\"line\": {\"colorbar\": {\"outlinewidth\": 0, \"ticks\": \"\"}}, \"marker\": {\"colorbar\": {\"outlinewidth\": 0, \"ticks\": \"\"}}, \"type\": \"scatter3d\"}], \"scattercarpet\": [{\"marker\": {\"colorbar\": {\"outlinewidth\": 0, \"ticks\": \"\"}}, \"type\": \"scattercarpet\"}], \"scattergeo\": [{\"marker\": {\"colorbar\": {\"outlinewidth\": 0, \"ticks\": \"\"}}, \"type\": \"scattergeo\"}], \"scattergl\": [{\"marker\": {\"colorbar\": {\"outlinewidth\": 0, \"ticks\": \"\"}}, \"type\": \"scattergl\"}], \"scattermapbox\": [{\"marker\": {\"colorbar\": {\"outlinewidth\": 0, \"ticks\": \"\"}}, \"type\": \"scattermapbox\"}], \"scatterpolar\": [{\"marker\": {\"colorbar\": {\"outlinewidth\": 0, \"ticks\": \"\"}}, \"type\": \"scatterpolar\"}], \"scatterpolargl\": [{\"marker\": {\"colorbar\": {\"outlinewidth\": 0, \"ticks\": \"\"}}, \"type\": \"scatterpolargl\"}], \"scatterternary\": [{\"marker\": {\"colorbar\": {\"outlinewidth\": 0, \"ticks\": \"\"}}, \"type\": \"scatterternary\"}], \"surface\": [{\"colorbar\": {\"outlinewidth\": 0, \"ticks\": \"\"}, \"colorscale\": [[0.0, \"#0d0887\"], [0.1111111111111111, \"#46039f\"], [0.2222222222222222, \"#7201a8\"], [0.3333333333333333, \"#9c179e\"], [0.4444444444444444, \"#bd3786\"], [0.5555555555555556, \"#d8576b\"], [0.6666666666666666, \"#ed7953\"], [0.7777777777777778, \"#fb9f3a\"], [0.8888888888888888, \"#fdca26\"], [1.0, \"#f0f921\"]], \"type\": \"surface\"}], \"table\": [{\"cells\": {\"fill\": {\"color\": \"#EBF0F8\"}, \"line\": {\"color\": \"white\"}}, \"header\": {\"fill\": {\"color\": \"#C8D4E3\"}, \"line\": {\"color\": \"white\"}}, \"type\": \"table\"}]}, \"layout\": {\"annotationdefaults\": {\"arrowcolor\": \"#2a3f5f\", \"arrowhead\": 0, \"arrowwidth\": 1}, \"coloraxis\": {\"colorbar\": {\"outlinewidth\": 0, \"ticks\": \"\"}}, \"colorscale\": {\"diverging\": [[0, \"#8e0152\"], [0.1, \"#c51b7d\"], [0.2, \"#de77ae\"], [0.3, \"#f1b6da\"], [0.4, \"#fde0ef\"], [0.5, \"#f7f7f7\"], [0.6, \"#e6f5d0\"], [0.7, \"#b8e186\"], [0.8, \"#7fbc41\"], [0.9, \"#4d9221\"], [1, \"#276419\"]], \"sequential\": [[0.0, \"#0d0887\"], [0.1111111111111111, \"#46039f\"], [0.2222222222222222, \"#7201a8\"], [0.3333333333333333, \"#9c179e\"], [0.4444444444444444, \"#bd3786\"], [0.5555555555555556, \"#d8576b\"], [0.6666666666666666, \"#ed7953\"], [0.7777777777777778, \"#fb9f3a\"], [0.8888888888888888, \"#fdca26\"], [1.0, \"#f0f921\"]], \"sequentialminus\": [[0.0, \"#0d0887\"], [0.1111111111111111, \"#46039f\"], [0.2222222222222222, \"#7201a8\"], [0.3333333333333333, \"#9c179e\"], [0.4444444444444444, \"#bd3786\"], [0.5555555555555556, \"#d8576b\"], [0.6666666666666666, \"#ed7953\"], [0.7777777777777778, \"#fb9f3a\"], [0.8888888888888888, \"#fdca26\"], [1.0, \"#f0f921\"]]}, \"colorway\": [\"#636efa\", \"#EF553B\", \"#00cc96\", \"#ab63fa\", \"#FFA15A\", \"#19d3f3\", \"#FF6692\", \"#B6E880\", \"#FF97FF\", \"#FECB52\"], \"font\": {\"color\": \"#2a3f5f\"}, \"geo\": {\"bgcolor\": \"white\", \"lakecolor\": \"white\", \"landcolor\": \"#E5ECF6\", \"showlakes\": true, \"showland\": true, \"subunitcolor\": \"white\"}, \"hoverlabel\": {\"align\": \"left\"}, \"hovermode\": \"closest\", \"mapbox\": {\"style\": \"light\"}, \"paper_bgcolor\": \"white\", \"plot_bgcolor\": \"#E5ECF6\", \"polar\": {\"angularaxis\": {\"gridcolor\": \"white\", \"linecolor\": \"white\", \"ticks\": \"\"}, \"bgcolor\": \"#E5ECF6\", \"radialaxis\": {\"gridcolor\": \"white\", \"linecolor\": \"white\", \"ticks\": \"\"}}, \"scene\": {\"xaxis\": {\"backgroundcolor\": \"#E5ECF6\", \"gridcolor\": \"white\", \"gridwidth\": 2, \"linecolor\": \"white\", \"showbackground\": true, \"ticks\": \"\", \"zerolinecolor\": \"white\"}, \"yaxis\": {\"backgroundcolor\": \"#E5ECF6\", \"gridcolor\": \"white\", \"gridwidth\": 2, \"linecolor\": \"white\", \"showbackground\": true, \"ticks\": \"\", \"zerolinecolor\": \"white\"}, \"zaxis\": {\"backgroundcolor\": \"#E5ECF6\", \"gridcolor\": \"white\", \"gridwidth\": 2, \"linecolor\": \"white\", \"showbackground\": true, \"ticks\": \"\", \"zerolinecolor\": \"white\"}}, \"shapedefaults\": {\"line\": {\"color\": \"#2a3f5f\"}}, \"ternary\": {\"aaxis\": {\"gridcolor\": \"white\", \"linecolor\": \"white\", \"ticks\": \"\"}, \"baxis\": {\"gridcolor\": \"white\", \"linecolor\": \"white\", \"ticks\": \"\"}, \"bgcolor\": \"#E5ECF6\", \"caxis\": {\"gridcolor\": \"white\", \"linecolor\": \"white\", \"ticks\": \"\"}}, \"title\": {\"x\": 0.05}, \"xaxis\": {\"automargin\": true, \"gridcolor\": \"white\", \"linecolor\": \"white\", \"ticks\": \"\", \"title\": {\"standoff\": 15}, \"zerolinecolor\": \"white\", \"zerolinewidth\": 2}, \"yaxis\": {\"automargin\": true, \"gridcolor\": \"white\", \"linecolor\": \"white\", \"ticks\": \"\", \"title\": {\"standoff\": 15}, \"zerolinecolor\": \"white\", \"zerolinewidth\": 2}}}, \"title\": {\"text\": \"Not delivered orders (mean)\"}, \"xaxis\": {\"anchor\": \"y\", \"domain\": [0.0, 1.0], \"title\": {\"text\": \"Order Status\"}}, \"yaxis\": {\"anchor\": \"x\", \"domain\": [0.0, 1.0], \"title\": {\"text\": \"sum of Monthly Mean\"}}},\n",
       "                        {\"responsive\": true}\n",
       "                    ).then(function(){\n",
       "                            \n",
       "var gd = document.getElementById('b76bcdb1-2039-48ff-ba47-6e3757fcd45b');\n",
       "var x = new MutationObserver(function (mutations, observer) {{\n",
       "        var display = window.getComputedStyle(gd).display;\n",
       "        if (!display || display === 'none') {{\n",
       "            console.log([gd, 'removed!']);\n",
       "            Plotly.purge(gd);\n",
       "            observer.disconnect();\n",
       "        }}\n",
       "}});\n",
       "\n",
       "// Listen for the removal of the full notebook cells\n",
       "var notebookContainer = gd.closest('#notebook-container');\n",
       "if (notebookContainer) {{\n",
       "    x.observe(notebookContainer, {childList: true});\n",
       "}}\n",
       "\n",
       "// Listen for the clearing of the current output cell\n",
       "var outputEl = gd.closest('.output');\n",
       "if (outputEl) {{\n",
       "    x.observe(outputEl, {childList: true});\n",
       "}}\n",
       "\n",
       "                        })\n",
       "                };\n",
       "                });\n",
       "            </script>\n",
       "        </div>"
      ]
     },
     "metadata": {},
     "output_type": "display_data"
    }
   ],
   "source": [
    "# Визуализируем полученные данные по среднему количеству недоставленных заказов в месяц по всем возможным статусам. \n",
    "# Делаем детализацию за каждый год, чтобы проследить динамику.\n",
    "\n",
    "fig = px.histogram(group_status_mean, \n",
    "             x='order_status', \n",
    "             y='monthly_mean', \n",
    "             title=\"Not delivered orders (mean)\", \n",
    "             labels={'monthly_mean':'Monthly Mean', 'order_status':'Order Status', 'order_estimated_delivery_year':'Year of purchase:'},\n",
    "             color=\"order_estimated_delivery_year\", \n",
    "             barmode=\"group\",\n",
    "             height=500)\n",
    "fig.show()"
   ]
  },
  {
   "cell_type": "markdown",
   "metadata": {},
   "source": [
    "### Ответ: \n",
    "\n",
    "Выше визулизированы итоговые данные. Учитывая, что данные взяты за прошедшие периоды, можно предположить, что это не те заказы, которые нахоятся в процессе, а что на этих этапах, что-то пошло не так с процессом обработки и доставки заказа с точки зрения истории.\n",
    "\n",
    "За 2016 год у нас не силишком много данных, больше всего данных у нас за 2017 год.\n",
    "Мы можем с уверенностью сказать, что самыми частыми этапами, на которых зависли заказы и не были доставлены:\n",
    "\n",
    "- 2016 год - shipped;\n",
    "- 2017 год - approved;\n",
    "- 2018 год - processing и invoced самый частые."
   ]
  },
  {
   "cell_type": "markdown",
   "metadata": {},
   "source": [
    " "
   ]
  },
  {
   "cell_type": "markdown",
   "metadata": {},
   "source": [
    " "
   ]
  },
  {
   "cell_type": "markdown",
   "metadata": {},
   "source": [
    "# Задание 3."
   ]
  },
  {
   "cell_type": "markdown",
   "metadata": {},
   "source": [
    "По каждому товару определить, в какой день недели товар чаще всего покупается. (5 баллов)\n",
    "\n",
    "Берем заранее подготовленный датасет только с успешными покупками.\n",
    "Создаем колонку с названием дня недели, ориентируясь на колонку order_approved_at."
   ]
  },
  {
   "cell_type": "code",
   "execution_count": null,
   "metadata": {
    "scrolled": false
   },
   "outputs": [],
   "source": [
    "final_purchases_df['order_approved_day_name'] = final_purchases_df.order_approved_at.dt.day_name()"
   ]
  },
  {
   "cell_type": "code",
   "execution_count": null,
   "metadata": {
    "scrolled": true
   },
   "outputs": [],
   "source": [
    "# Группируем данные по id продукта и дню и считаем количество успешных оплат.\n",
    "\n",
    "best_day = final_purchases_df \\\n",
    "    .groupby(['product_id', 'order_approved_day_name']) \\\n",
    "    .agg({'order_approved_day_name': 'count'}) \\\n",
    "    .rename(columns={'order_approved_day_name': 'count'}) \\\n",
    "    .reset_index()"
   ]
  },
  {
   "cell_type": "code",
   "execution_count": null,
   "metadata": {},
   "outputs": [],
   "source": [
    "best_day.head()"
   ]
  },
  {
   "cell_type": "markdown",
   "metadata": {},
   "source": [
    "Выводим для каждого product_id лучший день по количеству покупок. Количество значений соответсвует количеству уникальных ID. По некоторым покупкам есть дни с одинаково большим количеством покупок, в этих случая выведено только первое вхождение."
   ]
  },
  {
   "cell_type": "code",
   "execution_count": null,
   "metadata": {},
   "outputs": [],
   "source": [
    "best_day_final_df = best_day \\\n",
    "    .pivot(index='order_approved_day_name', columns='product_id', values='count') \\\n",
    "    .fillna(0) \\\n",
    "    .idxmax() \\\n",
    "    .to_frame() \\\n",
    "    .rename(columns={0: 'best_day'})"
   ]
  },
  {
   "cell_type": "markdown",
   "metadata": {},
   "source": [
    "### Ответ:\n",
    "Ниже мы получили итоговый датафрейм, где по каждому id товара указан день, в который его чаще всего покупают."
   ]
  },
  {
   "cell_type": "code",
   "execution_count": null,
   "metadata": {
    "scrolled": true
   },
   "outputs": [],
   "source": [
    "best_day_final_df.head(10)"
   ]
  },
  {
   "cell_type": "markdown",
   "metadata": {},
   "source": [
    "Вручную проверяем несколько значений на совпадение (ниже отражен один из тестов, все совпали)."
   ]
  },
  {
   "cell_type": "code",
   "execution_count": null,
   "metadata": {
    "scrolled": true
   },
   "outputs": [],
   "source": [
    "best_day.loc[best_day.product_id == '001b72dfd63e9833e8c02742adf472e3']"
   ]
  },
  {
   "cell_type": "code",
   "execution_count": null,
   "metadata": {},
   "outputs": [],
   "source": [
    "best_day_final_df.loc['001b72dfd63e9833e8c02742adf472e3']"
   ]
  },
  {
   "cell_type": "markdown",
   "metadata": {},
   "source": [
    " "
   ]
  },
  {
   "cell_type": "markdown",
   "metadata": {},
   "source": [
    " "
   ]
  },
  {
   "cell_type": "markdown",
   "metadata": {},
   "source": [
    "# Задание 4."
   ]
  },
  {
   "cell_type": "markdown",
   "metadata": {},
   "source": [
    "Сколько у каждого из пользователей в среднем покупок в неделю (по месяцам)? \n",
    "Не стоит забывать, что внутри месяца может быть не целое количество недель. \n",
    "Например, в ноябре 2021 года 4,28 недели. И внутри метрики это нужно учесть. (8 баллов) \n",
    "\n",
    "Опять берем подготовленный датафрейм с успешными покупками."
   ]
  },
  {
   "cell_type": "code",
   "execution_count": null,
   "metadata": {},
   "outputs": [],
   "source": [
    "final_purchases_df.head()"
   ]
  },
  {
   "cell_type": "code",
   "execution_count": null,
   "metadata": {},
   "outputs": [],
   "source": [
    "# Берем нужные колонки из общего датафрейма и добавляем в новую переменную.\n",
    "\n",
    "customer_orders = final_purchases_df[['order_id', 'customer_unique_id', 'order_approved_at', 'order_status']]\n",
    "customer_orders.head()"
   ]
  },
  {
   "cell_type": "code",
   "execution_count": null,
   "metadata": {},
   "outputs": [],
   "source": [
    "# Считаем количество уникальных заказов по уникальным юзерам в разные даты.\n",
    "\n",
    "customer_orders = customer_orders.groupby(['order_id', 'customer_unique_id', 'order_approved_at'], \n",
    "                                          as_index=False) \\\n",
    "                                 .order_status.count()"
   ]
  },
  {
   "cell_type": "code",
   "execution_count": null,
   "metadata": {},
   "outputs": [],
   "source": [
    "# Создаем колонки с годом месяцем и количеством недель в месяце для дальнейших расчетов.\n",
    "\n",
    "customer_orders['order_approved_at_month'] = customer_orders.order_approved_at.dt.month\n",
    "customer_orders['order_approved_at_year'] = customer_orders.order_approved_at.dt.year\n",
    "customer_orders['weeks_count'] = customer_orders.order_approved_at.dt.days_in_month / 7"
   ]
  },
  {
   "cell_type": "code",
   "execution_count": null,
   "metadata": {},
   "outputs": [],
   "source": [
    "customer_orders.head()"
   ]
  },
  {
   "cell_type": "markdown",
   "metadata": {},
   "source": [
    "Группируем данные по пользователю, году и месяцу (+количеству дней в месяце просто чтобы эта колонка осталась) и считаем количество заказов. Ресетим индексы и оставляем, индексами только id пользователей."
   ]
  },
  {
   "cell_type": "code",
   "execution_count": null,
   "metadata": {},
   "outputs": [],
   "source": [
    "customer_orders = customer_orders.groupby(['customer_unique_id', 'order_approved_at_month', 'order_approved_at_year', 'weeks_count']) \\\n",
    "    .agg({'order_status': 'count'}) \\\n",
    "    .reset_index()"
   ]
  },
  {
   "cell_type": "markdown",
   "metadata": {},
   "source": [
    "Далее делим сумму заказов каждого пользователя в месяц на количество недель в этом месяце, чтобы узнать средне за неделю."
   ]
  },
  {
   "cell_type": "code",
   "execution_count": null,
   "metadata": {},
   "outputs": [],
   "source": [
    "customer_orders['orders_per_week'] = customer_orders.order_status / customer_orders.weeks_count"
   ]
  },
  {
   "cell_type": "markdown",
   "metadata": {},
   "source": [
    "Финальный штрих - группируем данные по id покупателя и месяцу (уже без годов) и считаем среднее средних за неделю."
   ]
  },
  {
   "cell_type": "code",
   "execution_count": null,
   "metadata": {},
   "outputs": [],
   "source": [
    "week_customer_orders = customer_orders \\\n",
    "    .groupby(['customer_unique_id','order_approved_at_month'], as_index=False) \\\n",
    "    .agg({'orders_per_week':'mean'}) \\\n",
    "    .sort_values('order_approved_at_month') \\\n",
    "    .reset_index(drop=True)\n",
    "\n",
    "week_customer_orders.head()"
   ]
  },
  {
   "cell_type": "markdown",
   "metadata": {},
   "source": [
    "Для удобства можем сделать pivot и заменим NaN на '-' (чтобы визуально сделать более красиво и понятно). \n",
    "Теперь есть возможность обращаться по user_id, как по индексу и смотреть данные по каждому отдельному юзеру, по всем месяцам."
   ]
  },
  {
   "cell_type": "code",
   "execution_count": null,
   "metadata": {},
   "outputs": [],
   "source": [
    "week_customer_orders_pivot = week_customer_orders \\\n",
    "    .pivot(index='customer_unique_id', columns='order_approved_at_month', values='orders_per_week') \\\n",
    "    .fillna('-') \\\n",
    "    .rename(columns={\n",
    "                    1:'January',\n",
    "                    2:'February',\n",
    "                    3:'March',\n",
    "                    4:'April',\n",
    "                    5:'May',\n",
    "                    6:'June',\n",
    "                    7:'July',\n",
    "                    8:'August',\n",
    "                    9:'September',\n",
    "                    10:'October',\n",
    "                    11:'November',\n",
    "                    12:'December'\n",
    "                    })"
   ]
  },
  {
   "cell_type": "code",
   "execution_count": null,
   "metadata": {
    "scrolled": true
   },
   "outputs": [],
   "source": [
    "week_customer_orders_pivot.head()"
   ]
  },
  {
   "cell_type": "markdown",
   "metadata": {},
   "source": [
    "Также можем посчитать просто недельное среднее по месяцам, без детализаци по каждому пользователю.\n",
    "Из задания не совсем очевидно, как именно считать, но так данные не очень информативны."
   ]
  },
  {
   "cell_type": "code",
   "execution_count": null,
   "metadata": {},
   "outputs": [],
   "source": [
    "week_orders_mean = customer_orders \\\n",
    "    .groupby('order_approved_at_month', as_index=False) \\\n",
    "    .agg({'orders_per_week':'mean'}) \\\n",
    "    .sort_values('order_approved_at_month')"
   ]
  },
  {
   "cell_type": "code",
   "execution_count": null,
   "metadata": {},
   "outputs": [],
   "source": [
    "fig = px.bar(week_orders_mean, \n",
    "             x='order_approved_at_month', \n",
    "             y='orders_per_week',\n",
    "             title='Weekly mean purchases per month', \n",
    "             labels={'order_approved_at_month':'Month', 'orders_per_week':'Mean of purchases'}, \n",
    "             barmode=\"group\")\n",
    "fig.show()"
   ]
  },
  {
   "cell_type": "markdown",
   "metadata": {},
   "source": [
    "### Ответ: \n",
    "Выше получился итоговый датасет с рассчитанным недельным средним по каждому кастомеру в каждом месяце без деления по годам и округления (т.к. в задании это не требовалось).\n",
    "Также я визуализировал на графике недельное среднее по месяцам по всем юзерам. Мы видим, что у нас получилось равномерное распределение средних значений."
   ]
  },
  {
   "cell_type": "markdown",
   "metadata": {},
   "source": [
    " "
   ]
  },
  {
   "cell_type": "markdown",
   "metadata": {},
   "source": [
    "  "
   ]
  },
  {
   "cell_type": "markdown",
   "metadata": {},
   "source": [
    "# Задание 5."
   ]
  },
  {
   "cell_type": "markdown",
   "metadata": {},
   "source": [
    "Используя pandas, проведи когортный анализ пользователей. В период с января по декабрь выяви когорту с самым высоким retention на 3й месяц. (10 баллов)"
   ]
  },
  {
   "cell_type": "code",
   "execution_count": null,
   "metadata": {},
   "outputs": [],
   "source": []
  },
  {
   "cell_type": "markdown",
   "metadata": {},
   "source": [
    "#### Описание данных:\n",
    "- `order_id` —  уникальный идентификатор заказа (номер чека)\n",
    "- `customer_id` —  позаказный идентификатор пользователя (аналог номера паспорта)\n",
    "- `order_status` —  статус заказа\n",
    "- `order_purchase_timestamp` —  время создания заказа\n",
    "- `order_approved_at` —  время подтверждения оплаты заказа\n",
    "- `order_delivered_carrier_date` —  время передачи заказа в логистическую службу\n",
    "- `order_delivered_customer_date` —  время доставки заказа\n",
    "- `order_estimated_delivery_date` —  обещанная дата доставки\n",
    "\n",
    "- `customer_id` — позаказный идентификатор пользователя (аналог номера паспорта)\n",
    "- `customer_unique_id` —  уникальный идентификатор пользователя\n",
    "- `customer_zip_code_prefix` —  почтовый индекс пользователя\n",
    "- `customer_city` —  город доставки пользователя\n",
    "- `customer_state` —  штат доставки пользователя\n",
    "\n",
    "Используем ранее заготовленный датасет из первого задания, где отфильтрованы только успешные покупки, которые не были отменены."
   ]
  },
  {
   "cell_type": "code",
   "execution_count": null,
   "metadata": {
    "scrolled": true
   },
   "outputs": [],
   "source": [
    "final_purchases_df.head()"
   ]
  },
  {
   "cell_type": "code",
   "execution_count": null,
   "metadata": {},
   "outputs": [],
   "source": [
    "# Выбираем из общего датасета только нужные нам колонки.\n",
    "\n",
    "orders_list = final_purchases_df[['order_id', 'customer_unique_id', 'order_approved_at']]\n",
    "orders_list.head()"
   ]
  },
  {
   "cell_type": "code",
   "execution_count": null,
   "metadata": {},
   "outputs": [],
   "source": [
    "# Создаем датасет с первым днем покупки по каждому уникальному пользователб для дальнейшего разделения на когорты.\n",
    "\n",
    "first_purchase_date = final_purchases_df \\\n",
    "    .groupby('customer_unique_id', as_index=False) \\\n",
    "    .agg({'order_approved_at':'min'}) \\\n",
    "    .rename(columns={'order_approved_at':'first_purchase'})\n",
    "\n",
    "first_purchase_date.head()"
   ]
  },
  {
   "cell_type": "code",
   "execution_count": null,
   "metadata": {
    "scrolled": true
   },
   "outputs": [],
   "source": [
    "# Мерджим два предыдущих датасета в один объединяя по customer_unique_id.\n",
    "\n",
    "orders_list = orders_list.merge(first_purchase_date, on='customer_unique_id', how='left')\n",
    "orders_list.head()"
   ]
  },
  {
   "cell_type": "markdown",
   "metadata": {},
   "source": [
    "Высчитываем разницу между датой первого заказа и датой каждого заказа, чтобы пронумеровать месяцы по порядку, начиная с первого для каждой когорты."
   ]
  },
  {
   "cell_type": "code",
   "execution_count": null,
   "metadata": {},
   "outputs": [],
   "source": [
    "orders_list['order_month'] = orders_list.order_approved_at.dt.month\n",
    "orders_list['first_purchase_month'] = orders_list.first_purchase.dt.month\n",
    "orders_list['every_purchase_month'] = orders_list.order_month - orders_list.first_purchase_month"
   ]
  },
  {
   "cell_type": "code",
   "execution_count": null,
   "metadata": {},
   "outputs": [],
   "source": [
    "orders_list.first_purchase_month = orders_list.first_purchase_month.apply(lambda x: calendar.month_name[x])"
   ]
  },
  {
   "cell_type": "markdown",
   "metadata": {},
   "source": [
    "Готовим датасет для визуализации когортного анализа. Фильтруем только январь - декабрь 2017 года, как проcят в задании."
   ]
  },
  {
   "cell_type": "code",
   "execution_count": null,
   "metadata": {},
   "outputs": [],
   "source": [
    "cogort_df = orders_list.query('first_purchase >= \"2017-01-01\" & \\\n",
    "                      first_purchase <= \"2017-12-31\" & \\\n",
    "                      order_approved_at <= \"2017-12-31\"')\n",
    "\n",
    "cogort_df = cogort_df.groupby(['first_purchase_month', 'every_purchase_month']) \\\n",
    "    .agg({'order_id':'nunique'}) \\\n",
    "    .reset_index() \\\n",
    "    .pivot(index='first_purchase_month', columns='every_purchase_month', values='order_id')"
   ]
  },
  {
   "cell_type": "markdown",
   "metadata": {},
   "source": [
    "Считаем retention rate относительно первой покупки, какой процент уникальных клиентов от каждой когорты \n",
    "вернулись и купили еще что-то на протяжении 12 месяцев. Понял как сделать без цикла."
   ]
  },
  {
   "cell_type": "code",
   "execution_count": null,
   "metadata": {},
   "outputs": [],
   "source": [
    "cogort_df = cogort_df.apply(lambda x: x / cogort_df[0])"
   ]
  },
  {
   "cell_type": "code",
   "execution_count": null,
   "metadata": {
    "scrolled": true
   },
   "outputs": [],
   "source": [
    "# Делаем правильный порядок месяцев в индексах.\n",
    "\n",
    "cogort_df = cogort_df.reindex(index = ['January',\n",
    "                           'February',\n",
    "                           'March',\n",
    "                           'April',\n",
    "                           'May',\n",
    "                           'June',\n",
    "                           'July',\n",
    "                           'August',\n",
    "                           'September',\n",
    "                           'October',\n",
    "                           'November',\n",
    "                           'December'])"
   ]
  },
  {
   "cell_type": "markdown",
   "metadata": {},
   "source": [
    "Далее добавляем красоты и понятности нашей визуализации. Также переводим значения в проценты.\n",
    "На графике мы видим, что желтым отмечены самые высокие показатели retention по сравнению с первой покупкой.\n",
    "Я выбрал такой подход, т.к. мы можем понять какой процент уникальных пользователей вернулся к нам после первой\n",
    "покупки в каждом последующем месяце."
   ]
  },
  {
   "cell_type": "code",
   "execution_count": null,
   "metadata": {},
   "outputs": [],
   "source": [
    "cogort_df_color = (cogort_df\n",
    "            .style\n",
    "            .set_caption('User Retention by Cohort in 2017 year')  # добавляем подпись\n",
    "            .background_gradient(cmap='cividis')  # раскрашиваем ячейки по столбцам\n",
    "            .highlight_null('white')  # делаем белый фон для значений NaN\n",
    "            .format(\"{:.2%}\", na_rep=\"\"))  # числа форматируем как проценты, NaN заменяем на пустоту\n",
    "\n",
    "cogort_df_color"
   ]
  },
  {
   "cell_type": "markdown",
   "metadata": {},
   "source": [
    "### Ответ:"
   ]
  },
  {
   "cell_type": "markdown",
   "metadata": {},
   "source": [
    "Самый высокий retention rate на 3 месяц после первой покупки = 0.42% и принадлежит он когорте пользователей, которые совершили первую покупку в марте."
   ]
  },
  {
   "cell_type": "markdown",
   "metadata": {},
   "source": [
    " "
   ]
  },
  {
   "cell_type": "markdown",
   "metadata": {},
   "source": [
    " "
   ]
  },
  {
   "cell_type": "markdown",
   "metadata": {},
   "source": [
    "# Задание 6."
   ]
  },
  {
   "cell_type": "markdown",
   "metadata": {},
   "source": [
    "Часто для качественного анализа аудитории использую подходы, основанные на сегментации. Используя python, построй RFM-сегментацию пользователей, чтобы качественно оценить свою аудиторию. В кластеризации можешь выбрать следующие метрики: R - время от последней покупки пользователя до текущей даты, F - суммарное количество покупок у пользователя за всё время, M - сумма покупок за всё время. Подробно опиши, как ты создавал кластеры. Для каждого RFM-сегмента построй границы метрик recency, frequency и monetary для интерпретации этих кластеров. Пример такого описания: RFM-сегмент 132 (recency=1, frequency=3, monetary=2) имеет границы метрик recency от 130 до 500 дней, frequency от 2 до 5 заказов в неделю, monetary от 1780 до 3560 рублей в неделю."
   ]
  },
  {
   "cell_type": "markdown",
   "metadata": {},
   "source": [
    "#### Для сегментации есть три подхода:\n",
    "\n",
    "1. равномерное сегментирование по диапазонам значений (деление на равные бакеты по значениям)\n",
    "Достоинства метода — сегменты легко выделить. Однако при таком делении распределение покупателей по сегментам будет неравномерным (в один сегмент могут попасть 90% всех клиентов, в другой — 1%).\n",
    "\n",
    "\n",
    "2. равномерное сегментирование по количеству клиентов (деление на равные бакеты по кол-ву юзеров)\n",
    "Данное сегментирование позволяет быстро выделить сегменты, так чтобы отсутствовал сильный дисбаланс между группами. Недостаток в данном подходе — плохо выбираются сегменты.\n",
    "\n",
    "\n",
    "3. сегментирование с фиксированным диапазоном (ручное деление, основывая на знании продукта)\n",
    "При сегментировании с фиксированным диапазоном необходимо самостоятельно определить границы значений для каждого показателя. Минус - необходимо очень четко понимать продукт, сегмент рынка его цикл, динамику продаж. \n",
    "\n",
    "Среди них я бы выбрал первый - разделение по значениям, т.к. с учетом того, что мы обладаем не очень большим объемом данных и ничего не знаем о продукте, он будет самым подходящим. Второй вариант также не подойдет, т.к. будут сложности с делением по количеству заказов. В этом случае у нас очень много клиентов, оторые сделали только 1 заказ.\n",
    "\n",
    "Также стоит отметить, что в бизнесе довольно часто работает прицип Парето (80% результатов происходят благодаря 20% усилий / или 80% прибыли генерируют 20% топовых клиентов). Соответственно выбираем второй метод, деление по количеству клиентов, как самый устойчивый и делить мы будем на 5 бакетов по 20% (спомощью квантилей), чтобы выделить ту самую приоритетную категорию людей по принципу Парето и все отсальные сегменты."
   ]
  },
  {
   "cell_type": "code",
   "execution_count": null,
   "metadata": {},
   "outputs": [],
   "source": [
    "def r_score(x):\n",
    "    if x <= quintiles['recency'][.2]:\n",
    "        return 5\n",
    "    elif x <= quintiles['recency'][.4]:\n",
    "        return 4\n",
    "    elif x <= quintiles['recency'][.6]:\n",
    "        return 3\n",
    "    elif x <= quintiles['recency'][.8]:\n",
    "        return 2\n",
    "    else:\n",
    "        return 1\n",
    "\n",
    "def fm_score(x, c):\n",
    "    if x <= quintiles[c][.2]:\n",
    "        return 1\n",
    "    elif x <= quintiles[c][.4]:\n",
    "        return 2\n",
    "    elif x <= quintiles[c][.6]:\n",
    "        return 3\n",
    "    elif x <= quintiles[c][.8]:\n",
    "        return 4\n",
    "    else:\n",
    "        return 5 "
   ]
  },
  {
   "cell_type": "code",
   "execution_count": null,
   "metadata": {},
   "outputs": [],
   "source": [
    "# Мы имеем данные почти за 2 года. При этом данные за полный год у нас только за 2017.\n",
    "\n",
    "print(f'период покупок от {final_purchases_df.order_approved_at.min()} \\\n",
    "до {final_purchases_df.order_approved_at.max()}')"
   ]
  },
  {
   "cell_type": "code",
   "execution_count": null,
   "metadata": {},
   "outputs": [],
   "source": [
    "final_purchases_df.head()"
   ]
  },
  {
   "cell_type": "markdown",
   "metadata": {},
   "source": [
    "Группируем датафрейм и считаем цену каждого заказа, каждого юзера на каждую дату. \n",
    "Т.к. RFM анализ, как правило, делается на основе данных за полный год (оновываясь на тексте из предложенной статьи), то и для этого задания возьмем данные только за 2017 год, т.к. это единственный год, за который у нас есть полные данные."
   ]
  },
  {
   "cell_type": "code",
   "execution_count": null,
   "metadata": {},
   "outputs": [],
   "source": [
    "rfm_df = final_purchases_df \\\n",
    "    .groupby(['order_id', 'customer_unique_id', 'order_approved_at'], as_index=False) \\\n",
    "    .agg({'price':'sum'}) \\\n",
    "    .query('order_approved_at >= \"2017-01-01\" & order_approved_at <= \"2017-12-31\"')\n",
    "\n",
    "rfm_df.head()"
   ]
  },
  {
   "cell_type": "code",
   "execution_count": null,
   "metadata": {},
   "outputs": [],
   "source": [
    "print(f'период покупок от {rfm_df.order_approved_at.min()} \\\n",
    "до {rfm_df.order_approved_at.max()}')"
   ]
  },
  {
   "cell_type": "code",
   "execution_count": null,
   "metadata": {},
   "outputs": [],
   "source": [
    "# Для этого упражнения (т.к. данные старые) будем считать, что сегодня + 1 день от самой поздней даты заказа.\n",
    "today_date = rfm_df.order_approved_at.max() + timedelta(days=1)\n",
    "today_date"
   ]
  },
  {
   "cell_type": "code",
   "execution_count": null,
   "metadata": {},
   "outputs": [],
   "source": [
    "# Считаем количество дней до \"сегодняшнего дня\".\n",
    "rfm_df['days_since_order'] = (today_date - rfm_df.order_approved_at).dt.days\n",
    "rfm_df.head()"
   ]
  },
  {
   "cell_type": "code",
   "execution_count": null,
   "metadata": {
    "scrolled": true
   },
   "outputs": [],
   "source": [
    "aggr = {\n",
    "        'days_since_order': 'min',  # количество дней с последнего заказа (Recency)\n",
    "        'order_approved_at': 'count', # количество заказов за весь период (Frequency)\n",
    "        'price': 'sum', # сумма заказов за весь период (Monetary)\n",
    "       }\n",
    "\n",
    "rfm_df_final = rfm_df \\\n",
    "    .groupby('customer_unique_id') \\\n",
    "    .agg(aggr) \\\n",
    "    .reset_index() \\\n",
    "    .rename(columns={'days_since_order': 'recency', 'order_approved_at': 'frequency', 'price': 'monetary'})"
   ]
  },
  {
   "cell_type": "code",
   "execution_count": null,
   "metadata": {},
   "outputs": [],
   "source": [
    "rfm_df_final.head()"
   ]
  },
  {
   "cell_type": "markdown",
   "metadata": {},
   "source": [
    "Объявляем квантили для наших данных, по которым будем делить наши данные.\n",
    "Обратим внимание, что для нас важно более маленькое значение (80 квантиль) recency (как давно покупали товар), тогда как про frecuency (количество заказов) и monetary (сумма заказов) - наоборот, большее значение приоритетнее (20 квантиль)."
   ]
  },
  {
   "cell_type": "code",
   "execution_count": null,
   "metadata": {},
   "outputs": [],
   "source": [
    "quintiles = rfm_df_final[['recency', 'frequency', 'monetary']].quantile([.2, .4, .6, .8]).to_dict()\n",
    "quintiles"
   ]
  },
  {
   "cell_type": "code",
   "execution_count": null,
   "metadata": {
    "scrolled": true
   },
   "outputs": [],
   "source": [
    "# Для каждого юзера создаем колонки с нужным значением, в зависимости от квантиля.\n",
    "\n",
    "rfm_df_final['R'] = rfm_df_final['recency'].apply(lambda x: r_score(x))\n",
    "rfm_df_final['F'] = rfm_df_final['frequency'].apply(lambda x: fm_score(x, 'frequency'))\n",
    "rfm_df_final['M'] = rfm_df_final['monetary'].apply(lambda x: fm_score(x, 'monetary'))"
   ]
  },
  {
   "cell_type": "code",
   "execution_count": null,
   "metadata": {},
   "outputs": [],
   "source": [
    "rfm_df_final.head()"
   ]
  },
  {
   "cell_type": "code",
   "execution_count": null,
   "metadata": {},
   "outputs": [],
   "source": [
    "# Создаем общую колонку RFM сегментирования для каждого пользователя.\n",
    "\n",
    "rfm_df_final['RFM_score'] = rfm_df_final['R'].map(str) + rfm_df_final['F'].map(str) + rfm_df_final['M'].map(str)\n",
    "rfm_df_final.head()"
   ]
  },
  {
   "cell_type": "code",
   "execution_count": null,
   "metadata": {},
   "outputs": [],
   "source": [
    "rfm_df_final.R.value_counts()"
   ]
  },
  {
   "cell_type": "code",
   "execution_count": null,
   "metadata": {},
   "outputs": [],
   "source": [
    "rfm_df_final.F.value_counts()"
   ]
  },
  {
   "cell_type": "code",
   "execution_count": null,
   "metadata": {},
   "outputs": [],
   "source": [
    "rfm_df_final.M.value_counts()"
   ]
  },
  {
   "cell_type": "markdown",
   "metadata": {},
   "source": [
    "Т.к. мы создали 5 сегментов в каждом из 3 критериев, то всего у нас 125 сегментов.\n",
    "С таким количеством будет довольно сложно работать поэтому их необходимо группировать по другому, чтобы на выходе получилось меньшее количество. Мне нравится разделение, предложенное в статье (прочитал несколько статей, это наиболее оптимальное)."
   ]
  },
  {
   "cell_type": "markdown",
   "metadata": {},
   "source": [
    "Создаем **словарь с названием разных категорий пользователей**, с учетом их RFM значения.\n",
    "\n",
    "1. **Champions** - недавно делали покупку и покупают часто;\n",
    "2. **Loyal Customers** - реулярно делают покупки, следят за акциями;\n",
    "3. **Potential Loyalist** - недавние клиенты с хорошей частотой покупки;\n",
    "4. **Recent Customers** - покупали недавно, но покупают не часто;\n",
    "5. **Promising** - недавно покупали, но много не потратили;\n",
    "6. **Customers Needing Attention** - \"середнячки\" по всем показателям;\n",
    "7. **About To Sleep** - recency и frequency ниже среднего, можем потерять, если не реактивируем;\n",
    "8. **At Risk** - покупали часто, но давно - необходимо их вернуть;\n",
    "9. **Can’t Lose Them** - часто покупали, но давно к нам не возвращались;\n",
    "10. **Hibernating** - заказывали давно и не очень много - можем потерять."
   ]
  },
  {
   "cell_type": "code",
   "execution_count": null,
   "metadata": {},
   "outputs": [],
   "source": [
    "# Создаем сегменты на основе словаря.\n",
    "\n",
    "segment_names = {\n",
    "    r'5[4-5]': 'champions',\n",
    "    r'[1-2][1-2]': 'hibernating',\n",
    "    r'[1-2][3-4]': 'at risk',\n",
    "    r'[1-2]5': 'can\\'t loose',\n",
    "    r'3[1-2]': 'about to sleep',\n",
    "    r'33': 'need attention',\n",
    "    r'[3-4][4-5]': 'loyal customers',\n",
    "    r'41': 'promising',\n",
    "    r'51': 'new customers',\n",
    "    r'[4-5][2-3]': 'potential loyalists',\n",
    "}"
   ]
  },
  {
   "cell_type": "code",
   "execution_count": null,
   "metadata": {},
   "outputs": [],
   "source": [
    "rfm_df_final['segment'] = rfm_df_final['R'].map(str) + rfm_df_final['F'].map(str)\n",
    "rfm_df_final['segment'] = rfm_df_final['segment'].replace(segment_names, regex=True)\n",
    "rfm_df_final.head()"
   ]
  },
  {
   "cell_type": "markdown",
   "metadata": {},
   "source": [
    "Визуализируем полученные данные.\n",
    "Графики тоже взял из статьи, но немного изменил цвета. Также сделал так, чтобы подсвечивались и минимальные (красным) значения и максимальные (зеленым) значения."
   ]
  },
  {
   "cell_type": "code",
   "execution_count": null,
   "metadata": {},
   "outputs": [],
   "source": [
    "# plot the distribution of customers over R and F\n",
    "fig, axes = plt.subplots(nrows=1, ncols=2, figsize=(10, 4))\n",
    "\n",
    "for i, p in enumerate(['R', 'F']):\n",
    "    parameters = {'R':'recency', 'F':'frequency'}\n",
    "    y = rfm_df_final[p].value_counts().sort_index()\n",
    "    x = y.index\n",
    "    ax = axes[i]\n",
    "    bars = ax.bar(x, y, color='silver')\n",
    "    ax.set_frame_on(False)\n",
    "    ax.tick_params(left=False, labelleft=False, bottom=False)\n",
    "    ax.set_title('Distribution of {}'.format(parameters[p]),\n",
    "                fontsize=14)\n",
    "    for bar in bars:\n",
    "        value = bar.get_height()\n",
    "        if value == y.max():\n",
    "            bar.set_color('green')\n",
    "        elif value == y.min():\n",
    "            bar.set_color('firebrick')\n",
    "        ax.text(bar.get_x() + bar.get_width() / 2,\n",
    "                value - 5,\n",
    "                '{}\\n({}%)'.format(int(value), int(value * 100 / y.sum())),\n",
    "               ha='center',\n",
    "               va='top',\n",
    "               color='w')\n",
    "\n",
    "plt.show()\n",
    "\n",
    "# plot the distribution of M for RF score\n",
    "fig, axes = plt.subplots(nrows=5, ncols=5,\n",
    "                         sharex=False, sharey=True,\n",
    "                         figsize=(10, 10))\n",
    "\n",
    "r_range = range(1, 6)\n",
    "f_range = range(1, 6)\n",
    "for r in r_range:\n",
    "    for f in f_range:\n",
    "        y = rfm_df_final[(rfm_df_final['R'] == r) & (rfm_df_final['F'] == f)]['M'].value_counts().sort_index()\n",
    "        x = y.index\n",
    "        ax = axes[r - 1, f - 1]\n",
    "        bars = ax.bar(x, y, color='silver')\n",
    "        if r == 5:\n",
    "            if f == 3:\n",
    "                ax.set_xlabel('{}\\nF'.format(f), va='top')\n",
    "            else:\n",
    "                ax.set_xlabel('{}\\n'.format(f), va='top')\n",
    "        if f == 1:\n",
    "            if r == 3:\n",
    "                ax.set_ylabel('R\\n{}'.format(r))\n",
    "            else:\n",
    "                ax.set_ylabel(r)\n",
    "        ax.set_frame_on(False)\n",
    "        ax.tick_params(left=False, labelleft=False, bottom=False)\n",
    "        ax.set_xticks(x)\n",
    "        ax.set_xticklabels(x, fontsize=8)\n",
    "\n",
    "        for bar in bars:\n",
    "            value = bar.get_height()\n",
    "            if value == y.max():\n",
    "                bar.set_color('green')\n",
    "            elif value == y.min():\n",
    "                bar.set_color('firebrick')\n",
    "            ax.text(bar.get_x() + bar.get_width() / 2,\n",
    "                    value,\n",
    "                    int(value),\n",
    "                    ha='center',\n",
    "                    va='bottom',\n",
    "                    color='k')\n",
    "fig.suptitle('Distribution of M for each F and R',\n",
    "             fontsize=14)\n",
    "plt.tight_layout()\n",
    "plt.show()"
   ]
  },
  {
   "cell_type": "code",
   "execution_count": null,
   "metadata": {},
   "outputs": [],
   "source": [
    "# count the number of customers in each segment\n",
    "segments_counts = rfm_df_final['segment'].value_counts().sort_values(ascending=True)\n",
    "\n",
    "fig, ax = plt.subplots()\n",
    "\n",
    "bars = ax.barh(range(len(segments_counts)),\n",
    "              segments_counts,\n",
    "              color='silver')\n",
    "ax.set_frame_on(False)\n",
    "ax.tick_params(left=False,\n",
    "               bottom=False,\n",
    "               labelbottom=False)\n",
    "ax.set_yticks(range(len(segments_counts)))\n",
    "ax.set_yticklabels(segments_counts.index)\n",
    "\n",
    "for i, bar in enumerate(bars):\n",
    "        value = bar.get_width()\n",
    "        if segments_counts.index[i] in ['champions', 'loyal customers']:\n",
    "            bar.set_color('green')\n",
    "        ax.text(value,\n",
    "                bar.get_y() + bar.get_height()/2,\n",
    "                '{:,} ({:}%)'.format(int(value),\n",
    "                                   round(float(value*100/segments_counts.sum()),2)),\n",
    "                va='center',\n",
    "                ha='left'\n",
    "               )\n",
    "\n",
    "plt.show()"
   ]
  },
  {
   "cell_type": "markdown",
   "metadata": {},
   "source": [
    "### Ответ:\n",
    "\n",
    "На графиках мы видим картину, что у нас очень мало лояльных клиентов и чемпионов и тех, кото мы не можем потерять, т.к. они покупали много, но давно к нам не возвращались. Мы также видим, что у нас очень много пользователей, которые сделали одну покупку и больше ничего не покупали. Это значит, что у нас сильно стредает retention. \n",
    "\n",
    "Возможно мы просто очень молодой сервис, а может наш продукт не интересен и нам нужно пересмотреть ассортиментную стратегию, а может что-то третье, вариантов может быть масса. Нужен более подробный анализ для выявления конкретной  проблемы.\n",
    "\n",
    "Также у нас абсолютно отсутствует прослойка по частоте покупок между 1 и 5 категориями.\n",
    "\n",
    "Исходя из полученных данных мы можем сделать выводы, что нам необходимо:\n",
    "\n",
    "1. сделать максимальный акцент на многообещающих (promising), т.к. из них проще всего сделать лояльных или чемпионов;\n",
    "2. простимулировать новых покупателей совершить повторную покупку;\n",
    "3. \"разбудить\" спящих пкупателей, чтобы их не потерять.\n",
    "\n",
    "Это все поможет нам активировать этих пользователей и нарастить количество лояльных и чемпионов, которых у нас крайне мало."
   ]
  }
 ],
 "metadata": {
  "kernelspec": {
   "display_name": "Python 3",
   "language": "python",
   "name": "python3"
  },
  "language_info": {
   "codemirror_mode": {
    "name": "ipython",
    "version": 3
   },
   "file_extension": ".py",
   "mimetype": "text/x-python",
   "name": "python",
   "nbconvert_exporter": "python",
   "pygments_lexer": "ipython3",
   "version": "3.7.3"
  }
 },
 "nbformat": 4,
 "nbformat_minor": 5
}
