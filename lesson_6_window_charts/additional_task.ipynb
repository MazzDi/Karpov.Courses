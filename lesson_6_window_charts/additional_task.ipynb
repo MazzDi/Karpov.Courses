{
 "cells": [
  {
   "cell_type": "code",
   "execution_count": 3,
   "metadata": {},
   "outputs": [],
   "source": [
    "# import libs\n",
    "\n",
    "import pandas as pd\n",
    "import re"
   ]
  },
  {
   "cell_type": "code",
   "execution_count": 4,
   "metadata": {
    "scrolled": true
   },
   "outputs": [],
   "source": [
    "# read DF with gff informaton, sep=\\t\n",
    "gff_main_df = pd.read_csv('/home/jupyter-n-korotkov/shared/homeworks/python_ds_miniprojects/6_gff/gff.tsv', sep='\\t')"
   ]
  },
  {
   "cell_type": "code",
   "execution_count": 5,
   "metadata": {},
   "outputs": [
    {
     "data": {
      "text/plain": [
       "seq_id        object\n",
       "source        object\n",
       "type          object\n",
       "start          int64\n",
       "end            int64\n",
       "score         object\n",
       "strand        object\n",
       "phase         object\n",
       "attributes    object\n",
       "dtype: object"
      ]
     },
     "execution_count": 5,
     "metadata": {},
     "output_type": "execute_result"
    }
   ],
   "source": [
    "gff_main_df.dtypes"
   ]
  },
  {
   "cell_type": "code",
   "execution_count": 6,
   "metadata": {},
   "outputs": [
    {
     "data": {
      "text/html": [
       "<div>\n",
       "<style scoped>\n",
       "    .dataframe tbody tr th:only-of-type {\n",
       "        vertical-align: middle;\n",
       "    }\n",
       "\n",
       "    .dataframe tbody tr th {\n",
       "        vertical-align: top;\n",
       "    }\n",
       "\n",
       "    .dataframe thead th {\n",
       "        text-align: right;\n",
       "    }\n",
       "</style>\n",
       "<table border=\"1\" class=\"dataframe\">\n",
       "  <thead>\n",
       "    <tr style=\"text-align: right;\">\n",
       "      <th></th>\n",
       "      <th>seq_id</th>\n",
       "      <th>source</th>\n",
       "      <th>type</th>\n",
       "      <th>start</th>\n",
       "      <th>end</th>\n",
       "      <th>score</th>\n",
       "      <th>strand</th>\n",
       "      <th>phase</th>\n",
       "      <th>attributes</th>\n",
       "    </tr>\n",
       "  </thead>\n",
       "  <tbody>\n",
       "    <tr>\n",
       "      <th>0</th>\n",
       "      <td>chr17</td>\n",
       "      <td>RefSeq</td>\n",
       "      <td>exon</td>\n",
       "      <td>6811330</td>\n",
       "      <td>6811453</td>\n",
       "      <td>.</td>\n",
       "      <td>+</td>\n",
       "      <td>.</td>\n",
       "      <td>Parent=XM_001475631.1</td>\n",
       "    </tr>\n",
       "    <tr>\n",
       "      <th>1</th>\n",
       "      <td>chr17</td>\n",
       "      <td>RefSeq</td>\n",
       "      <td>CDS</td>\n",
       "      <td>6808204</td>\n",
       "      <td>6808245</td>\n",
       "      <td>.</td>\n",
       "      <td>+</td>\n",
       "      <td>0</td>\n",
       "      <td>Name=CDS:NC_000083.5:LOC100040603;Parent=XM_00...</td>\n",
       "    </tr>\n",
       "    <tr>\n",
       "      <th>2</th>\n",
       "      <td>chr17</td>\n",
       "      <td>RefSeq</td>\n",
       "      <td>CDS</td>\n",
       "      <td>6811792</td>\n",
       "      <td>6811869</td>\n",
       "      <td>.</td>\n",
       "      <td>+</td>\n",
       "      <td>2</td>\n",
       "      <td>Name=CDS:NC_000083.5:LOC100040603;Parent=XM_00...</td>\n",
       "    </tr>\n",
       "    <tr>\n",
       "      <th>3</th>\n",
       "      <td>chr17</td>\n",
       "      <td>RefSeq</td>\n",
       "      <td>exon</td>\n",
       "      <td>6806513</td>\n",
       "      <td>6806553</td>\n",
       "      <td>.</td>\n",
       "      <td>+</td>\n",
       "      <td>.</td>\n",
       "      <td>Parent=XM_001475631.1</td>\n",
       "    </tr>\n",
       "    <tr>\n",
       "      <th>4</th>\n",
       "      <td>chr17</td>\n",
       "      <td>RefSeq</td>\n",
       "      <td>five_prime_UTR</td>\n",
       "      <td>6806513</td>\n",
       "      <td>6806526</td>\n",
       "      <td>.</td>\n",
       "      <td>+</td>\n",
       "      <td>.</td>\n",
       "      <td>Parent=XM_001475631.1</td>\n",
       "    </tr>\n",
       "  </tbody>\n",
       "</table>\n",
       "</div>"
      ],
      "text/plain": [
       "  seq_id  source            type    start      end score strand phase  \\\n",
       "0  chr17  RefSeq            exon  6811330  6811453     .      +     .   \n",
       "1  chr17  RefSeq             CDS  6808204  6808245     .      +     0   \n",
       "2  chr17  RefSeq             CDS  6811792  6811869     .      +     2   \n",
       "3  chr17  RefSeq            exon  6806513  6806553     .      +     .   \n",
       "4  chr17  RefSeq  five_prime_UTR  6806513  6806526     .      +     .   \n",
       "\n",
       "                                          attributes  \n",
       "0                              Parent=XM_001475631.1  \n",
       "1  Name=CDS:NC_000083.5:LOC100040603;Parent=XM_00...  \n",
       "2  Name=CDS:NC_000083.5:LOC100040603;Parent=XM_00...  \n",
       "3                              Parent=XM_001475631.1  \n",
       "4                              Parent=XM_001475631.1  "
      ]
     },
     "execution_count": 6,
     "metadata": {},
     "output_type": "execute_result"
    }
   ],
   "source": [
    "gff_main_df.head()"
   ]
  },
  {
   "cell_type": "code",
   "execution_count": 7,
   "metadata": {},
   "outputs": [
    {
     "data": {
      "text/plain": [
       "(512, 9)"
      ]
     },
     "execution_count": 7,
     "metadata": {},
     "output_type": "execute_result"
    }
   ],
   "source": [
    "gff_main_df.shape"
   ]
  },
  {
   "cell_type": "code",
   "execution_count": null,
   "metadata": {},
   "outputs": [],
   "source": []
  },
  {
   "cell_type": "code",
   "execution_count": null,
   "metadata": {},
   "outputs": [],
   "source": []
  },
  {
   "cell_type": "code",
   "execution_count": null,
   "metadata": {},
   "outputs": [],
   "source": []
  },
  {
   "cell_type": "code",
   "execution_count": 8,
   "metadata": {},
   "outputs": [],
   "source": [
    "# Какое значение атрибута Parent самое частое?"
   ]
  },
  {
   "cell_type": "code",
   "execution_count": 9,
   "metadata": {},
   "outputs": [],
   "source": [
    "parent = gff_main_df.attributes.str.extract(r'Parent=(?P<parent>[\\w\\.]+)')"
   ]
  },
  {
   "cell_type": "code",
   "execution_count": 10,
   "metadata": {},
   "outputs": [
    {
     "data": {
      "text/plain": [
       "XM_001475631.1    479\n",
       "NC_000083.5        33\n",
       "Name: parent, dtype: int64"
      ]
     },
     "execution_count": 10,
     "metadata": {},
     "output_type": "execute_result"
    }
   ],
   "source": [
    "parent.parent.value_counts()"
   ]
  },
  {
   "cell_type": "code",
   "execution_count": 12,
   "metadata": {},
   "outputs": [
    {
     "data": {
      "text/plain": [
       "exon               201\n",
       "CDS                170\n",
       "five_prime_UTR      47\n",
       "mRNA                33\n",
       "three_prime_UTR     32\n",
       "protein             29\n",
       "Name: type, dtype: int64"
      ]
     },
     "execution_count": 12,
     "metadata": {},
     "output_type": "execute_result"
    }
   ],
   "source": [
    "# Какое самое частое значение в колонке type?\n",
    "gff_main_df.type.value_counts()"
   ]
  },
  {
   "cell_type": "code",
   "execution_count": null,
   "metadata": {},
   "outputs": [],
   "source": []
  }
 ],
 "metadata": {
  "kernelspec": {
   "display_name": "Python 3",
   "language": "python",
   "name": "python3"
  },
  "language_info": {
   "codemirror_mode": {
    "name": "ipython",
    "version": 3
   },
   "file_extension": ".py",
   "mimetype": "text/x-python",
   "name": "python",
   "nbconvert_exporter": "python",
   "pygments_lexer": "ipython3",
   "version": "3.7.3"
  }
 },
 "nbformat": 4,
 "nbformat_minor": 4
}
