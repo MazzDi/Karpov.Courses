{
 "cells": [
  {
   "cell_type": "code",
   "execution_count": 79,
   "id": "ae941ec2",
   "metadata": {},
   "outputs": [],
   "source": [
    "import pandas as pd\n",
    "import numpy as np\n",
    "\n",
    "import seaborn as sns\n",
    "import matplotlib.pyplot as plt\n",
    "import requests as rq\n",
    "from urllib.parse import urlencode\n",
    "\n",
    "from datetime import timedelta\n",
    "\n",
    "%matplotlib inline"
   ]
  },
  {
   "cell_type": "code",
   "execution_count": 2,
   "id": "495259bb",
   "metadata": {},
   "outputs": [],
   "source": [
    "base_url = 'https://cloud-api.yandex.net/v1/disk/public/resources/download?'\n",
    "customer_data = 'https://disk.yandex.ru/d/Ta-weYfGM5CHjg'\n",
    "\n",
    "# Получаем загрузочную ссылку\n",
    "download_url_customer_data = rq.get(base_url + urlencode(dict(public_key=customer_data))).json()['href']\n",
    "download_response = rq.get(download_url_customer_data)"
   ]
  },
  {
   "cell_type": "code",
   "execution_count": 3,
   "id": "6c7a2ad0",
   "metadata": {},
   "outputs": [],
   "source": [
    "customers_df = pd.read_csv(download_url_customer_data, parse_dates=['date'])"
   ]
  },
  {
   "cell_type": "markdown",
   "id": "4b2c3404",
   "metadata": {},
   "source": [
    "### Описание данных \n",
    "\n",
    "- **`date`** – дата совершения события\n",
    "\n",
    "- **`event`** - событие\n",
    "    + *app_install – установка приложения*\n",
    "    + *app_start – открыть приложения*\n",
    "    + *registration – зарегистрироваться*\n",
    "    + *search – перейти на страницу поиска товаров (каталог)*\n",
    "    + *open_item – открыть товар*\n",
    "    + *choose_item – отправить товар в корзину*\n",
    "    + *tap_basket – перейти в корзину*\n",
    "    + *purchase – подтверждение покупки*\n",
    "    \n",
    "- **`purchase_sum`** – стоимость покупки (при совершении события ‘purchase’)\n",
    "\n",
    "- **`os_name`** – платформа пользователя\n",
    "\n",
    "- **`device_id`** – идентификатор устройства пользователя\n",
    "\n",
    "- **`gender`** – пол пользователя\n",
    "\n",
    "- **`city`** – город пользователя\n",
    "\n",
    "- **`urm_source`** – канал, с которого пришел пользователь\n",
    "    + *yandex-direct – Яндекс директ*\n",
    "    + *google_ads – реклама в Google*\n",
    "    + *vk_ads – реклама в ВК*\n",
    "    + *instagram_ads – реклама в instagram*\n",
    "    + *facebook_ads – реклама в facebook*\n",
    "    + *referral – акция «приведи друга»*\n",
    "    + ***Если стоит ‘-’, то канал не определен или это скачивание приложения напрямую или посещение не с рекламы***  "
   ]
  },
  {
   "cell_type": "markdown",
   "id": "4b3a3f41",
   "metadata": {},
   "source": [
    "Обратите внимание на следующее:\n",
    "\n",
    "- В выгрузке только уникальные действия пользователей за каждый день \n",
    "\n",
    "- Можно миновать стадию установки приложения, если оно было установлено ранее\n",
    "\n",
    "- Можно миновать стадию регистрации, если пользователь был уже залогинен на момент сессии. Однако незарегистрированные пользователи не могут оформить покупку. "
   ]
  },
  {
   "cell_type": "code",
   "execution_count": 4,
   "id": "6cb61d4c",
   "metadata": {
    "scrolled": true
   },
   "outputs": [
    {
     "data": {
      "text/html": [
       "<div>\n",
       "<style scoped>\n",
       "    .dataframe tbody tr th:only-of-type {\n",
       "        vertical-align: middle;\n",
       "    }\n",
       "\n",
       "    .dataframe tbody tr th {\n",
       "        vertical-align: top;\n",
       "    }\n",
       "\n",
       "    .dataframe thead th {\n",
       "        text-align: right;\n",
       "    }\n",
       "</style>\n",
       "<table border=\"1\" class=\"dataframe\">\n",
       "  <thead>\n",
       "    <tr style=\"text-align: right;\">\n",
       "      <th></th>\n",
       "      <th>date</th>\n",
       "      <th>event</th>\n",
       "      <th>purchase_sum</th>\n",
       "      <th>os_name</th>\n",
       "      <th>device_id</th>\n",
       "      <th>gender</th>\n",
       "      <th>city</th>\n",
       "      <th>utm_source</th>\n",
       "    </tr>\n",
       "  </thead>\n",
       "  <tbody>\n",
       "    <tr>\n",
       "      <th>0</th>\n",
       "      <td>2020-01-01</td>\n",
       "      <td>app_start</td>\n",
       "      <td>NaN</td>\n",
       "      <td>android</td>\n",
       "      <td>669460</td>\n",
       "      <td>female</td>\n",
       "      <td>Moscow</td>\n",
       "      <td>-</td>\n",
       "    </tr>\n",
       "    <tr>\n",
       "      <th>1</th>\n",
       "      <td>2020-01-01</td>\n",
       "      <td>app_start</td>\n",
       "      <td>NaN</td>\n",
       "      <td>ios</td>\n",
       "      <td>833621</td>\n",
       "      <td>male</td>\n",
       "      <td>Moscow</td>\n",
       "      <td>vk_ads</td>\n",
       "    </tr>\n",
       "    <tr>\n",
       "      <th>2</th>\n",
       "      <td>2020-01-01</td>\n",
       "      <td>app_start</td>\n",
       "      <td>NaN</td>\n",
       "      <td>android</td>\n",
       "      <td>1579237</td>\n",
       "      <td>male</td>\n",
       "      <td>Saint-Petersburg</td>\n",
       "      <td>referal</td>\n",
       "    </tr>\n",
       "    <tr>\n",
       "      <th>3</th>\n",
       "      <td>2020-01-01</td>\n",
       "      <td>app_start</td>\n",
       "      <td>NaN</td>\n",
       "      <td>android</td>\n",
       "      <td>1737182</td>\n",
       "      <td>female</td>\n",
       "      <td>Moscow</td>\n",
       "      <td>facebook_ads</td>\n",
       "    </tr>\n",
       "    <tr>\n",
       "      <th>4</th>\n",
       "      <td>2020-01-01</td>\n",
       "      <td>app_start</td>\n",
       "      <td>NaN</td>\n",
       "      <td>ios</td>\n",
       "      <td>4029024</td>\n",
       "      <td>female</td>\n",
       "      <td>Moscow</td>\n",
       "      <td>facebook_ads</td>\n",
       "    </tr>\n",
       "  </tbody>\n",
       "</table>\n",
       "</div>"
      ],
      "text/plain": [
       "        date      event  purchase_sum  os_name  device_id  gender  \\\n",
       "0 2020-01-01  app_start           NaN  android     669460  female   \n",
       "1 2020-01-01  app_start           NaN      ios     833621    male   \n",
       "2 2020-01-01  app_start           NaN  android    1579237    male   \n",
       "3 2020-01-01  app_start           NaN  android    1737182  female   \n",
       "4 2020-01-01  app_start           NaN      ios    4029024  female   \n",
       "\n",
       "               city    utm_source  \n",
       "0            Moscow             -  \n",
       "1            Moscow        vk_ads  \n",
       "2  Saint-Petersburg       referal  \n",
       "3            Moscow  facebook_ads  \n",
       "4            Moscow  facebook_ads  "
      ]
     },
     "execution_count": 4,
     "metadata": {},
     "output_type": "execute_result"
    }
   ],
   "source": [
    "customers_df.head()"
   ]
  },
  {
   "cell_type": "code",
   "execution_count": 5,
   "id": "44487311",
   "metadata": {},
   "outputs": [
    {
     "data": {
      "text/plain": [
       "(2747968, 8)"
      ]
     },
     "execution_count": 5,
     "metadata": {},
     "output_type": "execute_result"
    }
   ],
   "source": [
    "customers_df.shape"
   ]
  },
  {
   "cell_type": "code",
   "execution_count": 6,
   "id": "0d14c3d6",
   "metadata": {},
   "outputs": [
    {
     "data": {
      "text/plain": [
       "date            datetime64[ns]\n",
       "event                   object\n",
       "purchase_sum           float64\n",
       "os_name                 object\n",
       "device_id                int64\n",
       "gender                  object\n",
       "city                    object\n",
       "utm_source              object\n",
       "dtype: object"
      ]
     },
     "execution_count": 6,
     "metadata": {},
     "output_type": "execute_result"
    }
   ],
   "source": [
    "customers_df.dtypes"
   ]
  },
  {
   "cell_type": "code",
   "execution_count": 7,
   "id": "920664f9",
   "metadata": {},
   "outputs": [
    {
     "data": {
      "text/plain": [
       "date                  0\n",
       "event                 0\n",
       "purchase_sum    2606585\n",
       "os_name               0\n",
       "device_id             0\n",
       "gender                0\n",
       "city                  0\n",
       "utm_source            0\n",
       "dtype: int64"
      ]
     },
     "execution_count": 7,
     "metadata": {},
     "output_type": "execute_result"
    }
   ],
   "source": [
    "customers_df.isna().sum()"
   ]
  },
  {
   "cell_type": "code",
   "execution_count": 8,
   "id": "ab1ba735",
   "metadata": {},
   "outputs": [
    {
     "data": {
      "text/plain": [
       "'date_time from 2020-01-01 00:00:00 to 2020-03-31 00:00:00'"
      ]
     },
     "execution_count": 8,
     "metadata": {},
     "output_type": "execute_result"
    }
   ],
   "source": [
    "f'date_time from {customers_df.date.min()} to {customers_df.date.max()}'"
   ]
  },
  {
   "cell_type": "code",
   "execution_count": 9,
   "id": "ce30c18f",
   "metadata": {},
   "outputs": [
    {
     "data": {
      "text/plain": [
       "array(['android', 'ios'], dtype=object)"
      ]
     },
     "execution_count": 9,
     "metadata": {},
     "output_type": "execute_result"
    }
   ],
   "source": [
    "customers_df.os_name.unique()"
   ]
  },
  {
   "cell_type": "code",
   "execution_count": 10,
   "id": "c92c0691",
   "metadata": {},
   "outputs": [
    {
     "data": {
      "text/plain": [
       "app_start      748705\n",
       "search         708639\n",
       "choose_item    538669\n",
       "tap_basket     377665\n",
       "app_install    154597\n",
       "purchase       141383\n",
       "register        78310\n",
       "Name: event, dtype: int64"
      ]
     },
     "execution_count": 10,
     "metadata": {},
     "output_type": "execute_result"
    }
   ],
   "source": [
    "customers_df.event.value_counts().sort_values(ascending=False)"
   ]
  },
  {
   "cell_type": "code",
   "execution_count": 11,
   "id": "4da505fc",
   "metadata": {},
   "outputs": [
    {
     "data": {
      "text/plain": [
       "Moscow              1491481\n",
       "Saint-Petersburg    1256487\n",
       "Name: city, dtype: int64"
      ]
     },
     "execution_count": 11,
     "metadata": {},
     "output_type": "execute_result"
    }
   ],
   "source": [
    "customers_df.city.value_counts().sort_values(ascending=False)"
   ]
  },
  {
   "cell_type": "code",
   "execution_count": 12,
   "id": "aaf5bcee",
   "metadata": {
    "scrolled": true
   },
   "outputs": [
    {
     "data": {
      "text/plain": [
       "-                610458\n",
       "vk_ads           418456\n",
       "yandex-direct    390232\n",
       "instagram_ads    382891\n",
       "google_ads       374257\n",
       "facebook_ads     336953\n",
       "referal          234721\n",
       "Name: utm_source, dtype: int64"
      ]
     },
     "execution_count": 12,
     "metadata": {},
     "output_type": "execute_result"
    }
   ],
   "source": [
    "customers_df.utm_source.value_counts().sort_values(ascending=False)"
   ]
  },
  {
   "cell_type": "code",
   "execution_count": 13,
   "id": "b569d55c",
   "metadata": {
    "scrolled": true
   },
   "outputs": [
    {
     "data": {
      "text/plain": [
       "'number of rows:2747968, and number of unique device_ids(users):190884'"
      ]
     },
     "execution_count": 13,
     "metadata": {},
     "output_type": "execute_result"
    }
   ],
   "source": [
    "f'number of rows:{customers_df.device_id.count()}, and number of unique device_ids(users):{customers_df.device_id.nunique()}'"
   ]
  },
  {
   "cell_type": "code",
   "execution_count": 14,
   "id": "974be8f6",
   "metadata": {},
   "outputs": [
    {
     "data": {
      "text/plain": [
       "'avg num of actions per customer:14.396010142285368'"
      ]
     },
     "execution_count": 14,
     "metadata": {},
     "output_type": "execute_result"
    }
   ],
   "source": [
    "f'avg num of actions per customer:{customers_df.device_id.count()/customers_df.device_id.nunique()}'"
   ]
  },
  {
   "cell_type": "markdown",
   "id": "8a48955c",
   "metadata": {},
   "source": [
    "### Задание 4.\n",
    "MAU февраля:"
   ]
  },
  {
   "cell_type": "code",
   "execution_count": 15,
   "id": "fba533b7",
   "metadata": {
    "scrolled": true
   },
   "outputs": [
    {
     "data": {
      "text/plain": [
       "75032"
      ]
     },
     "execution_count": 15,
     "metadata": {},
     "output_type": "execute_result"
    }
   ],
   "source": [
    "customers_df.loc[customers_df.date.dt.month == 2].device_id.nunique()"
   ]
  },
  {
   "cell_type": "markdown",
   "id": "c0510d64",
   "metadata": {},
   "source": [
    "### Задание 5.\n",
    "Количество установок в январе:\n",
    "\n"
   ]
  },
  {
   "cell_type": "code",
   "execution_count": 16,
   "id": "6ea4afc6",
   "metadata": {},
   "outputs": [
    {
     "data": {
      "text/plain": [
       "80297"
      ]
     },
     "execution_count": 16,
     "metadata": {},
     "output_type": "execute_result"
    }
   ],
   "source": [
    "customers_df.loc[(customers_df.date.dt.month == 1) & (customers_df.event == 'app_install')].event.count()"
   ]
  },
  {
   "cell_type": "markdown",
   "id": "172e40f7",
   "metadata": {},
   "source": [
    "### Задание 6.\n",
    "Присвойте пользователям когорты по дню установки приложения и посчитайте для них  конверсию из установки в покупку в течение 7 дней. Для какой когорты конверсия была наибольшей? Ответ впишите в формате: дд.мм.гггг\n",
    "\n",
    "Примечание: считаем пользователя сконвертировавшимся, если с момента установки до совершения первой покупки прошло не более 7 дней."
   ]
  },
  {
   "cell_type": "code",
   "execution_count": 113,
   "id": "436695ee",
   "metadata": {},
   "outputs": [],
   "source": [
    "install_cohorts = customers_df.query('event == \"app_install\"')"
   ]
  },
  {
   "cell_type": "code",
   "execution_count": 116,
   "id": "fd821553",
   "metadata": {},
   "outputs": [
    {
     "data": {
      "text/plain": [
       "(154597, 8)"
      ]
     },
     "execution_count": 116,
     "metadata": {},
     "output_type": "execute_result"
    }
   ],
   "source": [
    "install_cohorts.shape"
   ]
  },
  {
   "cell_type": "code",
   "execution_count": 114,
   "id": "3826894b",
   "metadata": {
    "scrolled": true
   },
   "outputs": [
    {
     "data": {
      "text/html": [
       "<div>\n",
       "<style scoped>\n",
       "    .dataframe tbody tr th:only-of-type {\n",
       "        vertical-align: middle;\n",
       "    }\n",
       "\n",
       "    .dataframe tbody tr th {\n",
       "        vertical-align: top;\n",
       "    }\n",
       "\n",
       "    .dataframe thead th {\n",
       "        text-align: right;\n",
       "    }\n",
       "</style>\n",
       "<table border=\"1\" class=\"dataframe\">\n",
       "  <thead>\n",
       "    <tr style=\"text-align: right;\">\n",
       "      <th></th>\n",
       "      <th>date</th>\n",
       "      <th>event</th>\n",
       "      <th>purchase_sum</th>\n",
       "      <th>os_name</th>\n",
       "      <th>device_id</th>\n",
       "      <th>gender</th>\n",
       "      <th>city</th>\n",
       "      <th>utm_source</th>\n",
       "    </tr>\n",
       "  </thead>\n",
       "  <tbody>\n",
       "    <tr>\n",
       "      <th>2515061</th>\n",
       "      <td>2020-01-01</td>\n",
       "      <td>app_install</td>\n",
       "      <td>NaN</td>\n",
       "      <td>ios</td>\n",
       "      <td>4921563</td>\n",
       "      <td>male</td>\n",
       "      <td>Moscow</td>\n",
       "      <td>vk_ads</td>\n",
       "    </tr>\n",
       "    <tr>\n",
       "      <th>2515062</th>\n",
       "      <td>2020-01-01</td>\n",
       "      <td>app_install</td>\n",
       "      <td>NaN</td>\n",
       "      <td>ios</td>\n",
       "      <td>1311583</td>\n",
       "      <td>male</td>\n",
       "      <td>Moscow</td>\n",
       "      <td>-</td>\n",
       "    </tr>\n",
       "    <tr>\n",
       "      <th>2515063</th>\n",
       "      <td>2020-01-01</td>\n",
       "      <td>app_install</td>\n",
       "      <td>NaN</td>\n",
       "      <td>android</td>\n",
       "      <td>23006325</td>\n",
       "      <td>male</td>\n",
       "      <td>Saint-Petersburg</td>\n",
       "      <td>-</td>\n",
       "    </tr>\n",
       "    <tr>\n",
       "      <th>2515064</th>\n",
       "      <td>2020-01-01</td>\n",
       "      <td>app_install</td>\n",
       "      <td>NaN</td>\n",
       "      <td>android</td>\n",
       "      <td>5645652</td>\n",
       "      <td>male</td>\n",
       "      <td>Moscow</td>\n",
       "      <td>-</td>\n",
       "    </tr>\n",
       "    <tr>\n",
       "      <th>2515065</th>\n",
       "      <td>2020-01-01</td>\n",
       "      <td>app_install</td>\n",
       "      <td>NaN</td>\n",
       "      <td>ios</td>\n",
       "      <td>8798567</td>\n",
       "      <td>male</td>\n",
       "      <td>Saint-Petersburg</td>\n",
       "      <td>referal</td>\n",
       "    </tr>\n",
       "  </tbody>\n",
       "</table>\n",
       "</div>"
      ],
      "text/plain": [
       "              date        event  purchase_sum  os_name  device_id gender  \\\n",
       "2515061 2020-01-01  app_install           NaN      ios    4921563   male   \n",
       "2515062 2020-01-01  app_install           NaN      ios    1311583   male   \n",
       "2515063 2020-01-01  app_install           NaN  android   23006325   male   \n",
       "2515064 2020-01-01  app_install           NaN  android    5645652   male   \n",
       "2515065 2020-01-01  app_install           NaN      ios    8798567   male   \n",
       "\n",
       "                     city utm_source  \n",
       "2515061            Moscow     vk_ads  \n",
       "2515062            Moscow          -  \n",
       "2515063  Saint-Petersburg          -  \n",
       "2515064            Moscow          -  \n",
       "2515065  Saint-Petersburg    referal  "
      ]
     },
     "execution_count": 114,
     "metadata": {},
     "output_type": "execute_result"
    }
   ],
   "source": [
    "install_cohorts.head()"
   ]
  },
  {
   "cell_type": "code",
   "execution_count": 117,
   "id": "1532e7cf",
   "metadata": {},
   "outputs": [],
   "source": [
    "first_purchase = customers_df \\\n",
    "    .query('event == \"purchase\"')\\\n",
    "    .rename(columns={'date':'first_purchase_date'}) \\\n",
    "    .groupby('device_id', as_index=False) \\\n",
    "    .first_purchase_date.min()"
   ]
  },
  {
   "cell_type": "code",
   "execution_count": 119,
   "id": "d8c5b7de",
   "metadata": {},
   "outputs": [
    {
     "data": {
      "text/html": [
       "<div>\n",
       "<style scoped>\n",
       "    .dataframe tbody tr th:only-of-type {\n",
       "        vertical-align: middle;\n",
       "    }\n",
       "\n",
       "    .dataframe tbody tr th {\n",
       "        vertical-align: top;\n",
       "    }\n",
       "\n",
       "    .dataframe thead th {\n",
       "        text-align: right;\n",
       "    }\n",
       "</style>\n",
       "<table border=\"1\" class=\"dataframe\">\n",
       "  <thead>\n",
       "    <tr style=\"text-align: right;\">\n",
       "      <th></th>\n",
       "      <th>device_id</th>\n",
       "      <th>first_purchase_date</th>\n",
       "    </tr>\n",
       "  </thead>\n",
       "  <tbody>\n",
       "    <tr>\n",
       "      <th>0</th>\n",
       "      <td>4014</td>\n",
       "      <td>2020-02-01</td>\n",
       "    </tr>\n",
       "    <tr>\n",
       "      <th>1</th>\n",
       "      <td>4046</td>\n",
       "      <td>2020-01-04</td>\n",
       "    </tr>\n",
       "    <tr>\n",
       "      <th>2</th>\n",
       "      <td>4060</td>\n",
       "      <td>2020-03-07</td>\n",
       "    </tr>\n",
       "    <tr>\n",
       "      <th>3</th>\n",
       "      <td>4120</td>\n",
       "      <td>2020-01-07</td>\n",
       "    </tr>\n",
       "    <tr>\n",
       "      <th>4</th>\n",
       "      <td>4125</td>\n",
       "      <td>2020-01-07</td>\n",
       "    </tr>\n",
       "  </tbody>\n",
       "</table>\n",
       "</div>"
      ],
      "text/plain": [
       "   device_id first_purchase_date\n",
       "0       4014          2020-02-01\n",
       "1       4046          2020-01-04\n",
       "2       4060          2020-03-07\n",
       "3       4120          2020-01-07\n",
       "4       4125          2020-01-07"
      ]
     },
     "execution_count": 119,
     "metadata": {},
     "output_type": "execute_result"
    }
   ],
   "source": [
    "first_purchase.head()"
   ]
  },
  {
   "cell_type": "code",
   "execution_count": 121,
   "id": "7b317748",
   "metadata": {},
   "outputs": [],
   "source": [
    "df_cohort_first_purch = install_cohorts.merge(first_purchase, on=['device_id'])"
   ]
  },
  {
   "cell_type": "code",
   "execution_count": 123,
   "id": "4676789d",
   "metadata": {},
   "outputs": [
    {
     "data": {
      "text/html": [
       "<div>\n",
       "<style scoped>\n",
       "    .dataframe tbody tr th:only-of-type {\n",
       "        vertical-align: middle;\n",
       "    }\n",
       "\n",
       "    .dataframe tbody tr th {\n",
       "        vertical-align: top;\n",
       "    }\n",
       "\n",
       "    .dataframe thead th {\n",
       "        text-align: right;\n",
       "    }\n",
       "</style>\n",
       "<table border=\"1\" class=\"dataframe\">\n",
       "  <thead>\n",
       "    <tr style=\"text-align: right;\">\n",
       "      <th></th>\n",
       "      <th>date</th>\n",
       "      <th>event</th>\n",
       "      <th>purchase_sum</th>\n",
       "      <th>os_name</th>\n",
       "      <th>device_id</th>\n",
       "      <th>gender</th>\n",
       "      <th>city</th>\n",
       "      <th>utm_source</th>\n",
       "      <th>first_purchase_date</th>\n",
       "    </tr>\n",
       "  </thead>\n",
       "  <tbody>\n",
       "    <tr>\n",
       "      <th>0</th>\n",
       "      <td>2020-01-01</td>\n",
       "      <td>app_install</td>\n",
       "      <td>NaN</td>\n",
       "      <td>ios</td>\n",
       "      <td>4921563</td>\n",
       "      <td>male</td>\n",
       "      <td>Moscow</td>\n",
       "      <td>vk_ads</td>\n",
       "      <td>2020-01-10</td>\n",
       "    </tr>\n",
       "    <tr>\n",
       "      <th>1</th>\n",
       "      <td>2020-01-01</td>\n",
       "      <td>app_install</td>\n",
       "      <td>NaN</td>\n",
       "      <td>android</td>\n",
       "      <td>23006325</td>\n",
       "      <td>male</td>\n",
       "      <td>Saint-Petersburg</td>\n",
       "      <td>-</td>\n",
       "      <td>2020-01-01</td>\n",
       "    </tr>\n",
       "    <tr>\n",
       "      <th>2</th>\n",
       "      <td>2020-01-01</td>\n",
       "      <td>app_install</td>\n",
       "      <td>NaN</td>\n",
       "      <td>android</td>\n",
       "      <td>8423608</td>\n",
       "      <td>female</td>\n",
       "      <td>Saint-Petersburg</td>\n",
       "      <td>referal</td>\n",
       "      <td>2020-01-06</td>\n",
       "    </tr>\n",
       "    <tr>\n",
       "      <th>3</th>\n",
       "      <td>2020-01-01</td>\n",
       "      <td>app_install</td>\n",
       "      <td>NaN</td>\n",
       "      <td>android</td>\n",
       "      <td>532710</td>\n",
       "      <td>male</td>\n",
       "      <td>Moscow</td>\n",
       "      <td>yandex-direct</td>\n",
       "      <td>2020-01-03</td>\n",
       "    </tr>\n",
       "    <tr>\n",
       "      <th>4</th>\n",
       "      <td>2020-01-01</td>\n",
       "      <td>app_install</td>\n",
       "      <td>NaN</td>\n",
       "      <td>android</td>\n",
       "      <td>528071</td>\n",
       "      <td>female</td>\n",
       "      <td>Saint-Petersburg</td>\n",
       "      <td>vk_ads</td>\n",
       "      <td>2020-01-02</td>\n",
       "    </tr>\n",
       "  </tbody>\n",
       "</table>\n",
       "</div>"
      ],
      "text/plain": [
       "        date        event  purchase_sum  os_name  device_id  gender  \\\n",
       "0 2020-01-01  app_install           NaN      ios    4921563    male   \n",
       "1 2020-01-01  app_install           NaN  android   23006325    male   \n",
       "2 2020-01-01  app_install           NaN  android    8423608  female   \n",
       "3 2020-01-01  app_install           NaN  android     532710    male   \n",
       "4 2020-01-01  app_install           NaN  android     528071  female   \n",
       "\n",
       "               city     utm_source first_purchase_date  \n",
       "0            Moscow         vk_ads          2020-01-10  \n",
       "1  Saint-Petersburg              -          2020-01-01  \n",
       "2  Saint-Petersburg        referal          2020-01-06  \n",
       "3            Moscow  yandex-direct          2020-01-03  \n",
       "4  Saint-Petersburg         vk_ads          2020-01-02  "
      ]
     },
     "execution_count": 123,
     "metadata": {},
     "output_type": "execute_result"
    }
   ],
   "source": [
    "df_cohort_first_purch.head()"
   ]
  },
  {
   "cell_type": "code",
   "execution_count": 126,
   "id": "9555fc67",
   "metadata": {},
   "outputs": [],
   "source": [
    "df_cohort_first_purch['day_diff'] = df_cohort_first_purch.first_purchase_date - df_cohort_first_purch.date"
   ]
  },
  {
   "cell_type": "code",
   "execution_count": 150,
   "id": "f6857e44",
   "metadata": {},
   "outputs": [
    {
     "data": {
      "text/html": [
       "<div>\n",
       "<style scoped>\n",
       "    .dataframe tbody tr th:only-of-type {\n",
       "        vertical-align: middle;\n",
       "    }\n",
       "\n",
       "    .dataframe tbody tr th {\n",
       "        vertical-align: top;\n",
       "    }\n",
       "\n",
       "    .dataframe thead th {\n",
       "        text-align: right;\n",
       "    }\n",
       "</style>\n",
       "<table border=\"1\" class=\"dataframe\">\n",
       "  <thead>\n",
       "    <tr style=\"text-align: right;\">\n",
       "      <th></th>\n",
       "      <th>date</th>\n",
       "      <th>event</th>\n",
       "      <th>purchase_sum</th>\n",
       "      <th>os_name</th>\n",
       "      <th>device_id</th>\n",
       "      <th>gender</th>\n",
       "      <th>city</th>\n",
       "      <th>utm_source</th>\n",
       "      <th>first_purchase_date</th>\n",
       "      <th>day_diff</th>\n",
       "    </tr>\n",
       "  </thead>\n",
       "  <tbody>\n",
       "    <tr>\n",
       "      <th>0</th>\n",
       "      <td>2020-01-01</td>\n",
       "      <td>app_install</td>\n",
       "      <td>NaN</td>\n",
       "      <td>ios</td>\n",
       "      <td>4921563</td>\n",
       "      <td>male</td>\n",
       "      <td>Moscow</td>\n",
       "      <td>vk_ads</td>\n",
       "      <td>2020-01-10</td>\n",
       "      <td>9 days</td>\n",
       "    </tr>\n",
       "    <tr>\n",
       "      <th>1</th>\n",
       "      <td>2020-01-01</td>\n",
       "      <td>app_install</td>\n",
       "      <td>NaN</td>\n",
       "      <td>android</td>\n",
       "      <td>23006325</td>\n",
       "      <td>male</td>\n",
       "      <td>Saint-Petersburg</td>\n",
       "      <td>-</td>\n",
       "      <td>2020-01-01</td>\n",
       "      <td>0 days</td>\n",
       "    </tr>\n",
       "    <tr>\n",
       "      <th>2</th>\n",
       "      <td>2020-01-01</td>\n",
       "      <td>app_install</td>\n",
       "      <td>NaN</td>\n",
       "      <td>android</td>\n",
       "      <td>8423608</td>\n",
       "      <td>female</td>\n",
       "      <td>Saint-Petersburg</td>\n",
       "      <td>referal</td>\n",
       "      <td>2020-01-06</td>\n",
       "      <td>5 days</td>\n",
       "    </tr>\n",
       "    <tr>\n",
       "      <th>3</th>\n",
       "      <td>2020-01-01</td>\n",
       "      <td>app_install</td>\n",
       "      <td>NaN</td>\n",
       "      <td>android</td>\n",
       "      <td>532710</td>\n",
       "      <td>male</td>\n",
       "      <td>Moscow</td>\n",
       "      <td>yandex-direct</td>\n",
       "      <td>2020-01-03</td>\n",
       "      <td>2 days</td>\n",
       "    </tr>\n",
       "    <tr>\n",
       "      <th>4</th>\n",
       "      <td>2020-01-01</td>\n",
       "      <td>app_install</td>\n",
       "      <td>NaN</td>\n",
       "      <td>android</td>\n",
       "      <td>528071</td>\n",
       "      <td>female</td>\n",
       "      <td>Saint-Petersburg</td>\n",
       "      <td>vk_ads</td>\n",
       "      <td>2020-01-02</td>\n",
       "      <td>1 days</td>\n",
       "    </tr>\n",
       "  </tbody>\n",
       "</table>\n",
       "</div>"
      ],
      "text/plain": [
       "        date        event  purchase_sum  os_name  device_id  gender  \\\n",
       "0 2020-01-01  app_install           NaN      ios    4921563    male   \n",
       "1 2020-01-01  app_install           NaN  android   23006325    male   \n",
       "2 2020-01-01  app_install           NaN  android    8423608  female   \n",
       "3 2020-01-01  app_install           NaN  android     532710    male   \n",
       "4 2020-01-01  app_install           NaN  android     528071  female   \n",
       "\n",
       "               city     utm_source first_purchase_date day_diff  \n",
       "0            Moscow         vk_ads          2020-01-10   9 days  \n",
       "1  Saint-Petersburg              -          2020-01-01   0 days  \n",
       "2  Saint-Petersburg        referal          2020-01-06   5 days  \n",
       "3            Moscow  yandex-direct          2020-01-03   2 days  \n",
       "4  Saint-Petersburg         vk_ads          2020-01-02   1 days  "
      ]
     },
     "execution_count": 150,
     "metadata": {},
     "output_type": "execute_result"
    }
   ],
   "source": [
    "df_cohort_first_purch.head()"
   ]
  },
  {
   "cell_type": "code",
   "execution_count": 131,
   "id": "fb2d4760",
   "metadata": {},
   "outputs": [],
   "source": [
    "app_install = install_cohorts.groupby('date', as_index=False) \\\n",
    "    .agg({'device_id':'count'}).rename(columns={'device_id':'app_install'})"
   ]
  },
  {
   "cell_type": "code",
   "execution_count": 133,
   "id": "873ef858",
   "metadata": {},
   "outputs": [
    {
     "data": {
      "text/plain": [
       "(91, 2)"
      ]
     },
     "execution_count": 133,
     "metadata": {},
     "output_type": "execute_result"
    }
   ],
   "source": [
    "app_install.shape"
   ]
  },
  {
   "cell_type": "code",
   "execution_count": 154,
   "id": "f9633bb2",
   "metadata": {},
   "outputs": [],
   "source": [
    "first_purchase = df_cohort_first_purch \\\n",
    "    .loc[df_cohort_first_purch.first_purchase_date - df_cohort_first_purch.date <= '7 days'] \\\n",
    "    .groupby('date', as_index=False) \\\n",
    "    .agg({'device_id':'count'}).rename(columns={'device_id':'first_purchase'})"
   ]
  },
  {
   "cell_type": "code",
   "execution_count": 155,
   "id": "25858647",
   "metadata": {},
   "outputs": [
    {
     "data": {
      "text/plain": [
       "(91, 2)"
      ]
     },
     "execution_count": 155,
     "metadata": {},
     "output_type": "execute_result"
    }
   ],
   "source": [
    "first_purchase.shape"
   ]
  },
  {
   "cell_type": "code",
   "execution_count": 156,
   "id": "d921e63c",
   "metadata": {},
   "outputs": [],
   "source": [
    "final_df = first_purchase.merge(app_install,on=['date'])"
   ]
  },
  {
   "cell_type": "code",
   "execution_count": 157,
   "id": "00d62394",
   "metadata": {},
   "outputs": [],
   "source": [
    "final_df['CR'] = round(final_df.first_purchase / final_df.app_install*100, 1)"
   ]
  },
  {
   "cell_type": "code",
   "execution_count": 158,
   "id": "ecc97bae",
   "metadata": {},
   "outputs": [
    {
     "data": {
      "text/html": [
       "<div>\n",
       "<style scoped>\n",
       "    .dataframe tbody tr th:only-of-type {\n",
       "        vertical-align: middle;\n",
       "    }\n",
       "\n",
       "    .dataframe tbody tr th {\n",
       "        vertical-align: top;\n",
       "    }\n",
       "\n",
       "    .dataframe thead th {\n",
       "        text-align: right;\n",
       "    }\n",
       "</style>\n",
       "<table border=\"1\" class=\"dataframe\">\n",
       "  <thead>\n",
       "    <tr style=\"text-align: right;\">\n",
       "      <th></th>\n",
       "      <th>date</th>\n",
       "      <th>first_purchase</th>\n",
       "      <th>app_install</th>\n",
       "      <th>CR</th>\n",
       "    </tr>\n",
       "  </thead>\n",
       "  <tbody>\n",
       "    <tr>\n",
       "      <th>0</th>\n",
       "      <td>2020-01-01</td>\n",
       "      <td>1408</td>\n",
       "      <td>3579</td>\n",
       "      <td>39.3</td>\n",
       "    </tr>\n",
       "    <tr>\n",
       "      <th>8</th>\n",
       "      <td>2020-01-09</td>\n",
       "      <td>558</td>\n",
       "      <td>1424</td>\n",
       "      <td>39.2</td>\n",
       "    </tr>\n",
       "    <tr>\n",
       "      <th>14</th>\n",
       "      <td>2020-01-15</td>\n",
       "      <td>1650</td>\n",
       "      <td>4310</td>\n",
       "      <td>38.3</td>\n",
       "    </tr>\n",
       "    <tr>\n",
       "      <th>13</th>\n",
       "      <td>2020-01-14</td>\n",
       "      <td>1973</td>\n",
       "      <td>5173</td>\n",
       "      <td>38.1</td>\n",
       "    </tr>\n",
       "    <tr>\n",
       "      <th>1</th>\n",
       "      <td>2020-01-02</td>\n",
       "      <td>1186</td>\n",
       "      <td>3144</td>\n",
       "      <td>37.7</td>\n",
       "    </tr>\n",
       "    <tr>\n",
       "      <th>...</th>\n",
       "      <td>...</td>\n",
       "      <td>...</td>\n",
       "      <td>...</td>\n",
       "      <td>...</td>\n",
       "    </tr>\n",
       "    <tr>\n",
       "      <th>77</th>\n",
       "      <td>2020-03-18</td>\n",
       "      <td>235</td>\n",
       "      <td>1171</td>\n",
       "      <td>20.1</td>\n",
       "    </tr>\n",
       "    <tr>\n",
       "      <th>88</th>\n",
       "      <td>2020-03-29</td>\n",
       "      <td>223</td>\n",
       "      <td>1117</td>\n",
       "      <td>20.0</td>\n",
       "    </tr>\n",
       "    <tr>\n",
       "      <th>81</th>\n",
       "      <td>2020-03-22</td>\n",
       "      <td>251</td>\n",
       "      <td>1261</td>\n",
       "      <td>19.9</td>\n",
       "    </tr>\n",
       "    <tr>\n",
       "      <th>87</th>\n",
       "      <td>2020-03-28</td>\n",
       "      <td>209</td>\n",
       "      <td>1091</td>\n",
       "      <td>19.2</td>\n",
       "    </tr>\n",
       "    <tr>\n",
       "      <th>65</th>\n",
       "      <td>2020-03-06</td>\n",
       "      <td>807</td>\n",
       "      <td>6358</td>\n",
       "      <td>12.7</td>\n",
       "    </tr>\n",
       "  </tbody>\n",
       "</table>\n",
       "<p>91 rows × 4 columns</p>\n",
       "</div>"
      ],
      "text/plain": [
       "         date  first_purchase  app_install    CR\n",
       "0  2020-01-01            1408         3579  39.3\n",
       "8  2020-01-09             558         1424  39.2\n",
       "14 2020-01-15            1650         4310  38.3\n",
       "13 2020-01-14            1973         5173  38.1\n",
       "1  2020-01-02            1186         3144  37.7\n",
       "..        ...             ...          ...   ...\n",
       "77 2020-03-18             235         1171  20.1\n",
       "88 2020-03-29             223         1117  20.0\n",
       "81 2020-03-22             251         1261  19.9\n",
       "87 2020-03-28             209         1091  19.2\n",
       "65 2020-03-06             807         6358  12.7\n",
       "\n",
       "[91 rows x 4 columns]"
      ]
     },
     "execution_count": 158,
     "metadata": {},
     "output_type": "execute_result"
    }
   ],
   "source": [
    "final_df.sort_values('CR', ascending=False)"
   ]
  },
  {
   "cell_type": "markdown",
   "id": "7d4fc765",
   "metadata": {},
   "source": [
    "### Задание 7.\n",
    "Укажите значение CR из предыдущего вопроса в % (округлите до 1 цифры после запятой). Формат числа - с точкой. Пример: 66.4."
   ]
  },
  {
   "cell_type": "code",
   "execution_count": 173,
   "id": "749554b1",
   "metadata": {},
   "outputs": [
    {
     "data": {
      "text/plain": [
       "0    39.3\n",
       "Name: CR, dtype: float64"
      ]
     },
     "execution_count": 173,
     "metadata": {},
     "output_type": "execute_result"
    }
   ],
   "source": [
    "final_df.head(1).CR"
   ]
  },
  {
   "cell_type": "markdown",
   "id": "62bbb76b",
   "metadata": {},
   "source": [
    "### Задание 8.\n",
    "\n",
    "С какого платного маркетингового канала пришло больше всего новых пользователей? \n",
    "\n",
    "В ответ впишите один из каналов в таком формате: «Яндекс», «Гугл», «ВК», «Фейсбук», «Инстаграм», «Реферальная программа».\n",
    "\n",
    "NB! В этом и подобном ему заданиях писать надо только название, без кавычек."
   ]
  },
  {
   "cell_type": "code",
   "execution_count": 172,
   "id": "272c0474",
   "metadata": {},
   "outputs": [
    {
     "data": {
      "text/plain": [
       "-                32460\n",
       "yandex-direct    29368\n",
       "Name: utm_source, dtype: int64"
      ]
     },
     "execution_count": 172,
     "metadata": {},
     "output_type": "execute_result"
    }
   ],
   "source": [
    "customers_df.query('event == \"app_install\"').utm_source.value_counts().head(2)"
   ]
  },
  {
   "cell_type": "markdown",
   "id": "b9681677",
   "metadata": {},
   "source": [
    "### Задание 9.\n",
    "\n",
    "Проанализируйте на каком этапе воронки отваливается бОльшая часть клиентов. Посмотрите отдельно сценарии для зарегистрированных и для незарегистрированных пользователей. На каком шаге отваливается больше всего зарегистрированных пользователей?\n",
    "\n",
    "В ответ впишите один из шагов, конверсия из которого (в следующий шаг) самая низкая, в таком формате: «Поиск», «Добавление товара», «Переход в корзину», «Регистрация».\n",
    "\n",
    "Подсказка: \n",
    "\n",
    "- Для того, чтобы выделить группу тех, кому нужно и не нужно регистрироваться, добавьте колонку с датой регистрации. Если дата регистрации < даты совершения события, то пользователь уже зарегистрирован. "
   ]
  },
  {
   "cell_type": "code",
   "execution_count": 182,
   "id": "a9541f50",
   "metadata": {},
   "outputs": [
    {
     "data": {
      "text/html": [
       "<div>\n",
       "<style scoped>\n",
       "    .dataframe tbody tr th:only-of-type {\n",
       "        vertical-align: middle;\n",
       "    }\n",
       "\n",
       "    .dataframe tbody tr th {\n",
       "        vertical-align: top;\n",
       "    }\n",
       "\n",
       "    .dataframe thead th {\n",
       "        text-align: right;\n",
       "    }\n",
       "</style>\n",
       "<table border=\"1\" class=\"dataframe\">\n",
       "  <thead>\n",
       "    <tr style=\"text-align: right;\">\n",
       "      <th></th>\n",
       "      <th>date</th>\n",
       "      <th>event</th>\n",
       "      <th>purchase_sum</th>\n",
       "      <th>os_name</th>\n",
       "      <th>device_id</th>\n",
       "      <th>gender</th>\n",
       "      <th>city</th>\n",
       "      <th>utm_source</th>\n",
       "    </tr>\n",
       "  </thead>\n",
       "  <tbody>\n",
       "    <tr>\n",
       "      <th>0</th>\n",
       "      <td>2020-01-01</td>\n",
       "      <td>app_start</td>\n",
       "      <td>NaN</td>\n",
       "      <td>android</td>\n",
       "      <td>669460</td>\n",
       "      <td>female</td>\n",
       "      <td>Moscow</td>\n",
       "      <td>-</td>\n",
       "    </tr>\n",
       "    <tr>\n",
       "      <th>1</th>\n",
       "      <td>2020-01-01</td>\n",
       "      <td>app_start</td>\n",
       "      <td>NaN</td>\n",
       "      <td>ios</td>\n",
       "      <td>833621</td>\n",
       "      <td>male</td>\n",
       "      <td>Moscow</td>\n",
       "      <td>vk_ads</td>\n",
       "    </tr>\n",
       "    <tr>\n",
       "      <th>2</th>\n",
       "      <td>2020-01-01</td>\n",
       "      <td>app_start</td>\n",
       "      <td>NaN</td>\n",
       "      <td>android</td>\n",
       "      <td>1579237</td>\n",
       "      <td>male</td>\n",
       "      <td>Saint-Petersburg</td>\n",
       "      <td>referal</td>\n",
       "    </tr>\n",
       "    <tr>\n",
       "      <th>3</th>\n",
       "      <td>2020-01-01</td>\n",
       "      <td>app_start</td>\n",
       "      <td>NaN</td>\n",
       "      <td>android</td>\n",
       "      <td>1737182</td>\n",
       "      <td>female</td>\n",
       "      <td>Moscow</td>\n",
       "      <td>facebook_ads</td>\n",
       "    </tr>\n",
       "    <tr>\n",
       "      <th>4</th>\n",
       "      <td>2020-01-01</td>\n",
       "      <td>app_start</td>\n",
       "      <td>NaN</td>\n",
       "      <td>ios</td>\n",
       "      <td>4029024</td>\n",
       "      <td>female</td>\n",
       "      <td>Moscow</td>\n",
       "      <td>facebook_ads</td>\n",
       "    </tr>\n",
       "  </tbody>\n",
       "</table>\n",
       "</div>"
      ],
      "text/plain": [
       "        date      event  purchase_sum  os_name  device_id  gender  \\\n",
       "0 2020-01-01  app_start           NaN  android     669460  female   \n",
       "1 2020-01-01  app_start           NaN      ios     833621    male   \n",
       "2 2020-01-01  app_start           NaN  android    1579237    male   \n",
       "3 2020-01-01  app_start           NaN  android    1737182  female   \n",
       "4 2020-01-01  app_start           NaN      ios    4029024  female   \n",
       "\n",
       "               city    utm_source  \n",
       "0            Moscow             -  \n",
       "1            Moscow        vk_ads  \n",
       "2  Saint-Petersburg       referal  \n",
       "3            Moscow  facebook_ads  \n",
       "4            Moscow  facebook_ads  "
      ]
     },
     "execution_count": 182,
     "metadata": {},
     "output_type": "execute_result"
    }
   ],
   "source": [
    "customers_df.head()"
   ]
  },
  {
   "cell_type": "code",
   "execution_count": 189,
   "id": "eb01c971",
   "metadata": {},
   "outputs": [],
   "source": [
    "reg_dates = customers_df.query('event == \"register\"')[['date', 'device_id']].rename(columns={'date':'reg_date'})"
   ]
  },
  {
   "cell_type": "code",
   "execution_count": 190,
   "id": "3e9a0640",
   "metadata": {},
   "outputs": [],
   "source": [
    "cutomers_reg_df = customers_df.merge(reg_dates, on='device_id', how='left')"
   ]
  },
  {
   "cell_type": "code",
   "execution_count": 191,
   "id": "24fc747a",
   "metadata": {},
   "outputs": [
    {
     "data": {
      "text/html": [
       "<div>\n",
       "<style scoped>\n",
       "    .dataframe tbody tr th:only-of-type {\n",
       "        vertical-align: middle;\n",
       "    }\n",
       "\n",
       "    .dataframe tbody tr th {\n",
       "        vertical-align: top;\n",
       "    }\n",
       "\n",
       "    .dataframe thead th {\n",
       "        text-align: right;\n",
       "    }\n",
       "</style>\n",
       "<table border=\"1\" class=\"dataframe\">\n",
       "  <thead>\n",
       "    <tr style=\"text-align: right;\">\n",
       "      <th></th>\n",
       "      <th>date</th>\n",
       "      <th>event</th>\n",
       "      <th>purchase_sum</th>\n",
       "      <th>os_name</th>\n",
       "      <th>device_id</th>\n",
       "      <th>gender</th>\n",
       "      <th>city</th>\n",
       "      <th>utm_source</th>\n",
       "      <th>reg_date</th>\n",
       "    </tr>\n",
       "  </thead>\n",
       "  <tbody>\n",
       "    <tr>\n",
       "      <th>0</th>\n",
       "      <td>2020-01-01</td>\n",
       "      <td>app_start</td>\n",
       "      <td>NaN</td>\n",
       "      <td>android</td>\n",
       "      <td>669460</td>\n",
       "      <td>female</td>\n",
       "      <td>Moscow</td>\n",
       "      <td>-</td>\n",
       "      <td>2020-01-07</td>\n",
       "    </tr>\n",
       "    <tr>\n",
       "      <th>1</th>\n",
       "      <td>2020-01-01</td>\n",
       "      <td>app_start</td>\n",
       "      <td>NaN</td>\n",
       "      <td>ios</td>\n",
       "      <td>833621</td>\n",
       "      <td>male</td>\n",
       "      <td>Moscow</td>\n",
       "      <td>vk_ads</td>\n",
       "      <td>2020-01-01</td>\n",
       "    </tr>\n",
       "    <tr>\n",
       "      <th>2</th>\n",
       "      <td>2020-01-01</td>\n",
       "      <td>app_start</td>\n",
       "      <td>NaN</td>\n",
       "      <td>android</td>\n",
       "      <td>1579237</td>\n",
       "      <td>male</td>\n",
       "      <td>Saint-Petersburg</td>\n",
       "      <td>referal</td>\n",
       "      <td>2020-01-01</td>\n",
       "    </tr>\n",
       "    <tr>\n",
       "      <th>3</th>\n",
       "      <td>2020-01-01</td>\n",
       "      <td>app_start</td>\n",
       "      <td>NaN</td>\n",
       "      <td>android</td>\n",
       "      <td>1737182</td>\n",
       "      <td>female</td>\n",
       "      <td>Moscow</td>\n",
       "      <td>facebook_ads</td>\n",
       "      <td>2020-01-01</td>\n",
       "    </tr>\n",
       "    <tr>\n",
       "      <th>4</th>\n",
       "      <td>2020-01-01</td>\n",
       "      <td>app_start</td>\n",
       "      <td>NaN</td>\n",
       "      <td>ios</td>\n",
       "      <td>4029024</td>\n",
       "      <td>female</td>\n",
       "      <td>Moscow</td>\n",
       "      <td>facebook_ads</td>\n",
       "      <td>NaT</td>\n",
       "    </tr>\n",
       "  </tbody>\n",
       "</table>\n",
       "</div>"
      ],
      "text/plain": [
       "        date      event  purchase_sum  os_name  device_id  gender  \\\n",
       "0 2020-01-01  app_start           NaN  android     669460  female   \n",
       "1 2020-01-01  app_start           NaN      ios     833621    male   \n",
       "2 2020-01-01  app_start           NaN  android    1579237    male   \n",
       "3 2020-01-01  app_start           NaN  android    1737182  female   \n",
       "4 2020-01-01  app_start           NaN      ios    4029024  female   \n",
       "\n",
       "               city    utm_source   reg_date  \n",
       "0            Moscow             - 2020-01-07  \n",
       "1            Moscow        vk_ads 2020-01-01  \n",
       "2  Saint-Petersburg       referal 2020-01-01  \n",
       "3            Moscow  facebook_ads 2020-01-01  \n",
       "4            Moscow  facebook_ads        NaT  "
      ]
     },
     "execution_count": 191,
     "metadata": {},
     "output_type": "execute_result"
    }
   ],
   "source": [
    "cutomers_reg_df.head()"
   ]
  },
  {
   "cell_type": "code",
   "execution_count": 193,
   "id": "a165eb32",
   "metadata": {},
   "outputs": [
    {
     "data": {
      "text/plain": [
       "(2747968, 9)"
      ]
     },
     "execution_count": 193,
     "metadata": {},
     "output_type": "execute_result"
    }
   ],
   "source": [
    "cutomers_reg_df.shape"
   ]
  },
  {
   "cell_type": "code",
   "execution_count": 192,
   "id": "a34f874b",
   "metadata": {},
   "outputs": [
    {
     "data": {
      "text/plain": [
       "542002"
      ]
     },
     "execution_count": 192,
     "metadata": {},
     "output_type": "execute_result"
    }
   ],
   "source": [
    "cutomers_reg_df.reg_date.isna().sum()"
   ]
  },
  {
   "cell_type": "code",
   "execution_count": 194,
   "id": "6a667435",
   "metadata": {},
   "outputs": [
    {
     "data": {
      "text/plain": [
       "2205966"
      ]
     },
     "execution_count": 194,
     "metadata": {},
     "output_type": "execute_result"
    }
   ],
   "source": [
    "cutomers_reg_df.reg_date.notna().sum()"
   ]
  },
  {
   "cell_type": "code",
   "execution_count": 197,
   "id": "2533d52a",
   "metadata": {},
   "outputs": [],
   "source": [
    "no_reg_df = cutomers_reg_df.loc[cutomers_reg_df.date < cutomers_reg_df.reg_date]"
   ]
  },
  {
   "cell_type": "code",
   "execution_count": 198,
   "id": "92039c42",
   "metadata": {},
   "outputs": [],
   "source": [
    "yes_reg_df = cutomers_reg_df.loc[cutomers_reg_df.date >= cutomers_reg_df.reg_date]"
   ]
  },
  {
   "cell_type": "code",
   "execution_count": 199,
   "id": "a5be5f5d",
   "metadata": {},
   "outputs": [
    {
     "data": {
      "text/html": [
       "<div>\n",
       "<style scoped>\n",
       "    .dataframe tbody tr th:only-of-type {\n",
       "        vertical-align: middle;\n",
       "    }\n",
       "\n",
       "    .dataframe tbody tr th {\n",
       "        vertical-align: top;\n",
       "    }\n",
       "\n",
       "    .dataframe thead th {\n",
       "        text-align: right;\n",
       "    }\n",
       "</style>\n",
       "<table border=\"1\" class=\"dataframe\">\n",
       "  <thead>\n",
       "    <tr style=\"text-align: right;\">\n",
       "      <th></th>\n",
       "      <th>date</th>\n",
       "      <th>event</th>\n",
       "      <th>purchase_sum</th>\n",
       "      <th>os_name</th>\n",
       "      <th>device_id</th>\n",
       "      <th>gender</th>\n",
       "      <th>city</th>\n",
       "      <th>utm_source</th>\n",
       "      <th>reg_date</th>\n",
       "    </tr>\n",
       "  </thead>\n",
       "  <tbody>\n",
       "    <tr>\n",
       "      <th>1</th>\n",
       "      <td>2020-01-01</td>\n",
       "      <td>app_start</td>\n",
       "      <td>NaN</td>\n",
       "      <td>ios</td>\n",
       "      <td>833621</td>\n",
       "      <td>male</td>\n",
       "      <td>Moscow</td>\n",
       "      <td>vk_ads</td>\n",
       "      <td>2020-01-01</td>\n",
       "    </tr>\n",
       "    <tr>\n",
       "      <th>2</th>\n",
       "      <td>2020-01-01</td>\n",
       "      <td>app_start</td>\n",
       "      <td>NaN</td>\n",
       "      <td>android</td>\n",
       "      <td>1579237</td>\n",
       "      <td>male</td>\n",
       "      <td>Saint-Petersburg</td>\n",
       "      <td>referal</td>\n",
       "      <td>2020-01-01</td>\n",
       "    </tr>\n",
       "    <tr>\n",
       "      <th>3</th>\n",
       "      <td>2020-01-01</td>\n",
       "      <td>app_start</td>\n",
       "      <td>NaN</td>\n",
       "      <td>android</td>\n",
       "      <td>1737182</td>\n",
       "      <td>female</td>\n",
       "      <td>Moscow</td>\n",
       "      <td>facebook_ads</td>\n",
       "      <td>2020-01-01</td>\n",
       "    </tr>\n",
       "    <tr>\n",
       "      <th>8</th>\n",
       "      <td>2020-01-01</td>\n",
       "      <td>app_start</td>\n",
       "      <td>NaN</td>\n",
       "      <td>ios</td>\n",
       "      <td>10144701</td>\n",
       "      <td>female</td>\n",
       "      <td>Moscow</td>\n",
       "      <td>-</td>\n",
       "      <td>2020-01-01</td>\n",
       "    </tr>\n",
       "    <tr>\n",
       "      <th>10</th>\n",
       "      <td>2020-01-01</td>\n",
       "      <td>app_start</td>\n",
       "      <td>NaN</td>\n",
       "      <td>android</td>\n",
       "      <td>11876266</td>\n",
       "      <td>female</td>\n",
       "      <td>Moscow</td>\n",
       "      <td>yandex-direct</td>\n",
       "      <td>2020-01-01</td>\n",
       "    </tr>\n",
       "    <tr>\n",
       "      <th>...</th>\n",
       "      <td>...</td>\n",
       "      <td>...</td>\n",
       "      <td>...</td>\n",
       "      <td>...</td>\n",
       "      <td>...</td>\n",
       "      <td>...</td>\n",
       "      <td>...</td>\n",
       "      <td>...</td>\n",
       "      <td>...</td>\n",
       "    </tr>\n",
       "    <tr>\n",
       "      <th>2747963</th>\n",
       "      <td>2020-03-31</td>\n",
       "      <td>register</td>\n",
       "      <td>NaN</td>\n",
       "      <td>android</td>\n",
       "      <td>2984778</td>\n",
       "      <td>male</td>\n",
       "      <td>Saint-Petersburg</td>\n",
       "      <td>facebook_ads</td>\n",
       "      <td>2020-03-31</td>\n",
       "    </tr>\n",
       "    <tr>\n",
       "      <th>2747964</th>\n",
       "      <td>2020-03-31</td>\n",
       "      <td>register</td>\n",
       "      <td>NaN</td>\n",
       "      <td>ios</td>\n",
       "      <td>27301864</td>\n",
       "      <td>male</td>\n",
       "      <td>Moscow</td>\n",
       "      <td>-</td>\n",
       "      <td>2020-03-31</td>\n",
       "    </tr>\n",
       "    <tr>\n",
       "      <th>2747965</th>\n",
       "      <td>2020-03-31</td>\n",
       "      <td>register</td>\n",
       "      <td>NaN</td>\n",
       "      <td>ios</td>\n",
       "      <td>1294285</td>\n",
       "      <td>female</td>\n",
       "      <td>Saint-Petersburg</td>\n",
       "      <td>google_ads</td>\n",
       "      <td>2020-03-31</td>\n",
       "    </tr>\n",
       "    <tr>\n",
       "      <th>2747966</th>\n",
       "      <td>2020-03-31</td>\n",
       "      <td>register</td>\n",
       "      <td>NaN</td>\n",
       "      <td>android</td>\n",
       "      <td>3010574</td>\n",
       "      <td>female</td>\n",
       "      <td>Saint-Petersburg</td>\n",
       "      <td>google_ads</td>\n",
       "      <td>2020-03-31</td>\n",
       "    </tr>\n",
       "    <tr>\n",
       "      <th>2747967</th>\n",
       "      <td>2020-03-31</td>\n",
       "      <td>register</td>\n",
       "      <td>NaN</td>\n",
       "      <td>android</td>\n",
       "      <td>11153353</td>\n",
       "      <td>female</td>\n",
       "      <td>Saint-Petersburg</td>\n",
       "      <td>-</td>\n",
       "      <td>2020-03-31</td>\n",
       "    </tr>\n",
       "  </tbody>\n",
       "</table>\n",
       "<p>1965655 rows × 9 columns</p>\n",
       "</div>"
      ],
      "text/plain": [
       "              date      event  purchase_sum  os_name  device_id  gender  \\\n",
       "1       2020-01-01  app_start           NaN      ios     833621    male   \n",
       "2       2020-01-01  app_start           NaN  android    1579237    male   \n",
       "3       2020-01-01  app_start           NaN  android    1737182  female   \n",
       "8       2020-01-01  app_start           NaN      ios   10144701  female   \n",
       "10      2020-01-01  app_start           NaN  android   11876266  female   \n",
       "...            ...        ...           ...      ...        ...     ...   \n",
       "2747963 2020-03-31   register           NaN  android    2984778    male   \n",
       "2747964 2020-03-31   register           NaN      ios   27301864    male   \n",
       "2747965 2020-03-31   register           NaN      ios    1294285  female   \n",
       "2747966 2020-03-31   register           NaN  android    3010574  female   \n",
       "2747967 2020-03-31   register           NaN  android   11153353  female   \n",
       "\n",
       "                     city     utm_source   reg_date  \n",
       "1                  Moscow         vk_ads 2020-01-01  \n",
       "2        Saint-Petersburg        referal 2020-01-01  \n",
       "3                  Moscow   facebook_ads 2020-01-01  \n",
       "8                  Moscow              - 2020-01-01  \n",
       "10                 Moscow  yandex-direct 2020-01-01  \n",
       "...                   ...            ...        ...  \n",
       "2747963  Saint-Petersburg   facebook_ads 2020-03-31  \n",
       "2747964            Moscow              - 2020-03-31  \n",
       "2747965  Saint-Petersburg     google_ads 2020-03-31  \n",
       "2747966  Saint-Petersburg     google_ads 2020-03-31  \n",
       "2747967  Saint-Petersburg              - 2020-03-31  \n",
       "\n",
       "[1965655 rows x 9 columns]"
      ]
     },
     "execution_count": 199,
     "metadata": {},
     "output_type": "execute_result"
    }
   ],
   "source": [
    "yes_reg_df"
   ]
  },
  {
   "cell_type": "markdown",
   "id": "950a61be",
   "metadata": {},
   "source": [
    "  + *app_install – установка приложения*\n",
    "  + *app_start – открыть приложения*\n",
    "  + *registration – зарегистрироваться*\n",
    "  + *search – перейти на страницу поиска товаров (каталог)*\n",
    "  + *open_item – открыть товар*\n",
    "  + *choose_item – отправить товар в корзину*\n",
    "  + *tap_basket – перейти в корзину*\n",
    "  + *purchase – подтверждение покупки*"
   ]
  },
  {
   "cell_type": "code",
   "execution_count": 204,
   "id": "54f472a7",
   "metadata": {},
   "outputs": [],
   "source": [
    "cr_df = yes_reg_df.groupby('event', as_index=False).agg({'device_id':'count'})"
   ]
  },
  {
   "cell_type": "code",
   "execution_count": 205,
   "id": "a21ed1f2",
   "metadata": {},
   "outputs": [
    {
     "data": {
      "text/html": [
       "<div>\n",
       "<style scoped>\n",
       "    .dataframe tbody tr th:only-of-type {\n",
       "        vertical-align: middle;\n",
       "    }\n",
       "\n",
       "    .dataframe tbody tr th {\n",
       "        vertical-align: top;\n",
       "    }\n",
       "\n",
       "    .dataframe thead th {\n",
       "        text-align: right;\n",
       "    }\n",
       "</style>\n",
       "<table border=\"1\" class=\"dataframe\">\n",
       "  <thead>\n",
       "    <tr style=\"text-align: right;\">\n",
       "      <th></th>\n",
       "      <th>event</th>\n",
       "      <th>device_id</th>\n",
       "    </tr>\n",
       "  </thead>\n",
       "  <tbody>\n",
       "    <tr>\n",
       "      <th>0</th>\n",
       "      <td>app_install</td>\n",
       "      <td>42448</td>\n",
       "    </tr>\n",
       "    <tr>\n",
       "      <th>1</th>\n",
       "      <td>app_start</td>\n",
       "      <td>519754</td>\n",
       "    </tr>\n",
       "    <tr>\n",
       "      <th>2</th>\n",
       "      <td>choose_item</td>\n",
       "      <td>392783</td>\n",
       "    </tr>\n",
       "    <tr>\n",
       "      <th>3</th>\n",
       "      <td>purchase</td>\n",
       "      <td>141383</td>\n",
       "    </tr>\n",
       "    <tr>\n",
       "      <th>4</th>\n",
       "      <td>register</td>\n",
       "      <td>78310</td>\n",
       "    </tr>\n",
       "    <tr>\n",
       "      <th>5</th>\n",
       "      <td>search</td>\n",
       "      <td>495411</td>\n",
       "    </tr>\n",
       "    <tr>\n",
       "      <th>6</th>\n",
       "      <td>tap_basket</td>\n",
       "      <td>295566</td>\n",
       "    </tr>\n",
       "  </tbody>\n",
       "</table>\n",
       "</div>"
      ],
      "text/plain": [
       "         event  device_id\n",
       "0  app_install      42448\n",
       "1    app_start     519754\n",
       "2  choose_item     392783\n",
       "3     purchase     141383\n",
       "4     register      78310\n",
       "5       search     495411\n",
       "6   tap_basket     295566"
      ]
     },
     "execution_count": 205,
     "metadata": {},
     "output_type": "execute_result"
    }
   ],
   "source": [
    "cr_df"
   ]
  },
  {
   "cell_type": "code",
   "execution_count": 218,
   "id": "dc0755db",
   "metadata": {},
   "outputs": [],
   "source": [
    "cr_df = cr_df.reindex(index = [0, 1, 4, 5, 2, 6, 3])"
   ]
  },
  {
   "cell_type": "code",
   "execution_count": 219,
   "id": "e42bbc8f",
   "metadata": {},
   "outputs": [],
   "source": [
    "cr_df['result1'] = cr_df['device_id'].div(cr_df['device_id'].shift()) * 100"
   ]
  },
  {
   "cell_type": "code",
   "execution_count": 220,
   "id": "0144c7c7",
   "metadata": {},
   "outputs": [
    {
     "data": {
      "text/html": [
       "<div>\n",
       "<style scoped>\n",
       "    .dataframe tbody tr th:only-of-type {\n",
       "        vertical-align: middle;\n",
       "    }\n",
       "\n",
       "    .dataframe tbody tr th {\n",
       "        vertical-align: top;\n",
       "    }\n",
       "\n",
       "    .dataframe thead th {\n",
       "        text-align: right;\n",
       "    }\n",
       "</style>\n",
       "<table border=\"1\" class=\"dataframe\">\n",
       "  <thead>\n",
       "    <tr style=\"text-align: right;\">\n",
       "      <th></th>\n",
       "      <th>event</th>\n",
       "      <th>device_id</th>\n",
       "      <th>result1</th>\n",
       "    </tr>\n",
       "  </thead>\n",
       "  <tbody>\n",
       "    <tr>\n",
       "      <th>0</th>\n",
       "      <td>app_install</td>\n",
       "      <td>42448</td>\n",
       "      <td>NaN</td>\n",
       "    </tr>\n",
       "    <tr>\n",
       "      <th>1</th>\n",
       "      <td>app_start</td>\n",
       "      <td>519754</td>\n",
       "      <td>1224.448737</td>\n",
       "    </tr>\n",
       "    <tr>\n",
       "      <th>4</th>\n",
       "      <td>register</td>\n",
       "      <td>78310</td>\n",
       "      <td>15.066743</td>\n",
       "    </tr>\n",
       "    <tr>\n",
       "      <th>5</th>\n",
       "      <td>search</td>\n",
       "      <td>495411</td>\n",
       "      <td>632.628017</td>\n",
       "    </tr>\n",
       "    <tr>\n",
       "      <th>2</th>\n",
       "      <td>choose_item</td>\n",
       "      <td>392783</td>\n",
       "      <td>79.284271</td>\n",
       "    </tr>\n",
       "    <tr>\n",
       "      <th>6</th>\n",
       "      <td>tap_basket</td>\n",
       "      <td>295566</td>\n",
       "      <td>75.249183</td>\n",
       "    </tr>\n",
       "    <tr>\n",
       "      <th>3</th>\n",
       "      <td>purchase</td>\n",
       "      <td>141383</td>\n",
       "      <td>47.834663</td>\n",
       "    </tr>\n",
       "  </tbody>\n",
       "</table>\n",
       "</div>"
      ],
      "text/plain": [
       "         event  device_id      result1\n",
       "0  app_install      42448          NaN\n",
       "1    app_start     519754  1224.448737\n",
       "4     register      78310    15.066743\n",
       "5       search     495411   632.628017\n",
       "2  choose_item     392783    79.284271\n",
       "6   tap_basket     295566    75.249183\n",
       "3     purchase     141383    47.834663"
      ]
     },
     "execution_count": 220,
     "metadata": {},
     "output_type": "execute_result"
    }
   ],
   "source": [
    "cr_df"
   ]
  },
  {
   "cell_type": "markdown",
   "id": "ac4ccdb3",
   "metadata": {},
   "source": [
    "### Задание 10.\n",
    "Пользователи, пришедшие с каких каналов, показали самую низкую конверсию в первую покупку?\n",
    "\n",
    "В ответ впишите один из каналов в таком формате: «Яндекс», «Гугл», «ВК», «Фейсбук», «Инстаграм», «Реферальная программа».\n",
    "\n",
    "Подсказка: \n",
    "\n",
    "- CR = кол-во юзеров, впервые совершивших покупку/кол-во юзеров, впервые открывших приложение "
   ]
  },
  {
   "cell_type": "code",
   "execution_count": 221,
   "id": "9742fd3c",
   "metadata": {},
   "outputs": [
    {
     "data": {
      "text/html": [
       "<div>\n",
       "<style scoped>\n",
       "    .dataframe tbody tr th:only-of-type {\n",
       "        vertical-align: middle;\n",
       "    }\n",
       "\n",
       "    .dataframe tbody tr th {\n",
       "        vertical-align: top;\n",
       "    }\n",
       "\n",
       "    .dataframe thead th {\n",
       "        text-align: right;\n",
       "    }\n",
       "</style>\n",
       "<table border=\"1\" class=\"dataframe\">\n",
       "  <thead>\n",
       "    <tr style=\"text-align: right;\">\n",
       "      <th></th>\n",
       "      <th>date</th>\n",
       "      <th>event</th>\n",
       "      <th>purchase_sum</th>\n",
       "      <th>os_name</th>\n",
       "      <th>device_id</th>\n",
       "      <th>gender</th>\n",
       "      <th>city</th>\n",
       "      <th>utm_source</th>\n",
       "    </tr>\n",
       "  </thead>\n",
       "  <tbody>\n",
       "    <tr>\n",
       "      <th>0</th>\n",
       "      <td>2020-01-01</td>\n",
       "      <td>app_start</td>\n",
       "      <td>NaN</td>\n",
       "      <td>android</td>\n",
       "      <td>669460</td>\n",
       "      <td>female</td>\n",
       "      <td>Moscow</td>\n",
       "      <td>-</td>\n",
       "    </tr>\n",
       "    <tr>\n",
       "      <th>1</th>\n",
       "      <td>2020-01-01</td>\n",
       "      <td>app_start</td>\n",
       "      <td>NaN</td>\n",
       "      <td>ios</td>\n",
       "      <td>833621</td>\n",
       "      <td>male</td>\n",
       "      <td>Moscow</td>\n",
       "      <td>vk_ads</td>\n",
       "    </tr>\n",
       "    <tr>\n",
       "      <th>2</th>\n",
       "      <td>2020-01-01</td>\n",
       "      <td>app_start</td>\n",
       "      <td>NaN</td>\n",
       "      <td>android</td>\n",
       "      <td>1579237</td>\n",
       "      <td>male</td>\n",
       "      <td>Saint-Petersburg</td>\n",
       "      <td>referal</td>\n",
       "    </tr>\n",
       "    <tr>\n",
       "      <th>3</th>\n",
       "      <td>2020-01-01</td>\n",
       "      <td>app_start</td>\n",
       "      <td>NaN</td>\n",
       "      <td>android</td>\n",
       "      <td>1737182</td>\n",
       "      <td>female</td>\n",
       "      <td>Moscow</td>\n",
       "      <td>facebook_ads</td>\n",
       "    </tr>\n",
       "    <tr>\n",
       "      <th>4</th>\n",
       "      <td>2020-01-01</td>\n",
       "      <td>app_start</td>\n",
       "      <td>NaN</td>\n",
       "      <td>ios</td>\n",
       "      <td>4029024</td>\n",
       "      <td>female</td>\n",
       "      <td>Moscow</td>\n",
       "      <td>facebook_ads</td>\n",
       "    </tr>\n",
       "    <tr>\n",
       "      <th>...</th>\n",
       "      <td>...</td>\n",
       "      <td>...</td>\n",
       "      <td>...</td>\n",
       "      <td>...</td>\n",
       "      <td>...</td>\n",
       "      <td>...</td>\n",
       "      <td>...</td>\n",
       "      <td>...</td>\n",
       "    </tr>\n",
       "    <tr>\n",
       "      <th>2747963</th>\n",
       "      <td>2020-03-31</td>\n",
       "      <td>register</td>\n",
       "      <td>NaN</td>\n",
       "      <td>android</td>\n",
       "      <td>2984778</td>\n",
       "      <td>male</td>\n",
       "      <td>Saint-Petersburg</td>\n",
       "      <td>facebook_ads</td>\n",
       "    </tr>\n",
       "    <tr>\n",
       "      <th>2747964</th>\n",
       "      <td>2020-03-31</td>\n",
       "      <td>register</td>\n",
       "      <td>NaN</td>\n",
       "      <td>ios</td>\n",
       "      <td>27301864</td>\n",
       "      <td>male</td>\n",
       "      <td>Moscow</td>\n",
       "      <td>-</td>\n",
       "    </tr>\n",
       "    <tr>\n",
       "      <th>2747965</th>\n",
       "      <td>2020-03-31</td>\n",
       "      <td>register</td>\n",
       "      <td>NaN</td>\n",
       "      <td>ios</td>\n",
       "      <td>1294285</td>\n",
       "      <td>female</td>\n",
       "      <td>Saint-Petersburg</td>\n",
       "      <td>google_ads</td>\n",
       "    </tr>\n",
       "    <tr>\n",
       "      <th>2747966</th>\n",
       "      <td>2020-03-31</td>\n",
       "      <td>register</td>\n",
       "      <td>NaN</td>\n",
       "      <td>android</td>\n",
       "      <td>3010574</td>\n",
       "      <td>female</td>\n",
       "      <td>Saint-Petersburg</td>\n",
       "      <td>google_ads</td>\n",
       "    </tr>\n",
       "    <tr>\n",
       "      <th>2747967</th>\n",
       "      <td>2020-03-31</td>\n",
       "      <td>register</td>\n",
       "      <td>NaN</td>\n",
       "      <td>android</td>\n",
       "      <td>11153353</td>\n",
       "      <td>female</td>\n",
       "      <td>Saint-Petersburg</td>\n",
       "      <td>-</td>\n",
       "    </tr>\n",
       "  </tbody>\n",
       "</table>\n",
       "<p>2747968 rows × 8 columns</p>\n",
       "</div>"
      ],
      "text/plain": [
       "              date      event  purchase_sum  os_name  device_id  gender  \\\n",
       "0       2020-01-01  app_start           NaN  android     669460  female   \n",
       "1       2020-01-01  app_start           NaN      ios     833621    male   \n",
       "2       2020-01-01  app_start           NaN  android    1579237    male   \n",
       "3       2020-01-01  app_start           NaN  android    1737182  female   \n",
       "4       2020-01-01  app_start           NaN      ios    4029024  female   \n",
       "...            ...        ...           ...      ...        ...     ...   \n",
       "2747963 2020-03-31   register           NaN  android    2984778    male   \n",
       "2747964 2020-03-31   register           NaN      ios   27301864    male   \n",
       "2747965 2020-03-31   register           NaN      ios    1294285  female   \n",
       "2747966 2020-03-31   register           NaN  android    3010574  female   \n",
       "2747967 2020-03-31   register           NaN  android   11153353  female   \n",
       "\n",
       "                     city    utm_source  \n",
       "0                  Moscow             -  \n",
       "1                  Moscow        vk_ads  \n",
       "2        Saint-Petersburg       referal  \n",
       "3                  Moscow  facebook_ads  \n",
       "4                  Moscow  facebook_ads  \n",
       "...                   ...           ...  \n",
       "2747963  Saint-Petersburg  facebook_ads  \n",
       "2747964            Moscow             -  \n",
       "2747965  Saint-Petersburg    google_ads  \n",
       "2747966  Saint-Petersburg    google_ads  \n",
       "2747967  Saint-Petersburg             -  \n",
       "\n",
       "[2747968 rows x 8 columns]"
      ]
     },
     "execution_count": 221,
     "metadata": {},
     "output_type": "execute_result"
    }
   ],
   "source": [
    "customers_df"
   ]
  },
  {
   "cell_type": "code",
   "execution_count": 233,
   "id": "9d219163",
   "metadata": {},
   "outputs": [],
   "source": [
    "app_start = customers_df \\\n",
    "    .query('event == \"app_start\"') \\\n",
    "    .groupby('utm_source', as_index=False) \\\n",
    "    .device_id.nunique().rename(columns={'device_id':'num_start'})"
   ]
  },
  {
   "cell_type": "code",
   "execution_count": 236,
   "id": "0d26174f",
   "metadata": {},
   "outputs": [],
   "source": [
    "purchase = customers_df \\\n",
    "    .query('event == \"purchase\"') \\\n",
    "    .groupby('utm_source', as_index=False) \\\n",
    "    .device_id.nunique().rename(columns={'device_id':'purchases'})"
   ]
  },
  {
   "cell_type": "code",
   "execution_count": 238,
   "id": "7118ca8b",
   "metadata": {},
   "outputs": [],
   "source": [
    "final_df = app_start.merge(purchase, on='utm_source')"
   ]
  },
  {
   "cell_type": "code",
   "execution_count": 242,
   "id": "bf2e51d9",
   "metadata": {},
   "outputs": [],
   "source": [
    "final_df['cr'] = final_df.purchases / final_df.num_start * 100"
   ]
  },
  {
   "cell_type": "code",
   "execution_count": 244,
   "id": "e569f7eb",
   "metadata": {},
   "outputs": [
    {
     "data": {
      "text/html": [
       "<div>\n",
       "<style scoped>\n",
       "    .dataframe tbody tr th:only-of-type {\n",
       "        vertical-align: middle;\n",
       "    }\n",
       "\n",
       "    .dataframe tbody tr th {\n",
       "        vertical-align: top;\n",
       "    }\n",
       "\n",
       "    .dataframe thead th {\n",
       "        text-align: right;\n",
       "    }\n",
       "</style>\n",
       "<table border=\"1\" class=\"dataframe\">\n",
       "  <thead>\n",
       "    <tr style=\"text-align: right;\">\n",
       "      <th></th>\n",
       "      <th>utm_source</th>\n",
       "      <th>num_start</th>\n",
       "      <th>purchases</th>\n",
       "      <th>cr</th>\n",
       "    </tr>\n",
       "  </thead>\n",
       "  <tbody>\n",
       "    <tr>\n",
       "      <th>6</th>\n",
       "      <td>yandex-direct</td>\n",
       "      <td>40707</td>\n",
       "      <td>12028</td>\n",
       "      <td>29.547744</td>\n",
       "    </tr>\n",
       "    <tr>\n",
       "      <th>2</th>\n",
       "      <td>google_ads</td>\n",
       "      <td>38092</td>\n",
       "      <td>11339</td>\n",
       "      <td>29.767405</td>\n",
       "    </tr>\n",
       "    <tr>\n",
       "      <th>0</th>\n",
       "      <td>-</td>\n",
       "      <td>52268</td>\n",
       "      <td>16598</td>\n",
       "      <td>31.755567</td>\n",
       "    </tr>\n",
       "    <tr>\n",
       "      <th>3</th>\n",
       "      <td>instagram_ads</td>\n",
       "      <td>31045</td>\n",
       "      <td>10762</td>\n",
       "      <td>34.665808</td>\n",
       "    </tr>\n",
       "    <tr>\n",
       "      <th>1</th>\n",
       "      <td>facebook_ads</td>\n",
       "      <td>25957</td>\n",
       "      <td>9017</td>\n",
       "      <td>34.738221</td>\n",
       "    </tr>\n",
       "    <tr>\n",
       "      <th>5</th>\n",
       "      <td>vk_ads</td>\n",
       "      <td>34079</td>\n",
       "      <td>12364</td>\n",
       "      <td>36.280407</td>\n",
       "    </tr>\n",
       "    <tr>\n",
       "      <th>4</th>\n",
       "      <td>referal</td>\n",
       "      <td>15924</td>\n",
       "      <td>6362</td>\n",
       "      <td>39.952273</td>\n",
       "    </tr>\n",
       "  </tbody>\n",
       "</table>\n",
       "</div>"
      ],
      "text/plain": [
       "      utm_source  num_start  purchases         cr\n",
       "6  yandex-direct      40707      12028  29.547744\n",
       "2     google_ads      38092      11339  29.767405\n",
       "0              -      52268      16598  31.755567\n",
       "3  instagram_ads      31045      10762  34.665808\n",
       "1   facebook_ads      25957       9017  34.738221\n",
       "5         vk_ads      34079      12364  36.280407\n",
       "4        referal      15924       6362  39.952273"
      ]
     },
     "execution_count": 244,
     "metadata": {},
     "output_type": "execute_result"
    }
   ],
   "source": [
    "final_df.sort_values('cr')"
   ]
  },
  {
   "cell_type": "markdown",
   "id": "51b82a28",
   "metadata": {},
   "source": [
    "### Задание 11.\n",
    "\n",
    "Пользователи, пришедшие с какого канала, имеют медианный первый чек выше? (учитываются только первые покупки пользователей)\n",
    "\n",
    "В ответ впишите один из каналов в таком формате: «Яндекс», «Гугл», «ВК», «Фейсбук», «Инстаграм», «Реферальная программа»."
   ]
  },
  {
   "cell_type": "code",
   "execution_count": 255,
   "id": "4cfe2b4f",
   "metadata": {
    "scrolled": true
   },
   "outputs": [
    {
     "data": {
      "text/html": [
       "<div>\n",
       "<style scoped>\n",
       "    .dataframe tbody tr th:only-of-type {\n",
       "        vertical-align: middle;\n",
       "    }\n",
       "\n",
       "    .dataframe tbody tr th {\n",
       "        vertical-align: top;\n",
       "    }\n",
       "\n",
       "    .dataframe thead th {\n",
       "        text-align: right;\n",
       "    }\n",
       "</style>\n",
       "<table border=\"1\" class=\"dataframe\">\n",
       "  <thead>\n",
       "    <tr style=\"text-align: right;\">\n",
       "      <th></th>\n",
       "      <th>date</th>\n",
       "      <th>event</th>\n",
       "      <th>purchase_sum</th>\n",
       "      <th>os_name</th>\n",
       "      <th>device_id</th>\n",
       "      <th>gender</th>\n",
       "      <th>city</th>\n",
       "      <th>utm_source</th>\n",
       "    </tr>\n",
       "  </thead>\n",
       "  <tbody>\n",
       "    <tr>\n",
       "      <th>0</th>\n",
       "      <td>2020-01-01</td>\n",
       "      <td>app_start</td>\n",
       "      <td>NaN</td>\n",
       "      <td>android</td>\n",
       "      <td>669460</td>\n",
       "      <td>female</td>\n",
       "      <td>Moscow</td>\n",
       "      <td>-</td>\n",
       "    </tr>\n",
       "    <tr>\n",
       "      <th>1</th>\n",
       "      <td>2020-01-01</td>\n",
       "      <td>app_start</td>\n",
       "      <td>NaN</td>\n",
       "      <td>ios</td>\n",
       "      <td>833621</td>\n",
       "      <td>male</td>\n",
       "      <td>Moscow</td>\n",
       "      <td>vk_ads</td>\n",
       "    </tr>\n",
       "    <tr>\n",
       "      <th>2</th>\n",
       "      <td>2020-01-01</td>\n",
       "      <td>app_start</td>\n",
       "      <td>NaN</td>\n",
       "      <td>android</td>\n",
       "      <td>1579237</td>\n",
       "      <td>male</td>\n",
       "      <td>Saint-Petersburg</td>\n",
       "      <td>referal</td>\n",
       "    </tr>\n",
       "    <tr>\n",
       "      <th>3</th>\n",
       "      <td>2020-01-01</td>\n",
       "      <td>app_start</td>\n",
       "      <td>NaN</td>\n",
       "      <td>android</td>\n",
       "      <td>1737182</td>\n",
       "      <td>female</td>\n",
       "      <td>Moscow</td>\n",
       "      <td>facebook_ads</td>\n",
       "    </tr>\n",
       "    <tr>\n",
       "      <th>4</th>\n",
       "      <td>2020-01-01</td>\n",
       "      <td>app_start</td>\n",
       "      <td>NaN</td>\n",
       "      <td>ios</td>\n",
       "      <td>4029024</td>\n",
       "      <td>female</td>\n",
       "      <td>Moscow</td>\n",
       "      <td>facebook_ads</td>\n",
       "    </tr>\n",
       "  </tbody>\n",
       "</table>\n",
       "</div>"
      ],
      "text/plain": [
       "        date      event  purchase_sum  os_name  device_id  gender  \\\n",
       "0 2020-01-01  app_start           NaN  android     669460  female   \n",
       "1 2020-01-01  app_start           NaN      ios     833621    male   \n",
       "2 2020-01-01  app_start           NaN  android    1579237    male   \n",
       "3 2020-01-01  app_start           NaN  android    1737182  female   \n",
       "4 2020-01-01  app_start           NaN      ios    4029024  female   \n",
       "\n",
       "               city    utm_source  \n",
       "0            Moscow             -  \n",
       "1            Moscow        vk_ads  \n",
       "2  Saint-Petersburg       referal  \n",
       "3            Moscow  facebook_ads  \n",
       "4            Moscow  facebook_ads  "
      ]
     },
     "execution_count": 255,
     "metadata": {},
     "output_type": "execute_result"
    }
   ],
   "source": [
    "customers_df.head()"
   ]
  },
  {
   "cell_type": "code",
   "execution_count": 254,
   "id": "0a18f0a7",
   "metadata": {},
   "outputs": [
    {
     "data": {
      "text/html": [
       "<div>\n",
       "<style scoped>\n",
       "    .dataframe tbody tr th:only-of-type {\n",
       "        vertical-align: middle;\n",
       "    }\n",
       "\n",
       "    .dataframe tbody tr th {\n",
       "        vertical-align: top;\n",
       "    }\n",
       "\n",
       "    .dataframe thead th {\n",
       "        text-align: right;\n",
       "    }\n",
       "</style>\n",
       "<table border=\"1\" class=\"dataframe\">\n",
       "  <thead>\n",
       "    <tr style=\"text-align: right;\">\n",
       "      <th></th>\n",
       "      <th>utm_source</th>\n",
       "      <th>purchase_sum</th>\n",
       "    </tr>\n",
       "  </thead>\n",
       "  <tbody>\n",
       "    <tr>\n",
       "      <th>4</th>\n",
       "      <td>referal</td>\n",
       "      <td>530.0</td>\n",
       "    </tr>\n",
       "  </tbody>\n",
       "</table>\n",
       "</div>"
      ],
      "text/plain": [
       "  utm_source  purchase_sum\n",
       "4    referal         530.0"
      ]
     },
     "execution_count": 254,
     "metadata": {},
     "output_type": "execute_result"
    }
   ],
   "source": [
    "customers_df \\\n",
    "    .query('event == \"purchase\"') \\\n",
    "    .groupby(['device_id', 'utm_source'], as_index=False) \\\n",
    "    .agg({'date':'min', 'purchase_sum':'sum'}) \\\n",
    "    .groupby('utm_source', as_index=False) \\\n",
    "    .purchase_sum.median().sort_values('purchase_sum', ascending=False).head(1)"
   ]
  },
  {
   "cell_type": "markdown",
   "id": "84e9fdc8",
   "metadata": {},
   "source": [
    "### Задание 12.\n",
    "\n",
    "Данные по затратам на рекламу:\n",
    "\n",
    "- Яндекс – 10 491 707 руб.\n",
    "\n",
    "- Гугл – 10 534 878 руб.\n",
    "\n",
    "- Фейсбук – 8 590 498 руб.\n",
    "\n",
    "- Инстаграм – 8 561626 руб.\n",
    "\n",
    "- ВК – 9 553 531руб.\n",
    "\n",
    "Какой платный канал привлечения имеет самый высокий ROMI?\n",
    "**ROMI** = (Валовая прибыль − Маркетинговые расходы) / Маркетинговые расходы\n",
    "\n",
    "В ответ впишите один из каналов в таком формате: «Яндекс», «Гугл», «ВК», «Фейсбук», «Инстаграм», «Реферальная программа»."
   ]
  },
  {
   "cell_type": "code",
   "execution_count": 318,
   "id": "017211fb",
   "metadata": {},
   "outputs": [],
   "source": [
    "revenue_df = customers_df.groupby('utm_source', as_index=False) \\\n",
    "    .purchase_sum.sum()"
   ]
  },
  {
   "cell_type": "code",
   "execution_count": 319,
   "id": "2e9be3ae",
   "metadata": {},
   "outputs": [],
   "source": [
    "marketing_cost = {'yandex-direct':10491707, \n",
    "                   'google_ads':10534878, \n",
    "                   'facebook_ads':8590498,\n",
    "                   'instagram_ads':8561626, \n",
    "                   'vk_ads':9553531}"
   ]
  },
  {
   "cell_type": "code",
   "execution_count": 320,
   "id": "7a93c90c",
   "metadata": {},
   "outputs": [],
   "source": [
    "marketing_cost = pd.Series(marketing_cost, name='cost') \\\n",
    "    .to_frame().reset_index().rename(columns={'index':'utm_source'})"
   ]
  },
  {
   "cell_type": "code",
   "execution_count": 321,
   "id": "87856816",
   "metadata": {},
   "outputs": [
    {
     "data": {
      "text/html": [
       "<div>\n",
       "<style scoped>\n",
       "    .dataframe tbody tr th:only-of-type {\n",
       "        vertical-align: middle;\n",
       "    }\n",
       "\n",
       "    .dataframe tbody tr th {\n",
       "        vertical-align: top;\n",
       "    }\n",
       "\n",
       "    .dataframe thead th {\n",
       "        text-align: right;\n",
       "    }\n",
       "</style>\n",
       "<table border=\"1\" class=\"dataframe\">\n",
       "  <thead>\n",
       "    <tr style=\"text-align: right;\">\n",
       "      <th></th>\n",
       "      <th>utm_source</th>\n",
       "      <th>cost</th>\n",
       "    </tr>\n",
       "  </thead>\n",
       "  <tbody>\n",
       "    <tr>\n",
       "      <th>0</th>\n",
       "      <td>yandex-direct</td>\n",
       "      <td>10491707</td>\n",
       "    </tr>\n",
       "    <tr>\n",
       "      <th>1</th>\n",
       "      <td>google_ads</td>\n",
       "      <td>10534878</td>\n",
       "    </tr>\n",
       "    <tr>\n",
       "      <th>2</th>\n",
       "      <td>facebook_ads</td>\n",
       "      <td>8590498</td>\n",
       "    </tr>\n",
       "    <tr>\n",
       "      <th>3</th>\n",
       "      <td>instagram_ads</td>\n",
       "      <td>8561626</td>\n",
       "    </tr>\n",
       "    <tr>\n",
       "      <th>4</th>\n",
       "      <td>vk_ads</td>\n",
       "      <td>9553531</td>\n",
       "    </tr>\n",
       "  </tbody>\n",
       "</table>\n",
       "</div>"
      ],
      "text/plain": [
       "      utm_source      cost\n",
       "0  yandex-direct  10491707\n",
       "1     google_ads  10534878\n",
       "2   facebook_ads   8590498\n",
       "3  instagram_ads   8561626\n",
       "4         vk_ads   9553531"
      ]
     },
     "execution_count": 321,
     "metadata": {},
     "output_type": "execute_result"
    }
   ],
   "source": [
    "marketing_cost"
   ]
  },
  {
   "cell_type": "code",
   "execution_count": 322,
   "id": "bb26a4af",
   "metadata": {},
   "outputs": [],
   "source": [
    "revenue_df = revenue_df.merge(marketing_cost, on='utm_source')"
   ]
  },
  {
   "cell_type": "code",
   "execution_count": 323,
   "id": "2e8e3b5c",
   "metadata": {},
   "outputs": [
    {
     "data": {
      "text/html": [
       "<div>\n",
       "<style scoped>\n",
       "    .dataframe tbody tr th:only-of-type {\n",
       "        vertical-align: middle;\n",
       "    }\n",
       "\n",
       "    .dataframe tbody tr th {\n",
       "        vertical-align: top;\n",
       "    }\n",
       "\n",
       "    .dataframe thead th {\n",
       "        text-align: right;\n",
       "    }\n",
       "</style>\n",
       "<table border=\"1\" class=\"dataframe\">\n",
       "  <thead>\n",
       "    <tr style=\"text-align: right;\">\n",
       "      <th></th>\n",
       "      <th>utm_source</th>\n",
       "      <th>purchase_sum</th>\n",
       "      <th>cost</th>\n",
       "    </tr>\n",
       "  </thead>\n",
       "  <tbody>\n",
       "    <tr>\n",
       "      <th>0</th>\n",
       "      <td>facebook_ads</td>\n",
       "      <td>12249901.0</td>\n",
       "      <td>8590498</td>\n",
       "    </tr>\n",
       "    <tr>\n",
       "      <th>1</th>\n",
       "      <td>google_ads</td>\n",
       "      <td>12868276.0</td>\n",
       "      <td>10534878</td>\n",
       "    </tr>\n",
       "    <tr>\n",
       "      <th>2</th>\n",
       "      <td>instagram_ads</td>\n",
       "      <td>14546969.0</td>\n",
       "      <td>8561626</td>\n",
       "    </tr>\n",
       "    <tr>\n",
       "      <th>3</th>\n",
       "      <td>vk_ads</td>\n",
       "      <td>16389652.5</td>\n",
       "      <td>9553531</td>\n",
       "    </tr>\n",
       "    <tr>\n",
       "      <th>4</th>\n",
       "      <td>yandex-direct</td>\n",
       "      <td>13915368.0</td>\n",
       "      <td>10491707</td>\n",
       "    </tr>\n",
       "  </tbody>\n",
       "</table>\n",
       "</div>"
      ],
      "text/plain": [
       "      utm_source  purchase_sum      cost\n",
       "0   facebook_ads    12249901.0   8590498\n",
       "1     google_ads    12868276.0  10534878\n",
       "2  instagram_ads    14546969.0   8561626\n",
       "3         vk_ads    16389652.5   9553531\n",
       "4  yandex-direct    13915368.0  10491707"
      ]
     },
     "execution_count": 323,
     "metadata": {},
     "output_type": "execute_result"
    }
   ],
   "source": [
    "revenue_df"
   ]
  },
  {
   "cell_type": "code",
   "execution_count": 324,
   "id": "3b7c1bb3",
   "metadata": {},
   "outputs": [],
   "source": [
    "revenue_df['ROMI'] = (revenue_df.purchase_sum - revenue_df.cost)/revenue_df.cost"
   ]
  },
  {
   "cell_type": "code",
   "execution_count": 325,
   "id": "ed546fb7",
   "metadata": {
    "scrolled": true
   },
   "outputs": [
    {
     "data": {
      "text/html": [
       "<div>\n",
       "<style scoped>\n",
       "    .dataframe tbody tr th:only-of-type {\n",
       "        vertical-align: middle;\n",
       "    }\n",
       "\n",
       "    .dataframe tbody tr th {\n",
       "        vertical-align: top;\n",
       "    }\n",
       "\n",
       "    .dataframe thead th {\n",
       "        text-align: right;\n",
       "    }\n",
       "</style>\n",
       "<table border=\"1\" class=\"dataframe\">\n",
       "  <thead>\n",
       "    <tr style=\"text-align: right;\">\n",
       "      <th></th>\n",
       "      <th>utm_source</th>\n",
       "      <th>purchase_sum</th>\n",
       "      <th>cost</th>\n",
       "      <th>ROMI</th>\n",
       "    </tr>\n",
       "  </thead>\n",
       "  <tbody>\n",
       "    <tr>\n",
       "      <th>3</th>\n",
       "      <td>vk_ads</td>\n",
       "      <td>16389652.5</td>\n",
       "      <td>9553531</td>\n",
       "      <td>0.71556</td>\n",
       "    </tr>\n",
       "  </tbody>\n",
       "</table>\n",
       "</div>"
      ],
      "text/plain": [
       "  utm_source  purchase_sum     cost     ROMI\n",
       "3     vk_ads    16389652.5  9553531  0.71556"
      ]
     },
     "execution_count": 325,
     "metadata": {},
     "output_type": "execute_result"
    }
   ],
   "source": [
    "revenue_df.sort_values('ROMI').tail(1)"
   ]
  },
  {
   "cell_type": "code",
   "execution_count": null,
   "id": "0543ca42",
   "metadata": {},
   "outputs": [],
   "source": []
  }
 ],
 "metadata": {
  "kernelspec": {
   "display_name": "Python 3 (ipykernel)",
   "language": "python",
   "name": "python3"
  },
  "language_info": {
   "codemirror_mode": {
    "name": "ipython",
    "version": 3
   },
   "file_extension": ".py",
   "mimetype": "text/x-python",
   "name": "python",
   "nbconvert_exporter": "python",
   "pygments_lexer": "ipython3",
   "version": "3.9.7"
  }
 },
 "nbformat": 4,
 "nbformat_minor": 5
}
