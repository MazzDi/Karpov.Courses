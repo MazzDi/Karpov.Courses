{
 "cells": [
  {
   "cell_type": "code",
   "execution_count": 1,
   "id": "22e75741",
   "metadata": {},
   "outputs": [],
   "source": [
    "import pandas as pd"
   ]
  },
  {
   "cell_type": "code",
   "execution_count": 53,
   "id": "a17f1464",
   "metadata": {},
   "outputs": [],
   "source": [
    "df = pd.read_csv('http://s3.amazonaws.com/alexa-static/top-1m.csv.zip', names=['rank', 'domain'])"
   ]
  },
  {
   "cell_type": "code",
   "execution_count": 3,
   "id": "1ff29299",
   "metadata": {},
   "outputs": [
    {
     "data": {
      "text/html": [
       "<div>\n",
       "<style scoped>\n",
       "    .dataframe tbody tr th:only-of-type {\n",
       "        vertical-align: middle;\n",
       "    }\n",
       "\n",
       "    .dataframe tbody tr th {\n",
       "        vertical-align: top;\n",
       "    }\n",
       "\n",
       "    .dataframe thead th {\n",
       "        text-align: right;\n",
       "    }\n",
       "</style>\n",
       "<table border=\"1\" class=\"dataframe\">\n",
       "  <thead>\n",
       "    <tr style=\"text-align: right;\">\n",
       "      <th></th>\n",
       "      <th>rank</th>\n",
       "      <th>domain</th>\n",
       "    </tr>\n",
       "  </thead>\n",
       "  <tbody>\n",
       "    <tr>\n",
       "      <th>12</th>\n",
       "      <td>13</td>\n",
       "      <td>linkedin.com</td>\n",
       "    </tr>\n",
       "  </tbody>\n",
       "</table>\n",
       "</div>"
      ],
      "text/plain": [
       "    rank        domain\n",
       "12    13  linkedin.com"
      ]
     },
     "execution_count": 3,
     "metadata": {},
     "output_type": "execute_result"
    }
   ],
   "source": [
    "df.query('domain == \"linkedin.com\"')"
   ]
  },
  {
   "cell_type": "code",
   "execution_count": null,
   "id": "7d6d091a",
   "metadata": {},
   "outputs": [],
   "source": [
    "df.query()"
   ]
  },
  {
   "cell_type": "code",
   "execution_count": 55,
   "id": "6db76c69",
   "metadata": {
    "scrolled": true
   },
   "outputs": [
    {
     "data": {
      "text/plain": [
       "14"
      ]
     },
     "execution_count": 55,
     "metadata": {},
     "output_type": "execute_result"
    }
   ],
   "source": [
    "df.domain.str.split('.').str[-1].str.len().max()"
   ]
  },
  {
   "cell_type": "code",
   "execution_count": 59,
   "id": "5e00a2ce",
   "metadata": {},
   "outputs": [],
   "source": [
    "df_domain_name = df.domain.str.split('.').str[-1]\n"
   ]
  },
  {
   "cell_type": "code",
   "execution_count": 61,
   "id": "dc797c24",
   "metadata": {
    "scrolled": true
   },
   "outputs": [
    {
     "data": {
      "text/plain": [
       "658177    xn--54b7fta0cc\n",
       "Name: domain, dtype: object"
      ]
     },
     "execution_count": 61,
     "metadata": {},
     "output_type": "execute_result"
    }
   ],
   "source": [
    "df_domain_name = df.domain.str.split('.').str[-1]\n",
    "df_domain_name.loc[df_domain_name.str.len() >= df.domain.str.split('.').str[-1].str.len().max()].sort_values().head(1)"
   ]
  },
  {
   "cell_type": "code",
   "execution_count": 23,
   "id": "7de369e9",
   "metadata": {},
   "outputs": [
    {
     "data": {
      "text/plain": [
       "14                    [microsoft, com]\n",
       "136276              [s-microsoft, com]\n",
       "299724    [directionsonmicrosoft, com]\n",
       "752124              [onmicrosoft, com]\n",
       "Name: domain, dtype: object"
      ]
     },
     "execution_count": 23,
     "metadata": {},
     "output_type": "execute_result"
    }
   ],
   "source": [
    "df.loc[df.domain.str.endswith('microsoft.com')].domain.str.split('.')"
   ]
  },
  {
   "cell_type": "code",
   "execution_count": 17,
   "id": "8312b776",
   "metadata": {},
   "outputs": [
    {
     "data": {
      "text/plain": [
       "12           [linkedin, com]\n",
       "240571     [oklinkedin, com]\n",
       "677799    [ourlinkedin, com]\n",
       "Name: domain, dtype: object"
      ]
     },
     "execution_count": 17,
     "metadata": {},
     "output_type": "execute_result"
    }
   ],
   "source": [
    "df.loc[df.domain.str.endswith('linkedin.com')].domain.str.split('.')"
   ]
  },
  {
   "cell_type": "code",
   "execution_count": 5,
   "id": "b6d65e8e",
   "metadata": {},
   "outputs": [
    {
     "data": {
      "text/plain": [
       "google.com                1\n",
       "comicsandmemes.com        1\n",
       "comicsonline.to           1\n",
       "comidacocina.com          1\n",
       "comindware.com            1\n",
       "                         ..\n",
       "flemingssteakhouse.com    1\n",
       "flfamily.org              1\n",
       "flipkey.com               1\n",
       "floafers.com              1\n",
       "zughibico.com             1\n",
       "Name: domain, Length: 878991, dtype: int64"
      ]
     },
     "execution_count": 5,
     "metadata": {},
     "output_type": "execute_result"
    }
   ],
   "source": [
    "df.domain.value_counts()"
   ]
  },
  {
   "cell_type": "code",
   "execution_count": 86,
   "id": "b1952052",
   "metadata": {},
   "outputs": [
    {
     "data": {
      "text/html": [
       "<div>\n",
       "<style scoped>\n",
       "    .dataframe tbody tr th:only-of-type {\n",
       "        vertical-align: middle;\n",
       "    }\n",
       "\n",
       "    .dataframe tbody tr th {\n",
       "        vertical-align: top;\n",
       "    }\n",
       "\n",
       "    .dataframe thead th {\n",
       "        text-align: right;\n",
       "    }\n",
       "</style>\n",
       "<table border=\"1\" class=\"dataframe\">\n",
       "  <thead>\n",
       "    <tr style=\"text-align: right;\">\n",
       "      <th></th>\n",
       "      <th>rank</th>\n",
       "      <th>domain</th>\n",
       "      <th>domain_name</th>\n",
       "    </tr>\n",
       "  </thead>\n",
       "  <tbody>\n",
       "    <tr>\n",
       "      <th>0</th>\n",
       "      <td>1</td>\n",
       "      <td>google.com</td>\n",
       "      <td>com</td>\n",
       "    </tr>\n",
       "    <tr>\n",
       "      <th>1</th>\n",
       "      <td>2</td>\n",
       "      <td>youtube.com</td>\n",
       "      <td>com</td>\n",
       "    </tr>\n",
       "    <tr>\n",
       "      <th>2</th>\n",
       "      <td>3</td>\n",
       "      <td>facebook.com</td>\n",
       "      <td>com</td>\n",
       "    </tr>\n",
       "    <tr>\n",
       "      <th>3</th>\n",
       "      <td>4</td>\n",
       "      <td>baidu.com</td>\n",
       "      <td>com</td>\n",
       "    </tr>\n",
       "    <tr>\n",
       "      <th>4</th>\n",
       "      <td>5</td>\n",
       "      <td>bing.com</td>\n",
       "      <td>com</td>\n",
       "    </tr>\n",
       "    <tr>\n",
       "      <th>...</th>\n",
       "      <td>...</td>\n",
       "      <td>...</td>\n",
       "      <td>...</td>\n",
       "    </tr>\n",
       "    <tr>\n",
       "      <th>878986</th>\n",
       "      <td>878987</td>\n",
       "      <td>youth4peace.info</td>\n",
       "      <td>info</td>\n",
       "    </tr>\n",
       "    <tr>\n",
       "      <th>878987</th>\n",
       "      <td>878988</td>\n",
       "      <td>zadnit.net</td>\n",
       "      <td>net</td>\n",
       "    </tr>\n",
       "    <tr>\n",
       "      <th>878988</th>\n",
       "      <td>878989</td>\n",
       "      <td>zahratalkhaleej.ae</td>\n",
       "      <td>ae</td>\n",
       "    </tr>\n",
       "    <tr>\n",
       "      <th>878989</th>\n",
       "      <td>878990</td>\n",
       "      <td>zerovape.store</td>\n",
       "      <td>store</td>\n",
       "    </tr>\n",
       "    <tr>\n",
       "      <th>878990</th>\n",
       "      <td>878991</td>\n",
       "      <td>zughibico.com</td>\n",
       "      <td>com</td>\n",
       "    </tr>\n",
       "  </tbody>\n",
       "</table>\n",
       "<p>878991 rows × 3 columns</p>\n",
       "</div>"
      ],
      "text/plain": [
       "          rank              domain domain_name\n",
       "0            1          google.com         com\n",
       "1            2         youtube.com         com\n",
       "2            3        facebook.com         com\n",
       "3            4           baidu.com         com\n",
       "4            5            bing.com         com\n",
       "...        ...                 ...         ...\n",
       "878986  878987    youth4peace.info        info\n",
       "878987  878988          zadnit.net         net\n",
       "878988  878989  zahratalkhaleej.ae          ae\n",
       "878989  878990      zerovape.store       store\n",
       "878990  878991       zughibico.com         com\n",
       "\n",
       "[878991 rows x 3 columns]"
      ]
     },
     "execution_count": 86,
     "metadata": {},
     "output_type": "execute_result"
    }
   ],
   "source": [
    "df"
   ]
  },
  {
   "cell_type": "code",
   "execution_count": 102,
   "id": "7caca15d",
   "metadata": {},
   "outputs": [
    {
     "data": {
      "text/plain": [
       "626428"
      ]
     },
     "execution_count": 102,
     "metadata": {},
     "output_type": "execute_result"
    }
   ],
   "source": [
    "df.loc[df.domain.str.endswith('airflow.com')].index.to_list()[0]"
   ]
  },
  {
   "cell_type": "code",
   "execution_count": 107,
   "id": "af5c9f9b",
   "metadata": {},
   "outputs": [],
   "source": [
    "top_data_df = 'http://s3.amazonaws.com/alexa-static/top-1m.csv.zip'\n",
    "TOP_1M_DOMAINS_FILE = 'top-1m.csv'"
   ]
  },
  {
   "cell_type": "code",
   "execution_count": 104,
   "id": "8eb1304d",
   "metadata": {},
   "outputs": [],
   "source": [
    "def get_data():\n",
    "    # Здесь пока оставили запись в файл, как передавать переменую между тасками будет в третьем уроке\n",
    "    top_doms = pd.read_csv(TOP_1M_DOMAINS)\n",
    "    top_data = top_doms.to_csv(index=False)\n",
    "    with open(TOP_1M_DOMAINS_FILE, 'w') as f:\n",
    "        f.write(top_data)\n",
    "\n",
    "\n",
    "def get_top_domains():\n",
    "    top_data_df = pd.read_csv(TOP_1M_DOMAINS_FILE, names=['rank', 'domain'])\n",
    "    top_10_domens = df.domain.apply(lambda x: x.split('.')[-1]).value_counts()\n",
    "    top_10_domens = top_10_domens.head(10)\n",
    "    with open('top_10_domens.csv', 'w') as f:\n",
    "        f.write(top_10_domens.to_csv(index=False, header=False))\n",
    "\n",
    "\n",
    "def get_longest_domain():\n",
    "    top_data_df = pd.read_csv(TOP_1M_DOMAINS_FILE, names=['rank', 'domain'])\n",
    "    df_longest_domain = top_data_df.domain.str.split('.').str[-1]\n",
    "    df_longest_domain = df_longest_domain.loc[df_longest_domain.str.len() >= df.domain.str.split('.').str[-1].str.len().max()].sort_values().head(1)\n",
    "    with open('df_longest_domain.csv', 'w') as f:\n",
    "        f.write(df_longest_domain.to_csv(index=False, header=False))\n",
    "        \n",
    "def airflow():\n",
    "    top_data_df = pd.read_csv(TOP_1M_DOMAINS_FILE, names=['rank', 'domain'])\n",
    "    airflow_id = df.loc[df.domain.str.endswith('airflow.com')].index.to_list()[0]\n",
    "    with open('airflow_id.csv', 'w') as f:\n",
    "        f.write(airflow_id.to_csv(index=False, header=False))"
   ]
  },
  {
   "cell_type": "code",
   "execution_count": null,
   "id": "2474decf",
   "metadata": {},
   "outputs": [],
   "source": []
  }
 ],
 "metadata": {
  "kernelspec": {
   "display_name": "Python 3 (ipykernel)",
   "language": "python",
   "name": "python3"
  },
  "language_info": {
   "codemirror_mode": {
    "name": "ipython",
    "version": 3
   },
   "file_extension": ".py",
   "mimetype": "text/x-python",
   "name": "python",
   "nbconvert_exporter": "python",
   "pygments_lexer": "ipython3",
   "version": "3.9.7"
  }
 },
 "nbformat": 4,
 "nbformat_minor": 5
}
